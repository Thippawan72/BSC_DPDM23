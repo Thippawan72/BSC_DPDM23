{
  "nbformat": 4,
  "nbformat_minor": 0,
  "metadata": {
    "colab": {
      "provenance": [],
      "authorship_tag": "ABX9TyNzEGYAou8YNxQzd6DNpTC0",
      "include_colab_link": true
    },
    "kernelspec": {
      "name": "python3",
      "display_name": "Python 3"
    },
    "language_info": {
      "name": "python"
    }
  },
  "cells": [
    {
      "cell_type": "markdown",
      "metadata": {
        "id": "view-in-github",
        "colab_type": "text"
      },
      "source": [
        "<a href=\"https://colab.research.google.com/github/Thippawan72/BSC_DPDM23/blob/main/Quiz%208%20.ipynb\" target=\"_parent\"><img src=\"https://colab.research.google.com/assets/colab-badge.svg\" alt=\"Open In Colab\"/></a>"
      ]
    },
    {
      "cell_type": "markdown",
      "source": [
        "#ส่ง Quiz 8\n",
        "https://drive.google.com/file/d/1cITd48s7ikIrqAOEZvgJpVK_aRkUkvsK/view?usp=sharing"
      ],
      "metadata": {
        "id": "b2CaO6WTsAqO"
      }
    },
    {
      "cell_type": "code",
      "source": [],
      "metadata": {
        "id": "ZMb3ZeOwsHZ3"
      },
      "execution_count": null,
      "outputs": []
    }
  ]
}