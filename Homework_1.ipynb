{
  "nbformat": 4,
  "nbformat_minor": 0,
  "metadata": {
    "colab": {
      "provenance": [],
      "authorship_tag": "ABX9TyOdwHrglXYPFSsUC8hfC5A8",
      "include_colab_link": true
    },
    "kernelspec": {
      "name": "python3",
      "display_name": "Python 3"
    },
    "language_info": {
      "name": "python"
    }
  },
  "cells": [
    {
      "cell_type": "markdown",
      "metadata": {
        "id": "view-in-github",
        "colab_type": "text"
      },
      "source": [
        "<a href=\"https://colab.research.google.com/github/Thippawan72/BSC_DPDM23/blob/main/Homework_1.ipynb\" target=\"_parent\"><img src=\"https://colab.research.google.com/assets/colab-badge.svg\" alt=\"Open In Colab\"/></a>"
      ]
    },
    {
      "cell_type": "markdown",
      "source": [
        "# HW 1  หา Frequent Item Set และ Association Rules\n",
        "\n",
        "* ของช่วงเวลา Christmas & New Year  (1 Dec - 31 Dec)\n",
        "* ของประเทศในทวีป Europe\n",
        "* ของช่วงเวลา ตรุษจีน ในทวีป Asia  (15 Jan - 15 Feb)\n",
        "* ของช่วงเวลา Christmas & New Year ในทวีป Europe  (1 Dec - 31 Dec)\n",
        "* ของวันวาเลนไทน์\n",
        "* โดยจัดกลุ่มตามประเทศ+เดือน"
      ],
      "metadata": {
        "id": "_OPrT89TceQ-"
      }
    },
    {
      "cell_type": "markdown",
      "metadata": {
        "id": "TqkZl7tUsgUT"
      },
      "source": [
        "## Association Rules"
      ]
    },
    {
      "cell_type": "code",
      "source": [
        "from mlxtend.frequent_patterns import association_rules"
      ],
      "metadata": {
        "id": "9j73m2TYlBzG"
      },
      "execution_count": 1,
      "outputs": []
    },
    {
      "cell_type": "code",
      "metadata": {
        "id": "kxLayaaAtkh8",
        "outputId": "c2e80648-b6d7-4e9c-d17e-113947e32b31",
        "colab": {
          "base_uri": "https://localhost:8080/"
        }
      },
      "source": [
        "!pip install apyori"
      ],
      "execution_count": 2,
      "outputs": [
        {
          "output_type": "stream",
          "name": "stderr",
          "text": [
            "/usr/local/lib/python3.10/dist-packages/ipykernel/ipkernel.py:283: DeprecationWarning: `should_run_async` will not call `transform_cell` automatically in the future. Please pass the result to `transformed_cell` argument and any exception that happen during thetransform in `preprocessing_exc_tuple` in IPython 7.17 and above.\n",
            "  and should_run_async(code)\n"
          ]
        },
        {
          "output_type": "stream",
          "name": "stdout",
          "text": [
            "Collecting apyori\n",
            "  Downloading apyori-1.1.2.tar.gz (8.6 kB)\n",
            "  Preparing metadata (setup.py) ... \u001b[?25l\u001b[?25hdone\n",
            "Building wheels for collected packages: apyori\n",
            "  Building wheel for apyori (setup.py) ... \u001b[?25l\u001b[?25hdone\n",
            "  Created wheel for apyori: filename=apyori-1.1.2-py3-none-any.whl size=5954 sha256=412adb3cbc8fb5e02866e1d4aa75842a5e5b087bde52ab8600c1bbab0137892f\n",
            "  Stored in directory: /root/.cache/pip/wheels/c4/1a/79/20f55c470a50bb3702a8cb7c94d8ada15573538c7f4baebe2d\n",
            "Successfully built apyori\n",
            "Installing collected packages: apyori\n",
            "Successfully installed apyori-1.1.2\n"
          ]
        }
      ]
    },
    {
      "cell_type": "code",
      "metadata": {
        "id": "MU_DkGZ2sKw_",
        "outputId": "c0916908-88ea-4fd4-cd7c-74e111270e05",
        "colab": {
          "base_uri": "https://localhost:8080/"
        }
      },
      "source": [
        "from apyori import apriori"
      ],
      "execution_count": 3,
      "outputs": [
        {
          "output_type": "stream",
          "name": "stderr",
          "text": [
            "/usr/local/lib/python3.10/dist-packages/ipykernel/ipkernel.py:283: DeprecationWarning: `should_run_async` will not call `transform_cell` automatically in the future. Please pass the result to `transformed_cell` argument and any exception that happen during thetransform in `preprocessing_exc_tuple` in IPython 7.17 and above.\n",
            "  and should_run_async(code)\n"
          ]
        }
      ]
    },
    {
      "cell_type": "code",
      "metadata": {
        "id": "Uwysx9eLtg7H",
        "outputId": "cdb6f6cf-2217-4e37-b6ba-87c5972f266c",
        "colab": {
          "base_uri": "https://localhost:8080/",
          "height": 318
        }
      },
      "source": [
        "!pip install apyori\n",
        "from apyori import apriori\n",
        "transactions = data.groupby('InvoiceNo')['StockCode'].apply(list)\n",
        "frequentItemsets = list(apriori(transactions,min_support = 0.065))\n",
        "frequentItemsets"
      ],
      "execution_count": 4,
      "outputs": [
        {
          "output_type": "stream",
          "name": "stderr",
          "text": [
            "/usr/local/lib/python3.10/dist-packages/ipykernel/ipkernel.py:283: DeprecationWarning: `should_run_async` will not call `transform_cell` automatically in the future. Please pass the result to `transformed_cell` argument and any exception that happen during thetransform in `preprocessing_exc_tuple` in IPython 7.17 and above.\n",
            "  and should_run_async(code)\n"
          ]
        },
        {
          "output_type": "stream",
          "name": "stdout",
          "text": [
            "Requirement already satisfied: apyori in /usr/local/lib/python3.10/dist-packages (1.1.2)\n"
          ]
        },
        {
          "output_type": "error",
          "ename": "NameError",
          "evalue": "name 'data' is not defined",
          "traceback": [
            "\u001b[0;31m---------------------------------------------------------------------------\u001b[0m",
            "\u001b[0;31mNameError\u001b[0m                                 Traceback (most recent call last)",
            "\u001b[0;32m<ipython-input-4-7f86d233df51>\u001b[0m in \u001b[0;36m<cell line: 3>\u001b[0;34m()\u001b[0m\n\u001b[1;32m      1\u001b[0m \u001b[0mget_ipython\u001b[0m\u001b[0;34m(\u001b[0m\u001b[0;34m)\u001b[0m\u001b[0;34m.\u001b[0m\u001b[0msystem\u001b[0m\u001b[0;34m(\u001b[0m\u001b[0;34m'pip install apyori'\u001b[0m\u001b[0;34m)\u001b[0m\u001b[0;34m\u001b[0m\u001b[0;34m\u001b[0m\u001b[0m\n\u001b[1;32m      2\u001b[0m \u001b[0;32mfrom\u001b[0m \u001b[0mapyori\u001b[0m \u001b[0;32mimport\u001b[0m \u001b[0mapriori\u001b[0m\u001b[0;34m\u001b[0m\u001b[0;34m\u001b[0m\u001b[0m\n\u001b[0;32m----> 3\u001b[0;31m \u001b[0mtransactions\u001b[0m \u001b[0;34m=\u001b[0m \u001b[0mdata\u001b[0m\u001b[0;34m.\u001b[0m\u001b[0mgroupby\u001b[0m\u001b[0;34m(\u001b[0m\u001b[0;34m'InvoiceNo'\u001b[0m\u001b[0;34m)\u001b[0m\u001b[0;34m[\u001b[0m\u001b[0;34m'StockCode'\u001b[0m\u001b[0;34m]\u001b[0m\u001b[0;34m.\u001b[0m\u001b[0mapply\u001b[0m\u001b[0;34m(\u001b[0m\u001b[0mlist\u001b[0m\u001b[0;34m)\u001b[0m\u001b[0;34m\u001b[0m\u001b[0;34m\u001b[0m\u001b[0m\n\u001b[0m\u001b[1;32m      4\u001b[0m \u001b[0mfrequentItemsets\u001b[0m \u001b[0;34m=\u001b[0m \u001b[0mlist\u001b[0m\u001b[0;34m(\u001b[0m\u001b[0mapriori\u001b[0m\u001b[0;34m(\u001b[0m\u001b[0mtransactions\u001b[0m\u001b[0;34m,\u001b[0m\u001b[0mmin_support\u001b[0m \u001b[0;34m=\u001b[0m \u001b[0;36m0.065\u001b[0m\u001b[0;34m)\u001b[0m\u001b[0;34m)\u001b[0m\u001b[0;34m\u001b[0m\u001b[0;34m\u001b[0m\u001b[0m\n\u001b[1;32m      5\u001b[0m \u001b[0mfrequentItemsets\u001b[0m\u001b[0;34m\u001b[0m\u001b[0;34m\u001b[0m\u001b[0m\n",
            "\u001b[0;31mNameError\u001b[0m: name 'data' is not defined"
          ]
        }
      ]
    },
    {
      "cell_type": "markdown",
      "source": [
        "เอาข้อมูลลง"
      ],
      "metadata": {
        "id": "ifwPj7O5aqBg"
      }
    },
    {
      "cell_type": "code",
      "metadata": {
        "id": "KZmRixV_o0Jw"
      },
      "source": [
        "import pandas as pd\n",
        "import os"
      ],
      "execution_count": null,
      "outputs": []
    },
    {
      "cell_type": "code",
      "metadata": {
        "id": "BZaeBFmzp6zA"
      },
      "source": [
        "from google.colab import drive\n",
        "drive.mount('/content/drive')\n",
        "path = '/content/drive/MyDrive/BSC-dpdm23_flie'"
      ],
      "execution_count": null,
      "outputs": []
    },
    {
      "cell_type": "code",
      "metadata": {
        "id": "ikJazGz6qAn7"
      },
      "source": [
        "data = pd.read_csv(os.path.join(path,'/content/drive/MyDrive/BSC_DPDM23_Data/reduced_marketbasket.csv'),encoding='latin-1')"
      ],
      "execution_count": null,
      "outputs": []
    },
    {
      "cell_type": "code",
      "source": [
        "data"
      ],
      "metadata": {
        "id": "cFzs1A5LBwcA"
      },
      "execution_count": null,
      "outputs": []
    },
    {
      "cell_type": "code",
      "source": [
        "data.head()"
      ],
      "metadata": {
        "id": "qFLtbT9MIIEa"
      },
      "execution_count": null,
      "outputs": []
    },
    {
      "cell_type": "code",
      "source": [
        "type(data['Description'][0])"
      ],
      "metadata": {
        "id": "F_1hDXBp829y"
      },
      "execution_count": null,
      "outputs": []
    },
    {
      "cell_type": "markdown",
      "source": [
        "##การเตรียมข้อมูล"
      ],
      "metadata": {
        "id": "FZUGl3rlf7r6"
      }
    },
    {
      "cell_type": "markdown",
      "source": [
        "###เเยกวันเดือนปีออกจากเวลา\n",
        "เเยกวันเดือนปี\n",
        "ออกจากเวลา ในคอลัมน์ InvoiceDate ด้วย split"
      ],
      "metadata": {
        "id": "aH9OGSFnK85h"
      }
    },
    {
      "cell_type": "code",
      "source": [
        "data['InvoiceDate'][0].split()[0]"
      ],
      "metadata": {
        "id": "7i_uDjsyipdD"
      },
      "execution_count": null,
      "outputs": []
    },
    {
      "cell_type": "code",
      "source": [
        "date =[]\n",
        "for i in range(len(data['InvoiceDate'])):\n",
        "  x = data['InvoiceDate'][i].split()[0]\n",
        "  date.append(x)\n",
        "#set(L)"
      ],
      "metadata": {
        "id": "vTqWjasxftc3"
      },
      "execution_count": null,
      "outputs": []
    },
    {
      "cell_type": "code",
      "source": [
        "date[0].split('/')"
      ],
      "metadata": {
        "id": "XCsoxDOxI4qC"
      },
      "execution_count": null,
      "outputs": []
    },
    {
      "cell_type": "markdown",
      "source": [
        "ปรับ 'date' เป็นสตริงที่มีรูปแบบ 'dd/mm/yyyy' (วัน/เดือน/ปี)"
      ],
      "metadata": {
        "id": "BAljDOrnbro9"
      }
    },
    {
      "cell_type": "code",
      "source": [
        "day =[]\n",
        "month =[]\n",
        "year =[]\n",
        "for i in range(len(data['InvoiceDate'])):\n",
        "  x = date[i].split('/')[0]\n",
        "  y = date[i].split('/')[1]\n",
        "  z = date[i].split('/')[2]\n",
        "  month.append(x)\n",
        "  day.append(y)\n",
        "  year.append(z)"
      ],
      "metadata": {
        "id": "nxketEqGJSDo"
      },
      "execution_count": null,
      "outputs": []
    },
    {
      "cell_type": "markdown",
      "source": [
        "สร้าง DataFrame ใหม่ ตามข้อมูลที่มีอยู่เเละเพิ่มคอลัมน์ใหม่ ('date', 'day', 'month', 'year')"
      ],
      "metadata": {
        "id": "P4TWn1qLcEGn"
      }
    },
    {
      "cell_type": "code",
      "source": [
        "data_test_nonclane=data.copy()"
      ],
      "metadata": {
        "id": "Mbgng50nF_dX"
      },
      "execution_count": null,
      "outputs": []
    },
    {
      "cell_type": "code",
      "source": [
        "data_test_nonclane['date']=date\n",
        "data_test_nonclane['day']=day\n",
        "data_test_nonclane['month']=month\n",
        "data_test_nonclane['year']=year"
      ],
      "metadata": {
        "id": "Yd3uW_A9KJe0"
      },
      "execution_count": null,
      "outputs": []
    },
    {
      "cell_type": "markdown",
      "source": [
        "แปลงค่าวันเเละเดือนที่แสดงเป็นสตริงเป็นค่าตัวเลข ด้วย replace"
      ],
      "metadata": {
        "id": "Gjk4rQvlcQlg"
      }
    },
    {
      "cell_type": "code",
      "source": [
        "set(data_test_nonclane['day'])"
      ],
      "metadata": {
        "id": "pGlaTNAOK5S5"
      },
      "execution_count": null,
      "outputs": []
    },
    {
      "cell_type": "markdown",
      "source": [
        "###เเปลงให้ค่าเดือนอยู่ในหน่วยเดียวกัน"
      ],
      "metadata": {
        "id": "uN17CpsjM9CH"
      }
    },
    {
      "cell_type": "code",
      "source": [
        "data_test_nonclane[(data_test_nonclane['month']=='01')|(data_test_nonclane['month']=='02')|(data_test_nonclane['month']=='03')|(data_test_nonclane['month']=='04')|(data_test_nonclane['month']=='05')|(data_test_nonclane['month']=='06')|\n",
        "                   (data_test_nonclane['month']=='07')|(data_test_nonclane['month']=='08')|(data_test_nonclane['month']=='09')]"
      ],
      "metadata": {
        "id": "2eaFZ6MDFFlW"
      },
      "execution_count": null,
      "outputs": []
    },
    {
      "cell_type": "markdown",
      "source": [
        "แปลงเดือน"
      ],
      "metadata": {
        "id": "CwueIP2ZObpU"
      }
    },
    {
      "cell_type": "code",
      "source": [
        "data_test=data_test_nonclane.replace(to_replace=[\"1\", \"2\",'3','4','5','6','7','8','9','10','11','12','01','02','03','04','05','06','07','08','09'],value=[1, 2,3,4,5,6,7,8,9,10,11,12,1,2,3,4,5,6,7,8,9])"
      ],
      "metadata": {
        "id": "JUaoU6HGJbqt"
      },
      "execution_count": null,
      "outputs": []
    },
    {
      "cell_type": "code",
      "source": [
        "set(data_test['day'])"
      ],
      "metadata": {
        "id": "ZSeqURy_Lzhm"
      },
      "execution_count": null,
      "outputs": []
    },
    {
      "cell_type": "markdown",
      "source": [
        "แปลงวัน"
      ],
      "metadata": {
        "id": "-hJksZmKOe96"
      }
    },
    {
      "cell_type": "code",
      "source": [
        "x=[]\n",
        "for i in range(1,32):\n",
        "  x.append(i)\n",
        "print(x)"
      ],
      "metadata": {
        "id": "vMeCcNsSO-sR"
      },
      "execution_count": null,
      "outputs": []
    },
    {
      "cell_type": "code",
      "source": [
        "data_test1=data_test_nonclane.replace(['01', '02', '03', '04', '05', '06', '07', '08', '09', '10','11',\n",
        "                                      '12', '13', '14', '15', '16', '17', '18', '19', '20', '21', '22', '23', '24', '25', '26', '27', '28', '29', '30', '31'],x)"
      ],
      "metadata": {
        "id": "Bowq0bfeOefk"
      },
      "execution_count": null,
      "outputs": []
    },
    {
      "cell_type": "code",
      "source": [
        "set(data_test1['month'])"
      ],
      "metadata": {
        "id": "xdDt-xSMRNiW"
      },
      "execution_count": null,
      "outputs": []
    },
    {
      "cell_type": "code",
      "source": [
        "data_test=data_test1.replace(to_replace=[\"1\", \"2\",'3','4','5','6','7','8','9'],value=[1,2,3,4,5,6,7,8,9])"
      ],
      "metadata": {
        "id": "sjT90fyzGgnN"
      },
      "execution_count": null,
      "outputs": []
    },
    {
      "cell_type": "code",
      "source": [
        "data_test.isnull().any()"
      ],
      "metadata": {
        "id": "xBvYv1GPcG0X"
      },
      "execution_count": null,
      "outputs": []
    },
    {
      "cell_type": "code",
      "source": [
        "data_test.to_csv('how.csv')"
      ],
      "metadata": {
        "id": "lKhGjqsMHaZ1"
      },
      "execution_count": null,
      "outputs": []
    },
    {
      "cell_type": "code",
      "source": [
        "data_test"
      ],
      "metadata": {
        "id": "67kFKel2sXRj"
      },
      "execution_count": null,
      "outputs": []
    },
    {
      "cell_type": "markdown",
      "source": [
        "##1.ของช่วงเวลา Christmas & New Year (1 Dec - 31 Dec)"
      ],
      "metadata": {
        "id": "8DLTBpJoflFY"
      }
    },
    {
      "cell_type": "code",
      "source": [
        "data_C_and_N = data_test[data_test['month']==12]"
      ],
      "metadata": {
        "id": "rsgavFoPnPye"
      },
      "execution_count": null,
      "outputs": []
    },
    {
      "cell_type": "code",
      "source": [
        "#!pip install apyori\n",
        "#from apyori import apriori"
      ],
      "metadata": {
        "id": "L-9Rg2IhnPyf"
      },
      "execution_count": null,
      "outputs": []
    },
    {
      "cell_type": "code",
      "source": [
        "transactionsC_and_N = data_C_and_N.groupby('InvoiceNo')['StockCode'].apply(list)"
      ],
      "metadata": {
        "id": "RxG7hqdrnPyf"
      },
      "execution_count": null,
      "outputs": []
    },
    {
      "cell_type": "code",
      "source": [
        "frequentItemsets = list(apriori(transactionsC_and_N,min_support = 0.05))\n",
        "#frequentItemsets"
      ],
      "metadata": {
        "id": "xxD-F6fynPyg"
      },
      "execution_count": null,
      "outputs": []
    },
    {
      "cell_type": "code",
      "source": [
        "min_sup = 0.04\n",
        "\n",
        "frequentItemsetsC_and_N = list(apriori(transactionsC_and_N,min_support = min_sup))\n",
        "for i in frequentItemsetsC_and_N:\n",
        "    if i[0].__len__()>1:\n",
        "        print('yes')\n",
        "        print(i)"
      ],
      "metadata": {
        "id": "rVf1WKWInPyg"
      },
      "execution_count": null,
      "outputs": []
    },
    {
      "cell_type": "code",
      "source": [
        "transactionsC_and_N = data_C_and_N.groupby(['Country', 'month'])['StockCode'].apply(list)"
      ],
      "metadata": {
        "id": "8GLQP0qvnPyg"
      },
      "execution_count": null,
      "outputs": []
    },
    {
      "cell_type": "code",
      "source": [
        "min_sup =0.3\n",
        "frequentItemsetsC_and_N = list(apriori(transactionsC_and_N,min_support = min_sup))\n",
        "for i in frequentItemsetsC_and_N:\n",
        "    if i[0].__len__()>1:\n",
        "        print('yes')\n",
        "        print(i)"
      ],
      "metadata": {
        "id": "_1elDmq1nPyh"
      },
      "execution_count": null,
      "outputs": []
    },
    {
      "cell_type": "markdown",
      "source": [
        "สรุปได้ดังนั้น\n",
        "* RelationRecord(items=frozenset({'22910', '22086'}), support=0.047697368421052634)\n",
        "  * ordered_statistics=OrderedStatistic(items_base=frozenset(), items_add=frozenset({'22910', '22086'}), confidence=0.047697368421052634, lift=1.0)\n",
        "  * OrderedStatistic(items_base=frozenset({'22086'}), items_add=frozenset({'22910'}), confidence=0.5160142348754448, lift=7.195794834960331)\n",
        "  * OrderedStatistic(items_base=frozenset({'22910'}), items_add=frozenset({'22086'}), confidence=0.6651376146788991, lift=7.195794834960332)\n"
      ],
      "metadata": {
        "id": "itsuqCiNnPyh"
      }
    },
    {
      "cell_type": "code",
      "source": [
        "def finditime(x,y) :\n",
        "  L=set(data[(data['StockCode']==x)|(data['StockCode']==y)]['Description'])\n",
        "  return L"
      ],
      "metadata": {
        "id": "LlAyTz9HnPyh"
      },
      "execution_count": null,
      "outputs": []
    },
    {
      "cell_type": "code",
      "source": [
        "finditime('22910','22086')"
      ],
      "metadata": {
        "id": "GNghY9GDnPyh"
      },
      "execution_count": null,
      "outputs": []
    },
    {
      "cell_type": "markdown",
      "source": [
        "##2.ของประเทศในทวีป Europe"
      ],
      "metadata": {
        "id": "_L5BnOPonPyi"
      }
    },
    {
      "cell_type": "markdown",
      "source": [
        "###เเบ่งทวีป"
      ],
      "metadata": {
        "id": "9P2EbyFKgb3b"
      }
    },
    {
      "cell_type": "code",
      "source": [
        "set(data['Country'])"
      ],
      "metadata": {
        "id": "ayV7qUWxgbV_"
      },
      "execution_count": null,
      "outputs": []
    },
    {
      "cell_type": "markdown",
      "source": [
        "ทวีปยุโรป"
      ],
      "metadata": {
        "id": "h5Ur-uKr-A4q"
      }
    },
    {
      "cell_type": "code",
      "source": [
        "UP_country = ['Austria','Belgium','Cyprus','Czech Republic','Denmark','EIRE','European Community',\n",
        "              'Finland','France','Germany','Greece','Iceland','Italy','Lithuania','Malta','Netherlands',\n",
        "              'Norway','Poland','Portugal','Spain','Sweden','United Kingdom']"
      ],
      "metadata": {
        "id": "rxJwKb_Kg2mh"
      },
      "execution_count": null,
      "outputs": []
    },
    {
      "cell_type": "markdown",
      "source": [
        "ทวีปเอเชีย"
      ],
      "metadata": {
        "id": "F1xKBgnq-DRf"
      }
    },
    {
      "cell_type": "code",
      "source": [
        "Asia_country = ['Hong Kong','Bahrain','Israel','Japan','Lebanon','Saudi Arabia','Singapore','United Arab Emirates']"
      ],
      "metadata": {
        "id": "KosvtUcKjdh0"
      },
      "execution_count": null,
      "outputs": []
    },
    {
      "cell_type": "code",
      "source": [
        "#a0=data_test[data_test['Country']==UP_country[0]]"
      ],
      "metadata": {
        "id": "nAyF-ZJS3ov5"
      },
      "execution_count": null,
      "outputs": []
    },
    {
      "cell_type": "markdown",
      "source": [
        "### หาข้อมูลทวีปยุโรป"
      ],
      "metadata": {
        "id": "bivX4_gy-Hak"
      }
    },
    {
      "cell_type": "code",
      "source": [
        "EU_data = data_test[data_test['Country']==\"\"]\n",
        "for i in range(len(UP_country)):\n",
        "  x = data_test[data_test['Country']==UP_country[i]]\n",
        "  EU_data=pd.concat([x,EU_data])"
      ],
      "metadata": {
        "id": "7icK_k_F7-EQ"
      },
      "execution_count": null,
      "outputs": []
    },
    {
      "cell_type": "code",
      "source": [
        "len(set(EU_data['Country']))"
      ],
      "metadata": {
        "id": "dUPIltGW9Wcc"
      },
      "execution_count": null,
      "outputs": []
    },
    {
      "cell_type": "markdown",
      "source": [
        "###หาข้อ 2"
      ],
      "metadata": {
        "id": "471qJ0i8-e-u"
      }
    },
    {
      "cell_type": "code",
      "source": [
        "transactionsEU = EU_data.groupby('InvoiceNo')['StockCode'].apply(list)"
      ],
      "metadata": {
        "id": "Zsg4RZcT99Mi"
      },
      "execution_count": null,
      "outputs": []
    },
    {
      "cell_type": "code",
      "source": [
        "frequentItemsets = list(apriori(transactionsEU,min_support = 0.05))\n",
        "#frequentItemsets"
      ],
      "metadata": {
        "id": "WsB_t-Iq-qRV"
      },
      "execution_count": null,
      "outputs": []
    },
    {
      "cell_type": "code",
      "source": [
        "min_sup = 0.03\n",
        "\n",
        "frequentItemsetsEU= list(apriori(transactionsEU,min_support = min_sup))\n",
        "for i in frequentItemsetsEU:\n",
        "    if i[0].__len__()>1:\n",
        "        print('yes')\n",
        "        print(i)"
      ],
      "metadata": {
        "id": "T0T18_Od-q5X"
      },
      "execution_count": null,
      "outputs": []
    },
    {
      "cell_type": "code",
      "source": [
        "finditime('22386','85099B')"
      ],
      "metadata": {
        "id": "4xvmC0WC_cd0"
      },
      "execution_count": null,
      "outputs": []
    },
    {
      "cell_type": "markdown",
      "source": [
        "##3.ของช่วงเวลา ตรุษจีน ในทวีป Asia (15 jan - 15 Feb)"
      ],
      "metadata": {
        "id": "D9dppuvf_VPX"
      }
    },
    {
      "cell_type": "markdown",
      "source": [
        "###เเยกทวีปเอเชีย"
      ],
      "metadata": {
        "id": "YZ1QlETC_fFd"
      }
    },
    {
      "cell_type": "code",
      "source": [
        "Asia_data = data_test[data_test['Country']==\"\"]\n",
        "for i in range(len(Asia_country)):\n",
        "  x = data_test[data_test['Country']==Asia_country[i]]\n",
        "  Asia_data=pd.concat([x,Asia_data])"
      ],
      "metadata": {
        "id": "nIfuCeum_emY"
      },
      "execution_count": null,
      "outputs": []
    },
    {
      "cell_type": "code",
      "source": [
        "len(set(Asia_data['Country']))"
      ],
      "metadata": {
        "id": "rjxTuk77_zVn"
      },
      "execution_count": null,
      "outputs": []
    },
    {
      "cell_type": "markdown",
      "source": [
        "###หาข้อมูลช่วงตรุษจีน"
      ],
      "metadata": {
        "id": "RGwYopR1ED55"
      }
    },
    {
      "cell_type": "code",
      "source": [
        "M1_Asia_data=Asia_data[(Asia_data['month']==1)]"
      ],
      "metadata": {
        "id": "2b47eJC1EJg6"
      },
      "execution_count": null,
      "outputs": []
    },
    {
      "cell_type": "code",
      "source": [
        "D1_Asia_data=M1_Asia_data[(M1_Asia_data['day']>=15)]"
      ],
      "metadata": {
        "id": "_CVrHq7OSpvS"
      },
      "execution_count": null,
      "outputs": []
    },
    {
      "cell_type": "code",
      "source": [
        "#D1_Asia_data"
      ],
      "metadata": {
        "id": "Kbkmd01ZTM9I"
      },
      "execution_count": null,
      "outputs": []
    },
    {
      "cell_type": "code",
      "source": [
        "M2_Asia_data=Asia_data[(Asia_data['month']==2)]"
      ],
      "metadata": {
        "id": "rw45TRvBTH2t"
      },
      "execution_count": null,
      "outputs": []
    },
    {
      "cell_type": "code",
      "source": [
        "#M2_Asia_data"
      ],
      "metadata": {
        "id": "yVO3DEF8KIbP"
      },
      "execution_count": null,
      "outputs": []
    },
    {
      "cell_type": "code",
      "source": [
        "D2_Asia_data=M2_Asia_data[(M2_Asia_data['day']<=15)]"
      ],
      "metadata": {
        "id": "8RJu9aYsTO1o"
      },
      "execution_count": null,
      "outputs": []
    },
    {
      "cell_type": "code",
      "source": [
        "D2_Asia_data"
      ],
      "metadata": {
        "id": "yNlddJyPTb7f"
      },
      "execution_count": null,
      "outputs": []
    },
    {
      "cell_type": "markdown",
      "source": [
        "###เอาสองตารางรวมกัน"
      ],
      "metadata": {
        "id": "_XeP8mfJTfsI"
      }
    },
    {
      "cell_type": "code",
      "source": [
        "use_Asia_data=pd.concat([D1_Asia_data,D2_Asia_data])"
      ],
      "metadata": {
        "id": "IyZoiencTiha"
      },
      "execution_count": null,
      "outputs": []
    },
    {
      "cell_type": "code",
      "source": [
        "use_Asia_data"
      ],
      "metadata": {
        "id": "-3pM1qLPK9ww"
      },
      "execution_count": null,
      "outputs": []
    },
    {
      "cell_type": "markdown",
      "source": [
        "###หาข้อ 3"
      ],
      "metadata": {
        "id": "tC2p-rEN_6e6"
      }
    },
    {
      "cell_type": "code",
      "source": [
        "transactionsAsia = use_Asia_data.groupby('InvoiceNo')['StockCode'].apply(list)"
      ],
      "metadata": {
        "id": "ciNhEpECABfi"
      },
      "execution_count": null,
      "outputs": []
    },
    {
      "cell_type": "code",
      "source": [
        "transactionsAsia"
      ],
      "metadata": {
        "id": "n2mOUqoOd_zu"
      },
      "execution_count": null,
      "outputs": []
    },
    {
      "cell_type": "code",
      "source": [
        "min_sup = 0.33\n",
        "frequentItemsets_A= list(apriori(transactionsAsia,min_support = min_sup))\n",
        "for i in frequentItemsets_A:\n",
        "    if i[0].__len__()>3:\n",
        "        print('yes')\n",
        "        print(i)"
      ],
      "metadata": {
        "id": "djrkea28dwU_"
      },
      "execution_count": null,
      "outputs": []
    },
    {
      "cell_type": "markdown",
      "source": [
        "1.yes\n",
        "RelationRecord(items=frozenset({'22202', '22203', '22551', '20682'}), support=0.3333333333333333, ordered_statistics=[OrderedStatistic(items_base=frozenset(), items_add=frozenset({'22202', '22203', '22551', '20682'}), confidence=0.3333333333333333, lift=1.0), OrderedStatistic(items_base=frozenset({'20682'}), items_add=frozenset({'22202', '22203', '22551'}), confidence=1.0, lift=3.0), OrderedStatistic(items_base=frozenset({'22202'}), items_add=frozenset({'22203', '22551', '20682'}), confidence=1.0, lift=3.0), OrderedStatistic(items_base=frozenset({'22203'}), items_add=frozenset({'22202', '22551', '20682'}), confidence=1.0, lift=3.0), OrderedStatistic(items_base=frozenset({'22551'}), items_add=frozenset({'22202', '22203', '20682'}), confidence=1.0, lift=3.0), OrderedStatistic(items_base=frozenset({'22202', '20682'}), items_add=frozenset({'22203', '22551'}), confidence=1.0, lift=3.0), OrderedStatistic(items_base=frozenset({'22203', '20682'}), items_add=frozenset({'22202', '22551'}), confidence=1.0, lift=3.0), OrderedStatistic(items_base=frozenset({'22551', '20682'}), items_add=frozenset({'22202', '22203'}), confidence=1.0, lift=3.0), OrderedStatistic(items_base=frozenset({'22202', '22203'}), items_add=frozenset({'22551', '20682'}), confidence=1.0, lift=3.0), OrderedStatistic(items_base=frozenset({'22202', '22551'}), items_add=frozenset({'22203', '20682'}), confidence=1.0, lift=3.0), OrderedStatistic(items_base=frozenset({'22203', '22551'}), items_add=frozenset({'22202', '20682'}), confidence=1.0, lift=3.0), OrderedStatistic(items_base=frozenset({'22202', '22203', '20682'}), items_add=frozenset({'22551'}), confidence=1.0, lift=3.0), OrderedStatistic(items_base=frozenset({'22202', '22551', '20682'}), items_add=frozenset({'22203'}), confidence=1.0, lift=3.0), OrderedStatistic(items_base=frozenset({'22203', '22551', '20682'}), items_add=frozenset({'22202'}), confidence=1.0, lift=3.0), OrderedStatistic(items_base=frozenset({'22202', '22203', '22551'}), items_add=frozenset({'20682'}), confidence=1.0, lift=3.0)])\n",
        "\n",
        "\n",
        "2.yes\n",
        "RelationRecord(items=frozenset({'21165', '82551', '82552', '85150'}), support=0.3333333333333333, ordered_statistics=[OrderedStatistic(items_base=frozenset(), items_add=frozenset({'21165', '82551', '82552', '85150'}), confidence=0.3333333333333333, lift=1.0), OrderedStatistic(items_base=frozenset({'21165'}), items_add=frozenset({'82551', '82552', '85150'}), confidence=1.0, lift=3.0), OrderedStatistic(items_base=frozenset({'82551'}), items_add=frozenset({'21165', '85150', '82552'}), confidence=1.0, lift=3.0), OrderedStatistic(items_base=frozenset({'82552'}), items_add=frozenset({'21165', '82551', '85150'}), confidence=1.0, lift=3.0), OrderedStatistic(items_base=frozenset({'85150'}), items_add=frozenset({'21165', '82551', '82552'}), confidence=0.6666666666666666, lift=2.0), OrderedStatistic(items_base=frozenset({'21165', '82551'}), items_add=frozenset({'85150', '82552'}), confidence=1.0, lift=3.0), OrderedStatistic(items_base=frozenset({'21165', '82552'}), items_add=frozenset({'82551', '85150'}), confidence=1.0, lift=3.0), OrderedStatistic(items_base=frozenset({'21165', '85150'}), items_add=frozenset({'82551', '82552'}), confidence=1.0, lift=3.0), OrderedStatistic(items_base=frozenset({'82551', '82552'}), items_add=frozenset({'21165', '85150'}), confidence=1.0, lift=3.0), OrderedStatistic(items_base=frozenset({'82551', '85150'}), items_add=frozenset({'21165', '82552'}), confidence=1.0, lift=3.0), OrderedStatistic(items_base=frozenset({'85150', '82552'}), items_add=frozenset({'21165', '82551'}), confidence=1.0, lift=3.0), OrderedStatistic(items_base=frozenset({'21165', '82551', '82552'}), items_add=frozenset({'85150'}), confidence=1.0, lift=2.0), OrderedStatistic(items_base=frozenset({'21165', '82551', '85150'}), items_add=frozenset({'82552'}), confidence=1.0, lift=3.0), OrderedStatistic(items_base=frozenset({'21165', '85150', '82552'}), items_add=frozenset({'82551'}), confidence=1.0, lift=3.0), OrderedStatistic(items_base=frozenset({'82551', '82552', '85150'}), items_add=frozenset({'21165'}), confidence=1.0, lift=3.0)])\n",
        "\n",
        "\n",
        "3.yes\n",
        "RelationRecord(items=frozenset({'22957', '85150', '22960', '21756'}), support=0.3333333333333333, ordered_statistics=[OrderedStatistic(items_base=frozenset(), items_add=frozenset({'22957', '85150', '22960', '21756'}), confidence=0.3333333333333333, lift=1.0), OrderedStatistic(items_base=frozenset({'21756'}), items_add=frozenset({'85150', '22960', '22957'}), confidence=1.0, lift=3.0), OrderedStatistic(items_base=frozenset({'22957'}), items_add=frozenset({'85150', '22960', '21756'}), confidence=0.6666666666666666, lift=2.0), OrderedStatistic(items_base=frozenset({'22960'}), items_add=frozenset({'21756', '85150', '22957'}), confidence=1.0, lift=3.0), OrderedStatistic(items_base=frozenset({'85150'}), items_add=frozenset({'21756', '22960', '22957'}), confidence=0.6666666666666666, lift=2.0), OrderedStatistic(items_base=frozenset({'22957', '21756'}), items_add=frozenset({'85150', '22960'}), confidence=1.0, lift=3.0), OrderedStatistic(items_base=frozenset({'22960', '21756'}), items_add=frozenset({'85150', '22957'}), confidence=1.0, lift=3.0), OrderedStatistic(items_base=frozenset({'85150', '21756'}), items_add=frozenset({'22960', '22957'}), confidence=1.0, lift=3.0), OrderedStatistic(items_base=frozenset({'22960', '22957'}), items_add=frozenset({'85150', '21756'}), confidence=1.0, lift=3.0), OrderedStatistic(items_base=frozenset({'85150', '22957'}), items_add=frozenset({'22960', '21756'}), confidence=1.0, lift=3.0), OrderedStatistic(items_base=frozenset({'85150', '22960'}), items_add=frozenset({'21756', '22957'}), confidence=1.0, lift=3.0), OrderedStatistic(items_base=frozenset({'22957', '22960', '21756'}), items_add=frozenset({'85150'}), confidence=1.0, lift=2.0), OrderedStatistic(items_base=frozenset({'22957', '85150', '21756'}), items_add=frozenset({'22960'}), confidence=1.0, lift=3.0), OrderedStatistic(items_base=frozenset({'85150', '22960', '21756'}), items_add=frozenset({'22957'}), confidence=1.0, lift=2.0), OrderedStatistic(items_base=frozenset({'85150', '22960', '22957'}), items_add=frozenset({'21756'}), confidence=1.0, lift=3.0)])\n"
      ],
      "metadata": {
        "id": "25KvhhvPrAQQ"
      }
    },
    {
      "cell_type": "markdown",
      "source": [
        "yes RelationRecord(items=frozenset({'22202', '22203', '22551', '20682'}), support=0.3333333333333333, ordered_statistics=[...])\n",
        "\n",
        "OrderedStatistic(items_base=frozenset({'22203', '20682'}), items_add=frozenset({'22202', '22551'}), confidence=1.0, lift=3.0),"
      ],
      "metadata": {
        "id": "LDVCvtwTuJ_8"
      }
    },
    {
      "cell_type": "code",
      "source": [
        "def find4itime(x,y,z,j) :\n",
        "  L=set(data[(data['StockCode']==x)|(data['StockCode']==y)|(data['StockCode']==z)|(data['StockCode']==j)]['Description'])\n",
        "  return L"
      ],
      "metadata": {
        "id": "wtj7K-B-xExG"
      },
      "execution_count": null,
      "outputs": []
    },
    {
      "cell_type": "code",
      "source": [
        "find4itime('22202', '22203', '22551', '20682')"
      ],
      "metadata": {
        "id": "tZRv0Qxkwy1B"
      },
      "execution_count": null,
      "outputs": []
    },
    {
      "cell_type": "code",
      "source": [
        "finditime('22203', '20682')"
      ],
      "metadata": {
        "id": "o5OUp_xc5fhC"
      },
      "execution_count": null,
      "outputs": []
    },
    {
      "cell_type": "code",
      "source": [
        "finditime ('22202', '22551')"
      ],
      "metadata": {
        "id": "DwTJ4_O-5kY7"
      },
      "execution_count": null,
      "outputs": []
    },
    {
      "cell_type": "markdown",
      "source": [
        "## ข้อ6-3"
      ],
      "metadata": {
        "id": "21ebMaNHbvWq"
      }
    },
    {
      "cell_type": "code",
      "source": [
        "transactionsAsia = use_Asia_data.groupby(['Country', 'month'])['StockCode'].apply(list)\n",
        "min_sup = 0.4\n",
        "frequentItemsets_A= list(apriori(transactionsAsia,min_support = min_sup))\n",
        "for i in frequentItemsets_A:\n",
        "    if i[0].__len__()>1:\n",
        "        print('yes')\n",
        "        print(i)"
      ],
      "metadata": {
        "id": "DfozrkzWbm6L"
      },
      "execution_count": null,
      "outputs": []
    },
    {
      "cell_type": "markdown",
      "source": [
        "##4.ของช่วงเวลา Christmas & New Year ในทวีป Europe(1 Dec - 31 Dec)"
      ],
      "metadata": {
        "id": "gm6CJQ5MUund"
      }
    },
    {
      "cell_type": "code",
      "source": [
        "C_N_EU_data=EU_data[EU_data['month']==12]"
      ],
      "metadata": {
        "id": "gmAwSnslVBrS"
      },
      "execution_count": null,
      "outputs": []
    },
    {
      "cell_type": "code",
      "source": [
        "C_N_EU_data"
      ],
      "metadata": {
        "id": "5hNSDXzHtczS"
      },
      "execution_count": null,
      "outputs": []
    },
    {
      "cell_type": "code",
      "source": [
        "transactionsC_N_EU = C_N_EU_data.groupby('InvoiceNo')['StockCode'].apply(list)"
      ],
      "metadata": {
        "id": "jTk-YZlGdWBf"
      },
      "execution_count": null,
      "outputs": []
    },
    {
      "cell_type": "code",
      "source": [
        "transactionsC_N_EU"
      ],
      "metadata": {
        "id": "2H7259lneHmY"
      },
      "execution_count": null,
      "outputs": []
    },
    {
      "cell_type": "code",
      "source": [
        "min_sup = 0.04\n",
        "frequentItemsetsC_N_EU= list(apriori(transactionsC_N_EU,min_support = min_sup))\n",
        "for i in frequentItemsetsC_N_EU:\n",
        "    if i[0].__len__()>1:\n",
        "        print('yes')\n",
        "        print(i)"
      ],
      "metadata": {
        "id": "AZ7DUUG_dRCF"
      },
      "execution_count": null,
      "outputs": []
    },
    {
      "cell_type": "markdown",
      "source": [
        "yes\n",
        "RelationRecord(items=frozenset({'22086', '22910'}), support=0.04765056254136334, ordered_statistics=[OrderedStatistic(items_base=frozenset(), items_add=frozenset({'22086', '22910'}), confidence=0.04765056254136334, lift=1.0),\n",
        "\n",
        "OrderedStatistic(items_base=frozenset({'22086'}), items_add=frozenset({'22910'}), confidence=0.5142857142857143, lift=7.162080315997367),\n",
        "\n",
        "OrderedStatistic(items_base=frozenset({'22910'}), items_add=frozenset({'22086'}), confidence=0.663594470046083, lift=7.162080315997367)]) #เลือกอันนี้ค่าความเชื่อมั่นเยอะที่สุด\n"
      ],
      "metadata": {
        "id": "qP4RZn5d-rue"
      }
    },
    {
      "cell_type": "code",
      "source": [
        "finditime('22086', '22910')"
      ],
      "metadata": {
        "id": "BBZXA4oaAfFn"
      },
      "execution_count": null,
      "outputs": []
    },
    {
      "cell_type": "markdown",
      "source": [
        "## ข้อ 6-4\n"
      ],
      "metadata": {
        "id": "DxYiKU-Mb8ba"
      }
    },
    {
      "cell_type": "code",
      "source": [
        "transactionsC_N_EU = C_N_EU_data.groupby(['Country', 'month'])['StockCode'].apply(list)\n",
        "min_sup = 0.4\n",
        "frequentItemsetsC_N_EU= list(apriori(transactionsC_N_EU,min_support = min_sup))\n",
        "for i in frequentItemsetsC_N_EU:\n",
        "    if i[0].__len__()>1:\n",
        "        print('yes')\n",
        "        print(i)"
      ],
      "metadata": {
        "id": "WrmrFTK5dX9K"
      },
      "execution_count": null,
      "outputs": []
    },
    {
      "cell_type": "markdown",
      "source": [
        "##5.ของวันวาเลนไทน์ (14 Feb)"
      ],
      "metadata": {
        "id": "yazR4wqZZRx_"
      }
    },
    {
      "cell_type": "code",
      "source": [
        "M14_data = data_test[(data_test['month']==2)]"
      ],
      "metadata": {
        "id": "vBGsVI3DaKv5"
      },
      "execution_count": null,
      "outputs": []
    },
    {
      "cell_type": "code",
      "source": [
        "va_data=M14_data[M14_data['day']==14]"
      ],
      "metadata": {
        "id": "lZP-5jddJIWZ"
      },
      "execution_count": null,
      "outputs": []
    },
    {
      "cell_type": "code",
      "source": [
        "va_data"
      ],
      "metadata": {
        "id": "watFLmkWQecc"
      },
      "execution_count": null,
      "outputs": []
    },
    {
      "cell_type": "code",
      "source": [
        "transactions_va = va_data.groupby('InvoiceNo')['StockCode'].apply(list)"
      ],
      "metadata": {
        "id": "yFuj94QLJOoX"
      },
      "execution_count": null,
      "outputs": []
    },
    {
      "cell_type": "code",
      "source": [
        "len(transactions_va)"
      ],
      "metadata": {
        "id": "9Mc9dqcIt7-D"
      },
      "execution_count": null,
      "outputs": []
    },
    {
      "cell_type": "code",
      "source": [
        "min_sup = 0.09\n",
        "frequentItemsets_va= list(apriori(transactions_va,min_support = min_sup))\n",
        "for i in frequentItemsets_va:\n",
        "    if i[0].__len__()>1:\n",
        "        print('yes')\n",
        "        print(i)"
      ],
      "metadata": {
        "id": "4n7vd-B8JbaO"
      },
      "execution_count": null,
      "outputs": []
    },
    {
      "cell_type": "code",
      "source": [
        "finditime('22722', '22720')"
      ],
      "metadata": {
        "id": "fDao2GgQNf_C"
      },
      "execution_count": null,
      "outputs": []
    },
    {
      "cell_type": "markdown",
      "source": [
        "##ข้อ6-5"
      ],
      "metadata": {
        "id": "l_k_Y6a_wUAq"
      }
    },
    {
      "cell_type": "code",
      "source": [
        "transactions_va"
      ],
      "metadata": {
        "id": "oXJrTvx0xOVK"
      },
      "execution_count": null,
      "outputs": []
    },
    {
      "cell_type": "code",
      "source": [
        "transactions_va = va_data.groupby(['Country', 'month'])['StockCode'].apply(list)\n",
        "min_sup = 0.500000000000000001\n",
        "frequentItemsets_va= list(apriori(transactions_va,min_support = min_sup))\n",
        "for i in frequentItemsets_va:\n",
        "    if i[0].__len__()>1:\n",
        "        print('yes')\n",
        "        print(i)"
      ],
      "metadata": {
        "id": "DCu2QrfmodyK"
      },
      "execution_count": null,
      "outputs": []
    },
    {
      "cell_type": "markdown",
      "source": [
        "##6.จัดกลุ่มตามประเทศ+เดิอน"
      ],
      "metadata": {
        "id": "lHOVrDoPYJU5"
      }
    },
    {
      "cell_type": "code",
      "source": [
        "transactions_Mon_Con = data_test.groupby(['Country', 'month'])['StockCode'].apply(list)"
      ],
      "metadata": {
        "id": "lFyVzRIVYOJB"
      },
      "execution_count": null,
      "outputs": []
    },
    {
      "cell_type": "code",
      "source": [
        "transactions_Mon_Con"
      ],
      "metadata": {
        "id": "P4uvIS6agI6p"
      },
      "execution_count": null,
      "outputs": []
    },
    {
      "cell_type": "code",
      "source": [
        "min_sup = 0.32\n",
        "frequentItemsets_Mon_Con= list(apriori(transactions_Mon_Con,min_support = min_sup))\n",
        "for i in frequentItemsets_Mon_Con:\n",
        "    if i[0].__len__()>1:\n",
        "        print('yes')\n",
        "        print(i)"
      ],
      "metadata": {
        "id": "rgFeN3ngf9Cn"
      },
      "execution_count": null,
      "outputs": []
    }
  ]
}