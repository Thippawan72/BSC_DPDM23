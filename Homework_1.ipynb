{
  "nbformat": 4,
  "nbformat_minor": 0,
  "metadata": {
    "colab": {
      "provenance": [],
      "authorship_tag": "ABX9TyO4F9azVFvzV3HbfWUd34FS",
      "include_colab_link": true
    },
    "kernelspec": {
      "name": "python3",
      "display_name": "Python 3"
    },
    "language_info": {
      "name": "python"
    }
  },
  "cells": [
    {
      "cell_type": "markdown",
      "metadata": {
        "id": "view-in-github",
        "colab_type": "text"
      },
      "source": [
        "<a href=\"https://colab.research.google.com/github/Thippawan72/BSC_DPDM23/blob/main/Homework_1.ipynb\" target=\"_parent\"><img src=\"https://colab.research.google.com/assets/colab-badge.svg\" alt=\"Open In Colab\"/></a>"
      ]
    },
    {
      "cell_type": "markdown",
      "source": [
        "# HW 1  หา Frequent Item Set และ Association Rules\n",
        "\n",
        "* ของช่วงเวลา Christmas & New Year  (1 Dec - 31 Dec)\n",
        "* ของประเทศในทวีป Europe\n",
        "* ของช่วงเวลา ตรุษจีน ในทวีป Asia  (15 Jan - 15 Feb)\n",
        "* ของช่วงเวลา Christmas & New Year ในทวีป Europe  (1 Dec - 31 Dec)\n",
        "* ของวันวาเลนไทน์\n",
        "* โดยจัดกลุ่มตามประเทศ+เดือน"
      ],
      "metadata": {
        "id": "_OPrT89TceQ-"
      }
    },
    {
      "cell_type": "markdown",
      "metadata": {
        "id": "TqkZl7tUsgUT"
      },
      "source": [
        "## Association Rules"
      ]
    },
    {
      "cell_type": "code",
      "source": [
        "from mlxtend.frequent_patterns import association_rules"
      ],
      "metadata": {
        "id": "9j73m2TYlBzG",
        "outputId": "69f46017-9c2f-4407-e28b-1452487f6ed4",
        "colab": {
          "base_uri": "https://localhost:8080/"
        }
      },
      "execution_count": 140,
      "outputs": [
        {
          "output_type": "stream",
          "name": "stderr",
          "text": [
            "/usr/local/lib/python3.10/dist-packages/ipykernel/ipkernel.py:283: DeprecationWarning: `should_run_async` will not call `transform_cell` automatically in the future. Please pass the result to `transformed_cell` argument and any exception that happen during thetransform in `preprocessing_exc_tuple` in IPython 7.17 and above.\n",
            "  and should_run_async(code)\n"
          ]
        }
      ]
    },
    {
      "cell_type": "code",
      "metadata": {
        "id": "kxLayaaAtkh8",
        "outputId": "d0d27a46-e810-48f9-df02-aa6c418c5c6f",
        "colab": {
          "base_uri": "https://localhost:8080/"
        }
      },
      "source": [
        "!pip install apyori"
      ],
      "execution_count": 141,
      "outputs": [
        {
          "output_type": "stream",
          "name": "stderr",
          "text": [
            "/usr/local/lib/python3.10/dist-packages/ipykernel/ipkernel.py:283: DeprecationWarning: `should_run_async` will not call `transform_cell` automatically in the future. Please pass the result to `transformed_cell` argument and any exception that happen during thetransform in `preprocessing_exc_tuple` in IPython 7.17 and above.\n",
            "  and should_run_async(code)\n"
          ]
        },
        {
          "output_type": "stream",
          "name": "stdout",
          "text": [
            "Requirement already satisfied: apyori in /usr/local/lib/python3.10/dist-packages (1.1.2)\n"
          ]
        }
      ]
    },
    {
      "cell_type": "code",
      "metadata": {
        "id": "MU_DkGZ2sKw_",
        "outputId": "d37fa980-8d63-4465-ae14-88312d040731",
        "colab": {
          "base_uri": "https://localhost:8080/"
        }
      },
      "source": [
        "from apyori import apriori"
      ],
      "execution_count": 142,
      "outputs": [
        {
          "output_type": "stream",
          "name": "stderr",
          "text": [
            "/usr/local/lib/python3.10/dist-packages/ipykernel/ipkernel.py:283: DeprecationWarning: `should_run_async` will not call `transform_cell` automatically in the future. Please pass the result to `transformed_cell` argument and any exception that happen during thetransform in `preprocessing_exc_tuple` in IPython 7.17 and above.\n",
            "  and should_run_async(code)\n"
          ]
        }
      ]
    },
    {
      "cell_type": "code",
      "metadata": {
        "id": "Uwysx9eLtg7H",
        "outputId": "6e77aa72-5d03-4fe9-974b-389d1dde832c",
        "colab": {
          "base_uri": "https://localhost:8080/"
        }
      },
      "source": [
        "!pip install apyori\n",
        "from apyori import apriori\n",
        "transactions = data.groupby('InvoiceNo')['StockCode'].apply(list)\n",
        "frequentItemsets = list(apriori(transactions,min_support = 0.065))\n",
        "frequentItemsets"
      ],
      "execution_count": 143,
      "outputs": [
        {
          "output_type": "stream",
          "name": "stderr",
          "text": [
            "/usr/local/lib/python3.10/dist-packages/ipykernel/ipkernel.py:283: DeprecationWarning: `should_run_async` will not call `transform_cell` automatically in the future. Please pass the result to `transformed_cell` argument and any exception that happen during thetransform in `preprocessing_exc_tuple` in IPython 7.17 and above.\n",
            "  and should_run_async(code)\n"
          ]
        },
        {
          "output_type": "stream",
          "name": "stdout",
          "text": [
            "Requirement already satisfied: apyori in /usr/local/lib/python3.10/dist-packages (1.1.2)\n"
          ]
        },
        {
          "output_type": "execute_result",
          "data": {
            "text/plain": [
              "[RelationRecord(items=frozenset({'22423'}), support=0.08386100386100385, ordered_statistics=[OrderedStatistic(items_base=frozenset(), items_add=frozenset({'22423'}), confidence=0.08386100386100385, lift=1.0)]),\n",
              " RelationRecord(items=frozenset({'47566'}), support=0.06586872586872587, ordered_statistics=[OrderedStatistic(items_base=frozenset(), items_add=frozenset({'47566'}), confidence=0.06586872586872587, lift=1.0)]),\n",
              " RelationRecord(items=frozenset({'85099B'}), support=0.08243243243243244, ordered_statistics=[OrderedStatistic(items_base=frozenset(), items_add=frozenset({'85099B'}), confidence=0.08243243243243244, lift=1.0)]),\n",
              " RelationRecord(items=frozenset({'85123A'}), support=0.08671814671814672, ordered_statistics=[OrderedStatistic(items_base=frozenset(), items_add=frozenset({'85123A'}), confidence=0.08671814671814672, lift=1.0)])]"
            ]
          },
          "metadata": {},
          "execution_count": 143
        }
      ]
    },
    {
      "cell_type": "markdown",
      "source": [
        "เอาข้อมูลลง"
      ],
      "metadata": {
        "id": "ifwPj7O5aqBg"
      }
    },
    {
      "cell_type": "code",
      "metadata": {
        "id": "KZmRixV_o0Jw",
        "outputId": "3ae449b9-97c1-437f-b18f-8585657f4c84",
        "colab": {
          "base_uri": "https://localhost:8080/"
        }
      },
      "source": [
        "import pandas as pd\n",
        "import os"
      ],
      "execution_count": 144,
      "outputs": [
        {
          "output_type": "stream",
          "name": "stderr",
          "text": [
            "/usr/local/lib/python3.10/dist-packages/ipykernel/ipkernel.py:283: DeprecationWarning: `should_run_async` will not call `transform_cell` automatically in the future. Please pass the result to `transformed_cell` argument and any exception that happen during thetransform in `preprocessing_exc_tuple` in IPython 7.17 and above.\n",
            "  and should_run_async(code)\n"
          ]
        }
      ]
    },
    {
      "cell_type": "code",
      "metadata": {
        "id": "BZaeBFmzp6zA",
        "outputId": "63a00cea-36ab-4491-f6b4-defbf8e26e93",
        "colab": {
          "base_uri": "https://localhost:8080/"
        }
      },
      "source": [
        "from google.colab import drive\n",
        "drive.mount('/content/drive')\n",
        "path = '/content/drive/MyDrive/BSC-dpdm23_flie'"
      ],
      "execution_count": 145,
      "outputs": [
        {
          "output_type": "stream",
          "name": "stderr",
          "text": [
            "/usr/local/lib/python3.10/dist-packages/ipykernel/ipkernel.py:283: DeprecationWarning: `should_run_async` will not call `transform_cell` automatically in the future. Please pass the result to `transformed_cell` argument and any exception that happen during thetransform in `preprocessing_exc_tuple` in IPython 7.17 and above.\n",
            "  and should_run_async(code)\n"
          ]
        },
        {
          "output_type": "stream",
          "name": "stdout",
          "text": [
            "Drive already mounted at /content/drive; to attempt to forcibly remount, call drive.mount(\"/content/drive\", force_remount=True).\n"
          ]
        }
      ]
    },
    {
      "cell_type": "code",
      "metadata": {
        "id": "ikJazGz6qAn7",
        "outputId": "c3700510-a633-4c3a-add7-5c355de20bff",
        "colab": {
          "base_uri": "https://localhost:8080/"
        }
      },
      "source": [
        "data = pd.read_csv(os.path.join(path,'/content/drive/MyDrive/BSC_DPDM23_Data/reduced_marketbasket.csv'),encoding='latin-1')"
      ],
      "execution_count": 146,
      "outputs": [
        {
          "output_type": "stream",
          "name": "stderr",
          "text": [
            "/usr/local/lib/python3.10/dist-packages/ipykernel/ipkernel.py:283: DeprecationWarning: `should_run_async` will not call `transform_cell` automatically in the future. Please pass the result to `transformed_cell` argument and any exception that happen during thetransform in `preprocessing_exc_tuple` in IPython 7.17 and above.\n",
            "  and should_run_async(code)\n"
          ]
        }
      ]
    },
    {
      "cell_type": "code",
      "source": [
        "data"
      ],
      "metadata": {
        "id": "cFzs1A5LBwcA",
        "outputId": "656b0a8e-9bbe-4354-dcb6-8b52f4a5b518",
        "colab": {
          "base_uri": "https://localhost:8080/",
          "height": 478
        }
      },
      "execution_count": 147,
      "outputs": [
        {
          "output_type": "stream",
          "name": "stderr",
          "text": [
            "/usr/local/lib/python3.10/dist-packages/ipykernel/ipkernel.py:283: DeprecationWarning: `should_run_async` will not call `transform_cell` automatically in the future. Please pass the result to `transformed_cell` argument and any exception that happen during thetransform in `preprocessing_exc_tuple` in IPython 7.17 and above.\n",
            "  and should_run_async(code)\n"
          ]
        },
        {
          "output_type": "execute_result",
          "data": {
            "text/plain": [
              "       InvoiceNo StockCode                          Description  Quantity  \\\n",
              "0         536365    85123A   WHITE HANGING HEART T-LIGHT HOLDER         6   \n",
              "1         536365     71053                  WHITE METAL LANTERN         6   \n",
              "2         536365    84406B       CREAM CUPID HEARTS COAT HANGER         8   \n",
              "3         536365    84029G  KNITTED UNION FLAG HOT WATER BOTTLE         6   \n",
              "4         536365    84029E       RED WOOLLY HOTTIE WHITE HEART.         6   \n",
              "...          ...       ...                                  ...       ...   \n",
              "541904    581587     22613          PACK OF 20 SPACEBOY NAPKINS        12   \n",
              "541905    581587     22899         CHILDREN'S APRON DOLLY GIRL          6   \n",
              "541906    581587     23254        CHILDRENS CUTLERY DOLLY GIRL          4   \n",
              "541907    581587     23255      CHILDRENS CUTLERY CIRCUS PARADE         4   \n",
              "541908    581587     22138        BAKING SET 9 PIECE RETROSPOT          3   \n",
              "\n",
              "             InvoiceDate  UnitPrice  CustomerID         Country  \n",
              "0       12/01/2010 08:26       2.55     17850.0  United Kingdom  \n",
              "1       12/01/2010 08:26       3.39     17850.0  United Kingdom  \n",
              "2       12/01/2010 08:26       2.75     17850.0  United Kingdom  \n",
              "3       12/01/2010 08:26       3.39     17850.0  United Kingdom  \n",
              "4       12/01/2010 08:26       3.39     17850.0  United Kingdom  \n",
              "...                  ...        ...         ...             ...  \n",
              "541904  12/09/2011 12:50       0.85     12680.0          France  \n",
              "541905  12/09/2011 12:50       2.10     12680.0          France  \n",
              "541906  12/09/2011 12:50       4.15     12680.0          France  \n",
              "541907  12/09/2011 12:50       4.15     12680.0          France  \n",
              "541908  12/09/2011 12:50       4.95     12680.0          France  \n",
              "\n",
              "[541909 rows x 8 columns]"
            ],
            "text/html": [
              "\n",
              "  <div id=\"df-06d92f5d-3249-4d84-af30-5ea5bf97ba1e\" class=\"colab-df-container\">\n",
              "    <div>\n",
              "<style scoped>\n",
              "    .dataframe tbody tr th:only-of-type {\n",
              "        vertical-align: middle;\n",
              "    }\n",
              "\n",
              "    .dataframe tbody tr th {\n",
              "        vertical-align: top;\n",
              "    }\n",
              "\n",
              "    .dataframe thead th {\n",
              "        text-align: right;\n",
              "    }\n",
              "</style>\n",
              "<table border=\"1\" class=\"dataframe\">\n",
              "  <thead>\n",
              "    <tr style=\"text-align: right;\">\n",
              "      <th></th>\n",
              "      <th>InvoiceNo</th>\n",
              "      <th>StockCode</th>\n",
              "      <th>Description</th>\n",
              "      <th>Quantity</th>\n",
              "      <th>InvoiceDate</th>\n",
              "      <th>UnitPrice</th>\n",
              "      <th>CustomerID</th>\n",
              "      <th>Country</th>\n",
              "    </tr>\n",
              "  </thead>\n",
              "  <tbody>\n",
              "    <tr>\n",
              "      <th>0</th>\n",
              "      <td>536365</td>\n",
              "      <td>85123A</td>\n",
              "      <td>WHITE HANGING HEART T-LIGHT HOLDER</td>\n",
              "      <td>6</td>\n",
              "      <td>12/01/2010 08:26</td>\n",
              "      <td>2.55</td>\n",
              "      <td>17850.0</td>\n",
              "      <td>United Kingdom</td>\n",
              "    </tr>\n",
              "    <tr>\n",
              "      <th>1</th>\n",
              "      <td>536365</td>\n",
              "      <td>71053</td>\n",
              "      <td>WHITE METAL LANTERN</td>\n",
              "      <td>6</td>\n",
              "      <td>12/01/2010 08:26</td>\n",
              "      <td>3.39</td>\n",
              "      <td>17850.0</td>\n",
              "      <td>United Kingdom</td>\n",
              "    </tr>\n",
              "    <tr>\n",
              "      <th>2</th>\n",
              "      <td>536365</td>\n",
              "      <td>84406B</td>\n",
              "      <td>CREAM CUPID HEARTS COAT HANGER</td>\n",
              "      <td>8</td>\n",
              "      <td>12/01/2010 08:26</td>\n",
              "      <td>2.75</td>\n",
              "      <td>17850.0</td>\n",
              "      <td>United Kingdom</td>\n",
              "    </tr>\n",
              "    <tr>\n",
              "      <th>3</th>\n",
              "      <td>536365</td>\n",
              "      <td>84029G</td>\n",
              "      <td>KNITTED UNION FLAG HOT WATER BOTTLE</td>\n",
              "      <td>6</td>\n",
              "      <td>12/01/2010 08:26</td>\n",
              "      <td>3.39</td>\n",
              "      <td>17850.0</td>\n",
              "      <td>United Kingdom</td>\n",
              "    </tr>\n",
              "    <tr>\n",
              "      <th>4</th>\n",
              "      <td>536365</td>\n",
              "      <td>84029E</td>\n",
              "      <td>RED WOOLLY HOTTIE WHITE HEART.</td>\n",
              "      <td>6</td>\n",
              "      <td>12/01/2010 08:26</td>\n",
              "      <td>3.39</td>\n",
              "      <td>17850.0</td>\n",
              "      <td>United Kingdom</td>\n",
              "    </tr>\n",
              "    <tr>\n",
              "      <th>...</th>\n",
              "      <td>...</td>\n",
              "      <td>...</td>\n",
              "      <td>...</td>\n",
              "      <td>...</td>\n",
              "      <td>...</td>\n",
              "      <td>...</td>\n",
              "      <td>...</td>\n",
              "      <td>...</td>\n",
              "    </tr>\n",
              "    <tr>\n",
              "      <th>541904</th>\n",
              "      <td>581587</td>\n",
              "      <td>22613</td>\n",
              "      <td>PACK OF 20 SPACEBOY NAPKINS</td>\n",
              "      <td>12</td>\n",
              "      <td>12/09/2011 12:50</td>\n",
              "      <td>0.85</td>\n",
              "      <td>12680.0</td>\n",
              "      <td>France</td>\n",
              "    </tr>\n",
              "    <tr>\n",
              "      <th>541905</th>\n",
              "      <td>581587</td>\n",
              "      <td>22899</td>\n",
              "      <td>CHILDREN'S APRON DOLLY GIRL</td>\n",
              "      <td>6</td>\n",
              "      <td>12/09/2011 12:50</td>\n",
              "      <td>2.10</td>\n",
              "      <td>12680.0</td>\n",
              "      <td>France</td>\n",
              "    </tr>\n",
              "    <tr>\n",
              "      <th>541906</th>\n",
              "      <td>581587</td>\n",
              "      <td>23254</td>\n",
              "      <td>CHILDRENS CUTLERY DOLLY GIRL</td>\n",
              "      <td>4</td>\n",
              "      <td>12/09/2011 12:50</td>\n",
              "      <td>4.15</td>\n",
              "      <td>12680.0</td>\n",
              "      <td>France</td>\n",
              "    </tr>\n",
              "    <tr>\n",
              "      <th>541907</th>\n",
              "      <td>581587</td>\n",
              "      <td>23255</td>\n",
              "      <td>CHILDRENS CUTLERY CIRCUS PARADE</td>\n",
              "      <td>4</td>\n",
              "      <td>12/09/2011 12:50</td>\n",
              "      <td>4.15</td>\n",
              "      <td>12680.0</td>\n",
              "      <td>France</td>\n",
              "    </tr>\n",
              "    <tr>\n",
              "      <th>541908</th>\n",
              "      <td>581587</td>\n",
              "      <td>22138</td>\n",
              "      <td>BAKING SET 9 PIECE RETROSPOT</td>\n",
              "      <td>3</td>\n",
              "      <td>12/09/2011 12:50</td>\n",
              "      <td>4.95</td>\n",
              "      <td>12680.0</td>\n",
              "      <td>France</td>\n",
              "    </tr>\n",
              "  </tbody>\n",
              "</table>\n",
              "<p>541909 rows × 8 columns</p>\n",
              "</div>\n",
              "    <div class=\"colab-df-buttons\">\n",
              "\n",
              "  <div class=\"colab-df-container\">\n",
              "    <button class=\"colab-df-convert\" onclick=\"convertToInteractive('df-06d92f5d-3249-4d84-af30-5ea5bf97ba1e')\"\n",
              "            title=\"Convert this dataframe to an interactive table.\"\n",
              "            style=\"display:none;\">\n",
              "\n",
              "  <svg xmlns=\"http://www.w3.org/2000/svg\" height=\"24px\" viewBox=\"0 -960 960 960\">\n",
              "    <path d=\"M120-120v-720h720v720H120Zm60-500h600v-160H180v160Zm220 220h160v-160H400v160Zm0 220h160v-160H400v160ZM180-400h160v-160H180v160Zm440 0h160v-160H620v160ZM180-180h160v-160H180v160Zm440 0h160v-160H620v160Z\"/>\n",
              "  </svg>\n",
              "    </button>\n",
              "\n",
              "  <style>\n",
              "    .colab-df-container {\n",
              "      display:flex;\n",
              "      gap: 12px;\n",
              "    }\n",
              "\n",
              "    .colab-df-convert {\n",
              "      background-color: #E8F0FE;\n",
              "      border: none;\n",
              "      border-radius: 50%;\n",
              "      cursor: pointer;\n",
              "      display: none;\n",
              "      fill: #1967D2;\n",
              "      height: 32px;\n",
              "      padding: 0 0 0 0;\n",
              "      width: 32px;\n",
              "    }\n",
              "\n",
              "    .colab-df-convert:hover {\n",
              "      background-color: #E2EBFA;\n",
              "      box-shadow: 0px 1px 2px rgba(60, 64, 67, 0.3), 0px 1px 3px 1px rgba(60, 64, 67, 0.15);\n",
              "      fill: #174EA6;\n",
              "    }\n",
              "\n",
              "    .colab-df-buttons div {\n",
              "      margin-bottom: 4px;\n",
              "    }\n",
              "\n",
              "    [theme=dark] .colab-df-convert {\n",
              "      background-color: #3B4455;\n",
              "      fill: #D2E3FC;\n",
              "    }\n",
              "\n",
              "    [theme=dark] .colab-df-convert:hover {\n",
              "      background-color: #434B5C;\n",
              "      box-shadow: 0px 1px 3px 1px rgba(0, 0, 0, 0.15);\n",
              "      filter: drop-shadow(0px 1px 2px rgba(0, 0, 0, 0.3));\n",
              "      fill: #FFFFFF;\n",
              "    }\n",
              "  </style>\n",
              "\n",
              "    <script>\n",
              "      const buttonEl =\n",
              "        document.querySelector('#df-06d92f5d-3249-4d84-af30-5ea5bf97ba1e button.colab-df-convert');\n",
              "      buttonEl.style.display =\n",
              "        google.colab.kernel.accessAllowed ? 'block' : 'none';\n",
              "\n",
              "      async function convertToInteractive(key) {\n",
              "        const element = document.querySelector('#df-06d92f5d-3249-4d84-af30-5ea5bf97ba1e');\n",
              "        const dataTable =\n",
              "          await google.colab.kernel.invokeFunction('convertToInteractive',\n",
              "                                                    [key], {});\n",
              "        if (!dataTable) return;\n",
              "\n",
              "        const docLinkHtml = 'Like what you see? Visit the ' +\n",
              "          '<a target=\"_blank\" href=https://colab.research.google.com/notebooks/data_table.ipynb>data table notebook</a>'\n",
              "          + ' to learn more about interactive tables.';\n",
              "        element.innerHTML = '';\n",
              "        dataTable['output_type'] = 'display_data';\n",
              "        await google.colab.output.renderOutput(dataTable, element);\n",
              "        const docLink = document.createElement('div');\n",
              "        docLink.innerHTML = docLinkHtml;\n",
              "        element.appendChild(docLink);\n",
              "      }\n",
              "    </script>\n",
              "  </div>\n",
              "\n",
              "\n",
              "<div id=\"df-4dc1116f-9c16-4fbe-b08c-8a3b5e7ef81c\">\n",
              "  <button class=\"colab-df-quickchart\" onclick=\"quickchart('df-4dc1116f-9c16-4fbe-b08c-8a3b5e7ef81c')\"\n",
              "            title=\"Suggest charts\"\n",
              "            style=\"display:none;\">\n",
              "\n",
              "<svg xmlns=\"http://www.w3.org/2000/svg\" height=\"24px\"viewBox=\"0 0 24 24\"\n",
              "     width=\"24px\">\n",
              "    <g>\n",
              "        <path d=\"M19 3H5c-1.1 0-2 .9-2 2v14c0 1.1.9 2 2 2h14c1.1 0 2-.9 2-2V5c0-1.1-.9-2-2-2zM9 17H7v-7h2v7zm4 0h-2V7h2v10zm4 0h-2v-4h2v4z\"/>\n",
              "    </g>\n",
              "</svg>\n",
              "  </button>\n",
              "\n",
              "<style>\n",
              "  .colab-df-quickchart {\n",
              "      --bg-color: #E8F0FE;\n",
              "      --fill-color: #1967D2;\n",
              "      --hover-bg-color: #E2EBFA;\n",
              "      --hover-fill-color: #174EA6;\n",
              "      --disabled-fill-color: #AAA;\n",
              "      --disabled-bg-color: #DDD;\n",
              "  }\n",
              "\n",
              "  [theme=dark] .colab-df-quickchart {\n",
              "      --bg-color: #3B4455;\n",
              "      --fill-color: #D2E3FC;\n",
              "      --hover-bg-color: #434B5C;\n",
              "      --hover-fill-color: #FFFFFF;\n",
              "      --disabled-bg-color: #3B4455;\n",
              "      --disabled-fill-color: #666;\n",
              "  }\n",
              "\n",
              "  .colab-df-quickchart {\n",
              "    background-color: var(--bg-color);\n",
              "    border: none;\n",
              "    border-radius: 50%;\n",
              "    cursor: pointer;\n",
              "    display: none;\n",
              "    fill: var(--fill-color);\n",
              "    height: 32px;\n",
              "    padding: 0;\n",
              "    width: 32px;\n",
              "  }\n",
              "\n",
              "  .colab-df-quickchart:hover {\n",
              "    background-color: var(--hover-bg-color);\n",
              "    box-shadow: 0 1px 2px rgba(60, 64, 67, 0.3), 0 1px 3px 1px rgba(60, 64, 67, 0.15);\n",
              "    fill: var(--button-hover-fill-color);\n",
              "  }\n",
              "\n",
              "  .colab-df-quickchart-complete:disabled,\n",
              "  .colab-df-quickchart-complete:disabled:hover {\n",
              "    background-color: var(--disabled-bg-color);\n",
              "    fill: var(--disabled-fill-color);\n",
              "    box-shadow: none;\n",
              "  }\n",
              "\n",
              "  .colab-df-spinner {\n",
              "    border: 2px solid var(--fill-color);\n",
              "    border-color: transparent;\n",
              "    border-bottom-color: var(--fill-color);\n",
              "    animation:\n",
              "      spin 1s steps(1) infinite;\n",
              "  }\n",
              "\n",
              "  @keyframes spin {\n",
              "    0% {\n",
              "      border-color: transparent;\n",
              "      border-bottom-color: var(--fill-color);\n",
              "      border-left-color: var(--fill-color);\n",
              "    }\n",
              "    20% {\n",
              "      border-color: transparent;\n",
              "      border-left-color: var(--fill-color);\n",
              "      border-top-color: var(--fill-color);\n",
              "    }\n",
              "    30% {\n",
              "      border-color: transparent;\n",
              "      border-left-color: var(--fill-color);\n",
              "      border-top-color: var(--fill-color);\n",
              "      border-right-color: var(--fill-color);\n",
              "    }\n",
              "    40% {\n",
              "      border-color: transparent;\n",
              "      border-right-color: var(--fill-color);\n",
              "      border-top-color: var(--fill-color);\n",
              "    }\n",
              "    60% {\n",
              "      border-color: transparent;\n",
              "      border-right-color: var(--fill-color);\n",
              "    }\n",
              "    80% {\n",
              "      border-color: transparent;\n",
              "      border-right-color: var(--fill-color);\n",
              "      border-bottom-color: var(--fill-color);\n",
              "    }\n",
              "    90% {\n",
              "      border-color: transparent;\n",
              "      border-bottom-color: var(--fill-color);\n",
              "    }\n",
              "  }\n",
              "</style>\n",
              "\n",
              "  <script>\n",
              "    async function quickchart(key) {\n",
              "      const quickchartButtonEl =\n",
              "        document.querySelector('#' + key + ' button');\n",
              "      quickchartButtonEl.disabled = true;  // To prevent multiple clicks.\n",
              "      quickchartButtonEl.classList.add('colab-df-spinner');\n",
              "      try {\n",
              "        const charts = await google.colab.kernel.invokeFunction(\n",
              "            'suggestCharts', [key], {});\n",
              "      } catch (error) {\n",
              "        console.error('Error during call to suggestCharts:', error);\n",
              "      }\n",
              "      quickchartButtonEl.classList.remove('colab-df-spinner');\n",
              "      quickchartButtonEl.classList.add('colab-df-quickchart-complete');\n",
              "    }\n",
              "    (() => {\n",
              "      let quickchartButtonEl =\n",
              "        document.querySelector('#df-4dc1116f-9c16-4fbe-b08c-8a3b5e7ef81c button');\n",
              "      quickchartButtonEl.style.display =\n",
              "        google.colab.kernel.accessAllowed ? 'block' : 'none';\n",
              "    })();\n",
              "  </script>\n",
              "</div>\n",
              "    </div>\n",
              "  </div>\n"
            ]
          },
          "metadata": {},
          "execution_count": 147
        }
      ]
    },
    {
      "cell_type": "code",
      "source": [
        "data.head()"
      ],
      "metadata": {
        "id": "qFLtbT9MIIEa",
        "outputId": "31009798-e7a3-4772-fee1-2aebb0ec6317",
        "colab": {
          "base_uri": "https://localhost:8080/",
          "height": 261
        }
      },
      "execution_count": 148,
      "outputs": [
        {
          "output_type": "stream",
          "name": "stderr",
          "text": [
            "/usr/local/lib/python3.10/dist-packages/ipykernel/ipkernel.py:283: DeprecationWarning: `should_run_async` will not call `transform_cell` automatically in the future. Please pass the result to `transformed_cell` argument and any exception that happen during thetransform in `preprocessing_exc_tuple` in IPython 7.17 and above.\n",
            "  and should_run_async(code)\n"
          ]
        },
        {
          "output_type": "execute_result",
          "data": {
            "text/plain": [
              "  InvoiceNo StockCode                          Description  Quantity  \\\n",
              "0    536365    85123A   WHITE HANGING HEART T-LIGHT HOLDER         6   \n",
              "1    536365     71053                  WHITE METAL LANTERN         6   \n",
              "2    536365    84406B       CREAM CUPID HEARTS COAT HANGER         8   \n",
              "3    536365    84029G  KNITTED UNION FLAG HOT WATER BOTTLE         6   \n",
              "4    536365    84029E       RED WOOLLY HOTTIE WHITE HEART.         6   \n",
              "\n",
              "        InvoiceDate  UnitPrice  CustomerID         Country  \n",
              "0  12/01/2010 08:26       2.55     17850.0  United Kingdom  \n",
              "1  12/01/2010 08:26       3.39     17850.0  United Kingdom  \n",
              "2  12/01/2010 08:26       2.75     17850.0  United Kingdom  \n",
              "3  12/01/2010 08:26       3.39     17850.0  United Kingdom  \n",
              "4  12/01/2010 08:26       3.39     17850.0  United Kingdom  "
            ],
            "text/html": [
              "\n",
              "  <div id=\"df-1aaaff0a-6dc3-46d3-9ce7-187ad179bc41\" class=\"colab-df-container\">\n",
              "    <div>\n",
              "<style scoped>\n",
              "    .dataframe tbody tr th:only-of-type {\n",
              "        vertical-align: middle;\n",
              "    }\n",
              "\n",
              "    .dataframe tbody tr th {\n",
              "        vertical-align: top;\n",
              "    }\n",
              "\n",
              "    .dataframe thead th {\n",
              "        text-align: right;\n",
              "    }\n",
              "</style>\n",
              "<table border=\"1\" class=\"dataframe\">\n",
              "  <thead>\n",
              "    <tr style=\"text-align: right;\">\n",
              "      <th></th>\n",
              "      <th>InvoiceNo</th>\n",
              "      <th>StockCode</th>\n",
              "      <th>Description</th>\n",
              "      <th>Quantity</th>\n",
              "      <th>InvoiceDate</th>\n",
              "      <th>UnitPrice</th>\n",
              "      <th>CustomerID</th>\n",
              "      <th>Country</th>\n",
              "    </tr>\n",
              "  </thead>\n",
              "  <tbody>\n",
              "    <tr>\n",
              "      <th>0</th>\n",
              "      <td>536365</td>\n",
              "      <td>85123A</td>\n",
              "      <td>WHITE HANGING HEART T-LIGHT HOLDER</td>\n",
              "      <td>6</td>\n",
              "      <td>12/01/2010 08:26</td>\n",
              "      <td>2.55</td>\n",
              "      <td>17850.0</td>\n",
              "      <td>United Kingdom</td>\n",
              "    </tr>\n",
              "    <tr>\n",
              "      <th>1</th>\n",
              "      <td>536365</td>\n",
              "      <td>71053</td>\n",
              "      <td>WHITE METAL LANTERN</td>\n",
              "      <td>6</td>\n",
              "      <td>12/01/2010 08:26</td>\n",
              "      <td>3.39</td>\n",
              "      <td>17850.0</td>\n",
              "      <td>United Kingdom</td>\n",
              "    </tr>\n",
              "    <tr>\n",
              "      <th>2</th>\n",
              "      <td>536365</td>\n",
              "      <td>84406B</td>\n",
              "      <td>CREAM CUPID HEARTS COAT HANGER</td>\n",
              "      <td>8</td>\n",
              "      <td>12/01/2010 08:26</td>\n",
              "      <td>2.75</td>\n",
              "      <td>17850.0</td>\n",
              "      <td>United Kingdom</td>\n",
              "    </tr>\n",
              "    <tr>\n",
              "      <th>3</th>\n",
              "      <td>536365</td>\n",
              "      <td>84029G</td>\n",
              "      <td>KNITTED UNION FLAG HOT WATER BOTTLE</td>\n",
              "      <td>6</td>\n",
              "      <td>12/01/2010 08:26</td>\n",
              "      <td>3.39</td>\n",
              "      <td>17850.0</td>\n",
              "      <td>United Kingdom</td>\n",
              "    </tr>\n",
              "    <tr>\n",
              "      <th>4</th>\n",
              "      <td>536365</td>\n",
              "      <td>84029E</td>\n",
              "      <td>RED WOOLLY HOTTIE WHITE HEART.</td>\n",
              "      <td>6</td>\n",
              "      <td>12/01/2010 08:26</td>\n",
              "      <td>3.39</td>\n",
              "      <td>17850.0</td>\n",
              "      <td>United Kingdom</td>\n",
              "    </tr>\n",
              "  </tbody>\n",
              "</table>\n",
              "</div>\n",
              "    <div class=\"colab-df-buttons\">\n",
              "\n",
              "  <div class=\"colab-df-container\">\n",
              "    <button class=\"colab-df-convert\" onclick=\"convertToInteractive('df-1aaaff0a-6dc3-46d3-9ce7-187ad179bc41')\"\n",
              "            title=\"Convert this dataframe to an interactive table.\"\n",
              "            style=\"display:none;\">\n",
              "\n",
              "  <svg xmlns=\"http://www.w3.org/2000/svg\" height=\"24px\" viewBox=\"0 -960 960 960\">\n",
              "    <path d=\"M120-120v-720h720v720H120Zm60-500h600v-160H180v160Zm220 220h160v-160H400v160Zm0 220h160v-160H400v160ZM180-400h160v-160H180v160Zm440 0h160v-160H620v160ZM180-180h160v-160H180v160Zm440 0h160v-160H620v160Z\"/>\n",
              "  </svg>\n",
              "    </button>\n",
              "\n",
              "  <style>\n",
              "    .colab-df-container {\n",
              "      display:flex;\n",
              "      gap: 12px;\n",
              "    }\n",
              "\n",
              "    .colab-df-convert {\n",
              "      background-color: #E8F0FE;\n",
              "      border: none;\n",
              "      border-radius: 50%;\n",
              "      cursor: pointer;\n",
              "      display: none;\n",
              "      fill: #1967D2;\n",
              "      height: 32px;\n",
              "      padding: 0 0 0 0;\n",
              "      width: 32px;\n",
              "    }\n",
              "\n",
              "    .colab-df-convert:hover {\n",
              "      background-color: #E2EBFA;\n",
              "      box-shadow: 0px 1px 2px rgba(60, 64, 67, 0.3), 0px 1px 3px 1px rgba(60, 64, 67, 0.15);\n",
              "      fill: #174EA6;\n",
              "    }\n",
              "\n",
              "    .colab-df-buttons div {\n",
              "      margin-bottom: 4px;\n",
              "    }\n",
              "\n",
              "    [theme=dark] .colab-df-convert {\n",
              "      background-color: #3B4455;\n",
              "      fill: #D2E3FC;\n",
              "    }\n",
              "\n",
              "    [theme=dark] .colab-df-convert:hover {\n",
              "      background-color: #434B5C;\n",
              "      box-shadow: 0px 1px 3px 1px rgba(0, 0, 0, 0.15);\n",
              "      filter: drop-shadow(0px 1px 2px rgba(0, 0, 0, 0.3));\n",
              "      fill: #FFFFFF;\n",
              "    }\n",
              "  </style>\n",
              "\n",
              "    <script>\n",
              "      const buttonEl =\n",
              "        document.querySelector('#df-1aaaff0a-6dc3-46d3-9ce7-187ad179bc41 button.colab-df-convert');\n",
              "      buttonEl.style.display =\n",
              "        google.colab.kernel.accessAllowed ? 'block' : 'none';\n",
              "\n",
              "      async function convertToInteractive(key) {\n",
              "        const element = document.querySelector('#df-1aaaff0a-6dc3-46d3-9ce7-187ad179bc41');\n",
              "        const dataTable =\n",
              "          await google.colab.kernel.invokeFunction('convertToInteractive',\n",
              "                                                    [key], {});\n",
              "        if (!dataTable) return;\n",
              "\n",
              "        const docLinkHtml = 'Like what you see? Visit the ' +\n",
              "          '<a target=\"_blank\" href=https://colab.research.google.com/notebooks/data_table.ipynb>data table notebook</a>'\n",
              "          + ' to learn more about interactive tables.';\n",
              "        element.innerHTML = '';\n",
              "        dataTable['output_type'] = 'display_data';\n",
              "        await google.colab.output.renderOutput(dataTable, element);\n",
              "        const docLink = document.createElement('div');\n",
              "        docLink.innerHTML = docLinkHtml;\n",
              "        element.appendChild(docLink);\n",
              "      }\n",
              "    </script>\n",
              "  </div>\n",
              "\n",
              "\n",
              "<div id=\"df-cd5dba02-0cb1-437a-9951-c3cf348a2ed1\">\n",
              "  <button class=\"colab-df-quickchart\" onclick=\"quickchart('df-cd5dba02-0cb1-437a-9951-c3cf348a2ed1')\"\n",
              "            title=\"Suggest charts\"\n",
              "            style=\"display:none;\">\n",
              "\n",
              "<svg xmlns=\"http://www.w3.org/2000/svg\" height=\"24px\"viewBox=\"0 0 24 24\"\n",
              "     width=\"24px\">\n",
              "    <g>\n",
              "        <path d=\"M19 3H5c-1.1 0-2 .9-2 2v14c0 1.1.9 2 2 2h14c1.1 0 2-.9 2-2V5c0-1.1-.9-2-2-2zM9 17H7v-7h2v7zm4 0h-2V7h2v10zm4 0h-2v-4h2v4z\"/>\n",
              "    </g>\n",
              "</svg>\n",
              "  </button>\n",
              "\n",
              "<style>\n",
              "  .colab-df-quickchart {\n",
              "      --bg-color: #E8F0FE;\n",
              "      --fill-color: #1967D2;\n",
              "      --hover-bg-color: #E2EBFA;\n",
              "      --hover-fill-color: #174EA6;\n",
              "      --disabled-fill-color: #AAA;\n",
              "      --disabled-bg-color: #DDD;\n",
              "  }\n",
              "\n",
              "  [theme=dark] .colab-df-quickchart {\n",
              "      --bg-color: #3B4455;\n",
              "      --fill-color: #D2E3FC;\n",
              "      --hover-bg-color: #434B5C;\n",
              "      --hover-fill-color: #FFFFFF;\n",
              "      --disabled-bg-color: #3B4455;\n",
              "      --disabled-fill-color: #666;\n",
              "  }\n",
              "\n",
              "  .colab-df-quickchart {\n",
              "    background-color: var(--bg-color);\n",
              "    border: none;\n",
              "    border-radius: 50%;\n",
              "    cursor: pointer;\n",
              "    display: none;\n",
              "    fill: var(--fill-color);\n",
              "    height: 32px;\n",
              "    padding: 0;\n",
              "    width: 32px;\n",
              "  }\n",
              "\n",
              "  .colab-df-quickchart:hover {\n",
              "    background-color: var(--hover-bg-color);\n",
              "    box-shadow: 0 1px 2px rgba(60, 64, 67, 0.3), 0 1px 3px 1px rgba(60, 64, 67, 0.15);\n",
              "    fill: var(--button-hover-fill-color);\n",
              "  }\n",
              "\n",
              "  .colab-df-quickchart-complete:disabled,\n",
              "  .colab-df-quickchart-complete:disabled:hover {\n",
              "    background-color: var(--disabled-bg-color);\n",
              "    fill: var(--disabled-fill-color);\n",
              "    box-shadow: none;\n",
              "  }\n",
              "\n",
              "  .colab-df-spinner {\n",
              "    border: 2px solid var(--fill-color);\n",
              "    border-color: transparent;\n",
              "    border-bottom-color: var(--fill-color);\n",
              "    animation:\n",
              "      spin 1s steps(1) infinite;\n",
              "  }\n",
              "\n",
              "  @keyframes spin {\n",
              "    0% {\n",
              "      border-color: transparent;\n",
              "      border-bottom-color: var(--fill-color);\n",
              "      border-left-color: var(--fill-color);\n",
              "    }\n",
              "    20% {\n",
              "      border-color: transparent;\n",
              "      border-left-color: var(--fill-color);\n",
              "      border-top-color: var(--fill-color);\n",
              "    }\n",
              "    30% {\n",
              "      border-color: transparent;\n",
              "      border-left-color: var(--fill-color);\n",
              "      border-top-color: var(--fill-color);\n",
              "      border-right-color: var(--fill-color);\n",
              "    }\n",
              "    40% {\n",
              "      border-color: transparent;\n",
              "      border-right-color: var(--fill-color);\n",
              "      border-top-color: var(--fill-color);\n",
              "    }\n",
              "    60% {\n",
              "      border-color: transparent;\n",
              "      border-right-color: var(--fill-color);\n",
              "    }\n",
              "    80% {\n",
              "      border-color: transparent;\n",
              "      border-right-color: var(--fill-color);\n",
              "      border-bottom-color: var(--fill-color);\n",
              "    }\n",
              "    90% {\n",
              "      border-color: transparent;\n",
              "      border-bottom-color: var(--fill-color);\n",
              "    }\n",
              "  }\n",
              "</style>\n",
              "\n",
              "  <script>\n",
              "    async function quickchart(key) {\n",
              "      const quickchartButtonEl =\n",
              "        document.querySelector('#' + key + ' button');\n",
              "      quickchartButtonEl.disabled = true;  // To prevent multiple clicks.\n",
              "      quickchartButtonEl.classList.add('colab-df-spinner');\n",
              "      try {\n",
              "        const charts = await google.colab.kernel.invokeFunction(\n",
              "            'suggestCharts', [key], {});\n",
              "      } catch (error) {\n",
              "        console.error('Error during call to suggestCharts:', error);\n",
              "      }\n",
              "      quickchartButtonEl.classList.remove('colab-df-spinner');\n",
              "      quickchartButtonEl.classList.add('colab-df-quickchart-complete');\n",
              "    }\n",
              "    (() => {\n",
              "      let quickchartButtonEl =\n",
              "        document.querySelector('#df-cd5dba02-0cb1-437a-9951-c3cf348a2ed1 button');\n",
              "      quickchartButtonEl.style.display =\n",
              "        google.colab.kernel.accessAllowed ? 'block' : 'none';\n",
              "    })();\n",
              "  </script>\n",
              "</div>\n",
              "    </div>\n",
              "  </div>\n"
            ]
          },
          "metadata": {},
          "execution_count": 148
        }
      ]
    },
    {
      "cell_type": "code",
      "source": [
        "type(data['Description'][0])"
      ],
      "metadata": {
        "id": "F_1hDXBp829y",
        "outputId": "06c21aef-229a-4da0-e69f-07d32781ab3e",
        "colab": {
          "base_uri": "https://localhost:8080/"
        }
      },
      "execution_count": 149,
      "outputs": [
        {
          "output_type": "stream",
          "name": "stderr",
          "text": [
            "/usr/local/lib/python3.10/dist-packages/ipykernel/ipkernel.py:283: DeprecationWarning: `should_run_async` will not call `transform_cell` automatically in the future. Please pass the result to `transformed_cell` argument and any exception that happen during thetransform in `preprocessing_exc_tuple` in IPython 7.17 and above.\n",
            "  and should_run_async(code)\n"
          ]
        },
        {
          "output_type": "execute_result",
          "data": {
            "text/plain": [
              "str"
            ]
          },
          "metadata": {},
          "execution_count": 149
        }
      ]
    },
    {
      "cell_type": "markdown",
      "source": [
        "##การเตรียมข้อมูล"
      ],
      "metadata": {
        "id": "FZUGl3rlf7r6"
      }
    },
    {
      "cell_type": "markdown",
      "source": [
        "###เเยกวันเดือนปีออกจากเวลา\n",
        "เเยกวันเดือนปี\n",
        "ออกจากเวลา ในคอลัมน์ InvoiceDate ด้วย split"
      ],
      "metadata": {
        "id": "aH9OGSFnK85h"
      }
    },
    {
      "cell_type": "code",
      "source": [
        "data['InvoiceDate'][0].split()[0]"
      ],
      "metadata": {
        "id": "7i_uDjsyipdD",
        "outputId": "a3f555ed-8f4e-4e92-96d8-695b7ce7c61e",
        "colab": {
          "base_uri": "https://localhost:8080/",
          "height": 90
        }
      },
      "execution_count": 150,
      "outputs": [
        {
          "output_type": "stream",
          "name": "stderr",
          "text": [
            "/usr/local/lib/python3.10/dist-packages/ipykernel/ipkernel.py:283: DeprecationWarning: `should_run_async` will not call `transform_cell` automatically in the future. Please pass the result to `transformed_cell` argument and any exception that happen during thetransform in `preprocessing_exc_tuple` in IPython 7.17 and above.\n",
            "  and should_run_async(code)\n"
          ]
        },
        {
          "output_type": "execute_result",
          "data": {
            "text/plain": [
              "'12/01/2010'"
            ],
            "application/vnd.google.colaboratory.intrinsic+json": {
              "type": "string"
            }
          },
          "metadata": {},
          "execution_count": 150
        }
      ]
    },
    {
      "cell_type": "code",
      "source": [
        "date =[]\n",
        "for i in range(len(data['InvoiceDate'])):\n",
        "  x = data['InvoiceDate'][i].split()[0]\n",
        "  date.append(x)\n",
        "#set(L)"
      ],
      "metadata": {
        "id": "vTqWjasxftc3",
        "outputId": "d51870b2-4c0e-4735-af67-c85292ed13a2",
        "colab": {
          "base_uri": "https://localhost:8080/"
        }
      },
      "execution_count": 151,
      "outputs": [
        {
          "output_type": "stream",
          "name": "stderr",
          "text": [
            "/usr/local/lib/python3.10/dist-packages/ipykernel/ipkernel.py:283: DeprecationWarning: `should_run_async` will not call `transform_cell` automatically in the future. Please pass the result to `transformed_cell` argument and any exception that happen during thetransform in `preprocessing_exc_tuple` in IPython 7.17 and above.\n",
            "  and should_run_async(code)\n"
          ]
        }
      ]
    },
    {
      "cell_type": "code",
      "source": [
        "date[0].split('/')"
      ],
      "metadata": {
        "id": "XCsoxDOxI4qC",
        "outputId": "7aaf4e22-701e-4ac2-d8f2-fe83d39b42ee",
        "colab": {
          "base_uri": "https://localhost:8080/"
        }
      },
      "execution_count": 152,
      "outputs": [
        {
          "output_type": "stream",
          "name": "stderr",
          "text": [
            "/usr/local/lib/python3.10/dist-packages/ipykernel/ipkernel.py:283: DeprecationWarning: `should_run_async` will not call `transform_cell` automatically in the future. Please pass the result to `transformed_cell` argument and any exception that happen during thetransform in `preprocessing_exc_tuple` in IPython 7.17 and above.\n",
            "  and should_run_async(code)\n"
          ]
        },
        {
          "output_type": "execute_result",
          "data": {
            "text/plain": [
              "['12', '01', '2010']"
            ]
          },
          "metadata": {},
          "execution_count": 152
        }
      ]
    },
    {
      "cell_type": "markdown",
      "source": [
        "ปรับ 'date' เป็นสตริงที่มีรูปแบบ 'dd/mm/yyyy' (วัน/เดือน/ปี)"
      ],
      "metadata": {
        "id": "BAljDOrnbro9"
      }
    },
    {
      "cell_type": "code",
      "source": [
        "day =[]\n",
        "month =[]\n",
        "year =[]\n",
        "for i in range(len(data['InvoiceDate'])):\n",
        "  x = date[i].split('/')[0]\n",
        "  y = date[i].split('/')[1]\n",
        "  z = date[i].split('/')[2]\n",
        "  month.append(x)\n",
        "  day.append(y)\n",
        "  year.append(z)"
      ],
      "metadata": {
        "id": "nxketEqGJSDo",
        "outputId": "2cc3d412-e9e7-4406-b332-b5bc41792cad",
        "colab": {
          "base_uri": "https://localhost:8080/"
        }
      },
      "execution_count": 153,
      "outputs": [
        {
          "output_type": "stream",
          "name": "stderr",
          "text": [
            "/usr/local/lib/python3.10/dist-packages/ipykernel/ipkernel.py:283: DeprecationWarning: `should_run_async` will not call `transform_cell` automatically in the future. Please pass the result to `transformed_cell` argument and any exception that happen during thetransform in `preprocessing_exc_tuple` in IPython 7.17 and above.\n",
            "  and should_run_async(code)\n"
          ]
        }
      ]
    },
    {
      "cell_type": "markdown",
      "source": [
        "สร้าง DataFrame ใหม่ ตามข้อมูลที่มีอยู่เเละเพิ่มคอลัมน์ใหม่ ('date', 'day', 'month', 'year')"
      ],
      "metadata": {
        "id": "P4TWn1qLcEGn"
      }
    },
    {
      "cell_type": "code",
      "source": [
        "data_test_nonclane=data.copy()"
      ],
      "metadata": {
        "id": "Mbgng50nF_dX",
        "outputId": "0da4c777-d06f-449d-e647-2560d798fdda",
        "colab": {
          "base_uri": "https://localhost:8080/"
        }
      },
      "execution_count": 154,
      "outputs": [
        {
          "output_type": "stream",
          "name": "stderr",
          "text": [
            "/usr/local/lib/python3.10/dist-packages/ipykernel/ipkernel.py:283: DeprecationWarning: `should_run_async` will not call `transform_cell` automatically in the future. Please pass the result to `transformed_cell` argument and any exception that happen during thetransform in `preprocessing_exc_tuple` in IPython 7.17 and above.\n",
            "  and should_run_async(code)\n"
          ]
        }
      ]
    },
    {
      "cell_type": "code",
      "source": [
        "data_test_nonclane['date']=date\n",
        "data_test_nonclane['day']=day\n",
        "data_test_nonclane['month']=month\n",
        "data_test_nonclane['year']=year"
      ],
      "metadata": {
        "id": "Yd3uW_A9KJe0",
        "outputId": "ebce5005-0e71-4213-b89e-e3198bd1bde9",
        "colab": {
          "base_uri": "https://localhost:8080/"
        }
      },
      "execution_count": 155,
      "outputs": [
        {
          "output_type": "stream",
          "name": "stderr",
          "text": [
            "/usr/local/lib/python3.10/dist-packages/ipykernel/ipkernel.py:283: DeprecationWarning: `should_run_async` will not call `transform_cell` automatically in the future. Please pass the result to `transformed_cell` argument and any exception that happen during thetransform in `preprocessing_exc_tuple` in IPython 7.17 and above.\n",
            "  and should_run_async(code)\n"
          ]
        }
      ]
    },
    {
      "cell_type": "markdown",
      "source": [
        "แปลงค่าวันเเละเดือนที่แสดงเป็นสตริงเป็นค่าตัวเลข ด้วย replace"
      ],
      "metadata": {
        "id": "Gjk4rQvlcQlg"
      }
    },
    {
      "cell_type": "code",
      "source": [
        "set(data_test_nonclane['day'])"
      ],
      "metadata": {
        "id": "pGlaTNAOK5S5",
        "outputId": "5204097b-f4a3-4776-dbe7-bb3129d31c74",
        "colab": {
          "base_uri": "https://localhost:8080/"
        }
      },
      "execution_count": 156,
      "outputs": [
        {
          "output_type": "stream",
          "name": "stderr",
          "text": [
            "/usr/local/lib/python3.10/dist-packages/ipykernel/ipkernel.py:283: DeprecationWarning: `should_run_async` will not call `transform_cell` automatically in the future. Please pass the result to `transformed_cell` argument and any exception that happen during thetransform in `preprocessing_exc_tuple` in IPython 7.17 and above.\n",
            "  and should_run_async(code)\n"
          ]
        },
        {
          "output_type": "execute_result",
          "data": {
            "text/plain": [
              "{'01',\n",
              " '02',\n",
              " '03',\n",
              " '04',\n",
              " '05',\n",
              " '06',\n",
              " '07',\n",
              " '08',\n",
              " '09',\n",
              " '10',\n",
              " '11',\n",
              " '12',\n",
              " '13',\n",
              " '14',\n",
              " '15',\n",
              " '16',\n",
              " '17',\n",
              " '18',\n",
              " '19',\n",
              " '20',\n",
              " '21',\n",
              " '22',\n",
              " '23',\n",
              " '24',\n",
              " '25',\n",
              " '26',\n",
              " '27',\n",
              " '28',\n",
              " '29',\n",
              " '30',\n",
              " '31'}"
            ]
          },
          "metadata": {},
          "execution_count": 156
        }
      ]
    },
    {
      "cell_type": "markdown",
      "source": [
        "###เเปลงให้ค่าเดือนอยู่ในหน่วยเดียวกัน"
      ],
      "metadata": {
        "id": "uN17CpsjM9CH"
      }
    },
    {
      "cell_type": "code",
      "source": [
        "data_test_nonclane[(data_test_nonclane['month']=='01')|(data_test_nonclane['month']=='02')|(data_test_nonclane['month']=='03')|(data_test_nonclane['month']=='04')|(data_test_nonclane['month']=='05')|(data_test_nonclane['month']=='06')|\n",
        "                   (data_test_nonclane['month']=='07')|(data_test_nonclane['month']=='08')|(data_test_nonclane['month']=='09')]"
      ],
      "metadata": {
        "id": "2eaFZ6MDFFlW",
        "outputId": "8b143456-65de-4594-bf1a-449aa8d9af24",
        "colab": {
          "base_uri": "https://localhost:8080/",
          "height": 478
        }
      },
      "execution_count": 157,
      "outputs": [
        {
          "output_type": "stream",
          "name": "stderr",
          "text": [
            "/usr/local/lib/python3.10/dist-packages/ipykernel/ipkernel.py:283: DeprecationWarning: `should_run_async` will not call `transform_cell` automatically in the future. Please pass the result to `transformed_cell` argument and any exception that happen during thetransform in `preprocessing_exc_tuple` in IPython 7.17 and above.\n",
            "  and should_run_async(code)\n"
          ]
        },
        {
          "output_type": "execute_result",
          "data": {
            "text/plain": [
              "       InvoiceNo StockCode                         Description  Quantity  \\\n",
              "42481     539993     22386             JUMBO BAG PINK POLKADOT        10   \n",
              "42482     539993     21499                  BLUE POLKADOT WRAP        25   \n",
              "42483     539993     21498                 RED RETROSPOT WRAP         25   \n",
              "42484     539993     22379            RECYCLING BAG RETROSPOT          5   \n",
              "42485     539993     20718           RED RETROSPOT SHOPPER BAG        10   \n",
              "...          ...       ...                                 ...       ...   \n",
              "337783   C566471    85123A  WHITE HANGING HEART T-LIGHT HOLDER        -1   \n",
              "337784   C566472     47566                       PARTY BUNTING        -8   \n",
              "337785   C566473     82483  WOOD 2 DRAWER CABINET WHITE FINISH        -2   \n",
              "337786   C566474     22960            JAM MAKING SET WITH JARS        -1   \n",
              "337787   C566475         D                            Discount        -1   \n",
              "\n",
              "             InvoiceDate  UnitPrice  CustomerID         Country        date  \\\n",
              "42481   01/04/2011 10:00       1.95     13313.0  United Kingdom  01/04/2011   \n",
              "42482   01/04/2011 10:00       0.42     13313.0  United Kingdom  01/04/2011   \n",
              "42483   01/04/2011 10:00       0.42     13313.0  United Kingdom  01/04/2011   \n",
              "42484   01/04/2011 10:00       2.10     13313.0  United Kingdom  01/04/2011   \n",
              "42485   01/04/2011 10:00       1.25     13313.0  United Kingdom  01/04/2011   \n",
              "...                  ...        ...         ...             ...         ...   \n",
              "337783  09/12/2011 18:18       2.95     16670.0  United Kingdom  09/12/2011   \n",
              "337784  09/12/2011 18:19       4.95     16187.0  United Kingdom  09/12/2011   \n",
              "337785  09/12/2011 18:25       6.95     16705.0  United Kingdom  09/12/2011   \n",
              "337786  09/12/2011 18:26       4.25     15136.0  United Kingdom  09/12/2011   \n",
              "337787  09/12/2011 18:26      20.75     14527.0  United Kingdom  09/12/2011   \n",
              "\n",
              "       day month  year  \n",
              "42481   04    01  2011  \n",
              "42482   04    01  2011  \n",
              "42483   04    01  2011  \n",
              "42484   04    01  2011  \n",
              "42485   04    01  2011  \n",
              "...     ..   ...   ...  \n",
              "337783  12    09  2011  \n",
              "337784  12    09  2011  \n",
              "337785  12    09  2011  \n",
              "337786  12    09  2011  \n",
              "337787  12    09  2011  \n",
              "\n",
              "[127400 rows x 12 columns]"
            ],
            "text/html": [
              "\n",
              "  <div id=\"df-374271e7-fb0e-472c-b616-18c637ff51f3\" class=\"colab-df-container\">\n",
              "    <div>\n",
              "<style scoped>\n",
              "    .dataframe tbody tr th:only-of-type {\n",
              "        vertical-align: middle;\n",
              "    }\n",
              "\n",
              "    .dataframe tbody tr th {\n",
              "        vertical-align: top;\n",
              "    }\n",
              "\n",
              "    .dataframe thead th {\n",
              "        text-align: right;\n",
              "    }\n",
              "</style>\n",
              "<table border=\"1\" class=\"dataframe\">\n",
              "  <thead>\n",
              "    <tr style=\"text-align: right;\">\n",
              "      <th></th>\n",
              "      <th>InvoiceNo</th>\n",
              "      <th>StockCode</th>\n",
              "      <th>Description</th>\n",
              "      <th>Quantity</th>\n",
              "      <th>InvoiceDate</th>\n",
              "      <th>UnitPrice</th>\n",
              "      <th>CustomerID</th>\n",
              "      <th>Country</th>\n",
              "      <th>date</th>\n",
              "      <th>day</th>\n",
              "      <th>month</th>\n",
              "      <th>year</th>\n",
              "    </tr>\n",
              "  </thead>\n",
              "  <tbody>\n",
              "    <tr>\n",
              "      <th>42481</th>\n",
              "      <td>539993</td>\n",
              "      <td>22386</td>\n",
              "      <td>JUMBO BAG PINK POLKADOT</td>\n",
              "      <td>10</td>\n",
              "      <td>01/04/2011 10:00</td>\n",
              "      <td>1.95</td>\n",
              "      <td>13313.0</td>\n",
              "      <td>United Kingdom</td>\n",
              "      <td>01/04/2011</td>\n",
              "      <td>04</td>\n",
              "      <td>01</td>\n",
              "      <td>2011</td>\n",
              "    </tr>\n",
              "    <tr>\n",
              "      <th>42482</th>\n",
              "      <td>539993</td>\n",
              "      <td>21499</td>\n",
              "      <td>BLUE POLKADOT WRAP</td>\n",
              "      <td>25</td>\n",
              "      <td>01/04/2011 10:00</td>\n",
              "      <td>0.42</td>\n",
              "      <td>13313.0</td>\n",
              "      <td>United Kingdom</td>\n",
              "      <td>01/04/2011</td>\n",
              "      <td>04</td>\n",
              "      <td>01</td>\n",
              "      <td>2011</td>\n",
              "    </tr>\n",
              "    <tr>\n",
              "      <th>42483</th>\n",
              "      <td>539993</td>\n",
              "      <td>21498</td>\n",
              "      <td>RED RETROSPOT WRAP</td>\n",
              "      <td>25</td>\n",
              "      <td>01/04/2011 10:00</td>\n",
              "      <td>0.42</td>\n",
              "      <td>13313.0</td>\n",
              "      <td>United Kingdom</td>\n",
              "      <td>01/04/2011</td>\n",
              "      <td>04</td>\n",
              "      <td>01</td>\n",
              "      <td>2011</td>\n",
              "    </tr>\n",
              "    <tr>\n",
              "      <th>42484</th>\n",
              "      <td>539993</td>\n",
              "      <td>22379</td>\n",
              "      <td>RECYCLING BAG RETROSPOT</td>\n",
              "      <td>5</td>\n",
              "      <td>01/04/2011 10:00</td>\n",
              "      <td>2.10</td>\n",
              "      <td>13313.0</td>\n",
              "      <td>United Kingdom</td>\n",
              "      <td>01/04/2011</td>\n",
              "      <td>04</td>\n",
              "      <td>01</td>\n",
              "      <td>2011</td>\n",
              "    </tr>\n",
              "    <tr>\n",
              "      <th>42485</th>\n",
              "      <td>539993</td>\n",
              "      <td>20718</td>\n",
              "      <td>RED RETROSPOT SHOPPER BAG</td>\n",
              "      <td>10</td>\n",
              "      <td>01/04/2011 10:00</td>\n",
              "      <td>1.25</td>\n",
              "      <td>13313.0</td>\n",
              "      <td>United Kingdom</td>\n",
              "      <td>01/04/2011</td>\n",
              "      <td>04</td>\n",
              "      <td>01</td>\n",
              "      <td>2011</td>\n",
              "    </tr>\n",
              "    <tr>\n",
              "      <th>...</th>\n",
              "      <td>...</td>\n",
              "      <td>...</td>\n",
              "      <td>...</td>\n",
              "      <td>...</td>\n",
              "      <td>...</td>\n",
              "      <td>...</td>\n",
              "      <td>...</td>\n",
              "      <td>...</td>\n",
              "      <td>...</td>\n",
              "      <td>...</td>\n",
              "      <td>...</td>\n",
              "      <td>...</td>\n",
              "    </tr>\n",
              "    <tr>\n",
              "      <th>337783</th>\n",
              "      <td>C566471</td>\n",
              "      <td>85123A</td>\n",
              "      <td>WHITE HANGING HEART T-LIGHT HOLDER</td>\n",
              "      <td>-1</td>\n",
              "      <td>09/12/2011 18:18</td>\n",
              "      <td>2.95</td>\n",
              "      <td>16670.0</td>\n",
              "      <td>United Kingdom</td>\n",
              "      <td>09/12/2011</td>\n",
              "      <td>12</td>\n",
              "      <td>09</td>\n",
              "      <td>2011</td>\n",
              "    </tr>\n",
              "    <tr>\n",
              "      <th>337784</th>\n",
              "      <td>C566472</td>\n",
              "      <td>47566</td>\n",
              "      <td>PARTY BUNTING</td>\n",
              "      <td>-8</td>\n",
              "      <td>09/12/2011 18:19</td>\n",
              "      <td>4.95</td>\n",
              "      <td>16187.0</td>\n",
              "      <td>United Kingdom</td>\n",
              "      <td>09/12/2011</td>\n",
              "      <td>12</td>\n",
              "      <td>09</td>\n",
              "      <td>2011</td>\n",
              "    </tr>\n",
              "    <tr>\n",
              "      <th>337785</th>\n",
              "      <td>C566473</td>\n",
              "      <td>82483</td>\n",
              "      <td>WOOD 2 DRAWER CABINET WHITE FINISH</td>\n",
              "      <td>-2</td>\n",
              "      <td>09/12/2011 18:25</td>\n",
              "      <td>6.95</td>\n",
              "      <td>16705.0</td>\n",
              "      <td>United Kingdom</td>\n",
              "      <td>09/12/2011</td>\n",
              "      <td>12</td>\n",
              "      <td>09</td>\n",
              "      <td>2011</td>\n",
              "    </tr>\n",
              "    <tr>\n",
              "      <th>337786</th>\n",
              "      <td>C566474</td>\n",
              "      <td>22960</td>\n",
              "      <td>JAM MAKING SET WITH JARS</td>\n",
              "      <td>-1</td>\n",
              "      <td>09/12/2011 18:26</td>\n",
              "      <td>4.25</td>\n",
              "      <td>15136.0</td>\n",
              "      <td>United Kingdom</td>\n",
              "      <td>09/12/2011</td>\n",
              "      <td>12</td>\n",
              "      <td>09</td>\n",
              "      <td>2011</td>\n",
              "    </tr>\n",
              "    <tr>\n",
              "      <th>337787</th>\n",
              "      <td>C566475</td>\n",
              "      <td>D</td>\n",
              "      <td>Discount</td>\n",
              "      <td>-1</td>\n",
              "      <td>09/12/2011 18:26</td>\n",
              "      <td>20.75</td>\n",
              "      <td>14527.0</td>\n",
              "      <td>United Kingdom</td>\n",
              "      <td>09/12/2011</td>\n",
              "      <td>12</td>\n",
              "      <td>09</td>\n",
              "      <td>2011</td>\n",
              "    </tr>\n",
              "  </tbody>\n",
              "</table>\n",
              "<p>127400 rows × 12 columns</p>\n",
              "</div>\n",
              "    <div class=\"colab-df-buttons\">\n",
              "\n",
              "  <div class=\"colab-df-container\">\n",
              "    <button class=\"colab-df-convert\" onclick=\"convertToInteractive('df-374271e7-fb0e-472c-b616-18c637ff51f3')\"\n",
              "            title=\"Convert this dataframe to an interactive table.\"\n",
              "            style=\"display:none;\">\n",
              "\n",
              "  <svg xmlns=\"http://www.w3.org/2000/svg\" height=\"24px\" viewBox=\"0 -960 960 960\">\n",
              "    <path d=\"M120-120v-720h720v720H120Zm60-500h600v-160H180v160Zm220 220h160v-160H400v160Zm0 220h160v-160H400v160ZM180-400h160v-160H180v160Zm440 0h160v-160H620v160ZM180-180h160v-160H180v160Zm440 0h160v-160H620v160Z\"/>\n",
              "  </svg>\n",
              "    </button>\n",
              "\n",
              "  <style>\n",
              "    .colab-df-container {\n",
              "      display:flex;\n",
              "      gap: 12px;\n",
              "    }\n",
              "\n",
              "    .colab-df-convert {\n",
              "      background-color: #E8F0FE;\n",
              "      border: none;\n",
              "      border-radius: 50%;\n",
              "      cursor: pointer;\n",
              "      display: none;\n",
              "      fill: #1967D2;\n",
              "      height: 32px;\n",
              "      padding: 0 0 0 0;\n",
              "      width: 32px;\n",
              "    }\n",
              "\n",
              "    .colab-df-convert:hover {\n",
              "      background-color: #E2EBFA;\n",
              "      box-shadow: 0px 1px 2px rgba(60, 64, 67, 0.3), 0px 1px 3px 1px rgba(60, 64, 67, 0.15);\n",
              "      fill: #174EA6;\n",
              "    }\n",
              "\n",
              "    .colab-df-buttons div {\n",
              "      margin-bottom: 4px;\n",
              "    }\n",
              "\n",
              "    [theme=dark] .colab-df-convert {\n",
              "      background-color: #3B4455;\n",
              "      fill: #D2E3FC;\n",
              "    }\n",
              "\n",
              "    [theme=dark] .colab-df-convert:hover {\n",
              "      background-color: #434B5C;\n",
              "      box-shadow: 0px 1px 3px 1px rgba(0, 0, 0, 0.15);\n",
              "      filter: drop-shadow(0px 1px 2px rgba(0, 0, 0, 0.3));\n",
              "      fill: #FFFFFF;\n",
              "    }\n",
              "  </style>\n",
              "\n",
              "    <script>\n",
              "      const buttonEl =\n",
              "        document.querySelector('#df-374271e7-fb0e-472c-b616-18c637ff51f3 button.colab-df-convert');\n",
              "      buttonEl.style.display =\n",
              "        google.colab.kernel.accessAllowed ? 'block' : 'none';\n",
              "\n",
              "      async function convertToInteractive(key) {\n",
              "        const element = document.querySelector('#df-374271e7-fb0e-472c-b616-18c637ff51f3');\n",
              "        const dataTable =\n",
              "          await google.colab.kernel.invokeFunction('convertToInteractive',\n",
              "                                                    [key], {});\n",
              "        if (!dataTable) return;\n",
              "\n",
              "        const docLinkHtml = 'Like what you see? Visit the ' +\n",
              "          '<a target=\"_blank\" href=https://colab.research.google.com/notebooks/data_table.ipynb>data table notebook</a>'\n",
              "          + ' to learn more about interactive tables.';\n",
              "        element.innerHTML = '';\n",
              "        dataTable['output_type'] = 'display_data';\n",
              "        await google.colab.output.renderOutput(dataTable, element);\n",
              "        const docLink = document.createElement('div');\n",
              "        docLink.innerHTML = docLinkHtml;\n",
              "        element.appendChild(docLink);\n",
              "      }\n",
              "    </script>\n",
              "  </div>\n",
              "\n",
              "\n",
              "<div id=\"df-ed9daf7c-8676-4e80-81df-39afd206acd4\">\n",
              "  <button class=\"colab-df-quickchart\" onclick=\"quickchart('df-ed9daf7c-8676-4e80-81df-39afd206acd4')\"\n",
              "            title=\"Suggest charts\"\n",
              "            style=\"display:none;\">\n",
              "\n",
              "<svg xmlns=\"http://www.w3.org/2000/svg\" height=\"24px\"viewBox=\"0 0 24 24\"\n",
              "     width=\"24px\">\n",
              "    <g>\n",
              "        <path d=\"M19 3H5c-1.1 0-2 .9-2 2v14c0 1.1.9 2 2 2h14c1.1 0 2-.9 2-2V5c0-1.1-.9-2-2-2zM9 17H7v-7h2v7zm4 0h-2V7h2v10zm4 0h-2v-4h2v4z\"/>\n",
              "    </g>\n",
              "</svg>\n",
              "  </button>\n",
              "\n",
              "<style>\n",
              "  .colab-df-quickchart {\n",
              "      --bg-color: #E8F0FE;\n",
              "      --fill-color: #1967D2;\n",
              "      --hover-bg-color: #E2EBFA;\n",
              "      --hover-fill-color: #174EA6;\n",
              "      --disabled-fill-color: #AAA;\n",
              "      --disabled-bg-color: #DDD;\n",
              "  }\n",
              "\n",
              "  [theme=dark] .colab-df-quickchart {\n",
              "      --bg-color: #3B4455;\n",
              "      --fill-color: #D2E3FC;\n",
              "      --hover-bg-color: #434B5C;\n",
              "      --hover-fill-color: #FFFFFF;\n",
              "      --disabled-bg-color: #3B4455;\n",
              "      --disabled-fill-color: #666;\n",
              "  }\n",
              "\n",
              "  .colab-df-quickchart {\n",
              "    background-color: var(--bg-color);\n",
              "    border: none;\n",
              "    border-radius: 50%;\n",
              "    cursor: pointer;\n",
              "    display: none;\n",
              "    fill: var(--fill-color);\n",
              "    height: 32px;\n",
              "    padding: 0;\n",
              "    width: 32px;\n",
              "  }\n",
              "\n",
              "  .colab-df-quickchart:hover {\n",
              "    background-color: var(--hover-bg-color);\n",
              "    box-shadow: 0 1px 2px rgba(60, 64, 67, 0.3), 0 1px 3px 1px rgba(60, 64, 67, 0.15);\n",
              "    fill: var(--button-hover-fill-color);\n",
              "  }\n",
              "\n",
              "  .colab-df-quickchart-complete:disabled,\n",
              "  .colab-df-quickchart-complete:disabled:hover {\n",
              "    background-color: var(--disabled-bg-color);\n",
              "    fill: var(--disabled-fill-color);\n",
              "    box-shadow: none;\n",
              "  }\n",
              "\n",
              "  .colab-df-spinner {\n",
              "    border: 2px solid var(--fill-color);\n",
              "    border-color: transparent;\n",
              "    border-bottom-color: var(--fill-color);\n",
              "    animation:\n",
              "      spin 1s steps(1) infinite;\n",
              "  }\n",
              "\n",
              "  @keyframes spin {\n",
              "    0% {\n",
              "      border-color: transparent;\n",
              "      border-bottom-color: var(--fill-color);\n",
              "      border-left-color: var(--fill-color);\n",
              "    }\n",
              "    20% {\n",
              "      border-color: transparent;\n",
              "      border-left-color: var(--fill-color);\n",
              "      border-top-color: var(--fill-color);\n",
              "    }\n",
              "    30% {\n",
              "      border-color: transparent;\n",
              "      border-left-color: var(--fill-color);\n",
              "      border-top-color: var(--fill-color);\n",
              "      border-right-color: var(--fill-color);\n",
              "    }\n",
              "    40% {\n",
              "      border-color: transparent;\n",
              "      border-right-color: var(--fill-color);\n",
              "      border-top-color: var(--fill-color);\n",
              "    }\n",
              "    60% {\n",
              "      border-color: transparent;\n",
              "      border-right-color: var(--fill-color);\n",
              "    }\n",
              "    80% {\n",
              "      border-color: transparent;\n",
              "      border-right-color: var(--fill-color);\n",
              "      border-bottom-color: var(--fill-color);\n",
              "    }\n",
              "    90% {\n",
              "      border-color: transparent;\n",
              "      border-bottom-color: var(--fill-color);\n",
              "    }\n",
              "  }\n",
              "</style>\n",
              "\n",
              "  <script>\n",
              "    async function quickchart(key) {\n",
              "      const quickchartButtonEl =\n",
              "        document.querySelector('#' + key + ' button');\n",
              "      quickchartButtonEl.disabled = true;  // To prevent multiple clicks.\n",
              "      quickchartButtonEl.classList.add('colab-df-spinner');\n",
              "      try {\n",
              "        const charts = await google.colab.kernel.invokeFunction(\n",
              "            'suggestCharts', [key], {});\n",
              "      } catch (error) {\n",
              "        console.error('Error during call to suggestCharts:', error);\n",
              "      }\n",
              "      quickchartButtonEl.classList.remove('colab-df-spinner');\n",
              "      quickchartButtonEl.classList.add('colab-df-quickchart-complete');\n",
              "    }\n",
              "    (() => {\n",
              "      let quickchartButtonEl =\n",
              "        document.querySelector('#df-ed9daf7c-8676-4e80-81df-39afd206acd4 button');\n",
              "      quickchartButtonEl.style.display =\n",
              "        google.colab.kernel.accessAllowed ? 'block' : 'none';\n",
              "    })();\n",
              "  </script>\n",
              "</div>\n",
              "    </div>\n",
              "  </div>\n"
            ]
          },
          "metadata": {},
          "execution_count": 157
        }
      ]
    },
    {
      "cell_type": "markdown",
      "source": [
        "แปลงเดือน"
      ],
      "metadata": {
        "id": "CwueIP2ZObpU"
      }
    },
    {
      "cell_type": "code",
      "source": [
        "data_test=data_test_nonclane.replace(to_replace=[\"1\", \"2\",'3','4','5','6','7','8','9','10','11','12','01','02','03','04','05','06','07','08','09'],value=[1, 2,3,4,5,6,7,8,9,10,11,12,1,2,3,4,5,6,7,8,9])"
      ],
      "metadata": {
        "id": "JUaoU6HGJbqt",
        "outputId": "d0ee7614-a106-4eac-8e45-33055f8afab7",
        "colab": {
          "base_uri": "https://localhost:8080/"
        }
      },
      "execution_count": 158,
      "outputs": [
        {
          "output_type": "stream",
          "name": "stderr",
          "text": [
            "/usr/local/lib/python3.10/dist-packages/ipykernel/ipkernel.py:283: DeprecationWarning: `should_run_async` will not call `transform_cell` automatically in the future. Please pass the result to `transformed_cell` argument and any exception that happen during thetransform in `preprocessing_exc_tuple` in IPython 7.17 and above.\n",
            "  and should_run_async(code)\n"
          ]
        }
      ]
    },
    {
      "cell_type": "code",
      "source": [
        "set(data_test['day'])"
      ],
      "metadata": {
        "id": "ZSeqURy_Lzhm",
        "outputId": "39b076e4-cf26-495f-8a6d-6b77bf3dc842",
        "colab": {
          "base_uri": "https://localhost:8080/"
        }
      },
      "execution_count": 159,
      "outputs": [
        {
          "output_type": "stream",
          "name": "stderr",
          "text": [
            "/usr/local/lib/python3.10/dist-packages/ipykernel/ipkernel.py:283: DeprecationWarning: `should_run_async` will not call `transform_cell` automatically in the future. Please pass the result to `transformed_cell` argument and any exception that happen during thetransform in `preprocessing_exc_tuple` in IPython 7.17 and above.\n",
            "  and should_run_async(code)\n"
          ]
        },
        {
          "output_type": "execute_result",
          "data": {
            "text/plain": [
              "{1,\n",
              " 10,\n",
              " 11,\n",
              " 12,\n",
              " '13',\n",
              " '14',\n",
              " '15',\n",
              " '16',\n",
              " '17',\n",
              " '18',\n",
              " '19',\n",
              " 2,\n",
              " '20',\n",
              " '21',\n",
              " '22',\n",
              " '23',\n",
              " '24',\n",
              " '25',\n",
              " '26',\n",
              " '27',\n",
              " '28',\n",
              " '29',\n",
              " 3,\n",
              " '30',\n",
              " '31',\n",
              " 4,\n",
              " 5,\n",
              " 6,\n",
              " 7,\n",
              " 8,\n",
              " 9}"
            ]
          },
          "metadata": {},
          "execution_count": 159
        }
      ]
    },
    {
      "cell_type": "markdown",
      "source": [
        "แปลงวัน"
      ],
      "metadata": {
        "id": "-hJksZmKOe96"
      }
    },
    {
      "cell_type": "code",
      "source": [
        "x=[]\n",
        "for i in range(1,32):\n",
        "  x.append(i)\n",
        "print(x)"
      ],
      "metadata": {
        "colab": {
          "base_uri": "https://localhost:8080/"
        },
        "id": "vMeCcNsSO-sR",
        "outputId": "a9bba67f-261c-47b6-971e-a1f6ac2295da"
      },
      "execution_count": 160,
      "outputs": [
        {
          "output_type": "stream",
          "name": "stdout",
          "text": [
            "[1, 2, 3, 4, 5, 6, 7, 8, 9, 10, 11, 12, 13, 14, 15, 16, 17, 18, 19, 20, 21, 22, 23, 24, 25, 26, 27, 28, 29, 30, 31]\n"
          ]
        },
        {
          "output_type": "stream",
          "name": "stderr",
          "text": [
            "/usr/local/lib/python3.10/dist-packages/ipykernel/ipkernel.py:283: DeprecationWarning: `should_run_async` will not call `transform_cell` automatically in the future. Please pass the result to `transformed_cell` argument and any exception that happen during thetransform in `preprocessing_exc_tuple` in IPython 7.17 and above.\n",
            "  and should_run_async(code)\n"
          ]
        }
      ]
    },
    {
      "cell_type": "code",
      "source": [
        "data_test1=data_test_nonclane.replace(['01', '02', '03', '04', '05', '06', '07', '08', '09', '10','11',\n",
        "                                      '12', '13', '14', '15', '16', '17', '18', '19', '20', '21', '22', '23', '24', '25', '26', '27', '28', '29', '30', '31'],x)"
      ],
      "metadata": {
        "id": "Bowq0bfeOefk",
        "outputId": "801dad52-d8f9-4965-9351-a7572ca0d96b",
        "colab": {
          "base_uri": "https://localhost:8080/"
        }
      },
      "execution_count": 161,
      "outputs": [
        {
          "output_type": "stream",
          "name": "stderr",
          "text": [
            "/usr/local/lib/python3.10/dist-packages/ipykernel/ipkernel.py:283: DeprecationWarning: `should_run_async` will not call `transform_cell` automatically in the future. Please pass the result to `transformed_cell` argument and any exception that happen during thetransform in `preprocessing_exc_tuple` in IPython 7.17 and above.\n",
            "  and should_run_async(code)\n"
          ]
        }
      ]
    },
    {
      "cell_type": "code",
      "source": [
        "set(data_test1['month'])"
      ],
      "metadata": {
        "id": "xdDt-xSMRNiW",
        "outputId": "abce04e4-1004-4302-e2d1-6f83517c7df9",
        "colab": {
          "base_uri": "https://localhost:8080/"
        }
      },
      "execution_count": 162,
      "outputs": [
        {
          "output_type": "stream",
          "name": "stderr",
          "text": [
            "/usr/local/lib/python3.10/dist-packages/ipykernel/ipkernel.py:283: DeprecationWarning: `should_run_async` will not call `transform_cell` automatically in the future. Please pass the result to `transformed_cell` argument and any exception that happen during thetransform in `preprocessing_exc_tuple` in IPython 7.17 and above.\n",
            "  and should_run_async(code)\n"
          ]
        },
        {
          "output_type": "execute_result",
          "data": {
            "text/plain": [
              "{1,\n",
              " '1',\n",
              " 10,\n",
              " 11,\n",
              " 12,\n",
              " 2,\n",
              " '2',\n",
              " 3,\n",
              " '3',\n",
              " 4,\n",
              " '4',\n",
              " 5,\n",
              " '5',\n",
              " 6,\n",
              " '6',\n",
              " 7,\n",
              " '7',\n",
              " 8,\n",
              " '8',\n",
              " 9,\n",
              " '9'}"
            ]
          },
          "metadata": {},
          "execution_count": 162
        }
      ]
    },
    {
      "cell_type": "code",
      "source": [
        "data_test=data_test1.replace(to_replace=[\"1\", \"2\",'3','4','5','6','7','8','9'],value=[1,2,3,4,5,6,7,8,9])"
      ],
      "metadata": {
        "id": "sjT90fyzGgnN",
        "outputId": "28883094-839f-455f-9f80-07c896953f46",
        "colab": {
          "base_uri": "https://localhost:8080/"
        }
      },
      "execution_count": 163,
      "outputs": [
        {
          "output_type": "stream",
          "name": "stderr",
          "text": [
            "/usr/local/lib/python3.10/dist-packages/ipykernel/ipkernel.py:283: DeprecationWarning: `should_run_async` will not call `transform_cell` automatically in the future. Please pass the result to `transformed_cell` argument and any exception that happen during thetransform in `preprocessing_exc_tuple` in IPython 7.17 and above.\n",
            "  and should_run_async(code)\n"
          ]
        }
      ]
    },
    {
      "cell_type": "code",
      "source": [
        "data_test.isnull().any()"
      ],
      "metadata": {
        "colab": {
          "base_uri": "https://localhost:8080/"
        },
        "id": "xBvYv1GPcG0X",
        "outputId": "78ec689f-c0a1-43d0-ccc5-d849017e985c"
      },
      "execution_count": 164,
      "outputs": [
        {
          "output_type": "stream",
          "name": "stderr",
          "text": [
            "/usr/local/lib/python3.10/dist-packages/ipykernel/ipkernel.py:283: DeprecationWarning: `should_run_async` will not call `transform_cell` automatically in the future. Please pass the result to `transformed_cell` argument and any exception that happen during thetransform in `preprocessing_exc_tuple` in IPython 7.17 and above.\n",
            "  and should_run_async(code)\n"
          ]
        },
        {
          "output_type": "execute_result",
          "data": {
            "text/plain": [
              "InvoiceNo      False\n",
              "StockCode      False\n",
              "Description     True\n",
              "Quantity       False\n",
              "InvoiceDate    False\n",
              "UnitPrice      False\n",
              "CustomerID      True\n",
              "Country        False\n",
              "date           False\n",
              "day            False\n",
              "month          False\n",
              "year           False\n",
              "dtype: bool"
            ]
          },
          "metadata": {},
          "execution_count": 164
        }
      ]
    },
    {
      "cell_type": "code",
      "source": [
        "data_test.to_csv('how.csv')"
      ],
      "metadata": {
        "id": "lKhGjqsMHaZ1",
        "outputId": "3178664e-2b90-45d3-d43c-912572f244f3",
        "colab": {
          "base_uri": "https://localhost:8080/"
        }
      },
      "execution_count": 165,
      "outputs": [
        {
          "output_type": "stream",
          "name": "stderr",
          "text": [
            "/usr/local/lib/python3.10/dist-packages/ipykernel/ipkernel.py:283: DeprecationWarning: `should_run_async` will not call `transform_cell` automatically in the future. Please pass the result to `transformed_cell` argument and any exception that happen during thetransform in `preprocessing_exc_tuple` in IPython 7.17 and above.\n",
            "  and should_run_async(code)\n"
          ]
        }
      ]
    },
    {
      "cell_type": "code",
      "source": [
        "data_test"
      ],
      "metadata": {
        "colab": {
          "base_uri": "https://localhost:8080/",
          "height": 478
        },
        "id": "67kFKel2sXRj",
        "outputId": "d2c9a2f9-fe7a-413d-af86-50e891e85a03"
      },
      "execution_count": 166,
      "outputs": [
        {
          "output_type": "stream",
          "name": "stderr",
          "text": [
            "/usr/local/lib/python3.10/dist-packages/ipykernel/ipkernel.py:283: DeprecationWarning: `should_run_async` will not call `transform_cell` automatically in the future. Please pass the result to `transformed_cell` argument and any exception that happen during thetransform in `preprocessing_exc_tuple` in IPython 7.17 and above.\n",
            "  and should_run_async(code)\n"
          ]
        },
        {
          "output_type": "execute_result",
          "data": {
            "text/plain": [
              "       InvoiceNo StockCode                          Description  Quantity  \\\n",
              "0         536365    85123A   WHITE HANGING HEART T-LIGHT HOLDER         6   \n",
              "1         536365     71053                  WHITE METAL LANTERN         6   \n",
              "2         536365    84406B       CREAM CUPID HEARTS COAT HANGER         8   \n",
              "3         536365    84029G  KNITTED UNION FLAG HOT WATER BOTTLE         6   \n",
              "4         536365    84029E       RED WOOLLY HOTTIE WHITE HEART.         6   \n",
              "...          ...       ...                                  ...       ...   \n",
              "541904    581587     22613          PACK OF 20 SPACEBOY NAPKINS        12   \n",
              "541905    581587     22899         CHILDREN'S APRON DOLLY GIRL          6   \n",
              "541906    581587     23254        CHILDRENS CUTLERY DOLLY GIRL          4   \n",
              "541907    581587     23255      CHILDRENS CUTLERY CIRCUS PARADE         4   \n",
              "541908    581587     22138        BAKING SET 9 PIECE RETROSPOT          3   \n",
              "\n",
              "             InvoiceDate  UnitPrice  CustomerID         Country        date  \\\n",
              "0       12/01/2010 08:26       2.55     17850.0  United Kingdom  12/01/2010   \n",
              "1       12/01/2010 08:26       3.39     17850.0  United Kingdom  12/01/2010   \n",
              "2       12/01/2010 08:26       2.75     17850.0  United Kingdom  12/01/2010   \n",
              "3       12/01/2010 08:26       3.39     17850.0  United Kingdom  12/01/2010   \n",
              "4       12/01/2010 08:26       3.39     17850.0  United Kingdom  12/01/2010   \n",
              "...                  ...        ...         ...             ...         ...   \n",
              "541904  12/09/2011 12:50       0.85     12680.0          France  12/09/2011   \n",
              "541905  12/09/2011 12:50       2.10     12680.0          France  12/09/2011   \n",
              "541906  12/09/2011 12:50       4.15     12680.0          France  12/09/2011   \n",
              "541907  12/09/2011 12:50       4.15     12680.0          France  12/09/2011   \n",
              "541908  12/09/2011 12:50       4.95     12680.0          France  12/09/2011   \n",
              "\n",
              "        day  month  year  \n",
              "0         1     12  2010  \n",
              "1         1     12  2010  \n",
              "2         1     12  2010  \n",
              "3         1     12  2010  \n",
              "4         1     12  2010  \n",
              "...     ...    ...   ...  \n",
              "541904    9     12  2011  \n",
              "541905    9     12  2011  \n",
              "541906    9     12  2011  \n",
              "541907    9     12  2011  \n",
              "541908    9     12  2011  \n",
              "\n",
              "[541909 rows x 12 columns]"
            ],
            "text/html": [
              "\n",
              "  <div id=\"df-0075db46-e244-40a7-a9e2-093f02121548\" class=\"colab-df-container\">\n",
              "    <div>\n",
              "<style scoped>\n",
              "    .dataframe tbody tr th:only-of-type {\n",
              "        vertical-align: middle;\n",
              "    }\n",
              "\n",
              "    .dataframe tbody tr th {\n",
              "        vertical-align: top;\n",
              "    }\n",
              "\n",
              "    .dataframe thead th {\n",
              "        text-align: right;\n",
              "    }\n",
              "</style>\n",
              "<table border=\"1\" class=\"dataframe\">\n",
              "  <thead>\n",
              "    <tr style=\"text-align: right;\">\n",
              "      <th></th>\n",
              "      <th>InvoiceNo</th>\n",
              "      <th>StockCode</th>\n",
              "      <th>Description</th>\n",
              "      <th>Quantity</th>\n",
              "      <th>InvoiceDate</th>\n",
              "      <th>UnitPrice</th>\n",
              "      <th>CustomerID</th>\n",
              "      <th>Country</th>\n",
              "      <th>date</th>\n",
              "      <th>day</th>\n",
              "      <th>month</th>\n",
              "      <th>year</th>\n",
              "    </tr>\n",
              "  </thead>\n",
              "  <tbody>\n",
              "    <tr>\n",
              "      <th>0</th>\n",
              "      <td>536365</td>\n",
              "      <td>85123A</td>\n",
              "      <td>WHITE HANGING HEART T-LIGHT HOLDER</td>\n",
              "      <td>6</td>\n",
              "      <td>12/01/2010 08:26</td>\n",
              "      <td>2.55</td>\n",
              "      <td>17850.0</td>\n",
              "      <td>United Kingdom</td>\n",
              "      <td>12/01/2010</td>\n",
              "      <td>1</td>\n",
              "      <td>12</td>\n",
              "      <td>2010</td>\n",
              "    </tr>\n",
              "    <tr>\n",
              "      <th>1</th>\n",
              "      <td>536365</td>\n",
              "      <td>71053</td>\n",
              "      <td>WHITE METAL LANTERN</td>\n",
              "      <td>6</td>\n",
              "      <td>12/01/2010 08:26</td>\n",
              "      <td>3.39</td>\n",
              "      <td>17850.0</td>\n",
              "      <td>United Kingdom</td>\n",
              "      <td>12/01/2010</td>\n",
              "      <td>1</td>\n",
              "      <td>12</td>\n",
              "      <td>2010</td>\n",
              "    </tr>\n",
              "    <tr>\n",
              "      <th>2</th>\n",
              "      <td>536365</td>\n",
              "      <td>84406B</td>\n",
              "      <td>CREAM CUPID HEARTS COAT HANGER</td>\n",
              "      <td>8</td>\n",
              "      <td>12/01/2010 08:26</td>\n",
              "      <td>2.75</td>\n",
              "      <td>17850.0</td>\n",
              "      <td>United Kingdom</td>\n",
              "      <td>12/01/2010</td>\n",
              "      <td>1</td>\n",
              "      <td>12</td>\n",
              "      <td>2010</td>\n",
              "    </tr>\n",
              "    <tr>\n",
              "      <th>3</th>\n",
              "      <td>536365</td>\n",
              "      <td>84029G</td>\n",
              "      <td>KNITTED UNION FLAG HOT WATER BOTTLE</td>\n",
              "      <td>6</td>\n",
              "      <td>12/01/2010 08:26</td>\n",
              "      <td>3.39</td>\n",
              "      <td>17850.0</td>\n",
              "      <td>United Kingdom</td>\n",
              "      <td>12/01/2010</td>\n",
              "      <td>1</td>\n",
              "      <td>12</td>\n",
              "      <td>2010</td>\n",
              "    </tr>\n",
              "    <tr>\n",
              "      <th>4</th>\n",
              "      <td>536365</td>\n",
              "      <td>84029E</td>\n",
              "      <td>RED WOOLLY HOTTIE WHITE HEART.</td>\n",
              "      <td>6</td>\n",
              "      <td>12/01/2010 08:26</td>\n",
              "      <td>3.39</td>\n",
              "      <td>17850.0</td>\n",
              "      <td>United Kingdom</td>\n",
              "      <td>12/01/2010</td>\n",
              "      <td>1</td>\n",
              "      <td>12</td>\n",
              "      <td>2010</td>\n",
              "    </tr>\n",
              "    <tr>\n",
              "      <th>...</th>\n",
              "      <td>...</td>\n",
              "      <td>...</td>\n",
              "      <td>...</td>\n",
              "      <td>...</td>\n",
              "      <td>...</td>\n",
              "      <td>...</td>\n",
              "      <td>...</td>\n",
              "      <td>...</td>\n",
              "      <td>...</td>\n",
              "      <td>...</td>\n",
              "      <td>...</td>\n",
              "      <td>...</td>\n",
              "    </tr>\n",
              "    <tr>\n",
              "      <th>541904</th>\n",
              "      <td>581587</td>\n",
              "      <td>22613</td>\n",
              "      <td>PACK OF 20 SPACEBOY NAPKINS</td>\n",
              "      <td>12</td>\n",
              "      <td>12/09/2011 12:50</td>\n",
              "      <td>0.85</td>\n",
              "      <td>12680.0</td>\n",
              "      <td>France</td>\n",
              "      <td>12/09/2011</td>\n",
              "      <td>9</td>\n",
              "      <td>12</td>\n",
              "      <td>2011</td>\n",
              "    </tr>\n",
              "    <tr>\n",
              "      <th>541905</th>\n",
              "      <td>581587</td>\n",
              "      <td>22899</td>\n",
              "      <td>CHILDREN'S APRON DOLLY GIRL</td>\n",
              "      <td>6</td>\n",
              "      <td>12/09/2011 12:50</td>\n",
              "      <td>2.10</td>\n",
              "      <td>12680.0</td>\n",
              "      <td>France</td>\n",
              "      <td>12/09/2011</td>\n",
              "      <td>9</td>\n",
              "      <td>12</td>\n",
              "      <td>2011</td>\n",
              "    </tr>\n",
              "    <tr>\n",
              "      <th>541906</th>\n",
              "      <td>581587</td>\n",
              "      <td>23254</td>\n",
              "      <td>CHILDRENS CUTLERY DOLLY GIRL</td>\n",
              "      <td>4</td>\n",
              "      <td>12/09/2011 12:50</td>\n",
              "      <td>4.15</td>\n",
              "      <td>12680.0</td>\n",
              "      <td>France</td>\n",
              "      <td>12/09/2011</td>\n",
              "      <td>9</td>\n",
              "      <td>12</td>\n",
              "      <td>2011</td>\n",
              "    </tr>\n",
              "    <tr>\n",
              "      <th>541907</th>\n",
              "      <td>581587</td>\n",
              "      <td>23255</td>\n",
              "      <td>CHILDRENS CUTLERY CIRCUS PARADE</td>\n",
              "      <td>4</td>\n",
              "      <td>12/09/2011 12:50</td>\n",
              "      <td>4.15</td>\n",
              "      <td>12680.0</td>\n",
              "      <td>France</td>\n",
              "      <td>12/09/2011</td>\n",
              "      <td>9</td>\n",
              "      <td>12</td>\n",
              "      <td>2011</td>\n",
              "    </tr>\n",
              "    <tr>\n",
              "      <th>541908</th>\n",
              "      <td>581587</td>\n",
              "      <td>22138</td>\n",
              "      <td>BAKING SET 9 PIECE RETROSPOT</td>\n",
              "      <td>3</td>\n",
              "      <td>12/09/2011 12:50</td>\n",
              "      <td>4.95</td>\n",
              "      <td>12680.0</td>\n",
              "      <td>France</td>\n",
              "      <td>12/09/2011</td>\n",
              "      <td>9</td>\n",
              "      <td>12</td>\n",
              "      <td>2011</td>\n",
              "    </tr>\n",
              "  </tbody>\n",
              "</table>\n",
              "<p>541909 rows × 12 columns</p>\n",
              "</div>\n",
              "    <div class=\"colab-df-buttons\">\n",
              "\n",
              "  <div class=\"colab-df-container\">\n",
              "    <button class=\"colab-df-convert\" onclick=\"convertToInteractive('df-0075db46-e244-40a7-a9e2-093f02121548')\"\n",
              "            title=\"Convert this dataframe to an interactive table.\"\n",
              "            style=\"display:none;\">\n",
              "\n",
              "  <svg xmlns=\"http://www.w3.org/2000/svg\" height=\"24px\" viewBox=\"0 -960 960 960\">\n",
              "    <path d=\"M120-120v-720h720v720H120Zm60-500h600v-160H180v160Zm220 220h160v-160H400v160Zm0 220h160v-160H400v160ZM180-400h160v-160H180v160Zm440 0h160v-160H620v160ZM180-180h160v-160H180v160Zm440 0h160v-160H620v160Z\"/>\n",
              "  </svg>\n",
              "    </button>\n",
              "\n",
              "  <style>\n",
              "    .colab-df-container {\n",
              "      display:flex;\n",
              "      gap: 12px;\n",
              "    }\n",
              "\n",
              "    .colab-df-convert {\n",
              "      background-color: #E8F0FE;\n",
              "      border: none;\n",
              "      border-radius: 50%;\n",
              "      cursor: pointer;\n",
              "      display: none;\n",
              "      fill: #1967D2;\n",
              "      height: 32px;\n",
              "      padding: 0 0 0 0;\n",
              "      width: 32px;\n",
              "    }\n",
              "\n",
              "    .colab-df-convert:hover {\n",
              "      background-color: #E2EBFA;\n",
              "      box-shadow: 0px 1px 2px rgba(60, 64, 67, 0.3), 0px 1px 3px 1px rgba(60, 64, 67, 0.15);\n",
              "      fill: #174EA6;\n",
              "    }\n",
              "\n",
              "    .colab-df-buttons div {\n",
              "      margin-bottom: 4px;\n",
              "    }\n",
              "\n",
              "    [theme=dark] .colab-df-convert {\n",
              "      background-color: #3B4455;\n",
              "      fill: #D2E3FC;\n",
              "    }\n",
              "\n",
              "    [theme=dark] .colab-df-convert:hover {\n",
              "      background-color: #434B5C;\n",
              "      box-shadow: 0px 1px 3px 1px rgba(0, 0, 0, 0.15);\n",
              "      filter: drop-shadow(0px 1px 2px rgba(0, 0, 0, 0.3));\n",
              "      fill: #FFFFFF;\n",
              "    }\n",
              "  </style>\n",
              "\n",
              "    <script>\n",
              "      const buttonEl =\n",
              "        document.querySelector('#df-0075db46-e244-40a7-a9e2-093f02121548 button.colab-df-convert');\n",
              "      buttonEl.style.display =\n",
              "        google.colab.kernel.accessAllowed ? 'block' : 'none';\n",
              "\n",
              "      async function convertToInteractive(key) {\n",
              "        const element = document.querySelector('#df-0075db46-e244-40a7-a9e2-093f02121548');\n",
              "        const dataTable =\n",
              "          await google.colab.kernel.invokeFunction('convertToInteractive',\n",
              "                                                    [key], {});\n",
              "        if (!dataTable) return;\n",
              "\n",
              "        const docLinkHtml = 'Like what you see? Visit the ' +\n",
              "          '<a target=\"_blank\" href=https://colab.research.google.com/notebooks/data_table.ipynb>data table notebook</a>'\n",
              "          + ' to learn more about interactive tables.';\n",
              "        element.innerHTML = '';\n",
              "        dataTable['output_type'] = 'display_data';\n",
              "        await google.colab.output.renderOutput(dataTable, element);\n",
              "        const docLink = document.createElement('div');\n",
              "        docLink.innerHTML = docLinkHtml;\n",
              "        element.appendChild(docLink);\n",
              "      }\n",
              "    </script>\n",
              "  </div>\n",
              "\n",
              "\n",
              "<div id=\"df-54690141-b7fc-495c-b72a-234de9280c08\">\n",
              "  <button class=\"colab-df-quickchart\" onclick=\"quickchart('df-54690141-b7fc-495c-b72a-234de9280c08')\"\n",
              "            title=\"Suggest charts\"\n",
              "            style=\"display:none;\">\n",
              "\n",
              "<svg xmlns=\"http://www.w3.org/2000/svg\" height=\"24px\"viewBox=\"0 0 24 24\"\n",
              "     width=\"24px\">\n",
              "    <g>\n",
              "        <path d=\"M19 3H5c-1.1 0-2 .9-2 2v14c0 1.1.9 2 2 2h14c1.1 0 2-.9 2-2V5c0-1.1-.9-2-2-2zM9 17H7v-7h2v7zm4 0h-2V7h2v10zm4 0h-2v-4h2v4z\"/>\n",
              "    </g>\n",
              "</svg>\n",
              "  </button>\n",
              "\n",
              "<style>\n",
              "  .colab-df-quickchart {\n",
              "      --bg-color: #E8F0FE;\n",
              "      --fill-color: #1967D2;\n",
              "      --hover-bg-color: #E2EBFA;\n",
              "      --hover-fill-color: #174EA6;\n",
              "      --disabled-fill-color: #AAA;\n",
              "      --disabled-bg-color: #DDD;\n",
              "  }\n",
              "\n",
              "  [theme=dark] .colab-df-quickchart {\n",
              "      --bg-color: #3B4455;\n",
              "      --fill-color: #D2E3FC;\n",
              "      --hover-bg-color: #434B5C;\n",
              "      --hover-fill-color: #FFFFFF;\n",
              "      --disabled-bg-color: #3B4455;\n",
              "      --disabled-fill-color: #666;\n",
              "  }\n",
              "\n",
              "  .colab-df-quickchart {\n",
              "    background-color: var(--bg-color);\n",
              "    border: none;\n",
              "    border-radius: 50%;\n",
              "    cursor: pointer;\n",
              "    display: none;\n",
              "    fill: var(--fill-color);\n",
              "    height: 32px;\n",
              "    padding: 0;\n",
              "    width: 32px;\n",
              "  }\n",
              "\n",
              "  .colab-df-quickchart:hover {\n",
              "    background-color: var(--hover-bg-color);\n",
              "    box-shadow: 0 1px 2px rgba(60, 64, 67, 0.3), 0 1px 3px 1px rgba(60, 64, 67, 0.15);\n",
              "    fill: var(--button-hover-fill-color);\n",
              "  }\n",
              "\n",
              "  .colab-df-quickchart-complete:disabled,\n",
              "  .colab-df-quickchart-complete:disabled:hover {\n",
              "    background-color: var(--disabled-bg-color);\n",
              "    fill: var(--disabled-fill-color);\n",
              "    box-shadow: none;\n",
              "  }\n",
              "\n",
              "  .colab-df-spinner {\n",
              "    border: 2px solid var(--fill-color);\n",
              "    border-color: transparent;\n",
              "    border-bottom-color: var(--fill-color);\n",
              "    animation:\n",
              "      spin 1s steps(1) infinite;\n",
              "  }\n",
              "\n",
              "  @keyframes spin {\n",
              "    0% {\n",
              "      border-color: transparent;\n",
              "      border-bottom-color: var(--fill-color);\n",
              "      border-left-color: var(--fill-color);\n",
              "    }\n",
              "    20% {\n",
              "      border-color: transparent;\n",
              "      border-left-color: var(--fill-color);\n",
              "      border-top-color: var(--fill-color);\n",
              "    }\n",
              "    30% {\n",
              "      border-color: transparent;\n",
              "      border-left-color: var(--fill-color);\n",
              "      border-top-color: var(--fill-color);\n",
              "      border-right-color: var(--fill-color);\n",
              "    }\n",
              "    40% {\n",
              "      border-color: transparent;\n",
              "      border-right-color: var(--fill-color);\n",
              "      border-top-color: var(--fill-color);\n",
              "    }\n",
              "    60% {\n",
              "      border-color: transparent;\n",
              "      border-right-color: var(--fill-color);\n",
              "    }\n",
              "    80% {\n",
              "      border-color: transparent;\n",
              "      border-right-color: var(--fill-color);\n",
              "      border-bottom-color: var(--fill-color);\n",
              "    }\n",
              "    90% {\n",
              "      border-color: transparent;\n",
              "      border-bottom-color: var(--fill-color);\n",
              "    }\n",
              "  }\n",
              "</style>\n",
              "\n",
              "  <script>\n",
              "    async function quickchart(key) {\n",
              "      const quickchartButtonEl =\n",
              "        document.querySelector('#' + key + ' button');\n",
              "      quickchartButtonEl.disabled = true;  // To prevent multiple clicks.\n",
              "      quickchartButtonEl.classList.add('colab-df-spinner');\n",
              "      try {\n",
              "        const charts = await google.colab.kernel.invokeFunction(\n",
              "            'suggestCharts', [key], {});\n",
              "      } catch (error) {\n",
              "        console.error('Error during call to suggestCharts:', error);\n",
              "      }\n",
              "      quickchartButtonEl.classList.remove('colab-df-spinner');\n",
              "      quickchartButtonEl.classList.add('colab-df-quickchart-complete');\n",
              "    }\n",
              "    (() => {\n",
              "      let quickchartButtonEl =\n",
              "        document.querySelector('#df-54690141-b7fc-495c-b72a-234de9280c08 button');\n",
              "      quickchartButtonEl.style.display =\n",
              "        google.colab.kernel.accessAllowed ? 'block' : 'none';\n",
              "    })();\n",
              "  </script>\n",
              "</div>\n",
              "    </div>\n",
              "  </div>\n"
            ]
          },
          "metadata": {},
          "execution_count": 166
        }
      ]
    },
    {
      "cell_type": "markdown",
      "source": [
        "##1.ของช่วงเวลา Christmas & New Year (1 Dec - 31 Dec)"
      ],
      "metadata": {
        "id": "8DLTBpJoflFY"
      }
    },
    {
      "cell_type": "code",
      "source": [
        "data_C_and_N = data_test[data_test['month']==12]"
      ],
      "metadata": {
        "id": "rsgavFoPnPye",
        "outputId": "3aa7b803-b048-4801-bfa8-3446f45bf5e7",
        "colab": {
          "base_uri": "https://localhost:8080/"
        }
      },
      "execution_count": 167,
      "outputs": [
        {
          "output_type": "stream",
          "name": "stderr",
          "text": [
            "/usr/local/lib/python3.10/dist-packages/ipykernel/ipkernel.py:283: DeprecationWarning: `should_run_async` will not call `transform_cell` automatically in the future. Please pass the result to `transformed_cell` argument and any exception that happen during thetransform in `preprocessing_exc_tuple` in IPython 7.17 and above.\n",
            "  and should_run_async(code)\n"
          ]
        }
      ]
    },
    {
      "cell_type": "code",
      "source": [
        "#!pip install apyori\n",
        "#from apyori import apriori"
      ],
      "metadata": {
        "id": "L-9Rg2IhnPyf",
        "outputId": "d15ec358-88ac-4914-cbba-651d5f6e206c",
        "colab": {
          "base_uri": "https://localhost:8080/"
        }
      },
      "execution_count": 168,
      "outputs": [
        {
          "output_type": "stream",
          "name": "stderr",
          "text": [
            "/usr/local/lib/python3.10/dist-packages/ipykernel/ipkernel.py:283: DeprecationWarning: `should_run_async` will not call `transform_cell` automatically in the future. Please pass the result to `transformed_cell` argument and any exception that happen during thetransform in `preprocessing_exc_tuple` in IPython 7.17 and above.\n",
            "  and should_run_async(code)\n"
          ]
        }
      ]
    },
    {
      "cell_type": "code",
      "source": [
        "transactionsC_and_N = data_C_and_N.groupby('InvoiceNo')['StockCode'].apply(list)"
      ],
      "metadata": {
        "id": "RxG7hqdrnPyf",
        "outputId": "2eb4327f-748d-4b4e-ba84-38b1fb96f534",
        "colab": {
          "base_uri": "https://localhost:8080/"
        }
      },
      "execution_count": 169,
      "outputs": [
        {
          "output_type": "stream",
          "name": "stderr",
          "text": [
            "/usr/local/lib/python3.10/dist-packages/ipykernel/ipkernel.py:283: DeprecationWarning: `should_run_async` will not call `transform_cell` automatically in the future. Please pass the result to `transformed_cell` argument and any exception that happen during thetransform in `preprocessing_exc_tuple` in IPython 7.17 and above.\n",
            "  and should_run_async(code)\n"
          ]
        }
      ]
    },
    {
      "cell_type": "code",
      "source": [
        "frequentItemsets = list(apriori(transactionsC_and_N,min_support = 0.05))\n",
        "#frequentItemsets"
      ],
      "metadata": {
        "id": "xxD-F6fynPyg",
        "outputId": "b24ab068-fdff-4c5d-c246-05df03ebb762",
        "colab": {
          "base_uri": "https://localhost:8080/"
        }
      },
      "execution_count": 170,
      "outputs": [
        {
          "output_type": "stream",
          "name": "stderr",
          "text": [
            "/usr/local/lib/python3.10/dist-packages/ipykernel/ipkernel.py:283: DeprecationWarning: `should_run_async` will not call `transform_cell` automatically in the future. Please pass the result to `transformed_cell` argument and any exception that happen during thetransform in `preprocessing_exc_tuple` in IPython 7.17 and above.\n",
            "  and should_run_async(code)\n"
          ]
        }
      ]
    },
    {
      "cell_type": "code",
      "source": [
        "min_sup = 0.04\n",
        "\n",
        "frequentItemsetsC_and_N = list(apriori(transactionsC_and_N,min_support = min_sup))\n",
        "for i in frequentItemsetsC_and_N:\n",
        "    if i[0].__len__()>1:\n",
        "        print('yes')\n",
        "        print(i)"
      ],
      "metadata": {
        "outputId": "703feb00-2d81-4928-8fff-1a4c96e35506",
        "colab": {
          "base_uri": "https://localhost:8080/"
        },
        "id": "rVf1WKWInPyg"
      },
      "execution_count": 171,
      "outputs": [
        {
          "output_type": "stream",
          "name": "stderr",
          "text": [
            "/usr/local/lib/python3.10/dist-packages/ipykernel/ipkernel.py:283: DeprecationWarning: `should_run_async` will not call `transform_cell` automatically in the future. Please pass the result to `transformed_cell` argument and any exception that happen during thetransform in `preprocessing_exc_tuple` in IPython 7.17 and above.\n",
            "  and should_run_async(code)\n"
          ]
        },
        {
          "output_type": "stream",
          "name": "stdout",
          "text": [
            "yes\n",
            "RelationRecord(items=frozenset({'22086', '22910'}), support=0.047697368421052634, ordered_statistics=[OrderedStatistic(items_base=frozenset(), items_add=frozenset({'22086', '22910'}), confidence=0.047697368421052634, lift=1.0), OrderedStatistic(items_base=frozenset({'22086'}), items_add=frozenset({'22910'}), confidence=0.5160142348754448, lift=7.195794834960331), OrderedStatistic(items_base=frozenset({'22910'}), items_add=frozenset({'22086'}), confidence=0.6651376146788991, lift=7.195794834960332)])\n"
          ]
        }
      ]
    },
    {
      "cell_type": "code",
      "source": [
        "transactionsC_and_N = data_C_and_N.groupby(['Country', 'month'])['StockCode'].apply(list)"
      ],
      "metadata": {
        "id": "8GLQP0qvnPyg",
        "outputId": "f47e3cc4-41a1-401f-80d2-b5115dbbd97a",
        "colab": {
          "base_uri": "https://localhost:8080/"
        }
      },
      "execution_count": 172,
      "outputs": [
        {
          "output_type": "stream",
          "name": "stderr",
          "text": [
            "/usr/local/lib/python3.10/dist-packages/ipykernel/ipkernel.py:283: DeprecationWarning: `should_run_async` will not call `transform_cell` automatically in the future. Please pass the result to `transformed_cell` argument and any exception that happen during thetransform in `preprocessing_exc_tuple` in IPython 7.17 and above.\n",
            "  and should_run_async(code)\n"
          ]
        }
      ]
    },
    {
      "cell_type": "code",
      "source": [
        "min_sup =0.3\n",
        "frequentItemsetsC_and_N = list(apriori(transactionsC_and_N,min_support = min_sup))\n",
        "for i in frequentItemsetsC_and_N:\n",
        "    if i[0].__len__()>1:\n",
        "        print('yes')\n",
        "        print(i)"
      ],
      "metadata": {
        "outputId": "95937c17-c1f5-4104-d739-3b09db5e3404",
        "colab": {
          "base_uri": "https://localhost:8080/"
        },
        "id": "_1elDmq1nPyh"
      },
      "execution_count": 173,
      "outputs": [
        {
          "output_type": "stream",
          "name": "stdout",
          "text": [
            "yes\n",
            "RelationRecord(items=frozenset({'POST', '20750'}), support=0.3333333333333333, ordered_statistics=[OrderedStatistic(items_base=frozenset(), items_add=frozenset({'POST', '20750'}), confidence=0.3333333333333333, lift=1.0), OrderedStatistic(items_base=frozenset({'20750'}), items_add=frozenset({'POST'}), confidence=0.9, lift=1.7357142857142858), OrderedStatistic(items_base=frozenset({'POST'}), items_add=frozenset({'20750'}), confidence=0.6428571428571429, lift=1.735714285714286)])\n",
            "yes\n",
            "RelationRecord(items=frozenset({'22727', '22728'}), support=0.3333333333333333, ordered_statistics=[OrderedStatistic(items_base=frozenset(), items_add=frozenset({'22727', '22728'}), confidence=0.3333333333333333, lift=1.0), OrderedStatistic(items_base=frozenset({'22727'}), items_add=frozenset({'22728'}), confidence=1.0, lift=3.0), OrderedStatistic(items_base=frozenset({'22728'}), items_add=frozenset({'22727'}), confidence=1.0, lift=3.0)])\n"
          ]
        },
        {
          "output_type": "stream",
          "name": "stderr",
          "text": [
            "/usr/local/lib/python3.10/dist-packages/ipykernel/ipkernel.py:283: DeprecationWarning: `should_run_async` will not call `transform_cell` automatically in the future. Please pass the result to `transformed_cell` argument and any exception that happen during thetransform in `preprocessing_exc_tuple` in IPython 7.17 and above.\n",
            "  and should_run_async(code)\n"
          ]
        }
      ]
    },
    {
      "cell_type": "markdown",
      "source": [
        "สรุปได้ดังนั้น\n",
        "* RelationRecord(items=frozenset({'22910', '22086'}), support=0.047697368421052634)\n",
        "  * ordered_statistics=OrderedStatistic(items_base=frozenset(), items_add=frozenset({'22910', '22086'}), confidence=0.047697368421052634, lift=1.0)\n",
        "  * OrderedStatistic(items_base=frozenset({'22086'}), items_add=frozenset({'22910'}), confidence=0.5160142348754448, lift=7.195794834960331)\n",
        "  * OrderedStatistic(items_base=frozenset({'22910'}), items_add=frozenset({'22086'}), confidence=0.6651376146788991, lift=7.195794834960332)\n"
      ],
      "metadata": {
        "id": "itsuqCiNnPyh"
      }
    },
    {
      "cell_type": "code",
      "source": [
        "def finditime(x,y) :\n",
        "  L=set(data[(data['StockCode']==x)|(data['StockCode']==y)]['Description'])\n",
        "  return L"
      ],
      "metadata": {
        "id": "LlAyTz9HnPyh",
        "outputId": "18bb1b54-e378-4add-e17c-5abc773accd9",
        "colab": {
          "base_uri": "https://localhost:8080/"
        }
      },
      "execution_count": 213,
      "outputs": [
        {
          "output_type": "stream",
          "name": "stderr",
          "text": [
            "/usr/local/lib/python3.10/dist-packages/ipykernel/ipkernel.py:283: DeprecationWarning: `should_run_async` will not call `transform_cell` automatically in the future. Please pass the result to `transformed_cell` argument and any exception that happen during thetransform in `preprocessing_exc_tuple` in IPython 7.17 and above.\n",
            "  and should_run_async(code)\n"
          ]
        }
      ]
    },
    {
      "cell_type": "code",
      "source": [
        "finditime('22910','22086')"
      ],
      "metadata": {
        "outputId": "ac612543-d505-4043-a54e-48f143bfbbc1",
        "colab": {
          "base_uri": "https://localhost:8080/"
        },
        "id": "GNghY9GDnPyh"
      },
      "execution_count": 214,
      "outputs": [
        {
          "output_type": "stream",
          "name": "stderr",
          "text": [
            "/usr/local/lib/python3.10/dist-packages/ipykernel/ipkernel.py:283: DeprecationWarning: `should_run_async` will not call `transform_cell` automatically in the future. Please pass the result to `transformed_cell` argument and any exception that happen during thetransform in `preprocessing_exc_tuple` in IPython 7.17 and above.\n",
            "  and should_run_async(code)\n"
          ]
        },
        {
          "output_type": "execute_result",
          "data": {
            "text/plain": [
              "{\"PAPER CHAIN KIT 50'S CHRISTMAS \", 'PAPER CHAIN KIT VINTAGE CHRISTMAS'}"
            ]
          },
          "metadata": {},
          "execution_count": 214
        }
      ]
    },
    {
      "cell_type": "markdown",
      "source": [
        "##2.ของประเทศในทวีป Europe"
      ],
      "metadata": {
        "id": "_L5BnOPonPyi"
      }
    },
    {
      "cell_type": "markdown",
      "source": [
        "###เเบ่งทวีป"
      ],
      "metadata": {
        "id": "9P2EbyFKgb3b"
      }
    },
    {
      "cell_type": "code",
      "source": [
        "set(data['Country'])"
      ],
      "metadata": {
        "id": "ayV7qUWxgbV_",
        "outputId": "cc355505-02d9-43cf-adef-bde2993a1ad0",
        "colab": {
          "base_uri": "https://localhost:8080/"
        }
      },
      "execution_count": 176,
      "outputs": [
        {
          "output_type": "stream",
          "name": "stderr",
          "text": [
            "/usr/local/lib/python3.10/dist-packages/ipykernel/ipkernel.py:283: DeprecationWarning: `should_run_async` will not call `transform_cell` automatically in the future. Please pass the result to `transformed_cell` argument and any exception that happen during thetransform in `preprocessing_exc_tuple` in IPython 7.17 and above.\n",
            "  and should_run_async(code)\n"
          ]
        },
        {
          "output_type": "execute_result",
          "data": {
            "text/plain": [
              "{'Australia',\n",
              " 'Austria',\n",
              " 'Bahrain',\n",
              " 'Belgium',\n",
              " 'Brazil',\n",
              " 'Canada',\n",
              " 'Channel Islands',\n",
              " 'Cyprus',\n",
              " 'Czech Republic',\n",
              " 'Denmark',\n",
              " 'EIRE',\n",
              " 'European Community',\n",
              " 'Finland',\n",
              " 'France',\n",
              " 'Germany',\n",
              " 'Greece',\n",
              " 'Hong Kong',\n",
              " 'Iceland',\n",
              " 'Israel',\n",
              " 'Italy',\n",
              " 'Japan',\n",
              " 'Lebanon',\n",
              " 'Lithuania',\n",
              " 'Malta',\n",
              " 'Netherlands',\n",
              " 'Norway',\n",
              " 'Poland',\n",
              " 'Portugal',\n",
              " 'RSA',\n",
              " 'Saudi Arabia',\n",
              " 'Singapore',\n",
              " 'Spain',\n",
              " 'Sweden',\n",
              " 'Switzerland',\n",
              " 'USA',\n",
              " 'United Arab Emirates',\n",
              " 'United Kingdom',\n",
              " 'Unspecified'}"
            ]
          },
          "metadata": {},
          "execution_count": 176
        }
      ]
    },
    {
      "cell_type": "markdown",
      "source": [
        "ทวีปยุโรป"
      ],
      "metadata": {
        "id": "h5Ur-uKr-A4q"
      }
    },
    {
      "cell_type": "code",
      "source": [
        "UP_country = ['Austria','Belgium','Cyprus','Czech Republic','Denmark','EIRE','European Community',\n",
        "              'Finland','France','Germany','Greece','Iceland','Italy','Lithuania','Malta','Netherlands',\n",
        "              'Norway','Poland','Portugal','Spain','Sweden','United Kingdom']"
      ],
      "metadata": {
        "id": "rxJwKb_Kg2mh",
        "outputId": "e2ef03f3-0cbf-41ba-e46b-004476dfa20e",
        "colab": {
          "base_uri": "https://localhost:8080/"
        }
      },
      "execution_count": 177,
      "outputs": [
        {
          "output_type": "stream",
          "name": "stderr",
          "text": [
            "/usr/local/lib/python3.10/dist-packages/ipykernel/ipkernel.py:283: DeprecationWarning: `should_run_async` will not call `transform_cell` automatically in the future. Please pass the result to `transformed_cell` argument and any exception that happen during thetransform in `preprocessing_exc_tuple` in IPython 7.17 and above.\n",
            "  and should_run_async(code)\n"
          ]
        }
      ]
    },
    {
      "cell_type": "markdown",
      "source": [
        "ทวีปเอเชีย"
      ],
      "metadata": {
        "id": "F1xKBgnq-DRf"
      }
    },
    {
      "cell_type": "code",
      "source": [
        "Asia_country = ['Hong Kong','Bahrain','Israel','Japan','Lebanon','Saudi Arabia','Singapore','United Arab Emirates']"
      ],
      "metadata": {
        "id": "KosvtUcKjdh0",
        "outputId": "7918ce2f-15bb-497b-b8c8-5fe7796b65c1",
        "colab": {
          "base_uri": "https://localhost:8080/"
        }
      },
      "execution_count": 178,
      "outputs": [
        {
          "output_type": "stream",
          "name": "stderr",
          "text": [
            "/usr/local/lib/python3.10/dist-packages/ipykernel/ipkernel.py:283: DeprecationWarning: `should_run_async` will not call `transform_cell` automatically in the future. Please pass the result to `transformed_cell` argument and any exception that happen during thetransform in `preprocessing_exc_tuple` in IPython 7.17 and above.\n",
            "  and should_run_async(code)\n"
          ]
        }
      ]
    },
    {
      "cell_type": "code",
      "source": [
        "#a0=data_test[data_test['Country']==UP_country[0]]"
      ],
      "metadata": {
        "id": "nAyF-ZJS3ov5",
        "outputId": "51a37247-9776-48fd-cdd9-925cf609566a",
        "colab": {
          "base_uri": "https://localhost:8080/"
        }
      },
      "execution_count": 179,
      "outputs": [
        {
          "output_type": "stream",
          "name": "stderr",
          "text": [
            "/usr/local/lib/python3.10/dist-packages/ipykernel/ipkernel.py:283: DeprecationWarning: `should_run_async` will not call `transform_cell` automatically in the future. Please pass the result to `transformed_cell` argument and any exception that happen during thetransform in `preprocessing_exc_tuple` in IPython 7.17 and above.\n",
            "  and should_run_async(code)\n"
          ]
        }
      ]
    },
    {
      "cell_type": "markdown",
      "source": [
        "### หาข้อมูลทวีปยุโรป"
      ],
      "metadata": {
        "id": "bivX4_gy-Hak"
      }
    },
    {
      "cell_type": "code",
      "source": [
        "EU_data = data_test[data_test['Country']==\"\"]\n",
        "for i in range(len(UP_country)):\n",
        "  x = data_test[data_test['Country']==UP_country[i]]\n",
        "  EU_data=pd.concat([x,EU_data])"
      ],
      "metadata": {
        "id": "7icK_k_F7-EQ",
        "outputId": "7d2e1b51-1217-46b3-ce52-23593d172da7",
        "colab": {
          "base_uri": "https://localhost:8080/"
        }
      },
      "execution_count": 180,
      "outputs": [
        {
          "output_type": "stream",
          "name": "stderr",
          "text": [
            "/usr/local/lib/python3.10/dist-packages/ipykernel/ipkernel.py:283: DeprecationWarning: `should_run_async` will not call `transform_cell` automatically in the future. Please pass the result to `transformed_cell` argument and any exception that happen during thetransform in `preprocessing_exc_tuple` in IPython 7.17 and above.\n",
            "  and should_run_async(code)\n"
          ]
        }
      ]
    },
    {
      "cell_type": "code",
      "source": [
        "len(set(EU_data['Country']))"
      ],
      "metadata": {
        "id": "dUPIltGW9Wcc",
        "outputId": "862e3b6e-4b48-461b-829a-300da764de9c",
        "colab": {
          "base_uri": "https://localhost:8080/"
        }
      },
      "execution_count": 181,
      "outputs": [
        {
          "output_type": "stream",
          "name": "stderr",
          "text": [
            "/usr/local/lib/python3.10/dist-packages/ipykernel/ipkernel.py:283: DeprecationWarning: `should_run_async` will not call `transform_cell` automatically in the future. Please pass the result to `transformed_cell` argument and any exception that happen during thetransform in `preprocessing_exc_tuple` in IPython 7.17 and above.\n",
            "  and should_run_async(code)\n"
          ]
        },
        {
          "output_type": "execute_result",
          "data": {
            "text/plain": [
              "22"
            ]
          },
          "metadata": {},
          "execution_count": 181
        }
      ]
    },
    {
      "cell_type": "markdown",
      "source": [
        "###หาข้อ 2"
      ],
      "metadata": {
        "id": "471qJ0i8-e-u"
      }
    },
    {
      "cell_type": "code",
      "source": [
        "transactionsEU = EU_data.groupby('InvoiceNo')['StockCode'].apply(list)"
      ],
      "metadata": {
        "id": "Zsg4RZcT99Mi",
        "outputId": "bf7b5182-7c33-48bd-fb17-320642eacd0e",
        "colab": {
          "base_uri": "https://localhost:8080/"
        }
      },
      "execution_count": 182,
      "outputs": [
        {
          "output_type": "stream",
          "name": "stderr",
          "text": [
            "/usr/local/lib/python3.10/dist-packages/ipykernel/ipkernel.py:283: DeprecationWarning: `should_run_async` will not call `transform_cell` automatically in the future. Please pass the result to `transformed_cell` argument and any exception that happen during thetransform in `preprocessing_exc_tuple` in IPython 7.17 and above.\n",
            "  and should_run_async(code)\n"
          ]
        }
      ]
    },
    {
      "cell_type": "code",
      "source": [
        "frequentItemsets = list(apriori(transactionsEU,min_support = 0.05))\n",
        "#frequentItemsets"
      ],
      "metadata": {
        "id": "WsB_t-Iq-qRV",
        "outputId": "d35c5eea-8222-41a3-bfcc-f7090f0da8d4",
        "colab": {
          "base_uri": "https://localhost:8080/"
        }
      },
      "execution_count": 183,
      "outputs": [
        {
          "output_type": "stream",
          "name": "stderr",
          "text": [
            "/usr/local/lib/python3.10/dist-packages/ipykernel/ipkernel.py:283: DeprecationWarning: `should_run_async` will not call `transform_cell` automatically in the future. Please pass the result to `transformed_cell` argument and any exception that happen during thetransform in `preprocessing_exc_tuple` in IPython 7.17 and above.\n",
            "  and should_run_async(code)\n"
          ]
        }
      ]
    },
    {
      "cell_type": "code",
      "source": [
        "min_sup = 0.03\n",
        "\n",
        "frequentItemsetsEU= list(apriori(transactionsEU,min_support = min_sup))\n",
        "for i in frequentItemsetsEU:\n",
        "    if i[0].__len__()>1:\n",
        "        print('yes')\n",
        "        print(i)"
      ],
      "metadata": {
        "id": "T0T18_Od-q5X",
        "outputId": "b52d4b39-4177-48cc-ec1c-4d562e119642",
        "colab": {
          "base_uri": "https://localhost:8080/"
        }
      },
      "execution_count": 184,
      "outputs": [
        {
          "output_type": "stream",
          "name": "stderr",
          "text": [
            "/usr/local/lib/python3.10/dist-packages/ipykernel/ipkernel.py:283: DeprecationWarning: `should_run_async` will not call `transform_cell` automatically in the future. Please pass the result to `transformed_cell` argument and any exception that happen during thetransform in `preprocessing_exc_tuple` in IPython 7.17 and above.\n",
            "  and should_run_async(code)\n"
          ]
        },
        {
          "output_type": "stream",
          "name": "stdout",
          "text": [
            "yes\n",
            "RelationRecord(items=frozenset({'22386', '85099B'}), support=0.03243053387449266, ordered_statistics=[OrderedStatistic(items_base=frozenset(), items_add=frozenset({'22386', '85099B'}), confidence=0.03243053387449266, lift=1.0), OrderedStatistic(items_base=frozenset({'22386'}), items_add=frozenset({'85099B'}), confidence=0.6772616136919316, lift=8.201394890946151), OrderedStatistic(items_base=frozenset({'85099B'}), items_add=frozenset({'22386'}), confidence=0.39272211720226846, lift=8.201394890946151)])\n",
            "yes\n",
            "RelationRecord(items=frozenset({'22699', '22697'}), support=0.030049953168904152, ordered_statistics=[OrderedStatistic(items_base=frozenset(), items_add=frozenset({'22699', '22697'}), confidence=0.030049953168904152, lift=1.0), OrderedStatistic(items_base=frozenset({'22697'}), items_add=frozenset({'22699'}), confidence=0.7389635316698656, lift=17.213819577735123), OrderedStatistic(items_base=frozenset({'22699'}), items_add=frozenset({'22697'}), confidence=0.7, lift=17.213819577735123)])\n"
          ]
        }
      ]
    },
    {
      "cell_type": "code",
      "source": [
        "finditime('22386','85099B')"
      ],
      "metadata": {
        "id": "4xvmC0WC_cd0",
        "outputId": "908adf00-43d2-4eb6-e801-2387c5a7032f",
        "colab": {
          "base_uri": "https://localhost:8080/"
        }
      },
      "execution_count": 215,
      "outputs": [
        {
          "output_type": "stream",
          "name": "stderr",
          "text": [
            "/usr/local/lib/python3.10/dist-packages/ipykernel/ipkernel.py:283: DeprecationWarning: `should_run_async` will not call `transform_cell` automatically in the future. Please pass the result to `transformed_cell` argument and any exception that happen during thetransform in `preprocessing_exc_tuple` in IPython 7.17 and above.\n",
            "  and should_run_async(code)\n"
          ]
        },
        {
          "output_type": "execute_result",
          "data": {
            "text/plain": [
              "{'JUMBO BAG PINK POLKADOT', 'JUMBO BAG RED RETROSPOT'}"
            ]
          },
          "metadata": {},
          "execution_count": 215
        }
      ]
    },
    {
      "cell_type": "markdown",
      "source": [
        "##3.ของช่วงเวลา ตรุษจีน ในทวีป Asia (15 jan - 15 Feb)"
      ],
      "metadata": {
        "id": "D9dppuvf_VPX"
      }
    },
    {
      "cell_type": "markdown",
      "source": [
        "###เเยกทวีปเอเชีย"
      ],
      "metadata": {
        "id": "YZ1QlETC_fFd"
      }
    },
    {
      "cell_type": "code",
      "source": [
        "Asia_data = data_test[data_test['Country']==\"\"]\n",
        "for i in range(len(Asia_country)):\n",
        "  x = data_test[data_test['Country']==Asia_country[i]]\n",
        "  Asia_data=pd.concat([x,Asia_data])"
      ],
      "metadata": {
        "id": "nIfuCeum_emY",
        "outputId": "58dca1c4-0e93-4b88-818f-bcd4674d32d3",
        "colab": {
          "base_uri": "https://localhost:8080/"
        }
      },
      "execution_count": 186,
      "outputs": [
        {
          "output_type": "stream",
          "name": "stderr",
          "text": [
            "/usr/local/lib/python3.10/dist-packages/ipykernel/ipkernel.py:283: DeprecationWarning: `should_run_async` will not call `transform_cell` automatically in the future. Please pass the result to `transformed_cell` argument and any exception that happen during thetransform in `preprocessing_exc_tuple` in IPython 7.17 and above.\n",
            "  and should_run_async(code)\n"
          ]
        }
      ]
    },
    {
      "cell_type": "code",
      "source": [
        "len(set(Asia_data['Country']))"
      ],
      "metadata": {
        "id": "rjxTuk77_zVn",
        "outputId": "acd4f457-079a-4631-d5b5-17a388cfebfe",
        "colab": {
          "base_uri": "https://localhost:8080/"
        }
      },
      "execution_count": 187,
      "outputs": [
        {
          "output_type": "stream",
          "name": "stderr",
          "text": [
            "/usr/local/lib/python3.10/dist-packages/ipykernel/ipkernel.py:283: DeprecationWarning: `should_run_async` will not call `transform_cell` automatically in the future. Please pass the result to `transformed_cell` argument and any exception that happen during thetransform in `preprocessing_exc_tuple` in IPython 7.17 and above.\n",
            "  and should_run_async(code)\n"
          ]
        },
        {
          "output_type": "execute_result",
          "data": {
            "text/plain": [
              "8"
            ]
          },
          "metadata": {},
          "execution_count": 187
        }
      ]
    },
    {
      "cell_type": "markdown",
      "source": [
        "###หาข้อมูลช่วงตรุษจีน"
      ],
      "metadata": {
        "id": "RGwYopR1ED55"
      }
    },
    {
      "cell_type": "code",
      "source": [
        "M1_Asia_data=Asia_data[(Asia_data['month']==1)]"
      ],
      "metadata": {
        "id": "2b47eJC1EJg6",
        "outputId": "61a56829-3144-4ade-c9ef-3cff779d3364",
        "colab": {
          "base_uri": "https://localhost:8080/"
        }
      },
      "execution_count": 188,
      "outputs": [
        {
          "output_type": "stream",
          "name": "stderr",
          "text": [
            "/usr/local/lib/python3.10/dist-packages/ipykernel/ipkernel.py:283: DeprecationWarning: `should_run_async` will not call `transform_cell` automatically in the future. Please pass the result to `transformed_cell` argument and any exception that happen during thetransform in `preprocessing_exc_tuple` in IPython 7.17 and above.\n",
            "  and should_run_async(code)\n"
          ]
        }
      ]
    },
    {
      "cell_type": "code",
      "source": [
        "D1_Asia_data=M1_Asia_data[(M1_Asia_data['day']>=15)]"
      ],
      "metadata": {
        "id": "_CVrHq7OSpvS",
        "outputId": "6ef6115e-bab0-435a-b19e-9cf7b44825d4",
        "colab": {
          "base_uri": "https://localhost:8080/"
        }
      },
      "execution_count": 189,
      "outputs": [
        {
          "output_type": "stream",
          "name": "stderr",
          "text": [
            "/usr/local/lib/python3.10/dist-packages/ipykernel/ipkernel.py:283: DeprecationWarning: `should_run_async` will not call `transform_cell` automatically in the future. Please pass the result to `transformed_cell` argument and any exception that happen during thetransform in `preprocessing_exc_tuple` in IPython 7.17 and above.\n",
            "  and should_run_async(code)\n"
          ]
        }
      ]
    },
    {
      "cell_type": "code",
      "source": [
        "#D1_Asia_data"
      ],
      "metadata": {
        "id": "Kbkmd01ZTM9I",
        "outputId": "89da0669-3f0a-4e9d-a052-0755e38b64d8",
        "colab": {
          "base_uri": "https://localhost:8080/"
        }
      },
      "execution_count": 190,
      "outputs": [
        {
          "output_type": "stream",
          "name": "stderr",
          "text": [
            "/usr/local/lib/python3.10/dist-packages/ipykernel/ipkernel.py:283: DeprecationWarning: `should_run_async` will not call `transform_cell` automatically in the future. Please pass the result to `transformed_cell` argument and any exception that happen during thetransform in `preprocessing_exc_tuple` in IPython 7.17 and above.\n",
            "  and should_run_async(code)\n"
          ]
        }
      ]
    },
    {
      "cell_type": "code",
      "source": [
        "M2_Asia_data=Asia_data[(Asia_data['month']==2)]"
      ],
      "metadata": {
        "id": "rw45TRvBTH2t",
        "outputId": "9a0770fd-e54b-4675-e2f1-c2153ad38f1d",
        "colab": {
          "base_uri": "https://localhost:8080/"
        }
      },
      "execution_count": 191,
      "outputs": [
        {
          "output_type": "stream",
          "name": "stderr",
          "text": [
            "/usr/local/lib/python3.10/dist-packages/ipykernel/ipkernel.py:283: DeprecationWarning: `should_run_async` will not call `transform_cell` automatically in the future. Please pass the result to `transformed_cell` argument and any exception that happen during thetransform in `preprocessing_exc_tuple` in IPython 7.17 and above.\n",
            "  and should_run_async(code)\n"
          ]
        }
      ]
    },
    {
      "cell_type": "code",
      "source": [
        "#M2_Asia_data"
      ],
      "metadata": {
        "id": "yVO3DEF8KIbP",
        "outputId": "4dbbf7a8-8fa2-407d-ee20-a6239994b5d4",
        "colab": {
          "base_uri": "https://localhost:8080/"
        }
      },
      "execution_count": 192,
      "outputs": [
        {
          "output_type": "stream",
          "name": "stderr",
          "text": [
            "/usr/local/lib/python3.10/dist-packages/ipykernel/ipkernel.py:283: DeprecationWarning: `should_run_async` will not call `transform_cell` automatically in the future. Please pass the result to `transformed_cell` argument and any exception that happen during thetransform in `preprocessing_exc_tuple` in IPython 7.17 and above.\n",
            "  and should_run_async(code)\n"
          ]
        }
      ]
    },
    {
      "cell_type": "code",
      "source": [
        "D2_Asia_data=M2_Asia_data[(M2_Asia_data['day']<=15)]"
      ],
      "metadata": {
        "id": "8RJu9aYsTO1o",
        "outputId": "beb832a3-c6e5-4241-d650-8b560c83e5a8",
        "colab": {
          "base_uri": "https://localhost:8080/"
        }
      },
      "execution_count": 193,
      "outputs": [
        {
          "output_type": "stream",
          "name": "stderr",
          "text": [
            "/usr/local/lib/python3.10/dist-packages/ipykernel/ipkernel.py:283: DeprecationWarning: `should_run_async` will not call `transform_cell` automatically in the future. Please pass the result to `transformed_cell` argument and any exception that happen during thetransform in `preprocessing_exc_tuple` in IPython 7.17 and above.\n",
            "  and should_run_async(code)\n"
          ]
        }
      ]
    },
    {
      "cell_type": "code",
      "source": [
        "D2_Asia_data"
      ],
      "metadata": {
        "id": "yNlddJyPTb7f",
        "outputId": "02e4b8f4-12d9-4db5-c5e4-7c600250713c",
        "colab": {
          "base_uri": "https://localhost:8080/",
          "height": 478
        }
      },
      "execution_count": 194,
      "outputs": [
        {
          "output_type": "stream",
          "name": "stderr",
          "text": [
            "/usr/local/lib/python3.10/dist-packages/ipykernel/ipkernel.py:283: DeprecationWarning: `should_run_async` will not call `transform_cell` automatically in the future. Please pass the result to `transformed_cell` argument and any exception that happen during thetransform in `preprocessing_exc_tuple` in IPython 7.17 and above.\n",
            "  and should_run_async(code)\n"
          ]
        },
        {
          "output_type": "execute_result",
          "data": {
            "text/plain": [
              "      InvoiceNo StockCode                          Description  Quantity  \\\n",
              "89570    543911     21485     RETROSPOT HEART HOT WATER BOTTLE         6   \n",
              "89571    543911     48138                   DOORMAT UNION FLAG         2   \n",
              "89572    543911     85150        LADIES & GENTLEMEN METAL SIGN        24   \n",
              "89573    543911     82552                  WASHROOM METAL SIGN        24   \n",
              "89574    543911     82551               LAUNDRY 15C METAL SIGN        12   \n",
              "...         ...       ...                                  ...       ...   \n",
              "85761    543518     21080  SET/20 RED RETROSPOT PAPER NAPKINS         96   \n",
              "85762    543518     21217        RED RETROSPOT ROUND CAKE TINS        24   \n",
              "85763    543518     21216     SET 3 RETROSPOT TEA,COFFEE,SUGAR        48   \n",
              "85764    543518     21980    PACK OF 12 RED RETROSPOT TISSUES         96   \n",
              "85765    543518     22333    RETROSPOT PARTY BAG + STICKER SET        96   \n",
              "\n",
              "            InvoiceDate  UnitPrice  CustomerID               Country  \\\n",
              "89570   2/14/2011 12:46       4.95     17829.0  United Arab Emirates   \n",
              "89571   2/14/2011 12:46       7.95     17829.0  United Arab Emirates   \n",
              "89572   2/14/2011 12:46       2.55     17829.0  United Arab Emirates   \n",
              "89573   2/14/2011 12:46       1.45     17829.0  United Arab Emirates   \n",
              "89574   2/14/2011 12:46       1.45     17829.0  United Arab Emirates   \n",
              "...                 ...        ...         ...                   ...   \n",
              "85761  02/09/2011 11:21       0.64     12753.0                 Japan   \n",
              "85762  02/09/2011 11:21       8.95     12753.0                 Japan   \n",
              "85763  02/09/2011 11:21       4.25     12753.0                 Japan   \n",
              "85764  02/09/2011 11:21       0.29     12753.0                 Japan   \n",
              "85765  02/09/2011 11:21       1.45     12753.0                 Japan   \n",
              "\n",
              "             date  day  month  year  \n",
              "89570   2/14/2011   14      2  2011  \n",
              "89571   2/14/2011   14      2  2011  \n",
              "89572   2/14/2011   14      2  2011  \n",
              "89573   2/14/2011   14      2  2011  \n",
              "89574   2/14/2011   14      2  2011  \n",
              "...           ...  ...    ...   ...  \n",
              "85761  02/09/2011    9      2  2011  \n",
              "85762  02/09/2011    9      2  2011  \n",
              "85763  02/09/2011    9      2  2011  \n",
              "85764  02/09/2011    9      2  2011  \n",
              "85765  02/09/2011    9      2  2011  \n",
              "\n",
              "[115 rows x 12 columns]"
            ],
            "text/html": [
              "\n",
              "  <div id=\"df-e3dee90b-f5c6-49dc-9db3-526fe9a7254f\" class=\"colab-df-container\">\n",
              "    <div>\n",
              "<style scoped>\n",
              "    .dataframe tbody tr th:only-of-type {\n",
              "        vertical-align: middle;\n",
              "    }\n",
              "\n",
              "    .dataframe tbody tr th {\n",
              "        vertical-align: top;\n",
              "    }\n",
              "\n",
              "    .dataframe thead th {\n",
              "        text-align: right;\n",
              "    }\n",
              "</style>\n",
              "<table border=\"1\" class=\"dataframe\">\n",
              "  <thead>\n",
              "    <tr style=\"text-align: right;\">\n",
              "      <th></th>\n",
              "      <th>InvoiceNo</th>\n",
              "      <th>StockCode</th>\n",
              "      <th>Description</th>\n",
              "      <th>Quantity</th>\n",
              "      <th>InvoiceDate</th>\n",
              "      <th>UnitPrice</th>\n",
              "      <th>CustomerID</th>\n",
              "      <th>Country</th>\n",
              "      <th>date</th>\n",
              "      <th>day</th>\n",
              "      <th>month</th>\n",
              "      <th>year</th>\n",
              "    </tr>\n",
              "  </thead>\n",
              "  <tbody>\n",
              "    <tr>\n",
              "      <th>89570</th>\n",
              "      <td>543911</td>\n",
              "      <td>21485</td>\n",
              "      <td>RETROSPOT HEART HOT WATER BOTTLE</td>\n",
              "      <td>6</td>\n",
              "      <td>2/14/2011 12:46</td>\n",
              "      <td>4.95</td>\n",
              "      <td>17829.0</td>\n",
              "      <td>United Arab Emirates</td>\n",
              "      <td>2/14/2011</td>\n",
              "      <td>14</td>\n",
              "      <td>2</td>\n",
              "      <td>2011</td>\n",
              "    </tr>\n",
              "    <tr>\n",
              "      <th>89571</th>\n",
              "      <td>543911</td>\n",
              "      <td>48138</td>\n",
              "      <td>DOORMAT UNION FLAG</td>\n",
              "      <td>2</td>\n",
              "      <td>2/14/2011 12:46</td>\n",
              "      <td>7.95</td>\n",
              "      <td>17829.0</td>\n",
              "      <td>United Arab Emirates</td>\n",
              "      <td>2/14/2011</td>\n",
              "      <td>14</td>\n",
              "      <td>2</td>\n",
              "      <td>2011</td>\n",
              "    </tr>\n",
              "    <tr>\n",
              "      <th>89572</th>\n",
              "      <td>543911</td>\n",
              "      <td>85150</td>\n",
              "      <td>LADIES &amp; GENTLEMEN METAL SIGN</td>\n",
              "      <td>24</td>\n",
              "      <td>2/14/2011 12:46</td>\n",
              "      <td>2.55</td>\n",
              "      <td>17829.0</td>\n",
              "      <td>United Arab Emirates</td>\n",
              "      <td>2/14/2011</td>\n",
              "      <td>14</td>\n",
              "      <td>2</td>\n",
              "      <td>2011</td>\n",
              "    </tr>\n",
              "    <tr>\n",
              "      <th>89573</th>\n",
              "      <td>543911</td>\n",
              "      <td>82552</td>\n",
              "      <td>WASHROOM METAL SIGN</td>\n",
              "      <td>24</td>\n",
              "      <td>2/14/2011 12:46</td>\n",
              "      <td>1.45</td>\n",
              "      <td>17829.0</td>\n",
              "      <td>United Arab Emirates</td>\n",
              "      <td>2/14/2011</td>\n",
              "      <td>14</td>\n",
              "      <td>2</td>\n",
              "      <td>2011</td>\n",
              "    </tr>\n",
              "    <tr>\n",
              "      <th>89574</th>\n",
              "      <td>543911</td>\n",
              "      <td>82551</td>\n",
              "      <td>LAUNDRY 15C METAL SIGN</td>\n",
              "      <td>12</td>\n",
              "      <td>2/14/2011 12:46</td>\n",
              "      <td>1.45</td>\n",
              "      <td>17829.0</td>\n",
              "      <td>United Arab Emirates</td>\n",
              "      <td>2/14/2011</td>\n",
              "      <td>14</td>\n",
              "      <td>2</td>\n",
              "      <td>2011</td>\n",
              "    </tr>\n",
              "    <tr>\n",
              "      <th>...</th>\n",
              "      <td>...</td>\n",
              "      <td>...</td>\n",
              "      <td>...</td>\n",
              "      <td>...</td>\n",
              "      <td>...</td>\n",
              "      <td>...</td>\n",
              "      <td>...</td>\n",
              "      <td>...</td>\n",
              "      <td>...</td>\n",
              "      <td>...</td>\n",
              "      <td>...</td>\n",
              "      <td>...</td>\n",
              "    </tr>\n",
              "    <tr>\n",
              "      <th>85761</th>\n",
              "      <td>543518</td>\n",
              "      <td>21080</td>\n",
              "      <td>SET/20 RED RETROSPOT PAPER NAPKINS</td>\n",
              "      <td>96</td>\n",
              "      <td>02/09/2011 11:21</td>\n",
              "      <td>0.64</td>\n",
              "      <td>12753.0</td>\n",
              "      <td>Japan</td>\n",
              "      <td>02/09/2011</td>\n",
              "      <td>9</td>\n",
              "      <td>2</td>\n",
              "      <td>2011</td>\n",
              "    </tr>\n",
              "    <tr>\n",
              "      <th>85762</th>\n",
              "      <td>543518</td>\n",
              "      <td>21217</td>\n",
              "      <td>RED RETROSPOT ROUND CAKE TINS</td>\n",
              "      <td>24</td>\n",
              "      <td>02/09/2011 11:21</td>\n",
              "      <td>8.95</td>\n",
              "      <td>12753.0</td>\n",
              "      <td>Japan</td>\n",
              "      <td>02/09/2011</td>\n",
              "      <td>9</td>\n",
              "      <td>2</td>\n",
              "      <td>2011</td>\n",
              "    </tr>\n",
              "    <tr>\n",
              "      <th>85763</th>\n",
              "      <td>543518</td>\n",
              "      <td>21216</td>\n",
              "      <td>SET 3 RETROSPOT TEA,COFFEE,SUGAR</td>\n",
              "      <td>48</td>\n",
              "      <td>02/09/2011 11:21</td>\n",
              "      <td>4.25</td>\n",
              "      <td>12753.0</td>\n",
              "      <td>Japan</td>\n",
              "      <td>02/09/2011</td>\n",
              "      <td>9</td>\n",
              "      <td>2</td>\n",
              "      <td>2011</td>\n",
              "    </tr>\n",
              "    <tr>\n",
              "      <th>85764</th>\n",
              "      <td>543518</td>\n",
              "      <td>21980</td>\n",
              "      <td>PACK OF 12 RED RETROSPOT TISSUES</td>\n",
              "      <td>96</td>\n",
              "      <td>02/09/2011 11:21</td>\n",
              "      <td>0.29</td>\n",
              "      <td>12753.0</td>\n",
              "      <td>Japan</td>\n",
              "      <td>02/09/2011</td>\n",
              "      <td>9</td>\n",
              "      <td>2</td>\n",
              "      <td>2011</td>\n",
              "    </tr>\n",
              "    <tr>\n",
              "      <th>85765</th>\n",
              "      <td>543518</td>\n",
              "      <td>22333</td>\n",
              "      <td>RETROSPOT PARTY BAG + STICKER SET</td>\n",
              "      <td>96</td>\n",
              "      <td>02/09/2011 11:21</td>\n",
              "      <td>1.45</td>\n",
              "      <td>12753.0</td>\n",
              "      <td>Japan</td>\n",
              "      <td>02/09/2011</td>\n",
              "      <td>9</td>\n",
              "      <td>2</td>\n",
              "      <td>2011</td>\n",
              "    </tr>\n",
              "  </tbody>\n",
              "</table>\n",
              "<p>115 rows × 12 columns</p>\n",
              "</div>\n",
              "    <div class=\"colab-df-buttons\">\n",
              "\n",
              "  <div class=\"colab-df-container\">\n",
              "    <button class=\"colab-df-convert\" onclick=\"convertToInteractive('df-e3dee90b-f5c6-49dc-9db3-526fe9a7254f')\"\n",
              "            title=\"Convert this dataframe to an interactive table.\"\n",
              "            style=\"display:none;\">\n",
              "\n",
              "  <svg xmlns=\"http://www.w3.org/2000/svg\" height=\"24px\" viewBox=\"0 -960 960 960\">\n",
              "    <path d=\"M120-120v-720h720v720H120Zm60-500h600v-160H180v160Zm220 220h160v-160H400v160Zm0 220h160v-160H400v160ZM180-400h160v-160H180v160Zm440 0h160v-160H620v160ZM180-180h160v-160H180v160Zm440 0h160v-160H620v160Z\"/>\n",
              "  </svg>\n",
              "    </button>\n",
              "\n",
              "  <style>\n",
              "    .colab-df-container {\n",
              "      display:flex;\n",
              "      gap: 12px;\n",
              "    }\n",
              "\n",
              "    .colab-df-convert {\n",
              "      background-color: #E8F0FE;\n",
              "      border: none;\n",
              "      border-radius: 50%;\n",
              "      cursor: pointer;\n",
              "      display: none;\n",
              "      fill: #1967D2;\n",
              "      height: 32px;\n",
              "      padding: 0 0 0 0;\n",
              "      width: 32px;\n",
              "    }\n",
              "\n",
              "    .colab-df-convert:hover {\n",
              "      background-color: #E2EBFA;\n",
              "      box-shadow: 0px 1px 2px rgba(60, 64, 67, 0.3), 0px 1px 3px 1px rgba(60, 64, 67, 0.15);\n",
              "      fill: #174EA6;\n",
              "    }\n",
              "\n",
              "    .colab-df-buttons div {\n",
              "      margin-bottom: 4px;\n",
              "    }\n",
              "\n",
              "    [theme=dark] .colab-df-convert {\n",
              "      background-color: #3B4455;\n",
              "      fill: #D2E3FC;\n",
              "    }\n",
              "\n",
              "    [theme=dark] .colab-df-convert:hover {\n",
              "      background-color: #434B5C;\n",
              "      box-shadow: 0px 1px 3px 1px rgba(0, 0, 0, 0.15);\n",
              "      filter: drop-shadow(0px 1px 2px rgba(0, 0, 0, 0.3));\n",
              "      fill: #FFFFFF;\n",
              "    }\n",
              "  </style>\n",
              "\n",
              "    <script>\n",
              "      const buttonEl =\n",
              "        document.querySelector('#df-e3dee90b-f5c6-49dc-9db3-526fe9a7254f button.colab-df-convert');\n",
              "      buttonEl.style.display =\n",
              "        google.colab.kernel.accessAllowed ? 'block' : 'none';\n",
              "\n",
              "      async function convertToInteractive(key) {\n",
              "        const element = document.querySelector('#df-e3dee90b-f5c6-49dc-9db3-526fe9a7254f');\n",
              "        const dataTable =\n",
              "          await google.colab.kernel.invokeFunction('convertToInteractive',\n",
              "                                                    [key], {});\n",
              "        if (!dataTable) return;\n",
              "\n",
              "        const docLinkHtml = 'Like what you see? Visit the ' +\n",
              "          '<a target=\"_blank\" href=https://colab.research.google.com/notebooks/data_table.ipynb>data table notebook</a>'\n",
              "          + ' to learn more about interactive tables.';\n",
              "        element.innerHTML = '';\n",
              "        dataTable['output_type'] = 'display_data';\n",
              "        await google.colab.output.renderOutput(dataTable, element);\n",
              "        const docLink = document.createElement('div');\n",
              "        docLink.innerHTML = docLinkHtml;\n",
              "        element.appendChild(docLink);\n",
              "      }\n",
              "    </script>\n",
              "  </div>\n",
              "\n",
              "\n",
              "<div id=\"df-f2a6a845-fefd-461f-a113-2482c272f6f3\">\n",
              "  <button class=\"colab-df-quickchart\" onclick=\"quickchart('df-f2a6a845-fefd-461f-a113-2482c272f6f3')\"\n",
              "            title=\"Suggest charts\"\n",
              "            style=\"display:none;\">\n",
              "\n",
              "<svg xmlns=\"http://www.w3.org/2000/svg\" height=\"24px\"viewBox=\"0 0 24 24\"\n",
              "     width=\"24px\">\n",
              "    <g>\n",
              "        <path d=\"M19 3H5c-1.1 0-2 .9-2 2v14c0 1.1.9 2 2 2h14c1.1 0 2-.9 2-2V5c0-1.1-.9-2-2-2zM9 17H7v-7h2v7zm4 0h-2V7h2v10zm4 0h-2v-4h2v4z\"/>\n",
              "    </g>\n",
              "</svg>\n",
              "  </button>\n",
              "\n",
              "<style>\n",
              "  .colab-df-quickchart {\n",
              "      --bg-color: #E8F0FE;\n",
              "      --fill-color: #1967D2;\n",
              "      --hover-bg-color: #E2EBFA;\n",
              "      --hover-fill-color: #174EA6;\n",
              "      --disabled-fill-color: #AAA;\n",
              "      --disabled-bg-color: #DDD;\n",
              "  }\n",
              "\n",
              "  [theme=dark] .colab-df-quickchart {\n",
              "      --bg-color: #3B4455;\n",
              "      --fill-color: #D2E3FC;\n",
              "      --hover-bg-color: #434B5C;\n",
              "      --hover-fill-color: #FFFFFF;\n",
              "      --disabled-bg-color: #3B4455;\n",
              "      --disabled-fill-color: #666;\n",
              "  }\n",
              "\n",
              "  .colab-df-quickchart {\n",
              "    background-color: var(--bg-color);\n",
              "    border: none;\n",
              "    border-radius: 50%;\n",
              "    cursor: pointer;\n",
              "    display: none;\n",
              "    fill: var(--fill-color);\n",
              "    height: 32px;\n",
              "    padding: 0;\n",
              "    width: 32px;\n",
              "  }\n",
              "\n",
              "  .colab-df-quickchart:hover {\n",
              "    background-color: var(--hover-bg-color);\n",
              "    box-shadow: 0 1px 2px rgba(60, 64, 67, 0.3), 0 1px 3px 1px rgba(60, 64, 67, 0.15);\n",
              "    fill: var(--button-hover-fill-color);\n",
              "  }\n",
              "\n",
              "  .colab-df-quickchart-complete:disabled,\n",
              "  .colab-df-quickchart-complete:disabled:hover {\n",
              "    background-color: var(--disabled-bg-color);\n",
              "    fill: var(--disabled-fill-color);\n",
              "    box-shadow: none;\n",
              "  }\n",
              "\n",
              "  .colab-df-spinner {\n",
              "    border: 2px solid var(--fill-color);\n",
              "    border-color: transparent;\n",
              "    border-bottom-color: var(--fill-color);\n",
              "    animation:\n",
              "      spin 1s steps(1) infinite;\n",
              "  }\n",
              "\n",
              "  @keyframes spin {\n",
              "    0% {\n",
              "      border-color: transparent;\n",
              "      border-bottom-color: var(--fill-color);\n",
              "      border-left-color: var(--fill-color);\n",
              "    }\n",
              "    20% {\n",
              "      border-color: transparent;\n",
              "      border-left-color: var(--fill-color);\n",
              "      border-top-color: var(--fill-color);\n",
              "    }\n",
              "    30% {\n",
              "      border-color: transparent;\n",
              "      border-left-color: var(--fill-color);\n",
              "      border-top-color: var(--fill-color);\n",
              "      border-right-color: var(--fill-color);\n",
              "    }\n",
              "    40% {\n",
              "      border-color: transparent;\n",
              "      border-right-color: var(--fill-color);\n",
              "      border-top-color: var(--fill-color);\n",
              "    }\n",
              "    60% {\n",
              "      border-color: transparent;\n",
              "      border-right-color: var(--fill-color);\n",
              "    }\n",
              "    80% {\n",
              "      border-color: transparent;\n",
              "      border-right-color: var(--fill-color);\n",
              "      border-bottom-color: var(--fill-color);\n",
              "    }\n",
              "    90% {\n",
              "      border-color: transparent;\n",
              "      border-bottom-color: var(--fill-color);\n",
              "    }\n",
              "  }\n",
              "</style>\n",
              "\n",
              "  <script>\n",
              "    async function quickchart(key) {\n",
              "      const quickchartButtonEl =\n",
              "        document.querySelector('#' + key + ' button');\n",
              "      quickchartButtonEl.disabled = true;  // To prevent multiple clicks.\n",
              "      quickchartButtonEl.classList.add('colab-df-spinner');\n",
              "      try {\n",
              "        const charts = await google.colab.kernel.invokeFunction(\n",
              "            'suggestCharts', [key], {});\n",
              "      } catch (error) {\n",
              "        console.error('Error during call to suggestCharts:', error);\n",
              "      }\n",
              "      quickchartButtonEl.classList.remove('colab-df-spinner');\n",
              "      quickchartButtonEl.classList.add('colab-df-quickchart-complete');\n",
              "    }\n",
              "    (() => {\n",
              "      let quickchartButtonEl =\n",
              "        document.querySelector('#df-f2a6a845-fefd-461f-a113-2482c272f6f3 button');\n",
              "      quickchartButtonEl.style.display =\n",
              "        google.colab.kernel.accessAllowed ? 'block' : 'none';\n",
              "    })();\n",
              "  </script>\n",
              "</div>\n",
              "    </div>\n",
              "  </div>\n"
            ]
          },
          "metadata": {},
          "execution_count": 194
        }
      ]
    },
    {
      "cell_type": "markdown",
      "source": [
        "###เอาสองตารางรวมกัน"
      ],
      "metadata": {
        "id": "_XeP8mfJTfsI"
      }
    },
    {
      "cell_type": "code",
      "source": [
        "use_Asia_data=pd.concat([D1_Asia_data,D2_Asia_data])"
      ],
      "metadata": {
        "id": "IyZoiencTiha",
        "outputId": "5d1607b0-d252-409a-cc07-0201cd114008",
        "colab": {
          "base_uri": "https://localhost:8080/"
        }
      },
      "execution_count": 195,
      "outputs": [
        {
          "output_type": "stream",
          "name": "stderr",
          "text": [
            "/usr/local/lib/python3.10/dist-packages/ipykernel/ipkernel.py:283: DeprecationWarning: `should_run_async` will not call `transform_cell` automatically in the future. Please pass the result to `transformed_cell` argument and any exception that happen during thetransform in `preprocessing_exc_tuple` in IPython 7.17 and above.\n",
            "  and should_run_async(code)\n"
          ]
        }
      ]
    },
    {
      "cell_type": "code",
      "source": [
        "use_Asia_data"
      ],
      "metadata": {
        "id": "-3pM1qLPK9ww",
        "outputId": "95fe5394-0581-4d5e-978d-fb3624042982",
        "colab": {
          "base_uri": "https://localhost:8080/",
          "height": 478
        }
      },
      "execution_count": 196,
      "outputs": [
        {
          "output_type": "stream",
          "name": "stderr",
          "text": [
            "/usr/local/lib/python3.10/dist-packages/ipykernel/ipkernel.py:283: DeprecationWarning: `should_run_async` will not call `transform_cell` automatically in the future. Please pass the result to `transformed_cell` argument and any exception that happen during thetransform in `preprocessing_exc_tuple` in IPython 7.17 and above.\n",
            "  and should_run_async(code)\n"
          ]
        },
        {
          "output_type": "execute_result",
          "data": {
            "text/plain": [
              "      InvoiceNo StockCode                          Description  Quantity  \\\n",
              "70758    542102     21519      GIN & TONIC DIET GREETING CARD         72   \n",
              "70759    542102     22697      GREEN REGENCY TEACUP AND SAUCER         6   \n",
              "70760    542102     22699     ROSES REGENCY TEACUP AND SAUCER          6   \n",
              "70761    542102     22343       PARTY PIZZA DISH RED RETROSPOT        24   \n",
              "70762    542102     22344       PARTY PIZZA DISH PINK POLKADOT        24   \n",
              "...         ...       ...                                  ...       ...   \n",
              "85761    543518     21080  SET/20 RED RETROSPOT PAPER NAPKINS         96   \n",
              "85762    543518     21217        RED RETROSPOT ROUND CAKE TINS        24   \n",
              "85763    543518     21216     SET 3 RETROSPOT TEA,COFFEE,SUGAR        48   \n",
              "85764    543518     21980    PACK OF 12 RED RETROSPOT TISSUES         96   \n",
              "85765    543518     22333    RETROSPOT PARTY BAG + STICKER SET        96   \n",
              "\n",
              "            InvoiceDate  UnitPrice  CustomerID    Country        date  day  \\\n",
              "70758   1/25/2011 13:26       0.36     12744.0  Singapore   1/25/2011   25   \n",
              "70759   1/25/2011 13:26       2.95     12744.0  Singapore   1/25/2011   25   \n",
              "70760   1/25/2011 13:26       2.95     12744.0  Singapore   1/25/2011   25   \n",
              "70761   1/25/2011 13:26       0.21     12744.0  Singapore   1/25/2011   25   \n",
              "70762   1/25/2011 13:26       0.21     12744.0  Singapore   1/25/2011   25   \n",
              "...                 ...        ...         ...        ...         ...  ...   \n",
              "85761  02/09/2011 11:21       0.64     12753.0      Japan  02/09/2011    9   \n",
              "85762  02/09/2011 11:21       8.95     12753.0      Japan  02/09/2011    9   \n",
              "85763  02/09/2011 11:21       4.25     12753.0      Japan  02/09/2011    9   \n",
              "85764  02/09/2011 11:21       0.29     12753.0      Japan  02/09/2011    9   \n",
              "85765  02/09/2011 11:21       1.45     12753.0      Japan  02/09/2011    9   \n",
              "\n",
              "       month  year  \n",
              "70758      1  2011  \n",
              "70759      1  2011  \n",
              "70760      1  2011  \n",
              "70761      1  2011  \n",
              "70762      1  2011  \n",
              "...      ...   ...  \n",
              "85761      2  2011  \n",
              "85762      2  2011  \n",
              "85763      2  2011  \n",
              "85764      2  2011  \n",
              "85765      2  2011  \n",
              "\n",
              "[273 rows x 12 columns]"
            ],
            "text/html": [
              "\n",
              "  <div id=\"df-6725c1ae-f1ba-4e4c-b120-558a0d36adb1\" class=\"colab-df-container\">\n",
              "    <div>\n",
              "<style scoped>\n",
              "    .dataframe tbody tr th:only-of-type {\n",
              "        vertical-align: middle;\n",
              "    }\n",
              "\n",
              "    .dataframe tbody tr th {\n",
              "        vertical-align: top;\n",
              "    }\n",
              "\n",
              "    .dataframe thead th {\n",
              "        text-align: right;\n",
              "    }\n",
              "</style>\n",
              "<table border=\"1\" class=\"dataframe\">\n",
              "  <thead>\n",
              "    <tr style=\"text-align: right;\">\n",
              "      <th></th>\n",
              "      <th>InvoiceNo</th>\n",
              "      <th>StockCode</th>\n",
              "      <th>Description</th>\n",
              "      <th>Quantity</th>\n",
              "      <th>InvoiceDate</th>\n",
              "      <th>UnitPrice</th>\n",
              "      <th>CustomerID</th>\n",
              "      <th>Country</th>\n",
              "      <th>date</th>\n",
              "      <th>day</th>\n",
              "      <th>month</th>\n",
              "      <th>year</th>\n",
              "    </tr>\n",
              "  </thead>\n",
              "  <tbody>\n",
              "    <tr>\n",
              "      <th>70758</th>\n",
              "      <td>542102</td>\n",
              "      <td>21519</td>\n",
              "      <td>GIN &amp; TONIC DIET GREETING CARD</td>\n",
              "      <td>72</td>\n",
              "      <td>1/25/2011 13:26</td>\n",
              "      <td>0.36</td>\n",
              "      <td>12744.0</td>\n",
              "      <td>Singapore</td>\n",
              "      <td>1/25/2011</td>\n",
              "      <td>25</td>\n",
              "      <td>1</td>\n",
              "      <td>2011</td>\n",
              "    </tr>\n",
              "    <tr>\n",
              "      <th>70759</th>\n",
              "      <td>542102</td>\n",
              "      <td>22697</td>\n",
              "      <td>GREEN REGENCY TEACUP AND SAUCER</td>\n",
              "      <td>6</td>\n",
              "      <td>1/25/2011 13:26</td>\n",
              "      <td>2.95</td>\n",
              "      <td>12744.0</td>\n",
              "      <td>Singapore</td>\n",
              "      <td>1/25/2011</td>\n",
              "      <td>25</td>\n",
              "      <td>1</td>\n",
              "      <td>2011</td>\n",
              "    </tr>\n",
              "    <tr>\n",
              "      <th>70760</th>\n",
              "      <td>542102</td>\n",
              "      <td>22699</td>\n",
              "      <td>ROSES REGENCY TEACUP AND SAUCER</td>\n",
              "      <td>6</td>\n",
              "      <td>1/25/2011 13:26</td>\n",
              "      <td>2.95</td>\n",
              "      <td>12744.0</td>\n",
              "      <td>Singapore</td>\n",
              "      <td>1/25/2011</td>\n",
              "      <td>25</td>\n",
              "      <td>1</td>\n",
              "      <td>2011</td>\n",
              "    </tr>\n",
              "    <tr>\n",
              "      <th>70761</th>\n",
              "      <td>542102</td>\n",
              "      <td>22343</td>\n",
              "      <td>PARTY PIZZA DISH RED RETROSPOT</td>\n",
              "      <td>24</td>\n",
              "      <td>1/25/2011 13:26</td>\n",
              "      <td>0.21</td>\n",
              "      <td>12744.0</td>\n",
              "      <td>Singapore</td>\n",
              "      <td>1/25/2011</td>\n",
              "      <td>25</td>\n",
              "      <td>1</td>\n",
              "      <td>2011</td>\n",
              "    </tr>\n",
              "    <tr>\n",
              "      <th>70762</th>\n",
              "      <td>542102</td>\n",
              "      <td>22344</td>\n",
              "      <td>PARTY PIZZA DISH PINK POLKADOT</td>\n",
              "      <td>24</td>\n",
              "      <td>1/25/2011 13:26</td>\n",
              "      <td>0.21</td>\n",
              "      <td>12744.0</td>\n",
              "      <td>Singapore</td>\n",
              "      <td>1/25/2011</td>\n",
              "      <td>25</td>\n",
              "      <td>1</td>\n",
              "      <td>2011</td>\n",
              "    </tr>\n",
              "    <tr>\n",
              "      <th>...</th>\n",
              "      <td>...</td>\n",
              "      <td>...</td>\n",
              "      <td>...</td>\n",
              "      <td>...</td>\n",
              "      <td>...</td>\n",
              "      <td>...</td>\n",
              "      <td>...</td>\n",
              "      <td>...</td>\n",
              "      <td>...</td>\n",
              "      <td>...</td>\n",
              "      <td>...</td>\n",
              "      <td>...</td>\n",
              "    </tr>\n",
              "    <tr>\n",
              "      <th>85761</th>\n",
              "      <td>543518</td>\n",
              "      <td>21080</td>\n",
              "      <td>SET/20 RED RETROSPOT PAPER NAPKINS</td>\n",
              "      <td>96</td>\n",
              "      <td>02/09/2011 11:21</td>\n",
              "      <td>0.64</td>\n",
              "      <td>12753.0</td>\n",
              "      <td>Japan</td>\n",
              "      <td>02/09/2011</td>\n",
              "      <td>9</td>\n",
              "      <td>2</td>\n",
              "      <td>2011</td>\n",
              "    </tr>\n",
              "    <tr>\n",
              "      <th>85762</th>\n",
              "      <td>543518</td>\n",
              "      <td>21217</td>\n",
              "      <td>RED RETROSPOT ROUND CAKE TINS</td>\n",
              "      <td>24</td>\n",
              "      <td>02/09/2011 11:21</td>\n",
              "      <td>8.95</td>\n",
              "      <td>12753.0</td>\n",
              "      <td>Japan</td>\n",
              "      <td>02/09/2011</td>\n",
              "      <td>9</td>\n",
              "      <td>2</td>\n",
              "      <td>2011</td>\n",
              "    </tr>\n",
              "    <tr>\n",
              "      <th>85763</th>\n",
              "      <td>543518</td>\n",
              "      <td>21216</td>\n",
              "      <td>SET 3 RETROSPOT TEA,COFFEE,SUGAR</td>\n",
              "      <td>48</td>\n",
              "      <td>02/09/2011 11:21</td>\n",
              "      <td>4.25</td>\n",
              "      <td>12753.0</td>\n",
              "      <td>Japan</td>\n",
              "      <td>02/09/2011</td>\n",
              "      <td>9</td>\n",
              "      <td>2</td>\n",
              "      <td>2011</td>\n",
              "    </tr>\n",
              "    <tr>\n",
              "      <th>85764</th>\n",
              "      <td>543518</td>\n",
              "      <td>21980</td>\n",
              "      <td>PACK OF 12 RED RETROSPOT TISSUES</td>\n",
              "      <td>96</td>\n",
              "      <td>02/09/2011 11:21</td>\n",
              "      <td>0.29</td>\n",
              "      <td>12753.0</td>\n",
              "      <td>Japan</td>\n",
              "      <td>02/09/2011</td>\n",
              "      <td>9</td>\n",
              "      <td>2</td>\n",
              "      <td>2011</td>\n",
              "    </tr>\n",
              "    <tr>\n",
              "      <th>85765</th>\n",
              "      <td>543518</td>\n",
              "      <td>22333</td>\n",
              "      <td>RETROSPOT PARTY BAG + STICKER SET</td>\n",
              "      <td>96</td>\n",
              "      <td>02/09/2011 11:21</td>\n",
              "      <td>1.45</td>\n",
              "      <td>12753.0</td>\n",
              "      <td>Japan</td>\n",
              "      <td>02/09/2011</td>\n",
              "      <td>9</td>\n",
              "      <td>2</td>\n",
              "      <td>2011</td>\n",
              "    </tr>\n",
              "  </tbody>\n",
              "</table>\n",
              "<p>273 rows × 12 columns</p>\n",
              "</div>\n",
              "    <div class=\"colab-df-buttons\">\n",
              "\n",
              "  <div class=\"colab-df-container\">\n",
              "    <button class=\"colab-df-convert\" onclick=\"convertToInteractive('df-6725c1ae-f1ba-4e4c-b120-558a0d36adb1')\"\n",
              "            title=\"Convert this dataframe to an interactive table.\"\n",
              "            style=\"display:none;\">\n",
              "\n",
              "  <svg xmlns=\"http://www.w3.org/2000/svg\" height=\"24px\" viewBox=\"0 -960 960 960\">\n",
              "    <path d=\"M120-120v-720h720v720H120Zm60-500h600v-160H180v160Zm220 220h160v-160H400v160Zm0 220h160v-160H400v160ZM180-400h160v-160H180v160Zm440 0h160v-160H620v160ZM180-180h160v-160H180v160Zm440 0h160v-160H620v160Z\"/>\n",
              "  </svg>\n",
              "    </button>\n",
              "\n",
              "  <style>\n",
              "    .colab-df-container {\n",
              "      display:flex;\n",
              "      gap: 12px;\n",
              "    }\n",
              "\n",
              "    .colab-df-convert {\n",
              "      background-color: #E8F0FE;\n",
              "      border: none;\n",
              "      border-radius: 50%;\n",
              "      cursor: pointer;\n",
              "      display: none;\n",
              "      fill: #1967D2;\n",
              "      height: 32px;\n",
              "      padding: 0 0 0 0;\n",
              "      width: 32px;\n",
              "    }\n",
              "\n",
              "    .colab-df-convert:hover {\n",
              "      background-color: #E2EBFA;\n",
              "      box-shadow: 0px 1px 2px rgba(60, 64, 67, 0.3), 0px 1px 3px 1px rgba(60, 64, 67, 0.15);\n",
              "      fill: #174EA6;\n",
              "    }\n",
              "\n",
              "    .colab-df-buttons div {\n",
              "      margin-bottom: 4px;\n",
              "    }\n",
              "\n",
              "    [theme=dark] .colab-df-convert {\n",
              "      background-color: #3B4455;\n",
              "      fill: #D2E3FC;\n",
              "    }\n",
              "\n",
              "    [theme=dark] .colab-df-convert:hover {\n",
              "      background-color: #434B5C;\n",
              "      box-shadow: 0px 1px 3px 1px rgba(0, 0, 0, 0.15);\n",
              "      filter: drop-shadow(0px 1px 2px rgba(0, 0, 0, 0.3));\n",
              "      fill: #FFFFFF;\n",
              "    }\n",
              "  </style>\n",
              "\n",
              "    <script>\n",
              "      const buttonEl =\n",
              "        document.querySelector('#df-6725c1ae-f1ba-4e4c-b120-558a0d36adb1 button.colab-df-convert');\n",
              "      buttonEl.style.display =\n",
              "        google.colab.kernel.accessAllowed ? 'block' : 'none';\n",
              "\n",
              "      async function convertToInteractive(key) {\n",
              "        const element = document.querySelector('#df-6725c1ae-f1ba-4e4c-b120-558a0d36adb1');\n",
              "        const dataTable =\n",
              "          await google.colab.kernel.invokeFunction('convertToInteractive',\n",
              "                                                    [key], {});\n",
              "        if (!dataTable) return;\n",
              "\n",
              "        const docLinkHtml = 'Like what you see? Visit the ' +\n",
              "          '<a target=\"_blank\" href=https://colab.research.google.com/notebooks/data_table.ipynb>data table notebook</a>'\n",
              "          + ' to learn more about interactive tables.';\n",
              "        element.innerHTML = '';\n",
              "        dataTable['output_type'] = 'display_data';\n",
              "        await google.colab.output.renderOutput(dataTable, element);\n",
              "        const docLink = document.createElement('div');\n",
              "        docLink.innerHTML = docLinkHtml;\n",
              "        element.appendChild(docLink);\n",
              "      }\n",
              "    </script>\n",
              "  </div>\n",
              "\n",
              "\n",
              "<div id=\"df-156ad8f2-a74d-4d0c-9871-ffda080de76b\">\n",
              "  <button class=\"colab-df-quickchart\" onclick=\"quickchart('df-156ad8f2-a74d-4d0c-9871-ffda080de76b')\"\n",
              "            title=\"Suggest charts\"\n",
              "            style=\"display:none;\">\n",
              "\n",
              "<svg xmlns=\"http://www.w3.org/2000/svg\" height=\"24px\"viewBox=\"0 0 24 24\"\n",
              "     width=\"24px\">\n",
              "    <g>\n",
              "        <path d=\"M19 3H5c-1.1 0-2 .9-2 2v14c0 1.1.9 2 2 2h14c1.1 0 2-.9 2-2V5c0-1.1-.9-2-2-2zM9 17H7v-7h2v7zm4 0h-2V7h2v10zm4 0h-2v-4h2v4z\"/>\n",
              "    </g>\n",
              "</svg>\n",
              "  </button>\n",
              "\n",
              "<style>\n",
              "  .colab-df-quickchart {\n",
              "      --bg-color: #E8F0FE;\n",
              "      --fill-color: #1967D2;\n",
              "      --hover-bg-color: #E2EBFA;\n",
              "      --hover-fill-color: #174EA6;\n",
              "      --disabled-fill-color: #AAA;\n",
              "      --disabled-bg-color: #DDD;\n",
              "  }\n",
              "\n",
              "  [theme=dark] .colab-df-quickchart {\n",
              "      --bg-color: #3B4455;\n",
              "      --fill-color: #D2E3FC;\n",
              "      --hover-bg-color: #434B5C;\n",
              "      --hover-fill-color: #FFFFFF;\n",
              "      --disabled-bg-color: #3B4455;\n",
              "      --disabled-fill-color: #666;\n",
              "  }\n",
              "\n",
              "  .colab-df-quickchart {\n",
              "    background-color: var(--bg-color);\n",
              "    border: none;\n",
              "    border-radius: 50%;\n",
              "    cursor: pointer;\n",
              "    display: none;\n",
              "    fill: var(--fill-color);\n",
              "    height: 32px;\n",
              "    padding: 0;\n",
              "    width: 32px;\n",
              "  }\n",
              "\n",
              "  .colab-df-quickchart:hover {\n",
              "    background-color: var(--hover-bg-color);\n",
              "    box-shadow: 0 1px 2px rgba(60, 64, 67, 0.3), 0 1px 3px 1px rgba(60, 64, 67, 0.15);\n",
              "    fill: var(--button-hover-fill-color);\n",
              "  }\n",
              "\n",
              "  .colab-df-quickchart-complete:disabled,\n",
              "  .colab-df-quickchart-complete:disabled:hover {\n",
              "    background-color: var(--disabled-bg-color);\n",
              "    fill: var(--disabled-fill-color);\n",
              "    box-shadow: none;\n",
              "  }\n",
              "\n",
              "  .colab-df-spinner {\n",
              "    border: 2px solid var(--fill-color);\n",
              "    border-color: transparent;\n",
              "    border-bottom-color: var(--fill-color);\n",
              "    animation:\n",
              "      spin 1s steps(1) infinite;\n",
              "  }\n",
              "\n",
              "  @keyframes spin {\n",
              "    0% {\n",
              "      border-color: transparent;\n",
              "      border-bottom-color: var(--fill-color);\n",
              "      border-left-color: var(--fill-color);\n",
              "    }\n",
              "    20% {\n",
              "      border-color: transparent;\n",
              "      border-left-color: var(--fill-color);\n",
              "      border-top-color: var(--fill-color);\n",
              "    }\n",
              "    30% {\n",
              "      border-color: transparent;\n",
              "      border-left-color: var(--fill-color);\n",
              "      border-top-color: var(--fill-color);\n",
              "      border-right-color: var(--fill-color);\n",
              "    }\n",
              "    40% {\n",
              "      border-color: transparent;\n",
              "      border-right-color: var(--fill-color);\n",
              "      border-top-color: var(--fill-color);\n",
              "    }\n",
              "    60% {\n",
              "      border-color: transparent;\n",
              "      border-right-color: var(--fill-color);\n",
              "    }\n",
              "    80% {\n",
              "      border-color: transparent;\n",
              "      border-right-color: var(--fill-color);\n",
              "      border-bottom-color: var(--fill-color);\n",
              "    }\n",
              "    90% {\n",
              "      border-color: transparent;\n",
              "      border-bottom-color: var(--fill-color);\n",
              "    }\n",
              "  }\n",
              "</style>\n",
              "\n",
              "  <script>\n",
              "    async function quickchart(key) {\n",
              "      const quickchartButtonEl =\n",
              "        document.querySelector('#' + key + ' button');\n",
              "      quickchartButtonEl.disabled = true;  // To prevent multiple clicks.\n",
              "      quickchartButtonEl.classList.add('colab-df-spinner');\n",
              "      try {\n",
              "        const charts = await google.colab.kernel.invokeFunction(\n",
              "            'suggestCharts', [key], {});\n",
              "      } catch (error) {\n",
              "        console.error('Error during call to suggestCharts:', error);\n",
              "      }\n",
              "      quickchartButtonEl.classList.remove('colab-df-spinner');\n",
              "      quickchartButtonEl.classList.add('colab-df-quickchart-complete');\n",
              "    }\n",
              "    (() => {\n",
              "      let quickchartButtonEl =\n",
              "        document.querySelector('#df-156ad8f2-a74d-4d0c-9871-ffda080de76b button');\n",
              "      quickchartButtonEl.style.display =\n",
              "        google.colab.kernel.accessAllowed ? 'block' : 'none';\n",
              "    })();\n",
              "  </script>\n",
              "</div>\n",
              "    </div>\n",
              "  </div>\n"
            ]
          },
          "metadata": {},
          "execution_count": 196
        }
      ]
    },
    {
      "cell_type": "markdown",
      "source": [
        "###หาข้อ 3"
      ],
      "metadata": {
        "id": "tC2p-rEN_6e6"
      }
    },
    {
      "cell_type": "code",
      "source": [
        "transactionsAsia = use_Asia_data.groupby('InvoiceNo')['StockCode'].apply(list)"
      ],
      "metadata": {
        "id": "ciNhEpECABfi",
        "outputId": "a2a2c90b-9bc3-438c-cbba-735ef1a215a0",
        "colab": {
          "base_uri": "https://localhost:8080/"
        }
      },
      "execution_count": 197,
      "outputs": [
        {
          "output_type": "stream",
          "name": "stderr",
          "text": [
            "/usr/local/lib/python3.10/dist-packages/ipykernel/ipkernel.py:283: DeprecationWarning: `should_run_async` will not call `transform_cell` automatically in the future. Please pass the result to `transformed_cell` argument and any exception that happen during thetransform in `preprocessing_exc_tuple` in IPython 7.17 and above.\n",
            "  and should_run_async(code)\n"
          ]
        }
      ]
    },
    {
      "cell_type": "code",
      "source": [
        "transactionsAsia"
      ],
      "metadata": {
        "id": "n2mOUqoOd_zu",
        "outputId": "219dfad8-822a-4f93-fd5d-f1c21566e45a",
        "colab": {
          "base_uri": "https://localhost:8080/"
        }
      },
      "execution_count": 198,
      "outputs": [
        {
          "output_type": "stream",
          "name": "stderr",
          "text": [
            "/usr/local/lib/python3.10/dist-packages/ipykernel/ipkernel.py:283: DeprecationWarning: `should_run_async` will not call `transform_cell` automatically in the future. Please pass the result to `transformed_cell` argument and any exception that happen during thetransform in `preprocessing_exc_tuple` in IPython 7.17 and above.\n",
            "  and should_run_async(code)\n"
          ]
        },
        {
          "output_type": "execute_result",
          "data": {
            "text/plain": [
              "InvoiceNo\n",
              "541975    [22620, 85183B, 85183A, 16236, 21058, 21967, 2...\n",
              "542102    [21519, 22697, 22699, 22343, 22344, 22345, 223...\n",
              "542276    [82551, 21165, 82600, 21754, 21756, 82482, 824...\n",
              "543179    [22407, 22406, 22405, 21745, 22496, 22495, 224...\n",
              "543518    [22759, 22662, 22661, 21717, 22957, 22861, 222...\n",
              "543911    [21485, 48138, 85150, 82552, 82551, 82583, 224...\n",
              "Name: StockCode, dtype: object"
            ]
          },
          "metadata": {},
          "execution_count": 198
        }
      ]
    },
    {
      "cell_type": "code",
      "source": [
        "min_sup = 0.33\n",
        "frequentItemsets_A= list(apriori(transactionsAsia,min_support = min_sup))\n",
        "for i in frequentItemsets_A:\n",
        "    if i[0].__len__()>3:\n",
        "        print('yes')\n",
        "        print(i)"
      ],
      "metadata": {
        "id": "djrkea28dwU_",
        "outputId": "415e19d7-8bd2-4fcb-d6c6-f3add4de414e",
        "colab": {
          "base_uri": "https://localhost:8080/"
        }
      },
      "execution_count": 206,
      "outputs": [
        {
          "output_type": "stream",
          "name": "stdout",
          "text": [
            "yes\n",
            "RelationRecord(items=frozenset({'22202', '22203', '22551', '20682'}), support=0.3333333333333333, ordered_statistics=[OrderedStatistic(items_base=frozenset(), items_add=frozenset({'22202', '22203', '22551', '20682'}), confidence=0.3333333333333333, lift=1.0), OrderedStatistic(items_base=frozenset({'20682'}), items_add=frozenset({'22202', '22203', '22551'}), confidence=1.0, lift=3.0), OrderedStatistic(items_base=frozenset({'22202'}), items_add=frozenset({'22203', '22551', '20682'}), confidence=1.0, lift=3.0), OrderedStatistic(items_base=frozenset({'22203'}), items_add=frozenset({'22202', '22551', '20682'}), confidence=1.0, lift=3.0), OrderedStatistic(items_base=frozenset({'22551'}), items_add=frozenset({'22202', '22203', '20682'}), confidence=1.0, lift=3.0), OrderedStatistic(items_base=frozenset({'22202', '20682'}), items_add=frozenset({'22203', '22551'}), confidence=1.0, lift=3.0), OrderedStatistic(items_base=frozenset({'22203', '20682'}), items_add=frozenset({'22202', '22551'}), confidence=1.0, lift=3.0), OrderedStatistic(items_base=frozenset({'22551', '20682'}), items_add=frozenset({'22202', '22203'}), confidence=1.0, lift=3.0), OrderedStatistic(items_base=frozenset({'22202', '22203'}), items_add=frozenset({'22551', '20682'}), confidence=1.0, lift=3.0), OrderedStatistic(items_base=frozenset({'22202', '22551'}), items_add=frozenset({'22203', '20682'}), confidence=1.0, lift=3.0), OrderedStatistic(items_base=frozenset({'22203', '22551'}), items_add=frozenset({'22202', '20682'}), confidence=1.0, lift=3.0), OrderedStatistic(items_base=frozenset({'22202', '22203', '20682'}), items_add=frozenset({'22551'}), confidence=1.0, lift=3.0), OrderedStatistic(items_base=frozenset({'22202', '22551', '20682'}), items_add=frozenset({'22203'}), confidence=1.0, lift=3.0), OrderedStatistic(items_base=frozenset({'22203', '22551', '20682'}), items_add=frozenset({'22202'}), confidence=1.0, lift=3.0), OrderedStatistic(items_base=frozenset({'22202', '22203', '22551'}), items_add=frozenset({'20682'}), confidence=1.0, lift=3.0)])\n",
            "yes\n",
            "RelationRecord(items=frozenset({'21165', '82551', '82552', '85150'}), support=0.3333333333333333, ordered_statistics=[OrderedStatistic(items_base=frozenset(), items_add=frozenset({'21165', '82551', '82552', '85150'}), confidence=0.3333333333333333, lift=1.0), OrderedStatistic(items_base=frozenset({'21165'}), items_add=frozenset({'82551', '82552', '85150'}), confidence=1.0, lift=3.0), OrderedStatistic(items_base=frozenset({'82551'}), items_add=frozenset({'21165', '85150', '82552'}), confidence=1.0, lift=3.0), OrderedStatistic(items_base=frozenset({'82552'}), items_add=frozenset({'21165', '82551', '85150'}), confidence=1.0, lift=3.0), OrderedStatistic(items_base=frozenset({'85150'}), items_add=frozenset({'21165', '82551', '82552'}), confidence=0.6666666666666666, lift=2.0), OrderedStatistic(items_base=frozenset({'21165', '82551'}), items_add=frozenset({'85150', '82552'}), confidence=1.0, lift=3.0), OrderedStatistic(items_base=frozenset({'21165', '82552'}), items_add=frozenset({'82551', '85150'}), confidence=1.0, lift=3.0), OrderedStatistic(items_base=frozenset({'21165', '85150'}), items_add=frozenset({'82551', '82552'}), confidence=1.0, lift=3.0), OrderedStatistic(items_base=frozenset({'82551', '82552'}), items_add=frozenset({'21165', '85150'}), confidence=1.0, lift=3.0), OrderedStatistic(items_base=frozenset({'82551', '85150'}), items_add=frozenset({'21165', '82552'}), confidence=1.0, lift=3.0), OrderedStatistic(items_base=frozenset({'85150', '82552'}), items_add=frozenset({'21165', '82551'}), confidence=1.0, lift=3.0), OrderedStatistic(items_base=frozenset({'21165', '82551', '82552'}), items_add=frozenset({'85150'}), confidence=1.0, lift=2.0), OrderedStatistic(items_base=frozenset({'21165', '82551', '85150'}), items_add=frozenset({'82552'}), confidence=1.0, lift=3.0), OrderedStatistic(items_base=frozenset({'21165', '85150', '82552'}), items_add=frozenset({'82551'}), confidence=1.0, lift=3.0), OrderedStatistic(items_base=frozenset({'82551', '82552', '85150'}), items_add=frozenset({'21165'}), confidence=1.0, lift=3.0)])\n",
            "yes\n",
            "RelationRecord(items=frozenset({'22957', '85150', '22960', '21756'}), support=0.3333333333333333, ordered_statistics=[OrderedStatistic(items_base=frozenset(), items_add=frozenset({'22957', '85150', '22960', '21756'}), confidence=0.3333333333333333, lift=1.0), OrderedStatistic(items_base=frozenset({'21756'}), items_add=frozenset({'85150', '22960', '22957'}), confidence=1.0, lift=3.0), OrderedStatistic(items_base=frozenset({'22957'}), items_add=frozenset({'85150', '22960', '21756'}), confidence=0.6666666666666666, lift=2.0), OrderedStatistic(items_base=frozenset({'22960'}), items_add=frozenset({'21756', '85150', '22957'}), confidence=1.0, lift=3.0), OrderedStatistic(items_base=frozenset({'85150'}), items_add=frozenset({'21756', '22960', '22957'}), confidence=0.6666666666666666, lift=2.0), OrderedStatistic(items_base=frozenset({'22957', '21756'}), items_add=frozenset({'85150', '22960'}), confidence=1.0, lift=3.0), OrderedStatistic(items_base=frozenset({'22960', '21756'}), items_add=frozenset({'85150', '22957'}), confidence=1.0, lift=3.0), OrderedStatistic(items_base=frozenset({'85150', '21756'}), items_add=frozenset({'22960', '22957'}), confidence=1.0, lift=3.0), OrderedStatistic(items_base=frozenset({'22960', '22957'}), items_add=frozenset({'85150', '21756'}), confidence=1.0, lift=3.0), OrderedStatistic(items_base=frozenset({'85150', '22957'}), items_add=frozenset({'22960', '21756'}), confidence=1.0, lift=3.0), OrderedStatistic(items_base=frozenset({'85150', '22960'}), items_add=frozenset({'21756', '22957'}), confidence=1.0, lift=3.0), OrderedStatistic(items_base=frozenset({'22957', '22960', '21756'}), items_add=frozenset({'85150'}), confidence=1.0, lift=2.0), OrderedStatistic(items_base=frozenset({'22957', '85150', '21756'}), items_add=frozenset({'22960'}), confidence=1.0, lift=3.0), OrderedStatistic(items_base=frozenset({'85150', '22960', '21756'}), items_add=frozenset({'22957'}), confidence=1.0, lift=2.0), OrderedStatistic(items_base=frozenset({'85150', '22960', '22957'}), items_add=frozenset({'21756'}), confidence=1.0, lift=3.0)])\n"
          ]
        },
        {
          "output_type": "stream",
          "name": "stderr",
          "text": [
            "/usr/local/lib/python3.10/dist-packages/ipykernel/ipkernel.py:283: DeprecationWarning: `should_run_async` will not call `transform_cell` automatically in the future. Please pass the result to `transformed_cell` argument and any exception that happen during thetransform in `preprocessing_exc_tuple` in IPython 7.17 and above.\n",
            "  and should_run_async(code)\n"
          ]
        }
      ]
    },
    {
      "cell_type": "markdown",
      "source": [
        "1.yes\n",
        "RelationRecord(items=frozenset({'22202', '22203', '22551', '20682'}), support=0.3333333333333333, ordered_statistics=[OrderedStatistic(items_base=frozenset(), items_add=frozenset({'22202', '22203', '22551', '20682'}), confidence=0.3333333333333333, lift=1.0), OrderedStatistic(items_base=frozenset({'20682'}), items_add=frozenset({'22202', '22203', '22551'}), confidence=1.0, lift=3.0), OrderedStatistic(items_base=frozenset({'22202'}), items_add=frozenset({'22203', '22551', '20682'}), confidence=1.0, lift=3.0), OrderedStatistic(items_base=frozenset({'22203'}), items_add=frozenset({'22202', '22551', '20682'}), confidence=1.0, lift=3.0), OrderedStatistic(items_base=frozenset({'22551'}), items_add=frozenset({'22202', '22203', '20682'}), confidence=1.0, lift=3.0), OrderedStatistic(items_base=frozenset({'22202', '20682'}), items_add=frozenset({'22203', '22551'}), confidence=1.0, lift=3.0), OrderedStatistic(items_base=frozenset({'22203', '20682'}), items_add=frozenset({'22202', '22551'}), confidence=1.0, lift=3.0), OrderedStatistic(items_base=frozenset({'22551', '20682'}), items_add=frozenset({'22202', '22203'}), confidence=1.0, lift=3.0), OrderedStatistic(items_base=frozenset({'22202', '22203'}), items_add=frozenset({'22551', '20682'}), confidence=1.0, lift=3.0), OrderedStatistic(items_base=frozenset({'22202', '22551'}), items_add=frozenset({'22203', '20682'}), confidence=1.0, lift=3.0), OrderedStatistic(items_base=frozenset({'22203', '22551'}), items_add=frozenset({'22202', '20682'}), confidence=1.0, lift=3.0), OrderedStatistic(items_base=frozenset({'22202', '22203', '20682'}), items_add=frozenset({'22551'}), confidence=1.0, lift=3.0), OrderedStatistic(items_base=frozenset({'22202', '22551', '20682'}), items_add=frozenset({'22203'}), confidence=1.0, lift=3.0), OrderedStatistic(items_base=frozenset({'22203', '22551', '20682'}), items_add=frozenset({'22202'}), confidence=1.0, lift=3.0), OrderedStatistic(items_base=frozenset({'22202', '22203', '22551'}), items_add=frozenset({'20682'}), confidence=1.0, lift=3.0)])\n",
        "\n",
        "\n",
        "2.yes\n",
        "RelationRecord(items=frozenset({'21165', '82551', '82552', '85150'}), support=0.3333333333333333, ordered_statistics=[OrderedStatistic(items_base=frozenset(), items_add=frozenset({'21165', '82551', '82552', '85150'}), confidence=0.3333333333333333, lift=1.0), OrderedStatistic(items_base=frozenset({'21165'}), items_add=frozenset({'82551', '82552', '85150'}), confidence=1.0, lift=3.0), OrderedStatistic(items_base=frozenset({'82551'}), items_add=frozenset({'21165', '85150', '82552'}), confidence=1.0, lift=3.0), OrderedStatistic(items_base=frozenset({'82552'}), items_add=frozenset({'21165', '82551', '85150'}), confidence=1.0, lift=3.0), OrderedStatistic(items_base=frozenset({'85150'}), items_add=frozenset({'21165', '82551', '82552'}), confidence=0.6666666666666666, lift=2.0), OrderedStatistic(items_base=frozenset({'21165', '82551'}), items_add=frozenset({'85150', '82552'}), confidence=1.0, lift=3.0), OrderedStatistic(items_base=frozenset({'21165', '82552'}), items_add=frozenset({'82551', '85150'}), confidence=1.0, lift=3.0), OrderedStatistic(items_base=frozenset({'21165', '85150'}), items_add=frozenset({'82551', '82552'}), confidence=1.0, lift=3.0), OrderedStatistic(items_base=frozenset({'82551', '82552'}), items_add=frozenset({'21165', '85150'}), confidence=1.0, lift=3.0), OrderedStatistic(items_base=frozenset({'82551', '85150'}), items_add=frozenset({'21165', '82552'}), confidence=1.0, lift=3.0), OrderedStatistic(items_base=frozenset({'85150', '82552'}), items_add=frozenset({'21165', '82551'}), confidence=1.0, lift=3.0), OrderedStatistic(items_base=frozenset({'21165', '82551', '82552'}), items_add=frozenset({'85150'}), confidence=1.0, lift=2.0), OrderedStatistic(items_base=frozenset({'21165', '82551', '85150'}), items_add=frozenset({'82552'}), confidence=1.0, lift=3.0), OrderedStatistic(items_base=frozenset({'21165', '85150', '82552'}), items_add=frozenset({'82551'}), confidence=1.0, lift=3.0), OrderedStatistic(items_base=frozenset({'82551', '82552', '85150'}), items_add=frozenset({'21165'}), confidence=1.0, lift=3.0)])\n",
        "\n",
        "\n",
        "3.yes\n",
        "RelationRecord(items=frozenset({'22957', '85150', '22960', '21756'}), support=0.3333333333333333, ordered_statistics=[OrderedStatistic(items_base=frozenset(), items_add=frozenset({'22957', '85150', '22960', '21756'}), confidence=0.3333333333333333, lift=1.0), OrderedStatistic(items_base=frozenset({'21756'}), items_add=frozenset({'85150', '22960', '22957'}), confidence=1.0, lift=3.0), OrderedStatistic(items_base=frozenset({'22957'}), items_add=frozenset({'85150', '22960', '21756'}), confidence=0.6666666666666666, lift=2.0), OrderedStatistic(items_base=frozenset({'22960'}), items_add=frozenset({'21756', '85150', '22957'}), confidence=1.0, lift=3.0), OrderedStatistic(items_base=frozenset({'85150'}), items_add=frozenset({'21756', '22960', '22957'}), confidence=0.6666666666666666, lift=2.0), OrderedStatistic(items_base=frozenset({'22957', '21756'}), items_add=frozenset({'85150', '22960'}), confidence=1.0, lift=3.0), OrderedStatistic(items_base=frozenset({'22960', '21756'}), items_add=frozenset({'85150', '22957'}), confidence=1.0, lift=3.0), OrderedStatistic(items_base=frozenset({'85150', '21756'}), items_add=frozenset({'22960', '22957'}), confidence=1.0, lift=3.0), OrderedStatistic(items_base=frozenset({'22960', '22957'}), items_add=frozenset({'85150', '21756'}), confidence=1.0, lift=3.0), OrderedStatistic(items_base=frozenset({'85150', '22957'}), items_add=frozenset({'22960', '21756'}), confidence=1.0, lift=3.0), OrderedStatistic(items_base=frozenset({'85150', '22960'}), items_add=frozenset({'21756', '22957'}), confidence=1.0, lift=3.0), OrderedStatistic(items_base=frozenset({'22957', '22960', '21756'}), items_add=frozenset({'85150'}), confidence=1.0, lift=2.0), OrderedStatistic(items_base=frozenset({'22957', '85150', '21756'}), items_add=frozenset({'22960'}), confidence=1.0, lift=3.0), OrderedStatistic(items_base=frozenset({'85150', '22960', '21756'}), items_add=frozenset({'22957'}), confidence=1.0, lift=2.0), OrderedStatistic(items_base=frozenset({'85150', '22960', '22957'}), items_add=frozenset({'21756'}), confidence=1.0, lift=3.0)])\n"
      ],
      "metadata": {
        "id": "25KvhhvPrAQQ"
      }
    },
    {
      "cell_type": "markdown",
      "source": [
        "yes RelationRecord(items=frozenset({'22202', '22203', '22551', '20682'}), support=0.3333333333333333, ordered_statistics=[...])\n",
        "\n",
        "OrderedStatistic(items_base=frozenset({'22203', '20682'}), items_add=frozenset({'22202', '22551'}), confidence=1.0, lift=3.0),"
      ],
      "metadata": {
        "id": "LDVCvtwTuJ_8"
      }
    },
    {
      "cell_type": "code",
      "source": [
        "def find4itime(x,y,z,j) :\n",
        "  L=set(data[(data['StockCode']==x)|(data['StockCode']==y)|(data['StockCode']==z)|(data['StockCode']==j)]['Description'])\n",
        "  return L"
      ],
      "metadata": {
        "id": "wtj7K-B-xExG",
        "outputId": "7ed83b08-88b6-46a6-dc29-be790327d96f",
        "colab": {
          "base_uri": "https://localhost:8080/"
        }
      },
      "execution_count": 210,
      "outputs": [
        {
          "output_type": "stream",
          "name": "stderr",
          "text": [
            "/usr/local/lib/python3.10/dist-packages/ipykernel/ipkernel.py:283: DeprecationWarning: `should_run_async` will not call `transform_cell` automatically in the future. Please pass the result to `transformed_cell` argument and any exception that happen during thetransform in `preprocessing_exc_tuple` in IPython 7.17 and above.\n",
            "  and should_run_async(code)\n"
          ]
        }
      ]
    },
    {
      "cell_type": "code",
      "source": [
        "find4itime('22202', '22203', '22551', '20682')"
      ],
      "metadata": {
        "colab": {
          "base_uri": "https://localhost:8080/"
        },
        "id": "tZRv0Qxkwy1B",
        "outputId": "a775d357-2ab9-4ad1-db14-6434cc9ee5a3"
      },
      "execution_count": 220,
      "outputs": [
        {
          "output_type": "stream",
          "name": "stderr",
          "text": [
            "/usr/local/lib/python3.10/dist-packages/ipykernel/ipkernel.py:283: DeprecationWarning: `should_run_async` will not call `transform_cell` automatically in the future. Please pass the result to `transformed_cell` argument and any exception that happen during thetransform in `preprocessing_exc_tuple` in IPython 7.17 and above.\n",
            "  and should_run_async(code)\n"
          ]
        },
        {
          "output_type": "execute_result",
          "data": {
            "text/plain": [
              "{'MILK PAN PINK POLKADOT',\n",
              " 'MILK PAN RED RETROSPOT',\n",
              " 'PLASTERS IN TIN SPACEBOY',\n",
              " 'RED RETROSPOT CHILDRENS UMBRELLA',\n",
              " nan}"
            ]
          },
          "metadata": {},
          "execution_count": 220
        }
      ]
    },
    {
      "cell_type": "code",
      "source": [
        "finditime('22203', '20682')"
      ],
      "metadata": {
        "id": "o5OUp_xc5fhC",
        "outputId": "a709c2c7-495c-4db8-febf-156dabd4d6d0",
        "colab": {
          "base_uri": "https://localhost:8080/"
        }
      },
      "execution_count": 223,
      "outputs": [
        {
          "output_type": "stream",
          "name": "stderr",
          "text": [
            "/usr/local/lib/python3.10/dist-packages/ipykernel/ipkernel.py:283: DeprecationWarning: `should_run_async` will not call `transform_cell` automatically in the future. Please pass the result to `transformed_cell` argument and any exception that happen during thetransform in `preprocessing_exc_tuple` in IPython 7.17 and above.\n",
            "  and should_run_async(code)\n"
          ]
        },
        {
          "output_type": "execute_result",
          "data": {
            "text/plain": [
              "{'MILK PAN RED RETROSPOT', 'RED RETROSPOT CHILDRENS UMBRELLA'}"
            ]
          },
          "metadata": {},
          "execution_count": 223
        }
      ]
    },
    {
      "cell_type": "code",
      "source": [
        "finditime ('22202', '22551')"
      ],
      "metadata": {
        "id": "DwTJ4_O-5kY7",
        "outputId": "22c4e785-7549-4fdd-d1c0-af5cd1338e39",
        "colab": {
          "base_uri": "https://localhost:8080/"
        }
      },
      "execution_count": 224,
      "outputs": [
        {
          "output_type": "stream",
          "name": "stderr",
          "text": [
            "/usr/local/lib/python3.10/dist-packages/ipykernel/ipkernel.py:283: DeprecationWarning: `should_run_async` will not call `transform_cell` automatically in the future. Please pass the result to `transformed_cell` argument and any exception that happen during thetransform in `preprocessing_exc_tuple` in IPython 7.17 and above.\n",
            "  and should_run_async(code)\n"
          ]
        },
        {
          "output_type": "execute_result",
          "data": {
            "text/plain": [
              "{'MILK PAN PINK POLKADOT', 'PLASTERS IN TIN SPACEBOY', nan}"
            ]
          },
          "metadata": {},
          "execution_count": 224
        }
      ]
    },
    {
      "cell_type": "markdown",
      "source": [
        "## ข้อ6-3"
      ],
      "metadata": {
        "id": "21ebMaNHbvWq"
      }
    },
    {
      "cell_type": "code",
      "source": [
        "transactionsAsia = use_Asia_data.groupby(['Country', 'month'])['StockCode'].apply(list)\n",
        "min_sup = 0.4\n",
        "frequentItemsets_A= list(apriori(transactionsAsia,min_support = min_sup))\n",
        "for i in frequentItemsets_A:\n",
        "    if i[0].__len__()>1:\n",
        "        print('yes')\n",
        "        print(i)"
      ],
      "metadata": {
        "colab": {
          "base_uri": "https://localhost:8080/"
        },
        "id": "DfozrkzWbm6L",
        "outputId": "1377bfaf-3dc8-43cf-cded-caf505a7f01f"
      },
      "execution_count": 225,
      "outputs": [
        {
          "output_type": "stream",
          "name": "stdout",
          "text": [
            "yes\n",
            "RelationRecord(items=frozenset({'22202', '20682'}), support=0.4, ordered_statistics=[OrderedStatistic(items_base=frozenset(), items_add=frozenset({'22202', '20682'}), confidence=0.4, lift=1.0), OrderedStatistic(items_base=frozenset({'20682'}), items_add=frozenset({'22202'}), confidence=1.0, lift=2.5), OrderedStatistic(items_base=frozenset({'22202'}), items_add=frozenset({'20682'}), confidence=1.0, lift=2.5)])\n",
            "yes\n",
            "RelationRecord(items=frozenset({'22203', '20682'}), support=0.4, ordered_statistics=[OrderedStatistic(items_base=frozenset(), items_add=frozenset({'22203', '20682'}), confidence=0.4, lift=1.0), OrderedStatistic(items_base=frozenset({'20682'}), items_add=frozenset({'22203'}), confidence=1.0, lift=2.5), OrderedStatistic(items_base=frozenset({'22203'}), items_add=frozenset({'20682'}), confidence=1.0, lift=2.5)])\n",
            "yes\n",
            "RelationRecord(items=frozenset({'22551', '20682'}), support=0.4, ordered_statistics=[OrderedStatistic(items_base=frozenset(), items_add=frozenset({'22551', '20682'}), confidence=0.4, lift=1.0), OrderedStatistic(items_base=frozenset({'20682'}), items_add=frozenset({'22551'}), confidence=1.0, lift=2.5), OrderedStatistic(items_base=frozenset({'22551'}), items_add=frozenset({'20682'}), confidence=1.0, lift=2.5)])\n",
            "yes\n",
            "RelationRecord(items=frozenset({'20725', '21216'}), support=0.4, ordered_statistics=[OrderedStatistic(items_base=frozenset(), items_add=frozenset({'20725', '21216'}), confidence=0.4, lift=1.0), OrderedStatistic(items_base=frozenset({'20725'}), items_add=frozenset({'21216'}), confidence=1.0, lift=2.5), OrderedStatistic(items_base=frozenset({'21216'}), items_add=frozenset({'20725'}), confidence=1.0, lift=2.5)])\n",
            "yes\n",
            "RelationRecord(items=frozenset({'20725', '21439'}), support=0.4, ordered_statistics=[OrderedStatistic(items_base=frozenset(), items_add=frozenset({'20725', '21439'}), confidence=0.4, lift=1.0), OrderedStatistic(items_base=frozenset({'20725'}), items_add=frozenset({'21439'}), confidence=1.0, lift=2.5), OrderedStatistic(items_base=frozenset({'21439'}), items_add=frozenset({'20725'}), confidence=1.0, lift=2.5)])\n",
            "yes\n",
            "RelationRecord(items=frozenset({'20725', '22620'}), support=0.4, ordered_statistics=[OrderedStatistic(items_base=frozenset(), items_add=frozenset({'20725', '22620'}), confidence=0.4, lift=1.0), OrderedStatistic(items_base=frozenset({'20725'}), items_add=frozenset({'22620'}), confidence=1.0, lift=2.5), OrderedStatistic(items_base=frozenset({'22620'}), items_add=frozenset({'20725'}), confidence=1.0, lift=2.5)])\n",
            "yes\n",
            "RelationRecord(items=frozenset({'21165', '82551'}), support=0.4, ordered_statistics=[OrderedStatistic(items_base=frozenset(), items_add=frozenset({'21165', '82551'}), confidence=0.4, lift=1.0), OrderedStatistic(items_base=frozenset({'21165'}), items_add=frozenset({'82551'}), confidence=1.0, lift=2.5), OrderedStatistic(items_base=frozenset({'82551'}), items_add=frozenset({'21165'}), confidence=1.0, lift=2.5)])\n",
            "yes\n",
            "RelationRecord(items=frozenset({'21165', '82552'}), support=0.4, ordered_statistics=[OrderedStatistic(items_base=frozenset(), items_add=frozenset({'21165', '82552'}), confidence=0.4, lift=1.0), OrderedStatistic(items_base=frozenset({'21165'}), items_add=frozenset({'82552'}), confidence=1.0, lift=2.5), OrderedStatistic(items_base=frozenset({'82552'}), items_add=frozenset({'21165'}), confidence=1.0, lift=2.5)])\n",
            "yes\n",
            "RelationRecord(items=frozenset({'21165', '85150'}), support=0.4, ordered_statistics=[OrderedStatistic(items_base=frozenset(), items_add=frozenset({'21165', '85150'}), confidence=0.4, lift=1.0), OrderedStatistic(items_base=frozenset({'21165'}), items_add=frozenset({'85150'}), confidence=1.0, lift=1.6666666666666667), OrderedStatistic(items_base=frozenset({'85150'}), items_add=frozenset({'21165'}), confidence=0.6666666666666667, lift=1.6666666666666667)])\n",
            "yes\n",
            "RelationRecord(items=frozenset({'21439', '21216'}), support=0.4, ordered_statistics=[OrderedStatistic(items_base=frozenset(), items_add=frozenset({'21439', '21216'}), confidence=0.4, lift=1.0), OrderedStatistic(items_base=frozenset({'21216'}), items_add=frozenset({'21439'}), confidence=1.0, lift=2.5), OrderedStatistic(items_base=frozenset({'21439'}), items_add=frozenset({'21216'}), confidence=1.0, lift=2.5)])\n",
            "yes\n",
            "RelationRecord(items=frozenset({'21216', '22620'}), support=0.4, ordered_statistics=[OrderedStatistic(items_base=frozenset(), items_add=frozenset({'21216', '22620'}), confidence=0.4, lift=1.0), OrderedStatistic(items_base=frozenset({'21216'}), items_add=frozenset({'22620'}), confidence=1.0, lift=2.5), OrderedStatistic(items_base=frozenset({'22620'}), items_add=frozenset({'21216'}), confidence=1.0, lift=2.5)])\n",
            "yes\n",
            "RelationRecord(items=frozenset({'21439', '22620'}), support=0.4, ordered_statistics=[OrderedStatistic(items_base=frozenset(), items_add=frozenset({'21439', '22620'}), confidence=0.4, lift=1.0), OrderedStatistic(items_base=frozenset({'21439'}), items_add=frozenset({'22620'}), confidence=1.0, lift=2.5), OrderedStatistic(items_base=frozenset({'22620'}), items_add=frozenset({'21439'}), confidence=1.0, lift=2.5)])\n",
            "yes\n",
            "RelationRecord(items=frozenset({'22957', '21756'}), support=0.4, ordered_statistics=[OrderedStatistic(items_base=frozenset(), items_add=frozenset({'21756', '22957'}), confidence=0.4, lift=1.0), OrderedStatistic(items_base=frozenset({'21756'}), items_add=frozenset({'22957'}), confidence=1.0, lift=1.6666666666666667), OrderedStatistic(items_base=frozenset({'22957'}), items_add=frozenset({'21756'}), confidence=0.6666666666666667, lift=1.6666666666666667)])\n",
            "yes\n",
            "RelationRecord(items=frozenset({'22960', '21756'}), support=0.4, ordered_statistics=[OrderedStatistic(items_base=frozenset(), items_add=frozenset({'22960', '21756'}), confidence=0.4, lift=1.0), OrderedStatistic(items_base=frozenset({'21756'}), items_add=frozenset({'22960'}), confidence=1.0, lift=2.5), OrderedStatistic(items_base=frozenset({'22960'}), items_add=frozenset({'21756'}), confidence=1.0, lift=2.5)])\n",
            "yes\n",
            "RelationRecord(items=frozenset({'85150', '21756'}), support=0.4, ordered_statistics=[OrderedStatistic(items_base=frozenset(), items_add=frozenset({'85150', '21756'}), confidence=0.4, lift=1.0), OrderedStatistic(items_base=frozenset({'21756'}), items_add=frozenset({'85150'}), confidence=1.0, lift=1.6666666666666667), OrderedStatistic(items_base=frozenset({'85150'}), items_add=frozenset({'21756'}), confidence=0.6666666666666667, lift=1.6666666666666667)])\n",
            "yes\n",
            "RelationRecord(items=frozenset({'22202', '22203'}), support=0.4, ordered_statistics=[OrderedStatistic(items_base=frozenset(), items_add=frozenset({'22202', '22203'}), confidence=0.4, lift=1.0), OrderedStatistic(items_base=frozenset({'22202'}), items_add=frozenset({'22203'}), confidence=1.0, lift=2.5), OrderedStatistic(items_base=frozenset({'22203'}), items_add=frozenset({'22202'}), confidence=1.0, lift=2.5)])\n",
            "yes\n",
            "RelationRecord(items=frozenset({'22202', '22551'}), support=0.4, ordered_statistics=[OrderedStatistic(items_base=frozenset(), items_add=frozenset({'22202', '22551'}), confidence=0.4, lift=1.0), OrderedStatistic(items_base=frozenset({'22202'}), items_add=frozenset({'22551'}), confidence=1.0, lift=2.5), OrderedStatistic(items_base=frozenset({'22551'}), items_add=frozenset({'22202'}), confidence=1.0, lift=2.5)])\n",
            "yes\n",
            "RelationRecord(items=frozenset({'22203', '22551'}), support=0.4, ordered_statistics=[OrderedStatistic(items_base=frozenset(), items_add=frozenset({'22203', '22551'}), confidence=0.4, lift=1.0), OrderedStatistic(items_base=frozenset({'22203'}), items_add=frozenset({'22551'}), confidence=1.0, lift=2.5), OrderedStatistic(items_base=frozenset({'22551'}), items_add=frozenset({'22203'}), confidence=1.0, lift=2.5)])\n",
            "yes\n",
            "RelationRecord(items=frozenset({'48138', '22413'}), support=0.4, ordered_statistics=[OrderedStatistic(items_base=frozenset(), items_add=frozenset({'48138', '22413'}), confidence=0.4, lift=1.0), OrderedStatistic(items_base=frozenset({'22413'}), items_add=frozenset({'48138'}), confidence=1.0, lift=2.5), OrderedStatistic(items_base=frozenset({'48138'}), items_add=frozenset({'22413'}), confidence=1.0, lift=2.5)])\n",
            "yes\n",
            "RelationRecord(items=frozenset({'85150', '22413'}), support=0.4, ordered_statistics=[OrderedStatistic(items_base=frozenset(), items_add=frozenset({'85150', '22413'}), confidence=0.4, lift=1.0), OrderedStatistic(items_base=frozenset({'22413'}), items_add=frozenset({'85150'}), confidence=1.0, lift=1.6666666666666667), OrderedStatistic(items_base=frozenset({'85150'}), items_add=frozenset({'22413'}), confidence=0.6666666666666667, lift=1.6666666666666667)])\n",
            "yes\n",
            "RelationRecord(items=frozenset({'22960', '22957'}), support=0.4, ordered_statistics=[OrderedStatistic(items_base=frozenset(), items_add=frozenset({'22960', '22957'}), confidence=0.4, lift=1.0), OrderedStatistic(items_base=frozenset({'22957'}), items_add=frozenset({'22960'}), confidence=0.6666666666666667, lift=1.6666666666666667), OrderedStatistic(items_base=frozenset({'22960'}), items_add=frozenset({'22957'}), confidence=1.0, lift=1.6666666666666667)])\n",
            "yes\n",
            "RelationRecord(items=frozenset({'47566', '22957'}), support=0.4, ordered_statistics=[OrderedStatistic(items_base=frozenset(), items_add=frozenset({'47566', '22957'}), confidence=0.4, lift=1.0), OrderedStatistic(items_base=frozenset({'22957'}), items_add=frozenset({'47566'}), confidence=0.6666666666666667, lift=1.6666666666666667), OrderedStatistic(items_base=frozenset({'47566'}), items_add=frozenset({'22957'}), confidence=1.0, lift=1.6666666666666667)])\n",
            "yes\n",
            "RelationRecord(items=frozenset({'84988', '22957'}), support=0.4, ordered_statistics=[OrderedStatistic(items_base=frozenset(), items_add=frozenset({'84988', '22957'}), confidence=0.4, lift=1.0), OrderedStatistic(items_base=frozenset({'22957'}), items_add=frozenset({'84988'}), confidence=0.6666666666666667, lift=1.6666666666666667), OrderedStatistic(items_base=frozenset({'84988'}), items_add=frozenset({'22957'}), confidence=1.0, lift=1.6666666666666667)])\n",
            "yes\n",
            "RelationRecord(items=frozenset({'85150', '22957'}), support=0.4, ordered_statistics=[OrderedStatistic(items_base=frozenset(), items_add=frozenset({'85150', '22957'}), confidence=0.4, lift=1.0), OrderedStatistic(items_base=frozenset({'22957'}), items_add=frozenset({'85150'}), confidence=0.6666666666666667, lift=1.1111111111111114), OrderedStatistic(items_base=frozenset({'85150'}), items_add=frozenset({'22957'}), confidence=0.6666666666666667, lift=1.1111111111111114)])\n",
            "yes\n",
            "RelationRecord(items=frozenset({'85150', '22960'}), support=0.4, ordered_statistics=[OrderedStatistic(items_base=frozenset(), items_add=frozenset({'85150', '22960'}), confidence=0.4, lift=1.0), OrderedStatistic(items_base=frozenset({'22960'}), items_add=frozenset({'85150'}), confidence=1.0, lift=1.6666666666666667), OrderedStatistic(items_base=frozenset({'85150'}), items_add=frozenset({'22960'}), confidence=0.6666666666666667, lift=1.6666666666666667)])\n",
            "yes\n",
            "RelationRecord(items=frozenset({'85150', '48138'}), support=0.4, ordered_statistics=[OrderedStatistic(items_base=frozenset(), items_add=frozenset({'85150', '48138'}), confidence=0.4, lift=1.0), OrderedStatistic(items_base=frozenset({'48138'}), items_add=frozenset({'85150'}), confidence=1.0, lift=1.6666666666666667), OrderedStatistic(items_base=frozenset({'85150'}), items_add=frozenset({'48138'}), confidence=0.6666666666666667, lift=1.6666666666666667)])\n",
            "yes\n",
            "RelationRecord(items=frozenset({'82551', '82552'}), support=0.4, ordered_statistics=[OrderedStatistic(items_base=frozenset(), items_add=frozenset({'82551', '82552'}), confidence=0.4, lift=1.0), OrderedStatistic(items_base=frozenset({'82551'}), items_add=frozenset({'82552'}), confidence=1.0, lift=2.5), OrderedStatistic(items_base=frozenset({'82552'}), items_add=frozenset({'82551'}), confidence=1.0, lift=2.5)])\n",
            "yes\n",
            "RelationRecord(items=frozenset({'82551', '85150'}), support=0.4, ordered_statistics=[OrderedStatistic(items_base=frozenset(), items_add=frozenset({'82551', '85150'}), confidence=0.4, lift=1.0), OrderedStatistic(items_base=frozenset({'82551'}), items_add=frozenset({'85150'}), confidence=1.0, lift=1.6666666666666667), OrderedStatistic(items_base=frozenset({'85150'}), items_add=frozenset({'82551'}), confidence=0.6666666666666667, lift=1.6666666666666667)])\n",
            "yes\n",
            "RelationRecord(items=frozenset({'85150', '82552'}), support=0.4, ordered_statistics=[OrderedStatistic(items_base=frozenset(), items_add=frozenset({'85150', '82552'}), confidence=0.4, lift=1.0), OrderedStatistic(items_base=frozenset({'82552'}), items_add=frozenset({'85150'}), confidence=1.0, lift=1.6666666666666667), OrderedStatistic(items_base=frozenset({'85150'}), items_add=frozenset({'82552'}), confidence=0.6666666666666667, lift=1.6666666666666667)])\n",
            "yes\n",
            "RelationRecord(items=frozenset({'22202', '22203', '20682'}), support=0.4, ordered_statistics=[OrderedStatistic(items_base=frozenset(), items_add=frozenset({'22202', '22203', '20682'}), confidence=0.4, lift=1.0), OrderedStatistic(items_base=frozenset({'20682'}), items_add=frozenset({'22202', '22203'}), confidence=1.0, lift=2.5), OrderedStatistic(items_base=frozenset({'22202'}), items_add=frozenset({'22203', '20682'}), confidence=1.0, lift=2.5), OrderedStatistic(items_base=frozenset({'22203'}), items_add=frozenset({'22202', '20682'}), confidence=1.0, lift=2.5), OrderedStatistic(items_base=frozenset({'22202', '20682'}), items_add=frozenset({'22203'}), confidence=1.0, lift=2.5), OrderedStatistic(items_base=frozenset({'22203', '20682'}), items_add=frozenset({'22202'}), confidence=1.0, lift=2.5), OrderedStatistic(items_base=frozenset({'22202', '22203'}), items_add=frozenset({'20682'}), confidence=1.0, lift=2.5)])\n",
            "yes\n",
            "RelationRecord(items=frozenset({'22202', '22551', '20682'}), support=0.4, ordered_statistics=[OrderedStatistic(items_base=frozenset(), items_add=frozenset({'22202', '22551', '20682'}), confidence=0.4, lift=1.0), OrderedStatistic(items_base=frozenset({'20682'}), items_add=frozenset({'22202', '22551'}), confidence=1.0, lift=2.5), OrderedStatistic(items_base=frozenset({'22202'}), items_add=frozenset({'22551', '20682'}), confidence=1.0, lift=2.5), OrderedStatistic(items_base=frozenset({'22551'}), items_add=frozenset({'22202', '20682'}), confidence=1.0, lift=2.5), OrderedStatistic(items_base=frozenset({'22202', '20682'}), items_add=frozenset({'22551'}), confidence=1.0, lift=2.5), OrderedStatistic(items_base=frozenset({'22551', '20682'}), items_add=frozenset({'22202'}), confidence=1.0, lift=2.5), OrderedStatistic(items_base=frozenset({'22202', '22551'}), items_add=frozenset({'20682'}), confidence=1.0, lift=2.5)])\n",
            "yes\n",
            "RelationRecord(items=frozenset({'22203', '22551', '20682'}), support=0.4, ordered_statistics=[OrderedStatistic(items_base=frozenset(), items_add=frozenset({'22203', '22551', '20682'}), confidence=0.4, lift=1.0), OrderedStatistic(items_base=frozenset({'20682'}), items_add=frozenset({'22203', '22551'}), confidence=1.0, lift=2.5), OrderedStatistic(items_base=frozenset({'22203'}), items_add=frozenset({'22551', '20682'}), confidence=1.0, lift=2.5), OrderedStatistic(items_base=frozenset({'22551'}), items_add=frozenset({'22203', '20682'}), confidence=1.0, lift=2.5), OrderedStatistic(items_base=frozenset({'22203', '20682'}), items_add=frozenset({'22551'}), confidence=1.0, lift=2.5), OrderedStatistic(items_base=frozenset({'22551', '20682'}), items_add=frozenset({'22203'}), confidence=1.0, lift=2.5), OrderedStatistic(items_base=frozenset({'22203', '22551'}), items_add=frozenset({'20682'}), confidence=1.0, lift=2.5)])\n",
            "yes\n",
            "RelationRecord(items=frozenset({'20725', '21439', '21216'}), support=0.4, ordered_statistics=[OrderedStatistic(items_base=frozenset(), items_add=frozenset({'20725', '21439', '21216'}), confidence=0.4, lift=1.0), OrderedStatistic(items_base=frozenset({'20725'}), items_add=frozenset({'21439', '21216'}), confidence=1.0, lift=2.5), OrderedStatistic(items_base=frozenset({'21216'}), items_add=frozenset({'20725', '21439'}), confidence=1.0, lift=2.5), OrderedStatistic(items_base=frozenset({'21439'}), items_add=frozenset({'20725', '21216'}), confidence=1.0, lift=2.5), OrderedStatistic(items_base=frozenset({'20725', '21216'}), items_add=frozenset({'21439'}), confidence=1.0, lift=2.5), OrderedStatistic(items_base=frozenset({'20725', '21439'}), items_add=frozenset({'21216'}), confidence=1.0, lift=2.5), OrderedStatistic(items_base=frozenset({'21439', '21216'}), items_add=frozenset({'20725'}), confidence=1.0, lift=2.5)])\n",
            "yes\n",
            "RelationRecord(items=frozenset({'20725', '21216', '22620'}), support=0.4, ordered_statistics=[OrderedStatistic(items_base=frozenset(), items_add=frozenset({'20725', '21216', '22620'}), confidence=0.4, lift=1.0), OrderedStatistic(items_base=frozenset({'20725'}), items_add=frozenset({'21216', '22620'}), confidence=1.0, lift=2.5), OrderedStatistic(items_base=frozenset({'21216'}), items_add=frozenset({'20725', '22620'}), confidence=1.0, lift=2.5), OrderedStatistic(items_base=frozenset({'22620'}), items_add=frozenset({'20725', '21216'}), confidence=1.0, lift=2.5), OrderedStatistic(items_base=frozenset({'20725', '21216'}), items_add=frozenset({'22620'}), confidence=1.0, lift=2.5), OrderedStatistic(items_base=frozenset({'20725', '22620'}), items_add=frozenset({'21216'}), confidence=1.0, lift=2.5), OrderedStatistic(items_base=frozenset({'21216', '22620'}), items_add=frozenset({'20725'}), confidence=1.0, lift=2.5)])\n",
            "yes\n",
            "RelationRecord(items=frozenset({'20725', '21439', '22620'}), support=0.4, ordered_statistics=[OrderedStatistic(items_base=frozenset(), items_add=frozenset({'20725', '21439', '22620'}), confidence=0.4, lift=1.0), OrderedStatistic(items_base=frozenset({'20725'}), items_add=frozenset({'21439', '22620'}), confidence=1.0, lift=2.5), OrderedStatistic(items_base=frozenset({'21439'}), items_add=frozenset({'20725', '22620'}), confidence=1.0, lift=2.5), OrderedStatistic(items_base=frozenset({'22620'}), items_add=frozenset({'20725', '21439'}), confidence=1.0, lift=2.5), OrderedStatistic(items_base=frozenset({'20725', '21439'}), items_add=frozenset({'22620'}), confidence=1.0, lift=2.5), OrderedStatistic(items_base=frozenset({'20725', '22620'}), items_add=frozenset({'21439'}), confidence=1.0, lift=2.5), OrderedStatistic(items_base=frozenset({'21439', '22620'}), items_add=frozenset({'20725'}), confidence=1.0, lift=2.5)])\n",
            "yes\n",
            "RelationRecord(items=frozenset({'21165', '82551', '82552'}), support=0.4, ordered_statistics=[OrderedStatistic(items_base=frozenset(), items_add=frozenset({'21165', '82551', '82552'}), confidence=0.4, lift=1.0), OrderedStatistic(items_base=frozenset({'21165'}), items_add=frozenset({'82551', '82552'}), confidence=1.0, lift=2.5), OrderedStatistic(items_base=frozenset({'82551'}), items_add=frozenset({'21165', '82552'}), confidence=1.0, lift=2.5), OrderedStatistic(items_base=frozenset({'82552'}), items_add=frozenset({'21165', '82551'}), confidence=1.0, lift=2.5), OrderedStatistic(items_base=frozenset({'21165', '82551'}), items_add=frozenset({'82552'}), confidence=1.0, lift=2.5), OrderedStatistic(items_base=frozenset({'21165', '82552'}), items_add=frozenset({'82551'}), confidence=1.0, lift=2.5), OrderedStatistic(items_base=frozenset({'82551', '82552'}), items_add=frozenset({'21165'}), confidence=1.0, lift=2.5)])\n",
            "yes\n",
            "RelationRecord(items=frozenset({'21165', '82551', '85150'}), support=0.4, ordered_statistics=[OrderedStatistic(items_base=frozenset(), items_add=frozenset({'21165', '82551', '85150'}), confidence=0.4, lift=1.0), OrderedStatistic(items_base=frozenset({'21165'}), items_add=frozenset({'82551', '85150'}), confidence=1.0, lift=2.5), OrderedStatistic(items_base=frozenset({'82551'}), items_add=frozenset({'21165', '85150'}), confidence=1.0, lift=2.5), OrderedStatistic(items_base=frozenset({'85150'}), items_add=frozenset({'21165', '82551'}), confidence=0.6666666666666667, lift=1.6666666666666667), OrderedStatistic(items_base=frozenset({'21165', '82551'}), items_add=frozenset({'85150'}), confidence=1.0, lift=1.6666666666666667), OrderedStatistic(items_base=frozenset({'21165', '85150'}), items_add=frozenset({'82551'}), confidence=1.0, lift=2.5), OrderedStatistic(items_base=frozenset({'82551', '85150'}), items_add=frozenset({'21165'}), confidence=1.0, lift=2.5)])\n",
            "yes\n",
            "RelationRecord(items=frozenset({'21165', '85150', '82552'}), support=0.4, ordered_statistics=[OrderedStatistic(items_base=frozenset(), items_add=frozenset({'21165', '85150', '82552'}), confidence=0.4, lift=1.0), OrderedStatistic(items_base=frozenset({'21165'}), items_add=frozenset({'85150', '82552'}), confidence=1.0, lift=2.5), OrderedStatistic(items_base=frozenset({'82552'}), items_add=frozenset({'21165', '85150'}), confidence=1.0, lift=2.5), OrderedStatistic(items_base=frozenset({'85150'}), items_add=frozenset({'21165', '82552'}), confidence=0.6666666666666667, lift=1.6666666666666667), OrderedStatistic(items_base=frozenset({'21165', '82552'}), items_add=frozenset({'85150'}), confidence=1.0, lift=1.6666666666666667), OrderedStatistic(items_base=frozenset({'21165', '85150'}), items_add=frozenset({'82552'}), confidence=1.0, lift=2.5), OrderedStatistic(items_base=frozenset({'85150', '82552'}), items_add=frozenset({'21165'}), confidence=1.0, lift=2.5)])\n",
            "yes\n",
            "RelationRecord(items=frozenset({'21439', '21216', '22620'}), support=0.4, ordered_statistics=[OrderedStatistic(items_base=frozenset(), items_add=frozenset({'21439', '21216', '22620'}), confidence=0.4, lift=1.0), OrderedStatistic(items_base=frozenset({'21216'}), items_add=frozenset({'21439', '22620'}), confidence=1.0, lift=2.5), OrderedStatistic(items_base=frozenset({'21439'}), items_add=frozenset({'21216', '22620'}), confidence=1.0, lift=2.5), OrderedStatistic(items_base=frozenset({'22620'}), items_add=frozenset({'21439', '21216'}), confidence=1.0, lift=2.5), OrderedStatistic(items_base=frozenset({'21439', '21216'}), items_add=frozenset({'22620'}), confidence=1.0, lift=2.5), OrderedStatistic(items_base=frozenset({'21216', '22620'}), items_add=frozenset({'21439'}), confidence=1.0, lift=2.5), OrderedStatistic(items_base=frozenset({'21439', '22620'}), items_add=frozenset({'21216'}), confidence=1.0, lift=2.5)])\n",
            "yes\n",
            "RelationRecord(items=frozenset({'22957', '22960', '21756'}), support=0.4, ordered_statistics=[OrderedStatistic(items_base=frozenset(), items_add=frozenset({'21756', '22960', '22957'}), confidence=0.4, lift=1.0), OrderedStatistic(items_base=frozenset({'21756'}), items_add=frozenset({'22960', '22957'}), confidence=1.0, lift=2.5), OrderedStatistic(items_base=frozenset({'22957'}), items_add=frozenset({'22960', '21756'}), confidence=0.6666666666666667, lift=1.6666666666666667), OrderedStatistic(items_base=frozenset({'22960'}), items_add=frozenset({'21756', '22957'}), confidence=1.0, lift=2.5), OrderedStatistic(items_base=frozenset({'22957', '21756'}), items_add=frozenset({'22960'}), confidence=1.0, lift=2.5), OrderedStatistic(items_base=frozenset({'22960', '21756'}), items_add=frozenset({'22957'}), confidence=1.0, lift=1.6666666666666667), OrderedStatistic(items_base=frozenset({'22960', '22957'}), items_add=frozenset({'21756'}), confidence=1.0, lift=2.5)])\n",
            "yes\n",
            "RelationRecord(items=frozenset({'22957', '85150', '21756'}), support=0.4, ordered_statistics=[OrderedStatistic(items_base=frozenset(), items_add=frozenset({'21756', '85150', '22957'}), confidence=0.4, lift=1.0), OrderedStatistic(items_base=frozenset({'21756'}), items_add=frozenset({'85150', '22957'}), confidence=1.0, lift=2.5), OrderedStatistic(items_base=frozenset({'22957'}), items_add=frozenset({'85150', '21756'}), confidence=0.6666666666666667, lift=1.6666666666666667), OrderedStatistic(items_base=frozenset({'85150'}), items_add=frozenset({'21756', '22957'}), confidence=0.6666666666666667, lift=1.6666666666666667), OrderedStatistic(items_base=frozenset({'22957', '21756'}), items_add=frozenset({'85150'}), confidence=1.0, lift=1.6666666666666667), OrderedStatistic(items_base=frozenset({'85150', '21756'}), items_add=frozenset({'22957'}), confidence=1.0, lift=1.6666666666666667), OrderedStatistic(items_base=frozenset({'85150', '22957'}), items_add=frozenset({'21756'}), confidence=1.0, lift=2.5)])\n",
            "yes\n",
            "RelationRecord(items=frozenset({'85150', '22960', '21756'}), support=0.4, ordered_statistics=[OrderedStatistic(items_base=frozenset(), items_add=frozenset({'85150', '22960', '21756'}), confidence=0.4, lift=1.0), OrderedStatistic(items_base=frozenset({'21756'}), items_add=frozenset({'85150', '22960'}), confidence=1.0, lift=2.5), OrderedStatistic(items_base=frozenset({'22960'}), items_add=frozenset({'85150', '21756'}), confidence=1.0, lift=2.5), OrderedStatistic(items_base=frozenset({'85150'}), items_add=frozenset({'22960', '21756'}), confidence=0.6666666666666667, lift=1.6666666666666667), OrderedStatistic(items_base=frozenset({'22960', '21756'}), items_add=frozenset({'85150'}), confidence=1.0, lift=1.6666666666666667), OrderedStatistic(items_base=frozenset({'85150', '21756'}), items_add=frozenset({'22960'}), confidence=1.0, lift=2.5), OrderedStatistic(items_base=frozenset({'85150', '22960'}), items_add=frozenset({'21756'}), confidence=1.0, lift=2.5)])\n",
            "yes\n",
            "RelationRecord(items=frozenset({'22202', '22203', '22551'}), support=0.4, ordered_statistics=[OrderedStatistic(items_base=frozenset(), items_add=frozenset({'22202', '22203', '22551'}), confidence=0.4, lift=1.0), OrderedStatistic(items_base=frozenset({'22202'}), items_add=frozenset({'22203', '22551'}), confidence=1.0, lift=2.5), OrderedStatistic(items_base=frozenset({'22203'}), items_add=frozenset({'22202', '22551'}), confidence=1.0, lift=2.5), OrderedStatistic(items_base=frozenset({'22551'}), items_add=frozenset({'22202', '22203'}), confidence=1.0, lift=2.5), OrderedStatistic(items_base=frozenset({'22202', '22203'}), items_add=frozenset({'22551'}), confidence=1.0, lift=2.5), OrderedStatistic(items_base=frozenset({'22202', '22551'}), items_add=frozenset({'22203'}), confidence=1.0, lift=2.5), OrderedStatistic(items_base=frozenset({'22203', '22551'}), items_add=frozenset({'22202'}), confidence=1.0, lift=2.5)])\n",
            "yes\n",
            "RelationRecord(items=frozenset({'85150', '48138', '22413'}), support=0.4, ordered_statistics=[OrderedStatistic(items_base=frozenset(), items_add=frozenset({'85150', '48138', '22413'}), confidence=0.4, lift=1.0), OrderedStatistic(items_base=frozenset({'22413'}), items_add=frozenset({'85150', '48138'}), confidence=1.0, lift=2.5), OrderedStatistic(items_base=frozenset({'48138'}), items_add=frozenset({'85150', '22413'}), confidence=1.0, lift=2.5), OrderedStatistic(items_base=frozenset({'85150'}), items_add=frozenset({'48138', '22413'}), confidence=0.6666666666666667, lift=1.6666666666666667), OrderedStatistic(items_base=frozenset({'48138', '22413'}), items_add=frozenset({'85150'}), confidence=1.0, lift=1.6666666666666667), OrderedStatistic(items_base=frozenset({'85150', '22413'}), items_add=frozenset({'48138'}), confidence=1.0, lift=2.5), OrderedStatistic(items_base=frozenset({'85150', '48138'}), items_add=frozenset({'22413'}), confidence=1.0, lift=2.5)])\n",
            "yes\n",
            "RelationRecord(items=frozenset({'85150', '22960', '22957'}), support=0.4, ordered_statistics=[OrderedStatistic(items_base=frozenset(), items_add=frozenset({'85150', '22960', '22957'}), confidence=0.4, lift=1.0), OrderedStatistic(items_base=frozenset({'22957'}), items_add=frozenset({'85150', '22960'}), confidence=0.6666666666666667, lift=1.6666666666666667), OrderedStatistic(items_base=frozenset({'22960'}), items_add=frozenset({'85150', '22957'}), confidence=1.0, lift=2.5), OrderedStatistic(items_base=frozenset({'85150'}), items_add=frozenset({'22960', '22957'}), confidence=0.6666666666666667, lift=1.6666666666666667), OrderedStatistic(items_base=frozenset({'22960', '22957'}), items_add=frozenset({'85150'}), confidence=1.0, lift=1.6666666666666667), OrderedStatistic(items_base=frozenset({'85150', '22957'}), items_add=frozenset({'22960'}), confidence=1.0, lift=2.5), OrderedStatistic(items_base=frozenset({'85150', '22960'}), items_add=frozenset({'22957'}), confidence=1.0, lift=1.6666666666666667)])\n",
            "yes\n",
            "RelationRecord(items=frozenset({'82551', '82552', '85150'}), support=0.4, ordered_statistics=[OrderedStatistic(items_base=frozenset(), items_add=frozenset({'82551', '82552', '85150'}), confidence=0.4, lift=1.0), OrderedStatistic(items_base=frozenset({'82551'}), items_add=frozenset({'85150', '82552'}), confidence=1.0, lift=2.5), OrderedStatistic(items_base=frozenset({'82552'}), items_add=frozenset({'82551', '85150'}), confidence=1.0, lift=2.5), OrderedStatistic(items_base=frozenset({'85150'}), items_add=frozenset({'82551', '82552'}), confidence=0.6666666666666667, lift=1.6666666666666667), OrderedStatistic(items_base=frozenset({'82551', '82552'}), items_add=frozenset({'85150'}), confidence=1.0, lift=1.6666666666666667), OrderedStatistic(items_base=frozenset({'82551', '85150'}), items_add=frozenset({'82552'}), confidence=1.0, lift=2.5), OrderedStatistic(items_base=frozenset({'85150', '82552'}), items_add=frozenset({'82551'}), confidence=1.0, lift=2.5)])\n",
            "yes\n",
            "RelationRecord(items=frozenset({'22202', '22203', '22551', '20682'}), support=0.4, ordered_statistics=[OrderedStatistic(items_base=frozenset(), items_add=frozenset({'22202', '22203', '22551', '20682'}), confidence=0.4, lift=1.0), OrderedStatistic(items_base=frozenset({'20682'}), items_add=frozenset({'22202', '22203', '22551'}), confidence=1.0, lift=2.5), OrderedStatistic(items_base=frozenset({'22202'}), items_add=frozenset({'22203', '22551', '20682'}), confidence=1.0, lift=2.5), OrderedStatistic(items_base=frozenset({'22203'}), items_add=frozenset({'22202', '22551', '20682'}), confidence=1.0, lift=2.5), OrderedStatistic(items_base=frozenset({'22551'}), items_add=frozenset({'22202', '22203', '20682'}), confidence=1.0, lift=2.5), OrderedStatistic(items_base=frozenset({'22202', '20682'}), items_add=frozenset({'22203', '22551'}), confidence=1.0, lift=2.5), OrderedStatistic(items_base=frozenset({'22203', '20682'}), items_add=frozenset({'22202', '22551'}), confidence=1.0, lift=2.5), OrderedStatistic(items_base=frozenset({'22551', '20682'}), items_add=frozenset({'22202', '22203'}), confidence=1.0, lift=2.5), OrderedStatistic(items_base=frozenset({'22202', '22203'}), items_add=frozenset({'22551', '20682'}), confidence=1.0, lift=2.5), OrderedStatistic(items_base=frozenset({'22202', '22551'}), items_add=frozenset({'22203', '20682'}), confidence=1.0, lift=2.5), OrderedStatistic(items_base=frozenset({'22203', '22551'}), items_add=frozenset({'22202', '20682'}), confidence=1.0, lift=2.5), OrderedStatistic(items_base=frozenset({'22202', '22203', '20682'}), items_add=frozenset({'22551'}), confidence=1.0, lift=2.5), OrderedStatistic(items_base=frozenset({'22202', '22551', '20682'}), items_add=frozenset({'22203'}), confidence=1.0, lift=2.5), OrderedStatistic(items_base=frozenset({'22203', '22551', '20682'}), items_add=frozenset({'22202'}), confidence=1.0, lift=2.5), OrderedStatistic(items_base=frozenset({'22202', '22203', '22551'}), items_add=frozenset({'20682'}), confidence=1.0, lift=2.5)])\n",
            "yes\n",
            "RelationRecord(items=frozenset({'20725', '21439', '21216', '22620'}), support=0.4, ordered_statistics=[OrderedStatistic(items_base=frozenset(), items_add=frozenset({'20725', '21439', '21216', '22620'}), confidence=0.4, lift=1.0), OrderedStatistic(items_base=frozenset({'20725'}), items_add=frozenset({'21439', '21216', '22620'}), confidence=1.0, lift=2.5), OrderedStatistic(items_base=frozenset({'21216'}), items_add=frozenset({'20725', '21439', '22620'}), confidence=1.0, lift=2.5), OrderedStatistic(items_base=frozenset({'21439'}), items_add=frozenset({'20725', '21216', '22620'}), confidence=1.0, lift=2.5), OrderedStatistic(items_base=frozenset({'22620'}), items_add=frozenset({'20725', '21439', '21216'}), confidence=1.0, lift=2.5), OrderedStatistic(items_base=frozenset({'20725', '21216'}), items_add=frozenset({'21439', '22620'}), confidence=1.0, lift=2.5), OrderedStatistic(items_base=frozenset({'20725', '21439'}), items_add=frozenset({'21216', '22620'}), confidence=1.0, lift=2.5), OrderedStatistic(items_base=frozenset({'20725', '22620'}), items_add=frozenset({'21439', '21216'}), confidence=1.0, lift=2.5), OrderedStatistic(items_base=frozenset({'21439', '21216'}), items_add=frozenset({'20725', '22620'}), confidence=1.0, lift=2.5), OrderedStatistic(items_base=frozenset({'21216', '22620'}), items_add=frozenset({'20725', '21439'}), confidence=1.0, lift=2.5), OrderedStatistic(items_base=frozenset({'21439', '22620'}), items_add=frozenset({'20725', '21216'}), confidence=1.0, lift=2.5), OrderedStatistic(items_base=frozenset({'20725', '21439', '21216'}), items_add=frozenset({'22620'}), confidence=1.0, lift=2.5), OrderedStatistic(items_base=frozenset({'20725', '21216', '22620'}), items_add=frozenset({'21439'}), confidence=1.0, lift=2.5), OrderedStatistic(items_base=frozenset({'20725', '21439', '22620'}), items_add=frozenset({'21216'}), confidence=1.0, lift=2.5), OrderedStatistic(items_base=frozenset({'21439', '21216', '22620'}), items_add=frozenset({'20725'}), confidence=1.0, lift=2.5)])\n",
            "yes\n",
            "RelationRecord(items=frozenset({'21165', '82551', '82552', '85150'}), support=0.4, ordered_statistics=[OrderedStatistic(items_base=frozenset(), items_add=frozenset({'21165', '82551', '82552', '85150'}), confidence=0.4, lift=1.0), OrderedStatistic(items_base=frozenset({'21165'}), items_add=frozenset({'82551', '82552', '85150'}), confidence=1.0, lift=2.5), OrderedStatistic(items_base=frozenset({'82551'}), items_add=frozenset({'21165', '85150', '82552'}), confidence=1.0, lift=2.5), OrderedStatistic(items_base=frozenset({'82552'}), items_add=frozenset({'21165', '82551', '85150'}), confidence=1.0, lift=2.5), OrderedStatistic(items_base=frozenset({'85150'}), items_add=frozenset({'21165', '82551', '82552'}), confidence=0.6666666666666667, lift=1.6666666666666667), OrderedStatistic(items_base=frozenset({'21165', '82551'}), items_add=frozenset({'85150', '82552'}), confidence=1.0, lift=2.5), OrderedStatistic(items_base=frozenset({'21165', '82552'}), items_add=frozenset({'82551', '85150'}), confidence=1.0, lift=2.5), OrderedStatistic(items_base=frozenset({'21165', '85150'}), items_add=frozenset({'82551', '82552'}), confidence=1.0, lift=2.5), OrderedStatistic(items_base=frozenset({'82551', '82552'}), items_add=frozenset({'21165', '85150'}), confidence=1.0, lift=2.5), OrderedStatistic(items_base=frozenset({'82551', '85150'}), items_add=frozenset({'21165', '82552'}), confidence=1.0, lift=2.5), OrderedStatistic(items_base=frozenset({'85150', '82552'}), items_add=frozenset({'21165', '82551'}), confidence=1.0, lift=2.5), OrderedStatistic(items_base=frozenset({'21165', '82551', '82552'}), items_add=frozenset({'85150'}), confidence=1.0, lift=1.6666666666666667), OrderedStatistic(items_base=frozenset({'21165', '82551', '85150'}), items_add=frozenset({'82552'}), confidence=1.0, lift=2.5), OrderedStatistic(items_base=frozenset({'21165', '85150', '82552'}), items_add=frozenset({'82551'}), confidence=1.0, lift=2.5), OrderedStatistic(items_base=frozenset({'82551', '82552', '85150'}), items_add=frozenset({'21165'}), confidence=1.0, lift=2.5)])\n",
            "yes\n",
            "RelationRecord(items=frozenset({'22957', '85150', '22960', '21756'}), support=0.4, ordered_statistics=[OrderedStatistic(items_base=frozenset(), items_add=frozenset({'22957', '85150', '22960', '21756'}), confidence=0.4, lift=1.0), OrderedStatistic(items_base=frozenset({'21756'}), items_add=frozenset({'85150', '22960', '22957'}), confidence=1.0, lift=2.5), OrderedStatistic(items_base=frozenset({'22957'}), items_add=frozenset({'85150', '22960', '21756'}), confidence=0.6666666666666667, lift=1.6666666666666667), OrderedStatistic(items_base=frozenset({'22960'}), items_add=frozenset({'21756', '85150', '22957'}), confidence=1.0, lift=2.5), OrderedStatistic(items_base=frozenset({'85150'}), items_add=frozenset({'21756', '22960', '22957'}), confidence=0.6666666666666667, lift=1.6666666666666667), OrderedStatistic(items_base=frozenset({'22957', '21756'}), items_add=frozenset({'85150', '22960'}), confidence=1.0, lift=2.5), OrderedStatistic(items_base=frozenset({'22960', '21756'}), items_add=frozenset({'85150', '22957'}), confidence=1.0, lift=2.5), OrderedStatistic(items_base=frozenset({'85150', '21756'}), items_add=frozenset({'22960', '22957'}), confidence=1.0, lift=2.5), OrderedStatistic(items_base=frozenset({'22960', '22957'}), items_add=frozenset({'85150', '21756'}), confidence=1.0, lift=2.5), OrderedStatistic(items_base=frozenset({'85150', '22957'}), items_add=frozenset({'22960', '21756'}), confidence=1.0, lift=2.5), OrderedStatistic(items_base=frozenset({'85150', '22960'}), items_add=frozenset({'21756', '22957'}), confidence=1.0, lift=2.5), OrderedStatistic(items_base=frozenset({'22957', '22960', '21756'}), items_add=frozenset({'85150'}), confidence=1.0, lift=1.6666666666666667), OrderedStatistic(items_base=frozenset({'22957', '85150', '21756'}), items_add=frozenset({'22960'}), confidence=1.0, lift=2.5), OrderedStatistic(items_base=frozenset({'85150', '22960', '21756'}), items_add=frozenset({'22957'}), confidence=1.0, lift=1.6666666666666667), OrderedStatistic(items_base=frozenset({'85150', '22960', '22957'}), items_add=frozenset({'21756'}), confidence=1.0, lift=2.5)])\n"
          ]
        },
        {
          "output_type": "stream",
          "name": "stderr",
          "text": [
            "/usr/local/lib/python3.10/dist-packages/ipykernel/ipkernel.py:283: DeprecationWarning: `should_run_async` will not call `transform_cell` automatically in the future. Please pass the result to `transformed_cell` argument and any exception that happen during thetransform in `preprocessing_exc_tuple` in IPython 7.17 and above.\n",
            "  and should_run_async(code)\n"
          ]
        }
      ]
    },
    {
      "cell_type": "markdown",
      "source": [
        "##4.ของช่วงเวลา Christmas & New Year ในทวีป Europe(1 Dec - 31 Dec)"
      ],
      "metadata": {
        "id": "gm6CJQ5MUund"
      }
    },
    {
      "cell_type": "code",
      "source": [
        "C_N_EU_data=EU_data[EU_data['month']==12]"
      ],
      "metadata": {
        "id": "gmAwSnslVBrS",
        "outputId": "c1fabeac-e267-432e-ee77-1904202721be",
        "colab": {
          "base_uri": "https://localhost:8080/"
        }
      },
      "execution_count": 227,
      "outputs": [
        {
          "output_type": "stream",
          "name": "stderr",
          "text": [
            "/usr/local/lib/python3.10/dist-packages/ipykernel/ipkernel.py:283: DeprecationWarning: `should_run_async` will not call `transform_cell` automatically in the future. Please pass the result to `transformed_cell` argument and any exception that happen during thetransform in `preprocessing_exc_tuple` in IPython 7.17 and above.\n",
            "  and should_run_async(code)\n"
          ]
        }
      ]
    },
    {
      "cell_type": "code",
      "source": [
        "C_N_EU_data"
      ],
      "metadata": {
        "colab": {
          "base_uri": "https://localhost:8080/",
          "height": 478
        },
        "id": "5hNSDXzHtczS",
        "outputId": "6daabb10-c684-4ef3-8466-bbdf8e95ff9f"
      },
      "execution_count": 228,
      "outputs": [
        {
          "output_type": "stream",
          "name": "stderr",
          "text": [
            "/usr/local/lib/python3.10/dist-packages/ipykernel/ipkernel.py:283: DeprecationWarning: `should_run_async` will not call `transform_cell` automatically in the future. Please pass the result to `transformed_cell` argument and any exception that happen during thetransform in `preprocessing_exc_tuple` in IPython 7.17 and above.\n",
            "  and should_run_async(code)\n"
          ]
        },
        {
          "output_type": "execute_result",
          "data": {
            "text/plain": [
              "       InvoiceNo StockCode                          Description  Quantity  \\\n",
              "0         536365    85123A   WHITE HANGING HEART T-LIGHT HOLDER         6   \n",
              "1         536365     71053                  WHITE METAL LANTERN         6   \n",
              "2         536365    84406B       CREAM CUPID HEARTS COAT HANGER         8   \n",
              "3         536365    84029G  KNITTED UNION FLAG HOT WATER BOTTLE         6   \n",
              "4         536365    84029E       RED WOOLLY HOTTIE WHITE HEART.         6   \n",
              "...          ...       ...                                  ...       ...   \n",
              "536964    581232   15056BL              EDWARDIAN PARASOL BLACK        24   \n",
              "536965    581232    15056P               EDWARDIAN PARASOL PINK        12   \n",
              "536966    581232     22059        CERAMIC STRAWBERRY DESIGN MUG        24   \n",
              "536967    581232     22646   CERAMIC STRAWBERRY CAKE MONEY BANK        36   \n",
              "536968    581232      POST                              POSTAGE         4   \n",
              "\n",
              "             InvoiceDate  UnitPrice  CustomerID         Country        date  \\\n",
              "0       12/01/2010 08:26       2.55     17850.0  United Kingdom  12/01/2010   \n",
              "1       12/01/2010 08:26       3.39     17850.0  United Kingdom  12/01/2010   \n",
              "2       12/01/2010 08:26       2.75     17850.0  United Kingdom  12/01/2010   \n",
              "3       12/01/2010 08:26       3.39     17850.0  United Kingdom  12/01/2010   \n",
              "4       12/01/2010 08:26       3.39     17850.0  United Kingdom  12/01/2010   \n",
              "...                  ...        ...         ...             ...         ...   \n",
              "536964  12/08/2011 10:26       5.95     12358.0         Austria  12/08/2011   \n",
              "536965  12/08/2011 10:26       5.95     12358.0         Austria  12/08/2011   \n",
              "536966  12/08/2011 10:26       0.39     12358.0         Austria  12/08/2011   \n",
              "536967  12/08/2011 10:26       0.39     12358.0         Austria  12/08/2011   \n",
              "536968  12/08/2011 10:26      40.00     12358.0         Austria  12/08/2011   \n",
              "\n",
              "        day  month  year  \n",
              "0         1     12  2010  \n",
              "1         1     12  2010  \n",
              "2         1     12  2010  \n",
              "3         1     12  2010  \n",
              "4         1     12  2010  \n",
              "...     ...    ...   ...  \n",
              "536964    8     12  2011  \n",
              "536965    8     12  2011  \n",
              "536966    8     12  2011  \n",
              "536967    8     12  2011  \n",
              "536968    8     12  2011  \n",
              "\n",
              "[67780 rows x 12 columns]"
            ],
            "text/html": [
              "\n",
              "  <div id=\"df-78e72079-03d7-487a-a6bb-745042b83c4e\" class=\"colab-df-container\">\n",
              "    <div>\n",
              "<style scoped>\n",
              "    .dataframe tbody tr th:only-of-type {\n",
              "        vertical-align: middle;\n",
              "    }\n",
              "\n",
              "    .dataframe tbody tr th {\n",
              "        vertical-align: top;\n",
              "    }\n",
              "\n",
              "    .dataframe thead th {\n",
              "        text-align: right;\n",
              "    }\n",
              "</style>\n",
              "<table border=\"1\" class=\"dataframe\">\n",
              "  <thead>\n",
              "    <tr style=\"text-align: right;\">\n",
              "      <th></th>\n",
              "      <th>InvoiceNo</th>\n",
              "      <th>StockCode</th>\n",
              "      <th>Description</th>\n",
              "      <th>Quantity</th>\n",
              "      <th>InvoiceDate</th>\n",
              "      <th>UnitPrice</th>\n",
              "      <th>CustomerID</th>\n",
              "      <th>Country</th>\n",
              "      <th>date</th>\n",
              "      <th>day</th>\n",
              "      <th>month</th>\n",
              "      <th>year</th>\n",
              "    </tr>\n",
              "  </thead>\n",
              "  <tbody>\n",
              "    <tr>\n",
              "      <th>0</th>\n",
              "      <td>536365</td>\n",
              "      <td>85123A</td>\n",
              "      <td>WHITE HANGING HEART T-LIGHT HOLDER</td>\n",
              "      <td>6</td>\n",
              "      <td>12/01/2010 08:26</td>\n",
              "      <td>2.55</td>\n",
              "      <td>17850.0</td>\n",
              "      <td>United Kingdom</td>\n",
              "      <td>12/01/2010</td>\n",
              "      <td>1</td>\n",
              "      <td>12</td>\n",
              "      <td>2010</td>\n",
              "    </tr>\n",
              "    <tr>\n",
              "      <th>1</th>\n",
              "      <td>536365</td>\n",
              "      <td>71053</td>\n",
              "      <td>WHITE METAL LANTERN</td>\n",
              "      <td>6</td>\n",
              "      <td>12/01/2010 08:26</td>\n",
              "      <td>3.39</td>\n",
              "      <td>17850.0</td>\n",
              "      <td>United Kingdom</td>\n",
              "      <td>12/01/2010</td>\n",
              "      <td>1</td>\n",
              "      <td>12</td>\n",
              "      <td>2010</td>\n",
              "    </tr>\n",
              "    <tr>\n",
              "      <th>2</th>\n",
              "      <td>536365</td>\n",
              "      <td>84406B</td>\n",
              "      <td>CREAM CUPID HEARTS COAT HANGER</td>\n",
              "      <td>8</td>\n",
              "      <td>12/01/2010 08:26</td>\n",
              "      <td>2.75</td>\n",
              "      <td>17850.0</td>\n",
              "      <td>United Kingdom</td>\n",
              "      <td>12/01/2010</td>\n",
              "      <td>1</td>\n",
              "      <td>12</td>\n",
              "      <td>2010</td>\n",
              "    </tr>\n",
              "    <tr>\n",
              "      <th>3</th>\n",
              "      <td>536365</td>\n",
              "      <td>84029G</td>\n",
              "      <td>KNITTED UNION FLAG HOT WATER BOTTLE</td>\n",
              "      <td>6</td>\n",
              "      <td>12/01/2010 08:26</td>\n",
              "      <td>3.39</td>\n",
              "      <td>17850.0</td>\n",
              "      <td>United Kingdom</td>\n",
              "      <td>12/01/2010</td>\n",
              "      <td>1</td>\n",
              "      <td>12</td>\n",
              "      <td>2010</td>\n",
              "    </tr>\n",
              "    <tr>\n",
              "      <th>4</th>\n",
              "      <td>536365</td>\n",
              "      <td>84029E</td>\n",
              "      <td>RED WOOLLY HOTTIE WHITE HEART.</td>\n",
              "      <td>6</td>\n",
              "      <td>12/01/2010 08:26</td>\n",
              "      <td>3.39</td>\n",
              "      <td>17850.0</td>\n",
              "      <td>United Kingdom</td>\n",
              "      <td>12/01/2010</td>\n",
              "      <td>1</td>\n",
              "      <td>12</td>\n",
              "      <td>2010</td>\n",
              "    </tr>\n",
              "    <tr>\n",
              "      <th>...</th>\n",
              "      <td>...</td>\n",
              "      <td>...</td>\n",
              "      <td>...</td>\n",
              "      <td>...</td>\n",
              "      <td>...</td>\n",
              "      <td>...</td>\n",
              "      <td>...</td>\n",
              "      <td>...</td>\n",
              "      <td>...</td>\n",
              "      <td>...</td>\n",
              "      <td>...</td>\n",
              "      <td>...</td>\n",
              "    </tr>\n",
              "    <tr>\n",
              "      <th>536964</th>\n",
              "      <td>581232</td>\n",
              "      <td>15056BL</td>\n",
              "      <td>EDWARDIAN PARASOL BLACK</td>\n",
              "      <td>24</td>\n",
              "      <td>12/08/2011 10:26</td>\n",
              "      <td>5.95</td>\n",
              "      <td>12358.0</td>\n",
              "      <td>Austria</td>\n",
              "      <td>12/08/2011</td>\n",
              "      <td>8</td>\n",
              "      <td>12</td>\n",
              "      <td>2011</td>\n",
              "    </tr>\n",
              "    <tr>\n",
              "      <th>536965</th>\n",
              "      <td>581232</td>\n",
              "      <td>15056P</td>\n",
              "      <td>EDWARDIAN PARASOL PINK</td>\n",
              "      <td>12</td>\n",
              "      <td>12/08/2011 10:26</td>\n",
              "      <td>5.95</td>\n",
              "      <td>12358.0</td>\n",
              "      <td>Austria</td>\n",
              "      <td>12/08/2011</td>\n",
              "      <td>8</td>\n",
              "      <td>12</td>\n",
              "      <td>2011</td>\n",
              "    </tr>\n",
              "    <tr>\n",
              "      <th>536966</th>\n",
              "      <td>581232</td>\n",
              "      <td>22059</td>\n",
              "      <td>CERAMIC STRAWBERRY DESIGN MUG</td>\n",
              "      <td>24</td>\n",
              "      <td>12/08/2011 10:26</td>\n",
              "      <td>0.39</td>\n",
              "      <td>12358.0</td>\n",
              "      <td>Austria</td>\n",
              "      <td>12/08/2011</td>\n",
              "      <td>8</td>\n",
              "      <td>12</td>\n",
              "      <td>2011</td>\n",
              "    </tr>\n",
              "    <tr>\n",
              "      <th>536967</th>\n",
              "      <td>581232</td>\n",
              "      <td>22646</td>\n",
              "      <td>CERAMIC STRAWBERRY CAKE MONEY BANK</td>\n",
              "      <td>36</td>\n",
              "      <td>12/08/2011 10:26</td>\n",
              "      <td>0.39</td>\n",
              "      <td>12358.0</td>\n",
              "      <td>Austria</td>\n",
              "      <td>12/08/2011</td>\n",
              "      <td>8</td>\n",
              "      <td>12</td>\n",
              "      <td>2011</td>\n",
              "    </tr>\n",
              "    <tr>\n",
              "      <th>536968</th>\n",
              "      <td>581232</td>\n",
              "      <td>POST</td>\n",
              "      <td>POSTAGE</td>\n",
              "      <td>4</td>\n",
              "      <td>12/08/2011 10:26</td>\n",
              "      <td>40.00</td>\n",
              "      <td>12358.0</td>\n",
              "      <td>Austria</td>\n",
              "      <td>12/08/2011</td>\n",
              "      <td>8</td>\n",
              "      <td>12</td>\n",
              "      <td>2011</td>\n",
              "    </tr>\n",
              "  </tbody>\n",
              "</table>\n",
              "<p>67780 rows × 12 columns</p>\n",
              "</div>\n",
              "    <div class=\"colab-df-buttons\">\n",
              "\n",
              "  <div class=\"colab-df-container\">\n",
              "    <button class=\"colab-df-convert\" onclick=\"convertToInteractive('df-78e72079-03d7-487a-a6bb-745042b83c4e')\"\n",
              "            title=\"Convert this dataframe to an interactive table.\"\n",
              "            style=\"display:none;\">\n",
              "\n",
              "  <svg xmlns=\"http://www.w3.org/2000/svg\" height=\"24px\" viewBox=\"0 -960 960 960\">\n",
              "    <path d=\"M120-120v-720h720v720H120Zm60-500h600v-160H180v160Zm220 220h160v-160H400v160Zm0 220h160v-160H400v160ZM180-400h160v-160H180v160Zm440 0h160v-160H620v160ZM180-180h160v-160H180v160Zm440 0h160v-160H620v160Z\"/>\n",
              "  </svg>\n",
              "    </button>\n",
              "\n",
              "  <style>\n",
              "    .colab-df-container {\n",
              "      display:flex;\n",
              "      gap: 12px;\n",
              "    }\n",
              "\n",
              "    .colab-df-convert {\n",
              "      background-color: #E8F0FE;\n",
              "      border: none;\n",
              "      border-radius: 50%;\n",
              "      cursor: pointer;\n",
              "      display: none;\n",
              "      fill: #1967D2;\n",
              "      height: 32px;\n",
              "      padding: 0 0 0 0;\n",
              "      width: 32px;\n",
              "    }\n",
              "\n",
              "    .colab-df-convert:hover {\n",
              "      background-color: #E2EBFA;\n",
              "      box-shadow: 0px 1px 2px rgba(60, 64, 67, 0.3), 0px 1px 3px 1px rgba(60, 64, 67, 0.15);\n",
              "      fill: #174EA6;\n",
              "    }\n",
              "\n",
              "    .colab-df-buttons div {\n",
              "      margin-bottom: 4px;\n",
              "    }\n",
              "\n",
              "    [theme=dark] .colab-df-convert {\n",
              "      background-color: #3B4455;\n",
              "      fill: #D2E3FC;\n",
              "    }\n",
              "\n",
              "    [theme=dark] .colab-df-convert:hover {\n",
              "      background-color: #434B5C;\n",
              "      box-shadow: 0px 1px 3px 1px rgba(0, 0, 0, 0.15);\n",
              "      filter: drop-shadow(0px 1px 2px rgba(0, 0, 0, 0.3));\n",
              "      fill: #FFFFFF;\n",
              "    }\n",
              "  </style>\n",
              "\n",
              "    <script>\n",
              "      const buttonEl =\n",
              "        document.querySelector('#df-78e72079-03d7-487a-a6bb-745042b83c4e button.colab-df-convert');\n",
              "      buttonEl.style.display =\n",
              "        google.colab.kernel.accessAllowed ? 'block' : 'none';\n",
              "\n",
              "      async function convertToInteractive(key) {\n",
              "        const element = document.querySelector('#df-78e72079-03d7-487a-a6bb-745042b83c4e');\n",
              "        const dataTable =\n",
              "          await google.colab.kernel.invokeFunction('convertToInteractive',\n",
              "                                                    [key], {});\n",
              "        if (!dataTable) return;\n",
              "\n",
              "        const docLinkHtml = 'Like what you see? Visit the ' +\n",
              "          '<a target=\"_blank\" href=https://colab.research.google.com/notebooks/data_table.ipynb>data table notebook</a>'\n",
              "          + ' to learn more about interactive tables.';\n",
              "        element.innerHTML = '';\n",
              "        dataTable['output_type'] = 'display_data';\n",
              "        await google.colab.output.renderOutput(dataTable, element);\n",
              "        const docLink = document.createElement('div');\n",
              "        docLink.innerHTML = docLinkHtml;\n",
              "        element.appendChild(docLink);\n",
              "      }\n",
              "    </script>\n",
              "  </div>\n",
              "\n",
              "\n",
              "<div id=\"df-af9f3b25-262d-472f-ade6-7d165e08af91\">\n",
              "  <button class=\"colab-df-quickchart\" onclick=\"quickchart('df-af9f3b25-262d-472f-ade6-7d165e08af91')\"\n",
              "            title=\"Suggest charts\"\n",
              "            style=\"display:none;\">\n",
              "\n",
              "<svg xmlns=\"http://www.w3.org/2000/svg\" height=\"24px\"viewBox=\"0 0 24 24\"\n",
              "     width=\"24px\">\n",
              "    <g>\n",
              "        <path d=\"M19 3H5c-1.1 0-2 .9-2 2v14c0 1.1.9 2 2 2h14c1.1 0 2-.9 2-2V5c0-1.1-.9-2-2-2zM9 17H7v-7h2v7zm4 0h-2V7h2v10zm4 0h-2v-4h2v4z\"/>\n",
              "    </g>\n",
              "</svg>\n",
              "  </button>\n",
              "\n",
              "<style>\n",
              "  .colab-df-quickchart {\n",
              "      --bg-color: #E8F0FE;\n",
              "      --fill-color: #1967D2;\n",
              "      --hover-bg-color: #E2EBFA;\n",
              "      --hover-fill-color: #174EA6;\n",
              "      --disabled-fill-color: #AAA;\n",
              "      --disabled-bg-color: #DDD;\n",
              "  }\n",
              "\n",
              "  [theme=dark] .colab-df-quickchart {\n",
              "      --bg-color: #3B4455;\n",
              "      --fill-color: #D2E3FC;\n",
              "      --hover-bg-color: #434B5C;\n",
              "      --hover-fill-color: #FFFFFF;\n",
              "      --disabled-bg-color: #3B4455;\n",
              "      --disabled-fill-color: #666;\n",
              "  }\n",
              "\n",
              "  .colab-df-quickchart {\n",
              "    background-color: var(--bg-color);\n",
              "    border: none;\n",
              "    border-radius: 50%;\n",
              "    cursor: pointer;\n",
              "    display: none;\n",
              "    fill: var(--fill-color);\n",
              "    height: 32px;\n",
              "    padding: 0;\n",
              "    width: 32px;\n",
              "  }\n",
              "\n",
              "  .colab-df-quickchart:hover {\n",
              "    background-color: var(--hover-bg-color);\n",
              "    box-shadow: 0 1px 2px rgba(60, 64, 67, 0.3), 0 1px 3px 1px rgba(60, 64, 67, 0.15);\n",
              "    fill: var(--button-hover-fill-color);\n",
              "  }\n",
              "\n",
              "  .colab-df-quickchart-complete:disabled,\n",
              "  .colab-df-quickchart-complete:disabled:hover {\n",
              "    background-color: var(--disabled-bg-color);\n",
              "    fill: var(--disabled-fill-color);\n",
              "    box-shadow: none;\n",
              "  }\n",
              "\n",
              "  .colab-df-spinner {\n",
              "    border: 2px solid var(--fill-color);\n",
              "    border-color: transparent;\n",
              "    border-bottom-color: var(--fill-color);\n",
              "    animation:\n",
              "      spin 1s steps(1) infinite;\n",
              "  }\n",
              "\n",
              "  @keyframes spin {\n",
              "    0% {\n",
              "      border-color: transparent;\n",
              "      border-bottom-color: var(--fill-color);\n",
              "      border-left-color: var(--fill-color);\n",
              "    }\n",
              "    20% {\n",
              "      border-color: transparent;\n",
              "      border-left-color: var(--fill-color);\n",
              "      border-top-color: var(--fill-color);\n",
              "    }\n",
              "    30% {\n",
              "      border-color: transparent;\n",
              "      border-left-color: var(--fill-color);\n",
              "      border-top-color: var(--fill-color);\n",
              "      border-right-color: var(--fill-color);\n",
              "    }\n",
              "    40% {\n",
              "      border-color: transparent;\n",
              "      border-right-color: var(--fill-color);\n",
              "      border-top-color: var(--fill-color);\n",
              "    }\n",
              "    60% {\n",
              "      border-color: transparent;\n",
              "      border-right-color: var(--fill-color);\n",
              "    }\n",
              "    80% {\n",
              "      border-color: transparent;\n",
              "      border-right-color: var(--fill-color);\n",
              "      border-bottom-color: var(--fill-color);\n",
              "    }\n",
              "    90% {\n",
              "      border-color: transparent;\n",
              "      border-bottom-color: var(--fill-color);\n",
              "    }\n",
              "  }\n",
              "</style>\n",
              "\n",
              "  <script>\n",
              "    async function quickchart(key) {\n",
              "      const quickchartButtonEl =\n",
              "        document.querySelector('#' + key + ' button');\n",
              "      quickchartButtonEl.disabled = true;  // To prevent multiple clicks.\n",
              "      quickchartButtonEl.classList.add('colab-df-spinner');\n",
              "      try {\n",
              "        const charts = await google.colab.kernel.invokeFunction(\n",
              "            'suggestCharts', [key], {});\n",
              "      } catch (error) {\n",
              "        console.error('Error during call to suggestCharts:', error);\n",
              "      }\n",
              "      quickchartButtonEl.classList.remove('colab-df-spinner');\n",
              "      quickchartButtonEl.classList.add('colab-df-quickchart-complete');\n",
              "    }\n",
              "    (() => {\n",
              "      let quickchartButtonEl =\n",
              "        document.querySelector('#df-af9f3b25-262d-472f-ade6-7d165e08af91 button');\n",
              "      quickchartButtonEl.style.display =\n",
              "        google.colab.kernel.accessAllowed ? 'block' : 'none';\n",
              "    })();\n",
              "  </script>\n",
              "</div>\n",
              "    </div>\n",
              "  </div>\n"
            ]
          },
          "metadata": {},
          "execution_count": 228
        }
      ]
    },
    {
      "cell_type": "code",
      "source": [
        "transactionsC_N_EU = C_N_EU_data.groupby('InvoiceNo')['StockCode'].apply(list)"
      ],
      "metadata": {
        "id": "jTk-YZlGdWBf",
        "outputId": "640c8ae9-d42a-4a05-f186-9b978954ee19",
        "colab": {
          "base_uri": "https://localhost:8080/"
        }
      },
      "execution_count": 229,
      "outputs": [
        {
          "output_type": "stream",
          "name": "stderr",
          "text": [
            "/usr/local/lib/python3.10/dist-packages/ipykernel/ipkernel.py:283: DeprecationWarning: `should_run_async` will not call `transform_cell` automatically in the future. Please pass the result to `transformed_cell` argument and any exception that happen during thetransform in `preprocessing_exc_tuple` in IPython 7.17 and above.\n",
            "  and should_run_async(code)\n"
          ]
        }
      ]
    },
    {
      "cell_type": "code",
      "source": [
        "transactionsC_N_EU"
      ],
      "metadata": {
        "id": "2H7259lneHmY",
        "outputId": "61225361-7281-4e91-eb23-e206f4418096",
        "colab": {
          "base_uri": "https://localhost:8080/"
        }
      },
      "execution_count": 230,
      "outputs": [
        {
          "output_type": "stream",
          "name": "stderr",
          "text": [
            "/usr/local/lib/python3.10/dist-packages/ipykernel/ipkernel.py:283: DeprecationWarning: `should_run_async` will not call `transform_cell` automatically in the future. Please pass the result to `transformed_cell` argument and any exception that happen during thetransform in `preprocessing_exc_tuple` in IPython 7.17 and above.\n",
            "  and should_run_async(code)\n"
          ]
        },
        {
          "output_type": "execute_result",
          "data": {
            "text/plain": [
              "InvoiceNo\n",
              "536365     [85123A, 71053, 84406B, 84029G, 84029E, 22752,...\n",
              "536366                                        [22633, 22632]\n",
              "536367     [84879, 22745, 22748, 22749, 22310, 84969, 226...\n",
              "536368                          [22960, 22913, 22912, 22914]\n",
              "536369                                               [21756]\n",
              "                                 ...                        \n",
              "C581484                                              [23843]\n",
              "C581490                                       [22178, 23144]\n",
              "C581499                                                  [M]\n",
              "C581568                                              [21258]\n",
              "C581569                                       [84978, 20979]\n",
              "Name: StockCode, Length: 3022, dtype: object"
            ]
          },
          "metadata": {},
          "execution_count": 230
        }
      ]
    },
    {
      "cell_type": "code",
      "source": [
        "min_sup = 0.04\n",
        "frequentItemsetsC_N_EU= list(apriori(transactionsC_N_EU,min_support = min_sup))\n",
        "for i in frequentItemsetsC_N_EU:\n",
        "    if i[0].__len__()>1:\n",
        "        print('yes')\n",
        "        print(i)"
      ],
      "metadata": {
        "id": "AZ7DUUG_dRCF",
        "outputId": "d69274ee-66a3-4052-e4d8-74227a61601e",
        "colab": {
          "base_uri": "https://localhost:8080/"
        }
      },
      "execution_count": 231,
      "outputs": [
        {
          "output_type": "stream",
          "name": "stderr",
          "text": [
            "/usr/local/lib/python3.10/dist-packages/ipykernel/ipkernel.py:283: DeprecationWarning: `should_run_async` will not call `transform_cell` automatically in the future. Please pass the result to `transformed_cell` argument and any exception that happen during thetransform in `preprocessing_exc_tuple` in IPython 7.17 and above.\n",
            "  and should_run_async(code)\n"
          ]
        },
        {
          "output_type": "stream",
          "name": "stdout",
          "text": [
            "yes\n",
            "RelationRecord(items=frozenset({'22086', '22910'}), support=0.04765056254136334, ordered_statistics=[OrderedStatistic(items_base=frozenset(), items_add=frozenset({'22086', '22910'}), confidence=0.04765056254136334, lift=1.0), OrderedStatistic(items_base=frozenset({'22086'}), items_add=frozenset({'22910'}), confidence=0.5142857142857143, lift=7.162080315997367), OrderedStatistic(items_base=frozenset({'22910'}), items_add=frozenset({'22086'}), confidence=0.663594470046083, lift=7.162080315997367)])\n"
          ]
        }
      ]
    },
    {
      "cell_type": "markdown",
      "source": [
        "yes\n",
        "RelationRecord(items=frozenset({'22086', '22910'}), support=0.04765056254136334, ordered_statistics=[OrderedStatistic(items_base=frozenset(), items_add=frozenset({'22086', '22910'}), confidence=0.04765056254136334, lift=1.0),\n",
        "\n",
        "OrderedStatistic(items_base=frozenset({'22086'}), items_add=frozenset({'22910'}), confidence=0.5142857142857143, lift=7.162080315997367),\n",
        "\n",
        "OrderedStatistic(items_base=frozenset({'22910'}), items_add=frozenset({'22086'}), confidence=0.663594470046083, lift=7.162080315997367)]) #เลือกอันนี้ค่าความเชื่อมั่นเยอะที่สุด\n"
      ],
      "metadata": {
        "id": "qP4RZn5d-rue"
      }
    },
    {
      "cell_type": "code",
      "source": [
        "finditime('22086', '22910')"
      ],
      "metadata": {
        "id": "BBZXA4oaAfFn",
        "outputId": "4b8adb1a-61e2-48f4-b902-937381e2725d",
        "colab": {
          "base_uri": "https://localhost:8080/"
        }
      },
      "execution_count": 232,
      "outputs": [
        {
          "output_type": "stream",
          "name": "stderr",
          "text": [
            "/usr/local/lib/python3.10/dist-packages/ipykernel/ipkernel.py:283: DeprecationWarning: `should_run_async` will not call `transform_cell` automatically in the future. Please pass the result to `transformed_cell` argument and any exception that happen during thetransform in `preprocessing_exc_tuple` in IPython 7.17 and above.\n",
            "  and should_run_async(code)\n"
          ]
        },
        {
          "output_type": "execute_result",
          "data": {
            "text/plain": [
              "{\"PAPER CHAIN KIT 50'S CHRISTMAS \", 'PAPER CHAIN KIT VINTAGE CHRISTMAS'}"
            ]
          },
          "metadata": {},
          "execution_count": 232
        }
      ]
    },
    {
      "cell_type": "markdown",
      "source": [
        "## ข้อ 6-4\n"
      ],
      "metadata": {
        "id": "DxYiKU-Mb8ba"
      }
    },
    {
      "cell_type": "code",
      "source": [
        "transactionsC_N_EU = C_N_EU_data.groupby(['Country', 'month'])['StockCode'].apply(list)\n",
        "min_sup = 0.4\n",
        "frequentItemsetsC_N_EU= list(apriori(transactionsC_N_EU,min_support = min_sup))\n",
        "for i in frequentItemsetsC_N_EU:\n",
        "    if i[0].__len__()>1:\n",
        "        print('yes')\n",
        "        print(i)"
      ],
      "metadata": {
        "colab": {
          "base_uri": "https://localhost:8080/"
        },
        "id": "WrmrFTK5dX9K",
        "outputId": "e08839c7-ba68-4d63-e1a1-41d9249c5c05"
      },
      "execution_count": null,
      "outputs": [
        {
          "output_type": "stream",
          "name": "stdout",
          "text": [
            "yes\n",
            "RelationRecord(items=frozenset({'POST', '20750'}), support=0.4090909090909091, ordered_statistics=[OrderedStatistic(items_base=frozenset(), items_add=frozenset({'POST', '20750'}), confidence=0.4090909090909091, lift=1.0), OrderedStatistic(items_base=frozenset({'20750'}), items_add=frozenset({'POST'}), confidence=0.9000000000000001, lift=1.4142857142857146), OrderedStatistic(items_base=frozenset({'POST'}), items_add=frozenset({'20750'}), confidence=0.6428571428571429, lift=1.4142857142857144)])\n"
          ]
        }
      ]
    }
  ]
}