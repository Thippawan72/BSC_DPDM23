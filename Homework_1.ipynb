{
  "nbformat": 4,
  "nbformat_minor": 0,
  "metadata": {
    "colab": {
      "provenance": [],
      "authorship_tag": "ABX9TyMcEBLiiKHEF3k9TXBGwWkZ",
      "include_colab_link": true
    },
    "kernelspec": {
      "name": "python3",
      "display_name": "Python 3"
    },
    "language_info": {
      "name": "python"
    }
  },
  "cells": [
    {
      "cell_type": "markdown",
      "metadata": {
        "id": "view-in-github",
        "colab_type": "text"
      },
      "source": [
        "<a href=\"https://colab.research.google.com/github/Thippawan72/BSC_DPDM23/blob/main/Homework_1.ipynb\" target=\"_parent\"><img src=\"https://colab.research.google.com/assets/colab-badge.svg\" alt=\"Open In Colab\"/></a>"
      ]
    },
    {
      "cell_type": "code",
      "execution_count": null,
      "metadata": {
        "id": "WhAkZvQZUC5j"
      },
      "outputs": [],
      "source": [
        "HW 1 หา Frequet Item Set เเละ Association Rules\n",
        "\n",
        "* ของช่วงเวลา Christmas & New Year (1 Dec - 31 Dec)\n",
        "* ของประเทศในทวีป Europe\n",
        "* ของประเทศในทวีป Asia\n",
        "* ของช่วงเวลา ตรุษจีน ในทวีป Asia (15 Jan - 15 Fab)\n",
        "* ของช่วงเวลา Christmas & New Year ในทวีป Eupro (1 Dec - 31 Dec)"
      ]
    }
  ]
}