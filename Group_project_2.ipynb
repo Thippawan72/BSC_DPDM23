{
  "nbformat": 4,
  "nbformat_minor": 0,
  "metadata": {
    "colab": {
      "provenance": [],
      "include_colab_link": true
    },
    "kernelspec": {
      "name": "python3",
      "display_name": "Python 3"
    },
    "language_info": {
      "name": "python"
    }
  },
  "cells": [
    {
      "cell_type": "markdown",
      "metadata": {
        "id": "view-in-github",
        "colab_type": "text"
      },
      "source": [
        "<a href=\"https://colab.research.google.com/github/Thippawan72/BSC_DPDM23/blob/main/Group_project_2.ipynb\" target=\"_parent\"><img src=\"https://colab.research.google.com/assets/colab-badge.svg\" alt=\"Open In Colab\"/></a>"
      ]
    },
    {
      "cell_type": "code",
      "source": [
        "from google.colab import drive\n",
        "drive.mount('/content/drive')"
      ],
      "metadata": {
        "id": "2eGcAif3VBZW"
      },
      "execution_count": null,
      "outputs": []
    },
    {
      "cell_type": "code",
      "execution_count": null,
      "metadata": {
        "id": "fcD0Euo4Ujya"
      },
      "outputs": [],
      "source": [
        "import pandas as pd\n",
        "import numpy as np\n",
        "from sklearn.tree import DecisionTreeClassifier\n",
        "from sklearn import tree\n",
        "from matplotlib import pyplot as plt\n",
        "from sklearn.metrics import accuracy_score\n",
        "\n",
        "!pip install apyori\n",
        "from apyori import apriori"
      ]
    },
    {
      "cell_type": "code",
      "source": [
        "data_truck = pd.read_excel('/content/drive/MyDrive/BSC_DPDM23_Data/Data_Truck-2.xlsx')"
      ],
      "metadata": {
        "id": "vRirPjGtVd7i"
      },
      "execution_count": null,
      "outputs": []
    },
    {
      "cell_type": "markdown",
      "source": [
        "# Data truck 2560"
      ],
      "metadata": {
        "id": "RiTWNAqzMokS"
      }
    },
    {
      "cell_type": "code",
      "source": [
        "data_dict_truck = pd.read_excel('/content/drive/MyDrive/BSC_DPDM23_Data/Data_Truck-2.xlsx', sheet_name = 0)\n",
        "data_dict_truck.head()"
      ],
      "metadata": {
        "id": "8xPWHfhIVppa"
      },
      "execution_count": null,
      "outputs": []
    },
    {
      "cell_type": "code",
      "source": [
        "data_2560 = pd.read_excel('/content/drive/MyDrive/BSC_DPDM23_Data/Data_Truck-2.xlsx', sheet_name = 1)\n",
        "data_2560.head()"
      ],
      "metadata": {
        "id": "spUgpdbrWZkI"
      },
      "execution_count": null,
      "outputs": []
    },
    {
      "cell_type": "code",
      "source": [
        "data60_col = data_2560[['Date','Time','Province','Loss','Party','Cause','Main cause of accidents']]\n",
        "data60_col.head()  #เลือกเฉพาะคอลัมน์ที่ต้องการ"
      ],
      "metadata": {
        "id": "52JPZkOI6k95"
      },
      "execution_count": null,
      "outputs": []
    },
    {
      "cell_type": "code",
      "source": [
        "#เปลี่ยนชื่อจังหวัดเป็นภาษาอังกฤษ\n",
        "data_truck_60 = data60_col\n",
        "datamain60 = pd.DataFrame(data_truck_60)\n",
        "datamain60['Province'] = datamain60['Province'].apply(lambda x: x.strip())\n",
        "datamain60['Province'] = datamain60['Province'].replace({\n",
        "    'เชียงใหม่': 'Chiang Mai',\n",
        "    'เชียงราย': 'Chiang Rai',\n",
        "    'ลำปาง': 'Lampang',\n",
        "    'ลำพูน': 'Lamphun',\n",
        "    'แม่ฮ่องสอน': 'Mae Hong Son',\n",
        "    'น่าน': 'Nan',\n",
        "    'พะเยา': 'Phayao',\n",
        "    'แพร่': 'Phrae',\n",
        "    'อุตรดิตถ์': 'Uttaradit',\n",
        "    'กาฬสินธุ์': 'Kalasin',\n",
        "    'ขอนแก่น': 'Khon Kaen',\n",
        "    'ชัยภูมิ': 'Chaiyaphum',\n",
        "    'นครพนม': 'Nakhon Phanom',\n",
        "    'นครราชสีมา': 'Nakhon Ratchasima',\n",
        "    'บึงกาฬ': 'Bueng Kan',\n",
        "    'บุรีรัมย์': 'Buriram',\n",
        "    'มหาสารคาม': 'Maha Sarakham',\n",
        "    'มุกดาหาร': 'Mukdahan',\n",
        "    'ยโสธร': 'Yasothon',\n",
        "    'ร้อยเอ็ด': 'Roi Et',\n",
        "    'เลย': 'Loei',\n",
        "    'สกลนคร': 'Sakon Nakhon',\n",
        "    'สุรินทร์': 'Surin',\n",
        "    'ศรีสะเกษ': 'Sisaket',\n",
        "    'หนองคาย': 'Nong Khai',\n",
        "    'หนองบัวลำภู': 'Nong Bua Lamphu',\n",
        "    'อุดรธานี': 'Udon Thani',\n",
        "    'อุบลราชธานี': 'Ubon Ratchathani',\n",
        "    'อำนาจเจริญ': 'Amnat Charoen',\n",
        "    'กรุงเทพมหานคร': 'Bangkok',\n",
        "    'กำแพงเพชร': 'Kamphaeng Phet',\n",
        "    'ชัยนาท': 'Chai Nat',\n",
        "    'นครนายก': 'Nakhon Nayok',\n",
        "    'นครปฐม': 'Nakhon Pathom',\n",
        "    'นครสวรรค์': 'Nakhon Sawan',\n",
        "    'นนทบุรี': 'Nonthaburi',\n",
        "    'ปทุมธานี': 'Pathum Thani',\n",
        "    'พระนครศรีอยุธยา': 'Phra Nakhon Si Ayutthaya',\n",
        "    'พระนครศรี อยุธยา': 'Phra Nakhon Si Ayutthaya',\n",
        "    'พิจิตร': 'Phichit',\n",
        "    'พิษณุโลก': 'Phitsanulok',\n",
        "    'เพชรบูรณ์': 'Phetchabun',\n",
        "    'ลพบุรี': 'Lopburi',\n",
        "    'สมุทรปราการ': 'Samut Prakan',\n",
        "    'สมุทรสงคราม': 'Samut Songkhram',\n",
        "    'สมุทรสาคร': 'Samut Sakhon',\n",
        "    'สิงห์บุรี': 'Sing Buri',\n",
        "    'สุโขทัย': 'Sukhothai',\n",
        "    'สุพรรณบุรี': 'Suphan Buri',\n",
        "    'สระบุรี': 'Saraburi',\n",
        "    'อ่างทอง': 'Ang Thong',\n",
        "    'อุทัยธานี': 'Uthai Thani',\n",
        "    'จันทบุรี': 'Chanthaburi',\n",
        "    'ฉะเชิงเทรา': 'Chachoengsao',\n",
        "    'ชลบุรี': 'Chonburi',\n",
        "    'ตราด': 'Trat',\n",
        "    'ปราจีนบุรี': 'Prachinburi',\n",
        "    'ระยอง': 'Rayong',\n",
        "    'สระแก้ว': 'Sa Kaeo',\n",
        "    'กาญจนบุรี': 'Kanchanaburi',\n",
        "    'ตาก': 'Tak',\n",
        "    'ประจวบคีรีขันธ์': 'Prachuap Khiri Khan',\n",
        "    'เพชรบุรี': 'Phetchaburi',\n",
        "    'ราชบุรี': 'Ratchaburi',\n",
        "    'กระบี่': 'Krabi',\n",
        "    'ชุมพร': 'Chumphon',\n",
        "    'ตรัง': 'Trang',\n",
        "    'นครศรีธรรมราช': 'Nakhon Si Thammarat',\n",
        "    'นราธิวาส': 'Narathiwat',\n",
        "    'ปัตตานี': 'Pattani',\n",
        "    'พังงา': 'Phang Nga',\n",
        "    'พัทลุง': 'Phatthalung',\n",
        "    'ภูเก็ต': 'Phuket',\n",
        "    'ระนอง': 'Ranong',\n",
        "    'สตูล': 'Satun',\n",
        "    'สงขลา': 'Songkhla',\n",
        "    'สุราษฎร์ธานี': 'Surat Thani',\n",
        "    'ยะลา': 'Yala'})"
      ],
      "metadata": {
        "id": "hXnzJYIWp56t"
      },
      "execution_count": null,
      "outputs": []
    },
    {
      "cell_type": "code",
      "source": [
        "data_truck_60.head()"
      ],
      "metadata": {
        "id": "EmQEosVqp53B"
      },
      "execution_count": null,
      "outputs": []
    },
    {
      "cell_type": "code",
      "source": [
        "#เปลี่ยนสาเหตุเป็นตัวเลขที่กำหนดไว้\n",
        "data_truck_600 = data_truck_60\n",
        "datamain60 = pd.DataFrame(data_truck_600)\n",
        "datamain60['Main cause of accidents'] = datamain60['Main cause of accidents'].apply(lambda x: x.strip())\n",
        "datamain60['Main cause of accidents'] = datamain60['Main cause of accidents'].replace({'ขับรถเร็ว':'M1',\n",
        "'ขับรถตัดหน้าในระยะกระชั้นชิด':'M2',\n",
        "'ขับตามหลังในระยะกระชั้นชิด':'M3',\n",
        "'หลับใน':'M4',\n",
        "' หลับใน':'M4',\n",
        "'ขับแซงอย่างผิดกฎหมาย/แซงในที่คับขัน':\t'M5',\n",
        "'ไม่ชำนาญเส้นทาง':\t'M6',\n",
        "'ขาดทักษะที่ถูกต้องในการขับรถ':\t'M7',\n",
        "'ขับล้ำเข้าไปในช่องทางจราจรอื่น':\t'M8',\n",
        "'ขับล้ำเข้าไปในช่องทางฝั่งตรงข้าม':\t'M9',\n",
        "'ฝ่าฝืนเครื่องหมาย/สัญญาณจราจร':\t'M10',\n",
        "'เปลี่ยนช่องทางกระทันหัน':\t'M11',\n",
        "'เมาสุรา':\t'M12',\n",
        "'ใช้สารเสพติดออกฤทธิ์ต่อจิตประสาท':\t'M13',\n",
        "'ขาดสมาธิขณะขับรถ':\t'M14',\n",
        "'ขับย้อนศร':\t'M15',\n",
        "'จอดรถไหล่ทาง':\t'M16',\n",
        "'จอดในที่ห้ามจอด/จอดไหล่ทางล้ำ/จอดไม่ให้เครื่องหมายหรือสัญญาณ':\t'M17',\n",
        "'ทำกิจกรรมอื่นในขณะขับรถ (ก้มหยิบของ,โทรศัพท์)':\t'M18',\n",
        "'สภาพยางชำรุด':\t'M19',\n",
        "'ระบบเบรกชำรุด':\t'M20',\n",
        "'ระบบคันส่งคันชักชำรุด':\t'M21',\n",
        "'ระบบล้อและเพลาชำรุด':\t'M22',\n",
        "'ระบบไฟฟ้าชำรุด':\t'M23',\n",
        "'ระบบพวงมาลัยชำรุด':\t'M24',\n",
        "'อุปกรณ์ส่วนควบอื่นๆชำรุด':\t'M25',\n",
        "'สภาพถนนชำรุด':\t'M26',\n",
        "'ฝนตกถนนลื่น':\t'M27',\n",
        "'ถนนไม่มีไฟฟ้าแสงสว่าง':\t'M28',\n",
        "'ถนนมีสิ่งกีดขวางจราจร':\t'M29',\n",
        "'ประมาทร่วม':\t'M30',\n",
        "'รถอีกคันกระเด็นมาถูกโดยบังเอิญ':\t'M31',\n",
        "'ปัญหาสุขภาพผู้ขับรถ':\t'M32',\n",
        "'ไม่ระบุ':\t'M33',\n",
        "'คนเดินตัดหน้ารถ'\t:'M34' })"
      ],
      "metadata": {
        "id": "1iY_SiBy31F3"
      },
      "execution_count": null,
      "outputs": []
    },
    {
      "cell_type": "code",
      "source": [
        "data_truck_600.head()"
      ],
      "metadata": {
        "id": "aI84W9ruUXOr"
      },
      "execution_count": null,
      "outputs": []
    },
    {
      "cell_type": "code",
      "source": [
        "# เปลี่ยนตัวแปรคู่กรณี (Party) เป็นตัวเลขที่กำหนดไว้\n",
        "data_truck_6000 = data_truck_600\n",
        "datapar60 = pd.DataFrame(data_truck_6000)\n",
        "datapar60['Party'] = datapar60['Party'].apply(lambda x: x.strip())\n",
        "datapar60['Party'] = datapar60['Party'].replace({'รถยนต์บรรทุกส่วนบุคคล (ปิคอัพ)':\t'P1',\n",
        "'รถยนต์นั่งส่วนบุคคลไม่เกิน7คน':\t'P2',\n",
        "'รถยนต์นั่งส่วนบุคคลเกิน7คน':\t'P3',\n",
        "'รถบรรทุก':\t'P4',\n",
        "'รถโดยสาร':\t'P5',\n",
        "'รถจักรยานยนต์':\t'P6',\n",
        "'รถจักรยาน':\t'P7',\n",
        "'รถอื่นๆ':\t'P8',\n",
        "'คู่กรณีมากกว่า 1 คัน':\t'P9',\n",
        "'เสาไฟฟ้า':\t'P10',\n",
        "'ป้าย':'P11',\n",
        "'ต้นไม้':'P12',\n",
        "'ไม่มีคู่กรณี': 'P13',\n",
        "'คนเดินเท้า':\t'P14',\n",
        "'ไม่ระบุ':\t'P15' })"
      ],
      "metadata": {
        "id": "moPgJnECUXLM"
      },
      "execution_count": null,
      "outputs": []
    },
    {
      "cell_type": "code",
      "source": [
        "data_truck_6000.head()"
      ],
      "metadata": {
        "id": "cMtvHajEUjKg"
      },
      "execution_count": null,
      "outputs": []
    },
    {
      "cell_type": "code",
      "source": [
        "# เปลี่ยนตัวแปรรถต้นเหตุ (Cause) เป็นตัวเลขที่กำหนดไว้\n",
        "data_truck_60000 = data_truck_6000\n",
        "datapar60 = pd.DataFrame(data_truck_60000)\n",
        "datapar60['Cause'] = datapar60['Cause'].apply(lambda x: x.strip())\n",
        "datapar60['Cause'] = datapar60['Cause'].replace({'รถยนต์บรรทุกส่วนบุคคล (ปิคอัพ)':\t'C1',\n",
        "'รถยนต์นั่งส่วนบุคคลไม่เกิน7คน':\t'C2',\n",
        "'รถยนต์นั่งส่วนบุคคลเกิน7คน':\t'C3',\n",
        "'รถบรรทุก':\t'C4',\n",
        "'รถโดยสาร':\t'C5',\n",
        "'รถจักรยานยนต์':\t'C6',\n",
        "'รถจักรยาน':\t'C7',\n",
        "'รถอื่นๆ':\t'C8',\n",
        "'คู่กรณีมากกว่า 1 คัน':\t'C9',\n",
        "'เสาไฟฟ้า':\t'C10',\n",
        "'ป้าย':'C11',\n",
        "'ต้นไม้':'C12',\n",
        "'ไม่มีคู่กรณี': 'C13',\n",
        "'คนเดินเท้า':\t'C14',\n",
        "'ไม่ระบุ':\t'C15'})"
      ],
      "metadata": {
        "id": "cQrKB6cmUjG5"
      },
      "execution_count": null,
      "outputs": []
    },
    {
      "cell_type": "code",
      "source": [
        "data_truck_60000.head()"
      ],
      "metadata": {
        "id": "DinSt6dJhCe8"
      },
      "execution_count": null,
      "outputs": []
    },
    {
      "cell_type": "markdown",
      "source": [
        "# Data truck 2561"
      ],
      "metadata": {
        "id": "LZEyn6TNhoUx"
      }
    },
    {
      "cell_type": "code",
      "source": [
        "data_2561 = pd.read_excel('/content/drive/MyDrive/BSC_DPDM23_Data/Data_Truck-2.xlsx', sheet_name = 2)\n",
        "data_2561.head()"
      ],
      "metadata": {
        "id": "OUG-MW62WQsx"
      },
      "execution_count": null,
      "outputs": []
    },
    {
      "cell_type": "code",
      "source": [
        "#เปลี่ยนชื่อจังหวัดเป็นภาษาอังกฤษ\n",
        "data_truck_61 = data_2561\n",
        "datamain61 = pd.DataFrame(data_truck_61)\n",
        "datamain61['Province'] = datamain61['Province'].apply(lambda x: x.strip())\n",
        "datamain61['Province'] = datamain61['Province'].replace({\n",
        "    'เชียงใหม่': 'Chiang Mai',\n",
        "    'เชียงราย': 'Chiang Rai',\n",
        "    'ลำปาง': 'Lampang',\n",
        "    'ลำพูน': 'Lamphun',\n",
        "    'แม่ฮ่องสอน': 'Mae Hong Son',\n",
        "    'น่าน': 'Nan',\n",
        "    'พะเยา': 'Phayao',\n",
        "    'แพร่': 'Phrae',\n",
        "    'อุตรดิตถ์': 'Uttaradit',\n",
        "    'กาฬสินธุ์': 'Kalasin',\n",
        "    'ขอนแก่น': 'Khon Kaen',\n",
        "    'ชัยภูมิ': 'Chaiyaphum',\n",
        "    'นครพนม': 'Nakhon Phanom',\n",
        "    'นครราชสีมา': 'Nakhon Ratchasima',\n",
        "    'บึงกาฬ': 'Bueng Kan',\n",
        "    'บุรีรัมย์': 'Buriram',\n",
        "    'มหาสารคาม': 'Maha Sarakham',\n",
        "    'มุกดาหาร': 'Mukdahan',\n",
        "    'ยโสธร': 'Yasothon',\n",
        "    'ร้อยเอ็ด': 'Roi Et',\n",
        "    'เลย': 'Loei',\n",
        "    'สกลนคร': 'Sakon Nakhon',\n",
        "    'สุรินทร์': 'Surin',\n",
        "    'ศรีสะเกษ': 'Sisaket',\n",
        "    'หนองคาย': 'Nong Khai',\n",
        "    'หนองบัวลำภู': 'Nong Bua Lamphu',\n",
        "    'อุดรธานี': 'Udon Thani',\n",
        "    'อุบลราชธานี': 'Ubon Ratchathani',\n",
        "    'อำนาจเจริญ': 'Amnat Charoen',\n",
        "    'กรุงเทพมหานคร': 'Bangkok',\n",
        "    'กำแพงเพชร': 'Kamphaeng Phet',\n",
        "    'ชัยนาท': 'Chai Nat',\n",
        "    'นครนายก': 'Nakhon Nayok',\n",
        "    'นครปฐม': 'Nakhon Pathom',\n",
        "    'นครสวรรค์': 'Nakhon Sawan',\n",
        "    'นนทบุรี': 'Nonthaburi',\n",
        "    'ปทุมธานี': 'Pathum Thani',\n",
        "    'พระนครศรีอยุธยา': 'Phra Nakhon Si Ayutthaya',\n",
        "    'พระนครศรี อยุธยา': 'Phra Nakhon Si Ayutthaya',\n",
        "    'พิจิตร': 'Phichit',\n",
        "    'พิษณุโลก': 'Phitsanulok',\n",
        "    'เพชรบูรณ์': 'Phetchabun',\n",
        "    'ลพบุรี': 'Lopburi',\n",
        "    'สมุทรปราการ': 'Samut Prakan',\n",
        "    'สมุทรสงคราม': 'Samut Songkhram',\n",
        "    'สมุทรสาคร': 'Samut Sakhon',\n",
        "    'สิงห์บุรี': 'Sing Buri',\n",
        "    'สุโขทัย': 'Sukhothai',\n",
        "    'สุพรรณบุรี': 'Suphan Buri',\n",
        "    'สระบุรี': 'Saraburi',\n",
        "    'อ่างทอง': 'Ang Thong',\n",
        "    'อุทัยธานี': 'Uthai Thani',\n",
        "    'จันทบุรี': 'Chanthaburi',\n",
        "    'ฉะเชิงเทรา': 'Chachoengsao',\n",
        "    'ชลบุรี': 'Chonburi',\n",
        "    'ตราด': 'Trat',\n",
        "    'ปราจีนบุรี': 'Prachinburi',\n",
        "    'ระยอง': 'Rayong',\n",
        "    'สระแก้ว': 'Sa Kaeo',\n",
        "    'กาญจนบุรี': 'Kanchanaburi',\n",
        "    'ตาก': 'Tak',\n",
        "    'ประจวบคีรีขันธ์': 'Prachuap Khiri Khan',\n",
        "    'เพชรบุรี': 'Phetchaburi',\n",
        "    'ราชบุรี': 'Ratchaburi',\n",
        "    'กระบี่': 'Krabi',\n",
        "    'ชุมพร': 'Chumphon',\n",
        "    'ตรัง': 'Trang',\n",
        "    'นครศรีธรรมราช': 'Nakhon Si Thammarat',\n",
        "    'นราธิวาส': 'Narathiwat',\n",
        "    'ปัตตานี': 'Pattani',\n",
        "    'พังงา': 'Phang Nga',\n",
        "    'พัทลุง': 'Phatthalung',\n",
        "    'ภูเก็ต': 'Phuket',\n",
        "    'ระนอง': 'Ranong',\n",
        "    'สตูล': 'Satun',\n",
        "    'สงขลา': 'Songkhla',\n",
        "    'สุราษฎร์ธานี': 'Surat Thani',\n",
        "    'ยะลา': 'Yala'})\n"
      ],
      "metadata": {
        "id": "9Op6wxZ9UjE6"
      },
      "execution_count": null,
      "outputs": []
    },
    {
      "cell_type": "code",
      "source": [
        "data_truck_61"
      ],
      "metadata": {
        "id": "ZG5RCN29sGWB"
      },
      "execution_count": null,
      "outputs": []
    },
    {
      "cell_type": "code",
      "source": [
        "data_truck_61['Party'] = data_truck_61['Party'].astype(str)"
      ],
      "metadata": {
        "id": "gzGFcGbFjQ5P"
      },
      "execution_count": null,
      "outputs": []
    },
    {
      "cell_type": "code",
      "source": [
        "data_truck_611 = data_truck_61\n",
        "datapar61 = pd.DataFrame(data_truck_611)\n",
        "datapar61['Party'] = datapar61['Party'].apply(lambda x: x.strip())\n",
        "datapar61['Party'] = datapar61['Party'].replace({'1':\t'P1',\n",
        "'2':\t'P2',\n",
        "'3':\t'P3',\n",
        "'4':\t'P4',\n",
        "'5':\t'P5',\n",
        "'6':\t'P6',\n",
        "'7':\t'P7',\n",
        "'8':\t'P8',\n",
        "'9':\t'P9',\n",
        "'10':\t'P10',\n",
        "'11':'P11',\n",
        "'12':'P12',\n",
        "'13': 'P13',\n",
        "'14':\t'P14',\n",
        "'15':\t'P15' })"
      ],
      "metadata": {
        "id": "bt537RjO1Vrx"
      },
      "execution_count": null,
      "outputs": []
    },
    {
      "cell_type": "code",
      "source": [
        "data_truck_611.head()"
      ],
      "metadata": {
        "id": "7o8R_q4kjlWb"
      },
      "execution_count": null,
      "outputs": []
    },
    {
      "cell_type": "code",
      "source": [
        "data_truck_611['Cause'] = data_truck_611['Cause'].astype(str)"
      ],
      "metadata": {
        "id": "qqmNyAHSjsV5"
      },
      "execution_count": null,
      "outputs": []
    },
    {
      "cell_type": "code",
      "source": [
        "data_truck_611 = data_truck_61\n",
        "datacause61 = pd.DataFrame(data_truck_611)\n",
        "datacause61['Cause'] = datacause61['Cause'].apply(lambda x: x.strip())\n",
        "datacause61['Cause'] = datacause61['Cause'].replace({'1':\t'C1',\n",
        "'2':\t'C2',\n",
        "'3':\t'C3',\n",
        "'4':\t'C4',\n",
        "'5':\t'C5',\n",
        "'6':\t'C6',\n",
        "'7':\t'C7',\n",
        "'8':\t'C8',\n",
        "'9':\t'C9',\n",
        "'10':\t'C10',\n",
        "'11':'C11',\n",
        "'12':'C12',\n",
        "'13': 'C13',\n",
        "'14':\t'C14',\n",
        "'15':\t'C15'})\n"
      ],
      "metadata": {
        "id": "vbdeOtWPuIIV"
      },
      "execution_count": null,
      "outputs": []
    },
    {
      "cell_type": "code",
      "source": [
        "data_truck_611"
      ],
      "metadata": {
        "id": "351lse37vy11"
      },
      "execution_count": null,
      "outputs": []
    },
    {
      "cell_type": "code",
      "source": [
        "data_truck_611['Main cause of accidents'] = data_truck_611['Main cause of accidents'].astype(str)"
      ],
      "metadata": {
        "id": "jGwZqjlq1non"
      },
      "execution_count": null,
      "outputs": []
    },
    {
      "cell_type": "code",
      "source": [
        "data_truck_611 = data_truck_61\n",
        "datamain61 = pd.DataFrame(data_truck_611)\n",
        "datamain61['Main cause of accidents'] = datamain61['Main cause of accidents'].apply(lambda x: x.strip())\n",
        "datamain61['Main cause of accidents'] = datamain61['Main cause of accidents'].replace({'1':'M1',\n",
        "'2':'M2',\n",
        "'3':'M3',\n",
        "'4':'M4',\n",
        "'5':\t'M5',\n",
        "'6':\t'M6',\n",
        "'7':\t'M7',\n",
        "'8':\t'M8',\n",
        "'9':\t'M9',\n",
        "'10':\t'M10',\n",
        "'11':\t'M11',\n",
        "'12':\t'M12',\n",
        "'13':\t'M13',\n",
        "'14':\t'M14',\n",
        "'15':\t'M15',\n",
        "'16':\t'M16',\n",
        "'17':\t'M17',\n",
        "'18':\t'M18',\n",
        "'19':\t'M19',\n",
        "'20':\t'M20',\n",
        "'21':\t'M21',\n",
        "'22':\t'M22',\n",
        "'23':\t'M23',\n",
        "'24':\t'M24',\n",
        "'25':\t'M25',\n",
        "'26':\t'M26',\n",
        "'27':\t'M27',\n",
        "'28':\t'M28',\n",
        "'29':\t'M29',\n",
        "'30':\t'M30',\n",
        "'31':\t'M31',\n",
        "'32':\t'M32',\n",
        "'33':\t'M33',\n",
        "'34'\t:'M34' })\n"
      ],
      "metadata": {
        "id": "G5mqJtTxkqsm"
      },
      "execution_count": null,
      "outputs": []
    },
    {
      "cell_type": "code",
      "source": [
        "data_truck_611.head()"
      ],
      "metadata": {
        "id": "8uogDUnol-j7"
      },
      "execution_count": null,
      "outputs": []
    },
    {
      "cell_type": "markdown",
      "source": [
        "# Data truck 2562"
      ],
      "metadata": {
        "id": "xSMRc79th-DA"
      }
    },
    {
      "cell_type": "code",
      "source": [
        "data_2562 = pd.read_excel('/content/drive/MyDrive/BSC_DPDM23_Data/Data_Truck-2.xlsx', sheet_name = 3)\n",
        "data_2562.head()"
      ],
      "metadata": {
        "id": "lA3LloUDVplx"
      },
      "execution_count": null,
      "outputs": []
    },
    {
      "cell_type": "code",
      "source": [
        "#เปลี่ยนชื่อจังหวัดเป็นภาษาอังกฤษ\n",
        "data_truck_62 = data_2562\n",
        "data_2562 = pd.DataFrame(data_truck_62)\n",
        "data_2562['Province'] = data_2562['Province'].apply(lambda x: x.strip())\n",
        "data_2562['Province'] = data_2562['Province'].replace({\n",
        "    'เชียงใหม่': 'Chiang Mai',\n",
        "    'เชียงราย': 'Chiang Rai',\n",
        "    'ลำปาง': 'Lampang',\n",
        "    'ลำพูน': 'Lamphun',\n",
        "    'แม่ฮ่องสอน': 'Mae Hong Son',\n",
        "    'น่าน': 'Nan',\n",
        "    'พะเยา': 'Phayao',\n",
        "    'แพร่': 'Phrae',\n",
        "    'อุตรดิตถ์': 'Uttaradit',\n",
        "    'กาฬสินธุ์': 'Kalasin',\n",
        "    'ขอนแก่น': 'Khon Kaen',\n",
        "    'ชัยภูมิ': 'Chaiyaphum',\n",
        "    'นครพนม': 'Nakhon Phanom',\n",
        "    'นครราชสีมา': 'Nakhon Ratchasima',\n",
        "    'บึงกาฬ': 'Bueng Kan',\n",
        "    'บุรีรัมย์': 'Buriram',\n",
        "    'มหาสารคาม': 'Maha Sarakham',\n",
        "    'มุกดาหาร': 'Mukdahan',\n",
        "    'ยโสธร': 'Yasothon',\n",
        "    'ร้อยเอ็ด': 'Roi Et',\n",
        "    'เลย': 'Loei',\n",
        "    'สกลนคร': 'Sakon Nakhon',\n",
        "    'สุรินทร์': 'Surin',\n",
        "    'ศรีสะเกษ': 'Sisaket',\n",
        "    'หนองคาย': 'Nong Khai',\n",
        "    'หนองบัวลำภู': 'Nong Bua Lamphu',\n",
        "    'อุดรธานี': 'Udon Thani',\n",
        "    'อุบลราชธานี': 'Ubon Ratchathani',\n",
        "    'อำนาจเจริญ': 'Amnat Charoen',\n",
        "    'กรุงเทพมหานคร': 'Bangkok',\n",
        "    'กำแพงเพชร': 'Kamphaeng Phet',\n",
        "    'ชัยนาท': 'Chai Nat',\n",
        "    'นครนายก': 'Nakhon Nayok',\n",
        "    'นครปฐม': 'Nakhon Pathom',\n",
        "    'นครสวรรค์': 'Nakhon Sawan',\n",
        "    'นนทบุรี': 'Nonthaburi',\n",
        "    'ปทุมธานี': 'Pathum Thani',\n",
        "    'พระนครศรีอยุธยา': 'Phra Nakhon Si Ayutthaya',\n",
        "    'พระนครศรี อยุธยา': 'Phra Nakhon Si Ayutthaya',\n",
        "    'พิจิตร': 'Phichit',\n",
        "    'พิษณุโลก': 'Phitsanulok',\n",
        "    'เพชรบูรณ์': 'Phetchabun',\n",
        "    'ลพบุรี': 'Lopburi',\n",
        "    'สมุทรปราการ': 'Samut Prakan',\n",
        "    'สมุทรสงคราม': 'Samut Songkhram',\n",
        "    'สมุทรสาคร': 'Samut Sakhon',\n",
        "    'สิงห์บุรี': 'Sing Buri',\n",
        "    'สุโขทัย': 'Sukhothai',\n",
        "    'สุพรรณบุรี': 'Suphan Buri',\n",
        "    'สระบุรี': 'Saraburi',\n",
        "    'อ่างทอง': 'Ang Thong',\n",
        "    'อุทัยธานี': 'Uthai Thani',\n",
        "    'จันทบุรี': 'Chanthaburi',\n",
        "    'ฉะเชิงเทรา': 'Chachoengsao',\n",
        "    'ชลบุรี': 'Chonburi',\n",
        "    'ตราด': 'Trat',\n",
        "    'ปราจีนบุรี': 'Prachinburi',\n",
        "    'ระยอง': 'Rayong',\n",
        "    'สระแก้ว': 'Sa Kaeo',\n",
        "    'กาญจนบุรี': 'Kanchanaburi',\n",
        "    'ตาก': 'Tak',\n",
        "    'ประจวบคีรีขันธ์': 'Prachuap Khiri Khan',\n",
        "    'เพชรบุรี': 'Phetchaburi',\n",
        "    'ราชบุรี': 'Ratchaburi',\n",
        "    'กระบี่': 'Krabi',\n",
        "    'ชุมพร': 'Chumphon',\n",
        "    'ตรัง': 'Trang',\n",
        "    'นครศรีธรรมราช': 'Nakhon Si Thammarat',\n",
        "    'นราธิวาส': 'Narathiwat',\n",
        "    'ปัตตานี': 'Pattani',\n",
        "    'พังงา': 'Phang Nga',\n",
        "    'พัทลุง': 'Phatthalung',\n",
        "    'ภูเก็ต': 'Phuket',\n",
        "    'ระนอง': 'Ranong',\n",
        "    'สตูล': 'Satun',\n",
        "    'สงขลา': 'Songkhla',\n",
        "    'สุราษฎร์ธานี': 'Surat Thani',\n",
        "    'ยะลา': 'Yala'})\n"
      ],
      "metadata": {
        "id": "uIKvwPLpMBel"
      },
      "execution_count": null,
      "outputs": []
    },
    {
      "cell_type": "code",
      "source": [
        "data_truck_62.head()"
      ],
      "metadata": {
        "id": "-K_mTGoQMBbI"
      },
      "execution_count": null,
      "outputs": []
    },
    {
      "cell_type": "code",
      "source": [
        "#เปลี่ยนสาเหตุเป็นตัวเลขที่กำหนดไว้\n",
        "data_truck_622 = data_truck_62\n",
        "datamain_62 = pd.DataFrame(data_truck_622)\n",
        "datamain_62['Main cause of accidents'] = datamain_62['Main cause of accidents'].apply(lambda x: x.strip())\n",
        "datamain_62['Main cause of accidents'] = datamain_62['Main cause of accidents'].replace({'ขับรถเร็ว':'M1',\n",
        "'ขับรถตัดหน้าในระยะกระชั้นชิด':'M2',\n",
        "'ขับตามหลังในระยะกระชั้นชิด':'M3',\n",
        "'หลับใน':'M4',\n",
        "' หลับใน':'M4',\n",
        "'ขับแซงอย่างผิดกฎหมาย/แซงในที่คับขัน':\t'M5',\n",
        "'ไม่ชำนาญเส้นทาง':\t'M6',\n",
        "'ขาดทักษะที่ถูกต้องในการขับรถ':\t'M7',\n",
        "'ขับล้ำเข้าไปในช่องทางจราจรอื่น':\t'M8',\n",
        "'ขับล้ำเข้าไปในช่องทางฝั่งตรงข้าม':\t'M9',\n",
        "'ฝ่าฝืนเครื่องหมาย/สัญญาณจราจร':\t'M10',\n",
        "'เปลี่ยนช่องทางกระทันหัน':\t'M11',\n",
        "'เมาสุรา':\t'M12',\n",
        "'ใช้สารเสพติดออกฤทธิ์ต่อจิตประสาท':\t'M13',\n",
        "'ขาดสมาธิขณะขับรถ':\t'M14',\n",
        "'ขับย้อนศร':\t'M15',\n",
        "'จอดรถไหล่ทาง':\t'M16',\n",
        "'จอดในที่ห้ามจอด/จอดไหล่ทางล้ำ/จอดไม่ให้เครื่องหมายหรือสัญญาณ':\t'M17',\n",
        "'ทำกิจกรรมอื่นในขณะขับรถ (ก้มหยิบของ,โทรศัพท์)':\t'M18',\n",
        "'สภาพยางชำรุด':\t'M19',\n",
        "'ระบบเบรกชำรุด':\t'M20',\n",
        "'ระบบคันส่งคันชักชำรุด':\t'M21',\n",
        "'ระบบล้อและเพลาชำรุด':\t'M22',\n",
        "'ระบบไฟฟ้าชำรุด':\t'M23',\n",
        "'ระบบพวงมาลัยชำรุด':\t'M24',\n",
        "'อุปกรณ์ส่วนควบอื่นๆชำรุด':\t'M25',\n",
        "'สภาพถนนชำรุด':\t'M26',\n",
        "'ฝนตกถนนลื่น':\t'M27',\n",
        "'ถนนไม่มีไฟฟ้าแสงสว่าง':\t'M28',\n",
        "'ถนนมีสิ่งกีดขวางจราจร':\t'M29',\n",
        "'ประมาทร่วม':\t'M30',\n",
        "'รถอีกคันกระเด็นมาถูกโดยบังเอิญ':\t'M31',\n",
        "'ปัญหาสุขภาพผู้ขับรถ':\t'M32',\n",
        "'ไม่ระบุ':\t'M33',\n",
        "'คนเดินตัดหน้ารถ'\t:'M34' })"
      ],
      "metadata": {
        "id": "cHW6hOsbiS6l"
      },
      "execution_count": null,
      "outputs": []
    },
    {
      "cell_type": "code",
      "source": [
        "data_truck_622.head()"
      ],
      "metadata": {
        "id": "Z16vYx7MiS3M"
      },
      "execution_count": null,
      "outputs": []
    },
    {
      "cell_type": "code",
      "source": [
        "# เปลี่ยนตัวแปรคู่กรณี (Party) เป็นตัวเลขที่กำหนดไว้\n",
        "data_truck_6222 = data_truck_622\n",
        "datapar62 = pd.DataFrame(data_truck_6222)\n",
        "datapar62['Party'] = datapar62['Party'].apply(lambda x: x.strip())\n",
        "datapar62['Party'] = datapar62['Party'].replace({'รถยนต์บรรทุกส่วนบุคคล (ปิคอัพ)':\t'P1',\n",
        "'รถยนต์นั่งส่วนบุคคลไม่เกิน7คน':\t'P2',\n",
        "'รถยนต์นั่งส่วนบุคคลเกิน7คน':\t'P3',\n",
        "'รถบรรทุก':\t'P4',\n",
        "'รถโดยสาร':\t'P5',\n",
        "'รถจักรยานยนต์':\t'P6',\n",
        "'รถจักรยาน':\t'P7',\n",
        "'รถอื่นๆ':\t'P8',\n",
        "'คู่กรณีมากกว่า 1 คัน':\t'P9',\n",
        "'เสาไฟฟ้า':\t'P10',\n",
        "'ป้าย':'P11',\n",
        "'ต้นไม้':'P12',\n",
        "'ไม่มีคู่กรณี': 'P13',\n",
        "'คนเดินเท้า':\t'P14',\n",
        "'ไม่ระบุ':\t'P15' })"
      ],
      "metadata": {
        "id": "1lODdP_hiS1L"
      },
      "execution_count": null,
      "outputs": []
    },
    {
      "cell_type": "code",
      "source": [
        "data_truck_6222.head()"
      ],
      "metadata": {
        "id": "TJQErTyWKZDY"
      },
      "execution_count": null,
      "outputs": []
    },
    {
      "cell_type": "code",
      "source": [
        "data_truck_62222 = data_truck_6222\n",
        "datacause_62 = pd.DataFrame(data_truck_62222)\n",
        "datacause_62['Cause'] = datacause_62['Cause'].apply(lambda x: x.strip())\n",
        "datacause_62['Cause'] = datacause_62['Cause'].replace({'รถยนต์บรรทุกส่วนบุคคล (ปิคอัพ)':\t'C1',\n",
        "'รถยนต์นั่งส่วนบุคคลไม่เกิน7คน':\t'C2',\n",
        "'รถยนต์นั่งส่วนบุคคลเกิน7คน':\t'C3',\n",
        "'รถบรรทุก':\t'C4',\n",
        "'รถโดยสาร':\t'C5',\n",
        "'รถจักรยานยนต์':\t'C6',\n",
        "'รถจักรยาน':\t'C7',\n",
        "'รถอื่นๆ':\t'C8',\n",
        "'คู่กรณีมากกว่า 1 คัน':\t'C9',\n",
        "'เสาไฟฟ้า':\t'C10',\n",
        "'ป้าย':'C11',\n",
        "'ต้นไม้':'C12',\n",
        "'ไม่มีคู่กรณี': 'C13',\n",
        "'คนเดินเท้า':\t'C14',\n",
        "'ไม่ระบุ':\t'C15'})"
      ],
      "metadata": {
        "id": "211B0eRTKZAB"
      },
      "execution_count": null,
      "outputs": []
    },
    {
      "cell_type": "code",
      "source": [
        "data_truck_62222.head()"
      ],
      "metadata": {
        "id": "ljcCMY8sKY9c"
      },
      "execution_count": null,
      "outputs": []
    },
    {
      "cell_type": "markdown",
      "source": [
        "## เปลี่ยนช่วงเวลาdata truck 2560\n",
        "\n",
        "---\n",
        "\n"
      ],
      "metadata": {
        "id": "ml8nxZbHmLTH"
      }
    },
    {
      "cell_type": "code",
      "source": [
        "k=[]\n",
        "L=[]\n",
        "for i in range(len(data_truck_60000)):\n",
        "  if type(data_truck_60000['Time'][i])==str:\n",
        "    k.append(i)\n",
        "  else:\n",
        "    L.append(i)"
      ],
      "metadata": {
        "id": "4wgGqZS9KY7W"
      },
      "execution_count": null,
      "outputs": []
    },
    {
      "cell_type": "code",
      "source": [
        "data_truck_60000['Time'][476]"
      ],
      "metadata": {
        "id": "9p1kYCPx3ySE"
      },
      "execution_count": null,
      "outputs": []
    },
    {
      "cell_type": "code",
      "source": [
        "data_truck_60000=data_truck_60000.replace(data_truck_60000.iloc[476,1],np.nan)"
      ],
      "metadata": {
        "id": "sHQ-ejP2ma4c"
      },
      "execution_count": null,
      "outputs": []
    },
    {
      "cell_type": "code",
      "source": [
        "data_truck_60000.iloc[476,1]"
      ],
      "metadata": {
        "id": "pdUn4coemgLv"
      },
      "execution_count": null,
      "outputs": []
    },
    {
      "cell_type": "code",
      "source": [
        "import datetime\n",
        "data_truck_60000.replace(data_truck_60000.iloc[476,1],np.nan)\n",
        "def time_in_range(start, end, x):\n",
        "    if start <= end:\n",
        "        return start <= x <= end\n",
        "    else:\n",
        "        return start <= x or x <= end\n",
        "\n",
        "#data_truck_60['Time'] = pd.to_datetime(data_truck_60['Time'], format='%I:%M:%S' or '%I:%M:%S %p', errors='coerce').dt.time\n",
        "time_labels = []\n",
        "how = []\n",
        "\n",
        "start_1 = datetime.time(16, 1, 0)\n",
        "end_1 = datetime.time(20, 0, 59)\n",
        "\n",
        "start_2 = datetime.time(20, 1, 0)\n",
        "end_2 = datetime.time(0, 0, 59)\n",
        "\n",
        "start_3 = datetime.time(0, 1, 0)\n",
        "end_3 = datetime.time(4, 0, 59)\n",
        "\n",
        "start_4 = datetime.time(4, 1, 0)\n",
        "end_4 = datetime.time(8, 0, 59)\n",
        "\n",
        "start_5 = datetime.time(8, 1, 0)\n",
        "end_5 = datetime.time(12, 0, 59)\n",
        "\n",
        "start_6 = datetime.time(12, 1, 0)\n",
        "end_6 = datetime.time(16, 0, 0)\n",
        "\n",
        "filtered_data = data_truck_60.dropna(subset=['Time'])\n",
        "\n",
        "for i in range(len(filtered_data['Time'])):\n",
        "    if time_in_range(start_1, end_1, filtered_data['Time'].iloc[i])== True:\n",
        "        time_labels.append(1)\n",
        "    elif time_in_range(start_2, end_2, filtered_data['Time'].iloc[i])== True:\n",
        "        time_labels.append(2)\n",
        "    elif time_in_range(start_3, end_3, filtered_data['Time'].iloc[i])== True:\n",
        "        time_labels.append(3)\n",
        "    elif time_in_range(start_4, end_4, filtered_data['Time'].iloc[i])== True:\n",
        "        time_labels.append(4)\n",
        "    elif time_in_range(start_5, end_5, filtered_data['Time'].iloc[i])== True:\n",
        "        time_labels.append(5)\n",
        "    elif time_in_range(start_6, end_6, filtered_data['Time'].iloc[i])== True:\n",
        "        time_labels.append(6)\n",
        "    else:\n",
        "        how.append(i)\n",
        "\n",
        "print(time_labels)"
      ],
      "metadata": {
        "id": "3yua_4bAmo3J"
      },
      "execution_count": null,
      "outputs": []
    },
    {
      "cell_type": "code",
      "source": [
        "time_labels = pd.DataFrame({\n",
        "    'Time': [5, 4, 4, 3, 5, 4, 4, 5, 3, 4, 3, 5, 4, 3, 4, 4, 4, 4, 4, 5, 3, 5, 4, 3, 3, 5, 4, 4, 4, 5, 5, 5, 5, 2, 2, 5, 4, 3, 4, 4, 4, 3, 4, 4, 4, 5, 5, 4, 5, 4, 5, 3, 5, 4, 4, 2, 4, 4, 2, 5, 5, 3, 4, 4, 3, 5, 4, 5, 4, 5, 4, 4, 5, 5, 3, 5, 5, 4, 5, 5, 5, 5, 5, 5, 3, 5, 5, 5, 3, 5, 3, 4, 4, 5, 3, 5, 4, 5, 5, 3, 4, 5, 4, 3, 4, 3, 4, 4, 3, 5, 5, 3, 5, 3, 5, 4, 4, 2, 4, 4, 4, 4, 2, 5, 4, 4, 3, 3, 5, 4, 5, 3, 4, 5, 5, 3, 4, 5, 4, 2, 5, 4, 3, 5, 4, 5, 3, 4, 4, 4, 4, 4, 4, 4, 3, 4, 4, 5, 4, 4, 4, 4, 4, 2, 4, 5, 5, 3, 3, 4, 4, 4, 3, 4, 4, 4, 4, 3, 4, 5, 3, 3, 4, 5, 3, 4, 4, 4, 2, 4, 4, 3, 3, 5, 5, 5, 4, 5, 3, 3, 3, 4, 5, 4, 3, 4, 3, 2, 4, 5, 4, 4, 3, 5, 3, 3, 3, 5, 3, 4, 4, 3, 4, 4, 5, 3, 5, 5, 3, 3, 4, 2, 4, 5, 5, 3, 3, 5, 4, 4, 4, 5, 3, 4, 4, 4, 5, 5, 4, 5, 4, 4, 4, 5, 5, 4, 3, 4, 3, 4, 4, 5, 5, 3, 3, 4, 3, 4, 5, 3, 3, 4, 4, 4, 5, 3, 2, 5, 4, 5, 5, 3, 5, 4, 4, 3, 3, 5, 4, 3, 4, 5, 3, 3, 4, 5, 4, 5, 3, 4, 4, 3, 5, 5, 5, 5, 3, 3, 3, 4, 5, 4, 5, 4, 4, 5, 5, 3, 3, 3, 3, 4, 5, 5, 3, 4, 5, 4, 3, 5, 3, 3, 4, 4, 3, 4, 3, 3, 3, 4, 4, 3, 3, 5, 4, 5, 3, 5, 4, 5, 2, 4, 4, 5, 2, 3, 4, 3, 4, 5, 3, 4, 4, 5, 5, 4, 3, 4, 5, 3, 4, 3, 4, 4, 3, 3, 4, 4, 5, 4, 4, 5, 4, 3, 4, 5, 3, 5, 3, 4, 3, 3, 3, 4, 4, 4, 4, 5, 4, 4, 3, 3, 4, 4, 5, 4, 5, 5, 3, 4, 4, 3, 4, 5, 4, 4, 4, 4, 5, 4, 4, 5, 5, 4, 4, 5, 3, 3, 3, 3, 4, 4, 4, 4, 3, 5, 5, 3, 4, 4, 5, 3, 5, 5, 4, 5, 3, 3, 4, 4, 4, 5, 5, 5, 4, 4, 4, 5, 5, 3, 3, 5, 5, 5, 4, 5, 5, 4, 5, 4, 4, 2, 3, 4, 5, 5],})"
      ],
      "metadata": {
        "id": "_fa662X2mozx"
      },
      "execution_count": null,
      "outputs": []
    },
    {
      "cell_type": "code",
      "source": [
        "data_truck_60000['Time'] = time_labels\n",
        "print(data_truck_60000)"
      ],
      "metadata": {
        "id": "DA7LsHKCngyx"
      },
      "execution_count": null,
      "outputs": []
    },
    {
      "cell_type": "code",
      "source": [
        "data_truck_60000"
      ],
      "metadata": {
        "id": "xwDVWSDj6XUO"
      },
      "execution_count": null,
      "outputs": []
    },
    {
      "cell_type": "code",
      "source": [
        "data_truck_60000.replace({np.nan: '-'}, inplace=True)\n",
        "print(data_truck_60000)"
      ],
      "metadata": {
        "id": "9TQiql7g8uDr"
      },
      "execution_count": null,
      "outputs": []
    },
    {
      "cell_type": "code",
      "source": [
        "# ลบจุดทศนิยม\n",
        "data_truck_60000['Time'] = data_truck_60000['Time'].astype(str)\n",
        "data_truck_60000['Time'] = data_truck_60000['Time'].apply(lambda x: x.strip(\"0. \"))"
      ],
      "metadata": {
        "id": "DOmp1SXm8ZX7"
      },
      "execution_count": null,
      "outputs": []
    },
    {
      "cell_type": "code",
      "source": [
        "data_truck_60000"
      ],
      "metadata": {
        "id": "moCfZs778qXl"
      },
      "execution_count": null,
      "outputs": []
    },
    {
      "cell_type": "code",
      "source": [
        "# เปลี่ยนเวลาจากตัวเลขให้เป็นช่วง\n",
        "\n",
        "data_truck_600001 = data_truck_60000\n",
        "data_truck_60000 = pd.DataFrame(data_truck_600001)\n",
        "data_truck_60000['Time'] = data_truck_60000['Time'].apply(lambda x: x.strip())\n",
        "data_truck_60000['Time'] = data_truck_60000['Time'].replace({'1': '16.01 - 20.00',\n",
        "'2':'20.01 - 00.00',\n",
        "'3':'00.01 - 04.00',\n",
        "'4': '04.01 - 08.00 ',\n",
        "'5': '08.01 - 12.00',\n",
        "'6':'12.01 - 16.00'})"
      ],
      "metadata": {
        "id": "Im-46dEE6oy5"
      },
      "execution_count": null,
      "outputs": []
    },
    {
      "cell_type": "code",
      "source": [
        "data_truck_600001.head()"
      ],
      "metadata": {
        "id": "2YHNgeHt95DO"
      },
      "execution_count": null,
      "outputs": []
    },
    {
      "cell_type": "markdown",
      "source": [
        "## เปลี่ยนช่วงเวลา 2561"
      ],
      "metadata": {
        "id": "8GMhp1xUyQeK"
      }
    },
    {
      "cell_type": "code",
      "source": [
        "data_truck_611.head()"
      ],
      "metadata": {
        "id": "aGX8phJTy3VK"
      },
      "execution_count": null,
      "outputs": []
    },
    {
      "cell_type": "code",
      "source": [
        "# ลบจุดทศนิยม\n",
        "data_truck_611['Time'] = data_truck_611['Time'].astype(str)\n",
        "data_truck_611['Time'] = data_truck_611['Time'].apply(lambda x: x.strip(\"0. \"))"
      ],
      "metadata": {
        "id": "gSGhML4Zy5pK"
      },
      "execution_count": null,
      "outputs": []
    },
    {
      "cell_type": "code",
      "source": [
        "data_truck_6111 = data_truck_611\n",
        "data_truck_611 = pd.DataFrame(data_truck_6111)\n",
        "data_truck_611['Time'] = data_truck_611['Time'].apply(lambda x: x.strip())\n",
        "data_truck_611['Time'] = data_truck_611['Time'].replace({'1': '16.01 - 20.00',\n",
        "'2':'20.01 - 00.00',\n",
        "'3':'00.01 - 04.00',\n",
        "'4': '04.01 - 08.00 ',\n",
        "'5': '08.01 - 12.00',\n",
        "'6':'12.01 - 16.00'})"
      ],
      "metadata": {
        "id": "m_J4PKUWydS0"
      },
      "execution_count": null,
      "outputs": []
    },
    {
      "cell_type": "code",
      "source": [
        "data_truck_6111.head()"
      ],
      "metadata": {
        "id": "7VSzKaulzCsm"
      },
      "execution_count": null,
      "outputs": []
    },
    {
      "cell_type": "markdown",
      "source": [
        "## เปลี่ยนช่วงเวลา data truck 2562"
      ],
      "metadata": {
        "id": "1-435bD8n144"
      }
    },
    {
      "cell_type": "code",
      "source": [
        "k=[]\n",
        "L=[]\n",
        "for i in range(len(data_truck_62222)):\n",
        "  if type(data_truck_62222['Time'][i])==str:\n",
        "    k.append(i)\n",
        "  else:\n",
        "    L.append(i)"
      ],
      "metadata": {
        "id": "G9i_13dyngvW"
      },
      "execution_count": null,
      "outputs": []
    },
    {
      "cell_type": "code",
      "source": [
        "import datetime\n",
        "\n",
        "def time_in_range(start, end, x):\n",
        "    if start <= end:\n",
        "        return start <= x <= end\n",
        "    else:\n",
        "        return start <= x or x <= end\n",
        "time_labels = []\n",
        "how = []\n",
        "data_truck_62222['Time'] = pd.to_datetime(data_truck_62222['Time'], format='%I:%M:%S' or '%I:%M:%S %p', errors='coerce').dt.time\n",
        "\n",
        "\n",
        "start_1 = datetime.time(16, 1, 0)\n",
        "end_1 = datetime.time(20, 0, 59)\n",
        "\n",
        "start_2 = datetime.time(20, 1, 0)\n",
        "end_2 = datetime.time(0, 0, 59)\n",
        "\n",
        "start_3 = datetime.time(0, 1, 0)\n",
        "end_3 = datetime.time(4, 0, 59)\n",
        "\n",
        "start_4 = datetime.time(4, 1, 0)\n",
        "end_4 = datetime.time(8, 0, 59)\n",
        "\n",
        "start_5 = datetime.time(8, 1, 0)\n",
        "end_5 = datetime.time(12, 0, 59)\n",
        "\n",
        "start_6 = datetime.time(12, 1, 0)\n",
        "end_6 = datetime.time(16, 0, 0)\n",
        "filtered_data = data_truck_62.dropna(subset=['Time'])\n",
        "\n",
        "for i in range(len(filtered_data['Time'])):\n",
        "    if time_in_range(start_1, end_1, filtered_data['Time'].iloc[i])== True:\n",
        "        time_labels.append(1)\n",
        "    elif time_in_range(start_2, end_2, filtered_data['Time'].iloc[i])== True:\n",
        "        time_labels.append(2)\n",
        "    elif time_in_range(start_3, end_3, filtered_data['Time'].iloc[i])== True:\n",
        "        time_labels.append(3)\n",
        "    elif time_in_range(start_4, end_4, filtered_data['Time'].iloc[i])== True:\n",
        "        time_labels.append(4)\n",
        "    elif time_in_range(start_5, end_5, filtered_data['Time'].iloc[i])== True:\n",
        "        time_labels.append(5)\n",
        "    elif time_in_range(start_6, end_6, filtered_data['Time'].iloc[i])== True:\n",
        "        time_labels.append(6)\n",
        "    else:\n",
        "        how.append(i)\n",
        "\n",
        "# Print the time labels for verification\n",
        "print(time_labels)"
      ],
      "metadata": {
        "id": "1kJ6t5yFEJb1"
      },
      "execution_count": null,
      "outputs": []
    },
    {
      "cell_type": "code",
      "source": [
        "time_labels2 = pd.DataFrame({\n",
        "    'Time': [3, 4, 6, 6, 1, 5, 2, 3, 1, 3, 5, 5, 6, 5, 6, 3, 4, 5, 4, 5, 3, 4, 5, 6, 1, 2, 3, 5, 6, 1, 1, 2, 3, 4, 4, 5, 3, 3, 5, 4, 2, 3, 4, 5, 2, 4, 4, 5, 6, 3, 3, 4, 6, 6, 6, 4, 3, 1, 1, 1, 1, 2, 4, 4, 2, 3, 5, 1, 5, 5, 5, 1, 1, 4, 5, 2, 2, 6, 1, 2, 4, 6, 1, 2, 4, 3, 6, 2, 2, 3, 4, 4, 3, 3, 5, 6, 4, 2, 4, 5, 3, 4, 2, 3, 5, 1, 6, 3, 3, 6, 1, 1, 4, 5, 6, 3, 4, 2, 2, 2, 3, 3, 2, 3, 4, 6, 3, 4, 6, 1, 3, 4, 4, 5, 6, 1, 5, 6, 1, 3, 4, 4, 4, 1, 1, 4, 4, 1, 6, 1, 5, 2, 2, 2, 3, 3, 6, 5, 5, 6, 3, 3, 5, 3, 1, 2, 1, 3, 3, 4, 4, 4, 1, 3, 4, 3, 3, 4, 3, 5, 3, 3, 6, 2, 5, 5, 5, 6, 4, 4, 5, 6, 4, 5, 6, 3, 4, 4, 5, 4, 1, 3, 3, 1, 6, 6, 2, 4, 5, 6, 5, 6, 6, 2, 4, 2, 4, 4, 6, 1, 6, 2, 2, 1, 3, 3, 4, 5, 5, 2, 2, 3, 3, 3, 4, 5, 1, 1, 1, 2, 4, 5, 5, 1, 2, 2, 3, 3, 2, 6, 5, 5, 2, 4, 5, 1, 4, 4, 4, 4, 4, 5, 3, 6, 6, 4, 6, 6, 3, 6, 1, 5, 6, 6, 4, 4, 4, 4, 5, 2, 2, 5, 6, 4, 6, 4, 3, 3, 6, 5, 6, 3, 4, 4, 4, 3, 5, 3, 4, 4, 6, 4, 5, 1, 3, 4, 2, 5, 4, 6, 4, 5, 2, 3, 3, 4, 6, 1, 5, 1, 1, 3, 4, 1, 6, 5, 5, 3, 5, 1, 1, 1, 2, 2, 4, 1, 1, 2, 6, 3, 5, 1, 5, 1, 3, 4, 5, 1, 4, 5, 5, 4, 4, 5, 5, 6, 4, 5, 3, 4, 4, 5, 6, 2, 3, 5, 1, 2, 2, 1, 2, 2, 4, 5, 5, 6, 6, 2, 5, 2, 1, 5, 3, 3, 2, 4, 5, 6, 6, 2, 3, 6, 1, 4, 4, 6, 4, 2, 5, 1, 6, 3, 5, 4, 2, 2, 6, 3, 6, 2, 1, 4, 5, 6, 4, 5, 4, 5, 3, 5, 6, 1, 1, 6, 2, 3, 5, 6, 6, 6, 3, 3, 4, 5, 3, 4, 5, 6, 6, 6, 4, 2, 4, 4, 3, 4, 1, 3, 6, 1, 2, 6, 2, 3, 5, 6, 5, 4, 4, 4, 4, 4, 1, 6, 3, 3, 6, 1, 4, 5, 2, 3, 2, 6, 1, 3, 4, 6, 5, 6, 2, 3, 4, 5, 2, 5, 1, 2, 6, 3, 2, 3, 3, 1, 5, 1, 3, 5, 6, 4, 4, 4, 4, 3, 2, 4, 2, 3, 4, 5, 1, 2, 1, 6, 2, 3, 6, 4, 5, 4, 3, 4, 2, 3, 4, 6, 3, 4, 1, 3, 3, 6, 1, 2, 2, 4, 6, 4, 2, 3, 4, 6, 4, 1, 5, 4, 4, 4, 1, 2, 4, 5, 2, 3, 4, 6, 1, 5, 5, 5, 6, 2, 4, 4, 5, 3, 2, 4, 5, 4, 5, 4, 1, 2, 4, 5, 1, 4, 4, 6, 1, 1, 2, 2, 2, 1, 4, 5, 3, 4, 1, 5, 6, 3, 2, 3, 1, 4, 6, 1, 1, 1, 5, 6, 5, 3, 3, 5, 6, 1, 4, 4, 1, 2, 2, 3, 4, 1, 3, 4, 3, 4, 5, 5, 6, 1, 2, 2, 5, 5, 1, 2, 2, 4, 5, 3, 5, 3, 4, 3, 5, 4, 5, 1, 4, 4, 6, 4, 2, 2, 6, 1, 3, 5, 2, 3, 3, 6, 2, 3, 6, 2, 3, 4, 3, 1, 3, 3, 6, 2, 2, 4, 2, 6, 3, 1, 1, 4, 4, 4, 6, 6, 6, 4, 5, 1, 1, 5, 5, 1],})"
      ],
      "metadata": {
        "id": "JbD4H45p309g"
      },
      "execution_count": null,
      "outputs": []
    },
    {
      "cell_type": "code",
      "source": [
        "data_truck_62222['Time'] = time_labels2\n",
        "print(data_truck_62222)"
      ],
      "metadata": {
        "id": "2PwPbjixsGT8"
      },
      "execution_count": null,
      "outputs": []
    },
    {
      "cell_type": "code",
      "source": [
        "# ลบจุดทศนิยม\n",
        "data_truck_62222['Time'] = data_truck_62222['Time'].astype(str)\n",
        "data_truck_62222['Time'] = data_truck_62222['Time'].apply(lambda x: x.strip(\"0. \"))"
      ],
      "metadata": {
        "id": "yKwz_Hal-l1i"
      },
      "execution_count": null,
      "outputs": []
    },
    {
      "cell_type": "code",
      "source": [
        "data_truck_62222"
      ],
      "metadata": {
        "id": "KivdsA2untdv"
      },
      "execution_count": null,
      "outputs": []
    },
    {
      "cell_type": "code",
      "source": [
        "data_truck_62222 = data_truck_62222\n",
        "data_truck_62222 = pd.DataFrame(data_truck_62222)\n",
        "data_truck_62222['Time'] = data_truck_62222['Time'].apply(lambda x: x.strip())\n",
        "data_truck_62222['Time'] = data_truck_62222['Time'].replace({'1': '16.01 - 20.00',\n",
        "'2':'20.01 - 00.00',\n",
        "'3':'00.01 - 04.00',\n",
        "'4': '04.01 - 08.00 ',\n",
        "'5': '08.01 - 12.00',\n",
        "'6':'12.01 - 16.00'})"
      ],
      "metadata": {
        "id": "NPSh9hYj-mPo"
      },
      "execution_count": null,
      "outputs": []
    },
    {
      "cell_type": "code",
      "source": [
        "data_truck_62222.head()"
      ],
      "metadata": {
        "id": "KGMY0HsM_WpD"
      },
      "execution_count": null,
      "outputs": []
    },
    {
      "cell_type": "code",
      "source": [],
      "metadata": {
        "id": "WpX9gFG9_vip"
      },
      "execution_count": null,
      "outputs": []
    },
    {
      "cell_type": "markdown",
      "source": [
        "# Data ที่ได้"
      ],
      "metadata": {
        "id": "JbKR65AnptTr"
      }
    },
    {
      "cell_type": "markdown",
      "source": [
        "### Data truck 2560"
      ],
      "metadata": {
        "id": "LMSqD6R5p2zd"
      }
    },
    {
      "cell_type": "code",
      "source": [
        "data_truck_600001.head()"
      ],
      "metadata": {
        "id": "kNwOaj3OXe_J"
      },
      "execution_count": null,
      "outputs": []
    },
    {
      "cell_type": "markdown",
      "source": [
        "### Data truck 2561"
      ],
      "metadata": {
        "id": "BZOr9s5mqB83"
      }
    },
    {
      "cell_type": "code",
      "source": [
        "data_truck_6111.head()"
      ],
      "metadata": {
        "id": "3keXlDnRpz0Q"
      },
      "execution_count": null,
      "outputs": []
    },
    {
      "cell_type": "markdown",
      "source": [
        "### Data truck 2562"
      ],
      "metadata": {
        "id": "JN-cG9XbrxSU"
      }
    },
    {
      "cell_type": "code",
      "source": [
        "data_truck_62222.head()"
      ],
      "metadata": {
        "id": "lC6azt6YpzxC"
      },
      "execution_count": null,
      "outputs": []
    },
    {
      "cell_type": "code",
      "source": [
        "data_truck_62222['Cause']"
      ],
      "metadata": {
        "id": "IPTIWwL6jPks"
      },
      "execution_count": null,
      "outputs": []
    },
    {
      "cell_type": "markdown",
      "source": [
        "# Check Missing values"
      ],
      "metadata": {
        "id": "TTGt9OYU1ONr"
      }
    },
    {
      "cell_type": "code",
      "source": [
        "data_truck_60000.isnull().any()"
      ],
      "metadata": {
        "id": "5t1pOiT7Xe7y"
      },
      "execution_count": null,
      "outputs": []
    },
    {
      "cell_type": "code",
      "source": [
        "data_truck_61.isnull().any()"
      ],
      "metadata": {
        "id": "I7QnH1B5VdkX"
      },
      "execution_count": null,
      "outputs": []
    },
    {
      "cell_type": "code",
      "source": [
        "data_truck_62222.isnull().any()"
      ],
      "metadata": {
        "id": "6RTNhPJlVdho"
      },
      "execution_count": null,
      "outputs": []
    },
    {
      "cell_type": "markdown",
      "source": [
        "# Concat Data"
      ],
      "metadata": {
        "id": "BxWqPVXQTYSC"
      }
    },
    {
      "cell_type": "code",
      "source": [
        "data_concat = pd.concat([data_truck_600001,data_truck_6111,data_truck_62222])\n",
        "data_concat"
      ],
      "metadata": {
        "id": "IBaox6hXH29b"
      },
      "execution_count": null,
      "outputs": []
    },
    {
      "cell_type": "code",
      "source": [
        "data_concat.info()"
      ],
      "metadata": {
        "id": "2Db1u9qj3f4W"
      },
      "execution_count": null,
      "outputs": []
    },
    {
      "cell_type": "code",
      "source": [
        "set(data_concat['Party']) #Check เฉยๆ"
      ],
      "metadata": {
        "id": "UkqCNH5P3KnH"
      },
      "execution_count": null,
      "outputs": []
    },
    {
      "cell_type": "code",
      "source": [
        "data_concat[(data_concat['Cause'] == 'C4' ) | (data_concat['Party'] == 'P4')]   #Check จำนวนดูเฉยๆ"
      ],
      "metadata": {
        "id": "bae2Nvf73stF"
      },
      "execution_count": null,
      "outputs": []
    },
    {
      "cell_type": "markdown",
      "source": [
        "#G เตรียมทำ Association"
      ],
      "metadata": {
        "id": "sPQXLSj6GrKb"
      }
    },
    {
      "cell_type": "code",
      "source": [
        "test_df = data_concat.copy() # copy ตารางข้างบนมา"
      ],
      "metadata": {
        "id": "qNBAUidXAO4R"
      },
      "execution_count": null,
      "outputs": []
    },
    {
      "cell_type": "code",
      "source": [
        "test_df['for_association'] = test_df[['Party','Cause']].apply(list, axis=1) #รวมให้ party & cause"
      ],
      "metadata": {
        "id": "TFdXJ04YAOyq"
      },
      "execution_count": null,
      "outputs": []
    },
    {
      "cell_type": "code",
      "source": [
        "test_df.head()"
      ],
      "metadata": {
        "id": "b8ro9E6u8cWI"
      },
      "execution_count": null,
      "outputs": []
    },
    {
      "cell_type": "code",
      "source": [
        "test_split = test_df.copy()   # เอาไว้ทำในช่วงเทศกาลสงกรานต์"
      ],
      "metadata": {
        "id": "bb8puYdy1kx6"
      },
      "execution_count": null,
      "outputs": []
    },
    {
      "cell_type": "code",
      "source": [
        "test_split.head()"
      ],
      "metadata": {
        "id": "KV8DLUSJ10YR"
      },
      "execution_count": null,
      "outputs": []
    },
    {
      "cell_type": "code",
      "source": [
        "test_split[['day', 'month', 'year']] = test_split['Date'].str.split('/', n=2, expand = True)  #แยกคอลัมน์ วันเดือนปีออกไว้ก่อน"
      ],
      "metadata": {
        "id": "oyvaeuTKDKS2"
      },
      "execution_count": null,
      "outputs": []
    },
    {
      "cell_type": "code",
      "source": [
        "test_split"
      ],
      "metadata": {
        "id": "YRnvWmBpFeIZ"
      },
      "execution_count": null,
      "outputs": []
    },
    {
      "cell_type": "code",
      "source": [
        "test_split.isnull().any()"
      ],
      "metadata": {
        "id": "CacXf5cj5tTp"
      },
      "execution_count": null,
      "outputs": []
    },
    {
      "cell_type": "markdown",
      "source": [
        "# ทำเป็นตารางเอาเฉพาะคอลัมน์ที่ต้องการมา"
      ],
      "metadata": {
        "id": "gWMrN5LMLuXW"
      }
    },
    {
      "cell_type": "code",
      "source": [
        "data_as1 = test_split[['Date','Time','Province','Loss','Party','Cause','Main cause of accidents']].replace(0,np.nan)"
      ],
      "metadata": {
        "id": "G5mrN8tXOJDY"
      },
      "execution_count": null,
      "outputs": []
    },
    {
      "cell_type": "code",
      "source": [
        "data_as1.head()"
      ],
      "metadata": {
        "id": "MAOIBtNEO4hv"
      },
      "execution_count": null,
      "outputs": []
    },
    {
      "cell_type": "markdown",
      "source": [
        "# ทำ Association"
      ],
      "metadata": {
        "id": "URP0lvaw2UoU"
      }
    },
    {
      "cell_type": "markdown",
      "source": [
        "## ต้องการหาว่าแต่ละช่วงเวลาในการเกิดอุบัติเหตุ มักมีรถคู่กรณีกับรถต้นเหตุแบบใด"
      ],
      "metadata": {
        "id": "51cYOOniJW5g"
      }
    },
    {
      "cell_type": "markdown",
      "source": [
        "## ในช่วงเวลา 16.01 - 20.00 มักมีรถคู่กรณีกับรถต้นเหตุแบบใด"
      ],
      "metadata": {
        "id": "rT0qm4i4VcmB"
      }
    },
    {
      "cell_type": "markdown",
      "source": [
        "#### รถคู่กรณีและรถต้นเหตุที่พบในช่วงเวลา  16.01 - 20.00"
      ],
      "metadata": {
        "id": "TBetU53O1JS_"
      }
    },
    {
      "cell_type": "code",
      "source": [
        "data_as2 = test_split[['Time','for_association']].replace('-',np.nan)"
      ],
      "metadata": {
        "id": "h3Kl5I5mwlbn"
      },
      "execution_count": null,
      "outputs": []
    },
    {
      "cell_type": "code",
      "source": [
        "data_as2"
      ],
      "metadata": {
        "id": "z08DLbS2w014"
      },
      "execution_count": null,
      "outputs": []
    },
    {
      "cell_type": "code",
      "source": [
        "data_as2.groupby(['Time']).sum()"
      ],
      "metadata": {
        "id": "bR-wUc3-yTj-"
      },
      "execution_count": null,
      "outputs": []
    },
    {
      "cell_type": "code",
      "source": [
        "data_as2.groupby('Time')['for_association'].apply(list)"
      ],
      "metadata": {
        "id": "ISE20FDPy-bM"
      },
      "execution_count": null,
      "outputs": []
    },
    {
      "cell_type": "code",
      "source": [
        "# ทำให้ Data มีรรูปแบบเป็น transaction\n",
        "\n",
        "data_asso_time1 = data_as2.groupby(['Time'])['for_association'].apply(list).reset_index()\n",
        "data_asso_time1_trans = data_asso_time1['for_association'].apply(lambda x: [str(item) for item in x])\n",
        "data_asso_time1_trans"
      ],
      "metadata": {
        "id": "1qriOREP0fZp"
      },
      "execution_count": null,
      "outputs": []
    },
    {
      "cell_type": "code",
      "source": [
        "min_sup = 0.87\n",
        "\n",
        "sup_data_asso_time1_trans = list(apriori(data_asso_time1_trans, min_support = min_sup))\n",
        "for i in sup_data_asso_time1_trans:\n",
        "    if i[0].__len__()>1:\n",
        "        print('yes')\n",
        "        print(i)"
      ],
      "metadata": {
        "id": "B7p0lt-B1aTW"
      },
      "execution_count": null,
      "outputs": []
    },
    {
      "cell_type": "code",
      "source": [
        "test_concat['for_association'] = test_df[['Party','Cause']].apply(list, axis=1)"
      ],
      "metadata": {
        "id": "vIWuGGeYXU8v"
      },
      "execution_count": null,
      "outputs": []
    },
    {
      "cell_type": "code",
      "source": [
        "min_sup = 0.87\n",
        "min_lifts = 0.8\n",
        "sup_data_morning = list(apriori(data_asso_time1_trans, min_support = min_sup, min_lift=min_lifts))\n",
        "for i in sup_data_morning:\n",
        "    if i[0].__len__()>1:\n",
        "        print('yes')\n",
        "        print(i)"
      ],
      "metadata": {
        "id": "tDL0qcejn8Sh"
      },
      "execution_count": null,
      "outputs": []
    },
    {
      "cell_type": "code",
      "source": [],
      "metadata": {
        "id": "-_OHyKIxQ8ce"
      },
      "execution_count": null,
      "outputs": []
    },
    {
      "cell_type": "markdown",
      "source": [
        "# ลองใหม่"
      ],
      "metadata": {
        "id": "7mGDP7fMQ9EP"
      }
    },
    {
      "cell_type": "code",
      "source": [
        "# from concat_data table"
      ],
      "metadata": {
        "id": "4H-teE4lQ8Y5"
      },
      "execution_count": null,
      "outputs": []
    },
    {
      "cell_type": "code",
      "source": [
        "data_concat.head()"
      ],
      "metadata": {
        "id": "xd0jEBLqRQH4"
      },
      "execution_count": null,
      "outputs": []
    },
    {
      "cell_type": "code",
      "source": [],
      "metadata": {
        "id": "1a2_MEp-XHuQ"
      },
      "execution_count": null,
      "outputs": []
    },
    {
      "cell_type": "code",
      "source": [
        "#transactions_new = data_concat.groupby('Time')['Party'].apply(list)"
      ],
      "metadata": {
        "id": "cozGxtYeStt2"
      },
      "execution_count": null,
      "outputs": []
    },
    {
      "cell_type": "code",
      "source": [
        "data_concat"
      ],
      "metadata": {
        "id": "2jByc6z_aIdi"
      },
      "execution_count": null,
      "outputs": []
    },
    {
      "cell_type": "code",
      "source": [
        "data_concat['for_association'] = data_concat.apply(lambda row: f\"{row['Party']} {row['Cause']} {row['Main cause of accidents']}\", axis=1)\n",
        "data_concat['for_association']"
      ],
      "metadata": {
        "id": "PZR8S1NaaCk_"
      },
      "execution_count": null,
      "outputs": []
    },
    {
      "cell_type": "code",
      "source": [
        "# ทำให้ Data เป็น Transaction\n",
        "transactions_new18 = data_concat.groupby('Time')['for_association'].apply(list)\n",
        "transactions_new18"
      ],
      "metadata": {
        "id": "P6hYQv0BVOoJ"
      },
      "execution_count": null,
      "outputs": []
    },
    {
      "cell_type": "code",
      "source": [
        "min_sup = 0.88\n",
        "\n",
        "sup_transactions_new18 = list(apriori(transactions_new18, min_support = min_sup))\n",
        "for i in sup_transactions_new18:\n",
        "    if i[0].__len__()>1:\n",
        "        print('yes')\n",
        "        print(i)"
      ],
      "metadata": {
        "id": "C-iTNLamaChf"
      },
      "execution_count": null,
      "outputs": []
    },
    {
      "cell_type": "code",
      "source": [
        "sup_transactions_new18"
      ],
      "metadata": {
        "id": "ew7Vjp0QVah-"
      },
      "execution_count": null,
      "outputs": []
    },
    {
      "cell_type": "code",
      "source": [
        "# ลองอีก\n",
        "min_sup = 0.89\n",
        "\n",
        "\n",
        "sup_transactions_new18 = list(apriori(transactions_new18, min_support = min_sup))\n",
        "for i in sup_transactions_new18:\n",
        "    if i[0].__len__()>1:\n",
        "        print('yes')\n",
        "        print(i)"
      ],
      "metadata": {
        "id": "VcmI2pwrW5Jo"
      },
      "execution_count": null,
      "outputs": []
    },
    {
      "cell_type": "code",
      "source": [
        "sup_transactions_new18"
      ],
      "metadata": {
        "id": "cVFDh23-W5GG"
      },
      "execution_count": null,
      "outputs": []
    },
    {
      "cell_type": "code",
      "source": [],
      "metadata": {
        "id": "6g0qHcHrVOie"
      },
      "execution_count": null,
      "outputs": []
    },
    {
      "cell_type": "code",
      "source": [
        "new_frequence = list(apriori(transactions_new,min_support = 0.8))\n",
        "new_frequence"
      ],
      "metadata": {
        "id": "EgNW_mqJRUrN"
      },
      "execution_count": null,
      "outputs": []
    },
    {
      "cell_type": "code",
      "source": [],
      "metadata": {
        "id": "KjJMbutURUns"
      },
      "execution_count": null,
      "outputs": []
    },
    {
      "cell_type": "code",
      "source": [],
      "metadata": {
        "id": "gf_VgfFgRQEf"
      },
      "execution_count": null,
      "outputs": []
    },
    {
      "cell_type": "markdown",
      "source": [
        "# test again"
      ],
      "metadata": {
        "id": "SjT4KKCuhYLG"
      }
    },
    {
      "cell_type": "code",
      "source": [
        "data_concat.head()"
      ],
      "metadata": {
        "id": "WL0B-UdGhndg"
      },
      "execution_count": null,
      "outputs": []
    },
    {
      "cell_type": "code",
      "source": [
        "data_concat['for_association4'] = test_df[['Party','Cause','Main cause of accidents']].apply(list, axis=1)\n",
        "data_concat.head()"
      ],
      "metadata": {
        "id": "QVsNUkl3h3vp"
      },
      "execution_count": null,
      "outputs": []
    },
    {
      "cell_type": "code",
      "source": [
        "data_concat['for_association5'] = data_concat.apply(lambda row: f\"{row['Party']} {row['Cause']}\", axis=1)\n",
        "data_concat['for_association5']"
      ],
      "metadata": {
        "id": "ULwvQo5Vi1Ae"
      },
      "execution_count": null,
      "outputs": []
    },
    {
      "cell_type": "code",
      "source": [
        "# Transaction\n",
        "data_asso_time20 = data_concat.groupby(['Time'])['for_association5'].apply(list).reset_index()\n",
        "data_asso_time20_trans = data_asso_time20['for_association5'].apply(lambda x: [str(item) for item in x])\n",
        "data_asso_time20_trans"
      ],
      "metadata": {
        "id": "KTdDVTr3i0iz"
      },
      "execution_count": null,
      "outputs": []
    },
    {
      "cell_type": "code",
      "source": [
        "# ลองอีก\n",
        "min_sup = 0.89\n",
        "\n",
        "\n",
        "sup_data_asso_time20_trans = list(apriori(data_asso_time20_trans, min_support = min_sup))\n",
        "for i in sup_data_asso_time20_trans:\n",
        "    if i[0].__len__()>1:\n",
        "        print('yes')\n",
        "        print(i)"
      ],
      "metadata": {
        "id": "iFeQ7eL1jDdG"
      },
      "execution_count": null,
      "outputs": []
    },
    {
      "cell_type": "code",
      "source": [
        "sup_data_asso_time20_trans"
      ],
      "metadata": {
        "id": "5smOxPWKjDZs"
      },
      "execution_count": null,
      "outputs": []
    },
    {
      "cell_type": "code",
      "source": [
        "# test againnn"
      ],
      "metadata": {
        "id": "FNGYygeKjmWb"
      },
      "execution_count": null,
      "outputs": []
    },
    {
      "cell_type": "code",
      "source": [
        "data_concat['for_association6'] = test_df[['Party','Cause']].apply(list, axis=1)\n",
        "data_concat.head()"
      ],
      "metadata": {
        "id": "SyilV7JvjmTq"
      },
      "execution_count": null,
      "outputs": []
    },
    {
      "cell_type": "code",
      "source": [
        "# Transaction\n",
        "data_asso_time21 = data_concat.groupby(['Time'])['for_association6'].apply(list).reset_index()\n",
        "data_asso_time21_trans = data_asso_time21['for_association6'].apply(lambda x: [str(item) for item in x])\n",
        "data_asso_time21_trans"
      ],
      "metadata": {
        "id": "WbYzwrq1jmQ-"
      },
      "execution_count": null,
      "outputs": []
    },
    {
      "cell_type": "code",
      "source": [
        "#tesssst"
      ],
      "metadata": {
        "id": "4FDuD-Dck9oK"
      },
      "execution_count": null,
      "outputs": []
    },
    {
      "cell_type": "code",
      "source": [
        "data_asso_time22 = data_concat.groupby(['Time'])[['Party','Cause','Main cause of accidents']].apply(list).reset_index()\n",
        "data_asso_time22"
      ],
      "metadata": {
        "id": "w9Lul2PWk9lo"
      },
      "execution_count": null,
      "outputs": []
    },
    {
      "cell_type": "markdown",
      "source": [
        "# test ล้านแปด"
      ],
      "metadata": {
        "id": "JpMAa_8ZwvHZ"
      }
    },
    {
      "cell_type": "code",
      "source": [
        "data_concat.head()"
      ],
      "metadata": {
        "id": "wGm3f_bww12Q"
      },
      "execution_count": null,
      "outputs": []
    },
    {
      "cell_type": "code",
      "source": [
        "### จัดกลุ่ม ด้วย 'Time' และ .... ยอดขาย\n",
        "\n",
        "new_test_data = data_concat.groupby('Time')['Party'].apply(list)\n",
        "new_test_data"
      ],
      "metadata": {
        "id": "7QNVNoVXwt0X"
      },
      "execution_count": null,
      "outputs": []
    },
    {
      "cell_type": "code",
      "source": [
        "# create dataframe\n",
        "df_new_test = new_test_data.to_frame()\n",
        "df_new_test = df_new_test.reset_index()\n",
        "\n",
        "print(df_new_test)"
      ],
      "metadata": {
        "id": "y_cwVask0d2-"
      },
      "execution_count": null,
      "outputs": []
    },
    {
      "cell_type": "code",
      "source": [
        "### reset index เพื่อเอา index ไปใช้งานต่อ\n",
        "\n",
        "df_new_test.reset_index(inplace=True)\n",
        "df_new_test"
      ],
      "metadata": {
        "id": "62g9OJ2twtwz"
      },
      "execution_count": null,
      "outputs": []
    },
    {
      "cell_type": "code",
      "source": [
        "new_test_data2 = data_concat.groupby('Time')['Cause'].apply(list)\n",
        "new_test_data2"
      ],
      "metadata": {
        "id": "ig-UkftU1uMA"
      },
      "execution_count": null,
      "outputs": []
    },
    {
      "cell_type": "code",
      "source": [
        "# create dataframe\n",
        "df_new_test2 = new_test_data2.to_frame()\n",
        "df_new_test2 = df_new_test2.reset_index()\n",
        "\n",
        "print(df_new_test2)"
      ],
      "metadata": {
        "id": "3hCcqtXm1uJk"
      },
      "execution_count": null,
      "outputs": []
    },
    {
      "cell_type": "code",
      "source": [
        "### reset index เพื่อเอา index ไปใช้งานต่อ\n",
        "\n",
        "df_new_test2.reset_index(inplace=True)\n",
        "df_new_test2"
      ],
      "metadata": {
        "id": "mt43NX-B2Aee"
      },
      "execution_count": null,
      "outputs": []
    },
    {
      "cell_type": "code",
      "source": [
        "merged_df1 = pd.merge(df_new_test, df_new_test2, on='Time')\n",
        "merged_df1"
      ],
      "metadata": {
        "id": "Fjx7OcsJBMKd"
      },
      "execution_count": null,
      "outputs": []
    },
    {
      "cell_type": "code",
      "source": [
        "merged_df1['association'] = test_df[['Party','Cause']].apply(list, axis=1)"
      ],
      "metadata": {
        "id": "0CZdkzxdKcTo"
      },
      "execution_count": null,
      "outputs": []
    },
    {
      "cell_type": "code",
      "source": [],
      "metadata": {
        "id": "89TkKrcNKcRa"
      },
      "execution_count": null,
      "outputs": []
    },
    {
      "cell_type": "code",
      "source": [],
      "metadata": {
        "id": "sVuzOYw5KcN6"
      },
      "execution_count": null,
      "outputs": []
    },
    {
      "cell_type": "code",
      "source": [
        "#merged_df1.reset_index(inplace=True)\n",
        "#merged_df1"
      ],
      "metadata": {
        "id": "lW0yHphoE9MY"
      },
      "execution_count": null,
      "outputs": []
    },
    {
      "cell_type": "code",
      "source": [
        "# drop column ที่ไ่ต้องการ\n",
        "\n",
        "merged_df1.drop(['index','level_0'], axis=1,)  # 'axis=1' specifies dropping a column\n",
        "\n",
        "print(merged_df1)"
      ],
      "metadata": {
        "id": "mY11Cd7JE9Jk"
      },
      "execution_count": null,
      "outputs": []
    },
    {
      "cell_type": "code",
      "source": [
        "# DataFrame with duplicate labels\n",
        "data_555 = {'level_0': [0,1,2,3,4,5,6,7], 'index': [0,1,2,3,4,5,6,7]}\n",
        "df = pd.DataFrame(data_555)\n",
        "\n",
        "# Remove rows with duplicate labels in 'col1'\n",
        "df_unique = merged_df1.drop_duplicates('level_0')\n",
        "\n",
        "# Now you can reindex without issues\n",
        "reindexed_df = df_unique.set_index('level_0')  # Example reindexing by setting 'col1' as index\n",
        "\n",
        "print(reindexed_df)"
      ],
      "metadata": {
        "id": "OQP92V6SE9F7"
      },
      "execution_count": null,
      "outputs": []
    },
    {
      "cell_type": "code",
      "source": [
        "merged_df1"
      ],
      "metadata": {
        "id": "-4Kmf9yuGSkC"
      },
      "execution_count": null,
      "outputs": []
    },
    {
      "cell_type": "code",
      "source": [
        "merged_df1['association'] = merged_df1[['Party','Cause']].apply(list, axis=1)\n",
        "merged_df1"
      ],
      "metadata": {
        "id": "bADrgr79GSgH"
      },
      "execution_count": null,
      "outputs": []
    },
    {
      "cell_type": "code",
      "source": [
        "kuku = merged_df1.groupby('Time')['association'].apply(list)"
      ],
      "metadata": {
        "id": "WrM19yPKGScF"
      },
      "execution_count": null,
      "outputs": []
    },
    {
      "cell_type": "code",
      "source": [
        "kuku"
      ],
      "metadata": {
        "id": "4cPhUweBJZF6"
      },
      "execution_count": null,
      "outputs": []
    },
    {
      "cell_type": "code",
      "source": [],
      "metadata": {
        "id": "3A5NnA9BPNvF"
      },
      "execution_count": null,
      "outputs": []
    },
    {
      "cell_type": "code",
      "source": [],
      "metadata": {
        "id": "vjIWyl1FPNsU"
      },
      "execution_count": null,
      "outputs": []
    },
    {
      "cell_type": "code",
      "source": [],
      "metadata": {
        "id": "fTVlKbZyPNoY"
      },
      "execution_count": null,
      "outputs": []
    },
    {
      "cell_type": "code",
      "source": [],
      "metadata": {
        "id": "aIGGqHvpJZCR"
      },
      "execution_count": null,
      "outputs": []
    },
    {
      "cell_type": "code",
      "source": [],
      "metadata": {
        "id": "sPzkH6tiDSDX"
      },
      "execution_count": null,
      "outputs": []
    },
    {
      "cell_type": "code",
      "source": [
        "data_merge = merged_df1[['Time','Cause','Party']]\n",
        "data_merge.head()"
      ],
      "metadata": {
        "id": "xA5NjexqBeZF"
      },
      "execution_count": null,
      "outputs": []
    },
    {
      "cell_type": "code",
      "source": [
        "# New column data merge\n",
        "data_merge['association_1'] = data_merge[['Party','Cause']].apply(list, axis=1)\n",
        "data_merge"
      ],
      "metadata": {
        "id": "SuF9OeylLg4u"
      },
      "execution_count": null,
      "outputs": []
    },
    {
      "cell_type": "code",
      "source": [],
      "metadata": {
        "id": "rh2XCJVHLg1J"
      },
      "execution_count": null,
      "outputs": []
    },
    {
      "cell_type": "code",
      "source": [
        "newnewnew = data_merge.groupby('Time')['association_1'].apply(list)\n",
        "newnewnew"
      ],
      "metadata": {
        "id": "V6I2GQIMLW1L"
      },
      "execution_count": null,
      "outputs": []
    },
    {
      "cell_type": "code",
      "source": [
        "# Transaction\n",
        "data_asso_time111 = merged_df1.groupby('Time')['association'].apply(list).reset_index()\n",
        "data_asso_time111_trans = data_asso_time111['association'].apply(lambda x: [str(item) for item in x])\n",
        "data_asso_time111_trans"
      ],
      "metadata": {
        "id": "Rz4zEpUvLWxj"
      },
      "execution_count": null,
      "outputs": []
    },
    {
      "cell_type": "code",
      "source": [
        "min_sup = 0.01\n",
        "\n",
        "sup_data_asso_time111_trans = list(apriori(data_asso_time111_trans, min_support = min_sup))\n",
        "for i in sup_data_asso_time111_trans:\n",
        "    if i[0].__len__()>1:\n",
        "        print('yes')\n",
        "        print(i)"
      ],
      "metadata": {
        "id": "t-2Ly4SFPxbi"
      },
      "execution_count": null,
      "outputs": []
    },
    {
      "cell_type": "code",
      "source": [
        "sup_data_asso_time111_trans"
      ],
      "metadata": {
        "id": "FkxxUJQiPxXG"
      },
      "execution_count": null,
      "outputs": []
    },
    {
      "cell_type": "code",
      "source": [],
      "metadata": {
        "id": "YX41013sPxTF"
      },
      "execution_count": null,
      "outputs": []
    },
    {
      "cell_type": "code",
      "source": [
        "data_merge.isnull().any()"
      ],
      "metadata": {
        "id": "_x1SSS742Aa_"
      },
      "execution_count": null,
      "outputs": []
    },
    {
      "cell_type": "code",
      "source": [
        "frequence_test6 = list(apriori(data_merge,min_support = 0.1))\n",
        "frequence_test6"
      ],
      "metadata": {
        "id": "S9hZw3i8wtjA"
      },
      "execution_count": null,
      "outputs": []
    },
    {
      "cell_type": "code",
      "source": [],
      "metadata": {
        "id": "QGeLtEbqwtgV"
      },
      "execution_count": null,
      "outputs": []
    },
    {
      "cell_type": "code",
      "source": [],
      "metadata": {
        "id": "TmZHcQ7XwtbX"
      },
      "execution_count": null,
      "outputs": []
    },
    {
      "cell_type": "code",
      "source": [],
      "metadata": {
        "id": "WIdaPGKTwtYU"
      },
      "execution_count": null,
      "outputs": []
    },
    {
      "cell_type": "code",
      "source": [],
      "metadata": {
        "id": "j-QA4z3elT4z"
      },
      "execution_count": null,
      "outputs": []
    },
    {
      "cell_type": "code",
      "source": [
        "# ลองอีก\n",
        "min_sup = 0.89\n",
        "\n",
        "\n",
        "sup_data_asso_time21_trans = list(apriori(data_asso_time21_trans, min_support = min_sup))\n",
        "for i in sup_data_asso_time21_trans:\n",
        "    if i[0].__len__()>1:\n",
        "        print('yes')\n",
        "        print(i)"
      ],
      "metadata": {
        "id": "u-RWBlafjmOJ"
      },
      "execution_count": null,
      "outputs": []
    },
    {
      "cell_type": "code",
      "source": [
        "sup_data_asso_time21_trans"
      ],
      "metadata": {
        "id": "W2JQyVBSjmK7"
      },
      "execution_count": null,
      "outputs": []
    },
    {
      "cell_type": "code",
      "source": [],
      "metadata": {
        "id": "f2ek4PJFjDWh"
      },
      "execution_count": null,
      "outputs": []
    },
    {
      "cell_type": "code",
      "source": [],
      "metadata": {
        "id": "gTp3vJ1KjDTW"
      },
      "execution_count": null,
      "outputs": []
    },
    {
      "cell_type": "code",
      "source": [
        "# ทำให้ Data มีรรูปแบบเป็น transaction\n",
        "\n",
        "data_asso_time19 = data_concat.groupby(['Time'])['for_association4'].apply(list).reset_index()\n",
        "data_asso_time19_trans = data_asso_time19['for_association4'].apply(lambda x: [str(item) for item in x])\n",
        "data_asso_time19_trans"
      ],
      "metadata": {
        "id": "ImR9MtXwh2XD"
      },
      "execution_count": null,
      "outputs": []
    },
    {
      "cell_type": "code",
      "source": [
        "# ลองอีก\n",
        "min_sup = 0.89\n",
        "\n",
        "\n",
        "sup_data_asso_time19_trans = list(apriori(data_asso_time19_trans, min_support = min_sup))\n",
        "for i in sup_data_asso_time19_trans:\n",
        "    if i[0].__len__()>1:\n",
        "        print('yes')\n",
        "        print(i)"
      ],
      "metadata": {
        "id": "_BYtJl79h3sv"
      },
      "execution_count": null,
      "outputs": []
    },
    {
      "cell_type": "code",
      "source": [
        "sup_data_asso_time19_trans"
      ],
      "metadata": {
        "id": "vGFePWTnh3qO"
      },
      "execution_count": null,
      "outputs": []
    },
    {
      "cell_type": "code",
      "source": [],
      "metadata": {
        "id": "J2llbO_1h3mz"
      },
      "execution_count": null,
      "outputs": []
    },
    {
      "cell_type": "code",
      "source": [],
      "metadata": {
        "id": "uPdWqKNOh2Te"
      },
      "execution_count": null,
      "outputs": []
    },
    {
      "cell_type": "code",
      "source": [
        "data_concat['for_association'] = data_concat.apply(lambda row: f\"{row['Party']} {row['Cause']} {row['Main cause of accidents']}\", axis=1)\n",
        "data_concat['for_association']"
      ],
      "metadata": {
        "id": "PABqimxhhacm"
      },
      "execution_count": null,
      "outputs": []
    },
    {
      "cell_type": "code",
      "source": [
        "# ทำให้ Data มีรรูปแบบเป็น transaction\n",
        "\n",
        "data_asso_time1 = data_as2.groupby(['Time'])['for_association'].apply(list).reset_index()\n",
        "data_asso_time1_trans = data_asso_time1['for_association'].apply(lambda x: [str(item) for item in x])\n",
        "data_asso_time1_trans"
      ],
      "metadata": {
        "id": "Qsj-P3pghaiZ"
      },
      "execution_count": null,
      "outputs": []
    },
    {
      "cell_type": "code",
      "source": [],
      "metadata": {
        "id": "b-uPYTcwQ8Wr"
      },
      "execution_count": null,
      "outputs": []
    },
    {
      "cell_type": "markdown",
      "source": [
        "#### ในช่วงเวลา 20.01 - 00.00 มักมีรถคู่กรณีกับรถต้นเหตุแบบใด"
      ],
      "metadata": {
        "id": "5cT4gG71VwtW"
      }
    },
    {
      "cell_type": "markdown",
      "source": [
        "#### ในช่วงเวลา00.01 - 04.00 มักมีรถคู่กรณีกับรถต้นเหตุแบบใด"
      ],
      "metadata": {
        "id": "oWzoq7PhWBcg"
      }
    },
    {
      "cell_type": "markdown",
      "source": [
        "#### ในช่วงเวลา 04.01 - 08.00 มักมีรถคู่กรณีกับรถต้นเหตุแบบใด"
      ],
      "metadata": {
        "id": "nDAzYkUtWCXy"
      }
    },
    {
      "cell_type": "markdown",
      "source": [
        "#### ในช่วงเวลา 08.01 - 12.00 แต่ละจังหวัด มักมีรถคู่กรณีกับรถต้นเหตุแบบใด"
      ],
      "metadata": {
        "id": "FXTCguylYOZs"
      }
    },
    {
      "cell_type": "markdown",
      "source": [
        "#### ในช่วงเวลา 12.01 - 16.00 แต่ละจังหวัด มักมีรถคู่กรณีกับรถต้นเหตุแบบใด"
      ],
      "metadata": {
        "id": "KK2IzZLpYPCf"
      }
    },
    {
      "cell_type": "code",
      "source": [],
      "metadata": {
        "id": "oR4x34edKmKI"
      },
      "execution_count": null,
      "outputs": []
    },
    {
      "cell_type": "code",
      "source": [],
      "metadata": {
        "id": "xqLehZGuKmG9"
      },
      "execution_count": null,
      "outputs": []
    },
    {
      "cell_type": "code",
      "source": [],
      "metadata": {
        "id": "Y2Z6YqrGJZy3"
      },
      "execution_count": null,
      "outputs": []
    }
  ]
}