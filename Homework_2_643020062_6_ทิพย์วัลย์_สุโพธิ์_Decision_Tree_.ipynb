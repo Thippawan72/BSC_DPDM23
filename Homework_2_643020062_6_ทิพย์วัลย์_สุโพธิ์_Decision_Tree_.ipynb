{
  "nbformat": 4,
  "nbformat_minor": 0,
  "metadata": {
    "colab": {
      "provenance": [],
      "authorship_tag": "ABX9TyNeUmDr3G3DUgKviwpjy3jw",
      "include_colab_link": true
    },
    "kernelspec": {
      "name": "python3",
      "display_name": "Python 3"
    },
    "language_info": {
      "name": "python"
    }
  },
  "cells": [
    {
      "cell_type": "markdown",
      "metadata": {
        "id": "view-in-github",
        "colab_type": "text"
      },
      "source": [
        "<a href=\"https://colab.research.google.com/github/Thippawan72/BSC_DPDM23/blob/main/Homework_2_643020062_6_%E0%B8%97%E0%B8%B4%E0%B8%9E%E0%B8%A2%E0%B9%8C%E0%B8%A7%E0%B8%B1%E0%B8%A5%E0%B8%A2%E0%B9%8C_%E0%B8%AA%E0%B8%B8%E0%B9%82%E0%B8%9E%E0%B8%98%E0%B8%B4%E0%B9%8C_Decision_Tree_.ipynb\" target=\"_parent\"><img src=\"https://colab.research.google.com/assets/colab-badge.svg\" alt=\"Open In Colab\"/></a>"
      ]
    },
    {
      "cell_type": "markdown",
      "source": [
        "##ส่งงาน Homework 2 *เเก้จากอันเก่าที่อัปโหลดไฟล์ลง Githup\n",
        "https://drive.google.com/file/d/1M4IIztHVlRdbMp85-QZTwu2dgFZgryve/view?usp=drive_link"
      ],
      "metadata": {
        "id": "UwfOHicwbMyJ"
      }
    }
  ]
}